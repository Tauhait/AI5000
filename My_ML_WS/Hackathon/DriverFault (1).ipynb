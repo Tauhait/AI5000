{
  "nbformat": 4,
  "nbformat_minor": 0,
  "metadata": {
    "colab": {
      "name": "DriverFault.ipynb",
      "provenance": []
    },
    "kernelspec": {
      "name": "python3",
      "display_name": "Python 3"
    },
    "language_info": {
      "name": "python"
    },
    "accelerator": "GPU"
  },
  "cells": [
    {
      "cell_type": "markdown",
      "metadata": {
        "id": "lrZDZc7WDCMo"
      },
      "source": [
        "# Data Exploration"
      ]
    },
    {
      "cell_type": "code",
      "metadata": {
        "colab": {
          "base_uri": "https://localhost:8080/"
        },
        "id": "t9kRcLqTDFaK",
        "outputId": "cbf3cf10-4fa6-4c98-9a23-2be4a910bd9a"
      },
      "source": [
        "import matplotlib.pyplot as plt\n",
        "import numpy as np\n",
        "import pandas as pd\n",
        "import seaborn as sns\n",
        "\n",
        "df_train = pd.read_csv(\"train.csv\")\n",
        "df_test = pd.read_csv(\"test.csv\")\n",
        "print(df_train.info())\n",
        "print(df_train.describe())"
      ],
      "execution_count": 140,
      "outputs": [
        {
          "output_type": "stream",
          "name": "stdout",
          "text": [
            "<class 'pandas.core.frame.DataFrame'>\n",
            "RangeIndex: 51490 entries, 0 to 51489\n",
            "Data columns (total 42 columns):\n",
            " #   Column                          Non-Null Count  Dtype  \n",
            "---  ------                          --------------  -----  \n",
            " 0   Report Number                   51490 non-null  object \n",
            " 1   Local Case Number               45037 non-null  object \n",
            " 2   Agency Name                     51490 non-null  object \n",
            " 3   ACRS Report Type                51490 non-null  object \n",
            " 4   Crash Date/Time                 51490 non-null  object \n",
            " 5   Route Type                      46522 non-null  object \n",
            " 6   Road Name                       46988 non-null  object \n",
            " 7   Cross-Street Type               46471 non-null  object \n",
            " 8   Cross-Street Name               46968 non-null  object \n",
            " 9   Off-Road Description            6950 non-null   object \n",
            " 10  Municipality                    7567 non-null   object \n",
            " 11  Related Non-Motorist            3648 non-null   object \n",
            " 12  Collision Type                  51191 non-null  object \n",
            " 13  Weather                         47461 non-null  object \n",
            " 14  Surface Condition               45611 non-null  object \n",
            " 15  Light                           50786 non-null  object \n",
            " 16  Traffic Control                 43716 non-null  object \n",
            " 17  Driver Substance Abuse          42395 non-null  object \n",
            " 18  Non-Motorist Substance Abuse    3384 non-null   object \n",
            " 19  Person ID                       51490 non-null  object \n",
            " 20  Injury Severity                 51490 non-null  object \n",
            " 21  Circumstance                    11752 non-null  object \n",
            " 22  Drivers License State           48962 non-null  object \n",
            " 23  Vehicle ID                      51490 non-null  object \n",
            " 24  Vehicle Damage Extent           51093 non-null  object \n",
            " 25  Vehicle First Impact Location   51268 non-null  object \n",
            " 26  Vehicle Second Impact Location  51256 non-null  object \n",
            " 27  Vehicle Body Type               50705 non-null  object \n",
            " 28  Vehicle Movement                51292 non-null  object \n",
            " 29  Vehicle Continuing Dir          50361 non-null  object \n",
            " 30  Vehicle Going Dir               50377 non-null  object \n",
            " 31  Speed Limit                     51490 non-null  int64  \n",
            " 32  Driverless Vehicle              51490 non-null  object \n",
            " 33  Parked Vehicle                  51490 non-null  object \n",
            " 34  Vehicle Year                    51490 non-null  int64  \n",
            " 35  Vehicle Make                    51482 non-null  object \n",
            " 36  Vehicle Model                   51471 non-null  object \n",
            " 37  Equipment Problems              40824 non-null  object \n",
            " 38  Latitude                        51490 non-null  float64\n",
            " 39  Longitude                       51490 non-null  float64\n",
            " 40  Location                        51490 non-null  object \n",
            " 41  Fault                           51490 non-null  int64  \n",
            "dtypes: float64(2), int64(3), object(37)\n",
            "memory usage: 16.5+ MB\n",
            "None\n",
            "        Speed Limit  Vehicle Year      Latitude     Longitude         Fault\n",
            "count  51490.000000  51490.000000  51490.000000  51490.000000  51490.000000\n",
            "mean      32.895319   1974.545465     39.082783    -77.112688      0.550204\n",
            "std       11.696668    483.279428      0.072062      0.098300      0.497478\n",
            "min        0.000000      0.000000     38.008120    -79.486000      0.000000\n",
            "25%       25.000000   2005.000000     39.023974    -77.188926      0.000000\n",
            "50%       35.000000   2010.000000     39.074522    -77.105670      1.000000\n",
            "75%       40.000000   2014.000000     39.139685    -77.040114      1.000000\n",
            "max       70.000000   9999.000000     39.989747    -75.975952      1.000000\n"
          ]
        },
        {
          "output_type": "stream",
          "name": "stderr",
          "text": [
            "/usr/local/lib/python3.7/dist-packages/IPython/core/interactiveshell.py:2718: DtypeWarning: Columns (2) have mixed types.Specify dtype option on import or set low_memory=False.\n",
            "  interactivity=interactivity, compiler=compiler, result=result)\n"
          ]
        }
      ]
    },
    {
      "cell_type": "markdown",
      "metadata": {
        "id": "_fGNMvV3I3fc"
      },
      "source": [
        "# Data Cleaning and Preprocessing"
      ]
    },
    {
      "cell_type": "markdown",
      "metadata": {
        "id": "Ybbrd1kCFON2"
      },
      "source": [
        "Dates weren't recorded in a format understood by matplotlib so change it to pandas.to_datetime function."
      ]
    },
    {
      "cell_type": "code",
      "metadata": {
        "id": "AfM5iNTFEHKj"
      },
      "source": [
        "df_train[\"Crash Date/Time\"] = pd.to_datetime(df_train[\"Crash Date/Time\"])\n",
        "df_train.set_index('Crash Date/Time', inplace=True)\n",
        "df_train.sort_index(inplace=True)\n",
        "\n",
        "df_test[\"Crash Date/Time\"] = pd.to_datetime(df_test[\"Crash Date/Time\"])\n",
        "df_test.set_index('Crash Date/Time', inplace=True)\n",
        "df_test.sort_index(inplace=True)"
      ],
      "execution_count": 141,
      "outputs": []
    },
    {
      "cell_type": "markdown",
      "metadata": {
        "id": "UwNCtAjcaPDE"
      },
      "source": [
        "Many of the columns have null values. We will look at the fraction of NA values in the columns in descending order."
      ]
    },
    {
      "cell_type": "code",
      "metadata": {
        "colab": {
          "base_uri": "https://localhost:8080/"
        },
        "id": "N__WSkCOaWOa",
        "outputId": "c436184c-b90e-41df-b709-49534411e990"
      },
      "source": [
        "df_train.isna().sum().sort_values(ascending=False)/len(df_train)"
      ],
      "execution_count": 142,
      "outputs": [
        {
          "output_type": "execute_result",
          "data": {
            "text/plain": [
              "Non-Motorist Substance Abuse      0.934279\n",
              "Related Non-Motorist              0.929151\n",
              "Off-Road Description              0.865022\n",
              "Municipality                      0.853039\n",
              "Circumstance                      0.771762\n",
              "Equipment Problems                0.207147\n",
              "Driver Substance Abuse            0.176636\n",
              "Traffic Control                   0.150981\n",
              "Local Case Number                 0.125325\n",
              "Surface Condition                 0.114178\n",
              "Cross-Street Type                 0.097475\n",
              "Route Type                        0.096485\n",
              "Cross-Street Name                 0.087823\n",
              "Road Name                         0.087434\n",
              "Weather                           0.078248\n",
              "Drivers License State             0.049097\n",
              "Vehicle Continuing Dir            0.021927\n",
              "Vehicle Going Dir                 0.021616\n",
              "Vehicle Body Type                 0.015246\n",
              "Light                             0.013673\n",
              "Vehicle Damage Extent             0.007710\n",
              "Collision Type                    0.005807\n",
              "Vehicle Second Impact Location    0.004545\n",
              "Vehicle First Impact Location     0.004312\n",
              "Vehicle Movement                  0.003845\n",
              "Vehicle Model                     0.000369\n",
              "Vehicle Make                      0.000155\n",
              "ACRS Report Type                  0.000000\n",
              "Agency Name                       0.000000\n",
              "Fault                             0.000000\n",
              "Person ID                         0.000000\n",
              "Injury Severity                   0.000000\n",
              "Location                          0.000000\n",
              "Vehicle ID                        0.000000\n",
              "Speed Limit                       0.000000\n",
              "Driverless Vehicle                0.000000\n",
              "Parked Vehicle                    0.000000\n",
              "Vehicle Year                      0.000000\n",
              "Latitude                          0.000000\n",
              "Longitude                         0.000000\n",
              "Report Number                     0.000000\n",
              "dtype: float64"
            ]
          },
          "metadata": {},
          "execution_count": 142
        }
      ]
    },
    {
      "cell_type": "markdown",
      "metadata": {
        "id": "O-4aRm-rc07p"
      },
      "source": [
        "We are going to drop the columns which have more than 75% NA values in them"
      ]
    },
    {
      "cell_type": "code",
      "metadata": {
        "id": "h3H_Q_89cbcz"
      },
      "source": [
        "df_train.drop(columns=['Off-Road Description', 'Municipality', \n",
        "                       'Related Non-Motorist', 'Circumstance', \n",
        "                       'Non-Motorist Substance Abuse'], axis=1, inplace=True)"
      ],
      "execution_count": 143,
      "outputs": []
    },
    {
      "cell_type": "code",
      "metadata": {
        "id": "IgDcDs0Kdjw0"
      },
      "source": [
        "df_test.drop(columns=['Off-Road Description', 'Municipality', \n",
        "                      'Related Non-Motorist', 'Circumstance', \n",
        "                      'Non-Motorist Substance Abuse'], axis=1, inplace=True)"
      ],
      "execution_count": 144,
      "outputs": []
    },
    {
      "cell_type": "markdown",
      "metadata": {
        "id": "iQ_qYBuGdVlR"
      },
      "source": [
        "Next we will replace some values with nan values which are common throughout the dataset and may indicate missing data. "
      ]
    },
    {
      "cell_type": "code",
      "metadata": {
        "id": "OEwTLYobdZb1"
      },
      "source": [
        "df_train.replace(['UNKNOWN','Unknown','OTHER'], np.nan, inplace=True)"
      ],
      "execution_count": 145,
      "outputs": []
    },
    {
      "cell_type": "code",
      "metadata": {
        "id": "EGICa9gPd2ip"
      },
      "source": [
        "df_test.replace(['UNKNOWN','Unknown','OTHER'], np.nan, inplace=True)"
      ],
      "execution_count": 146,
      "outputs": []
    },
    {
      "cell_type": "code",
      "metadata": {
        "colab": {
          "base_uri": "https://localhost:8080/",
          "height": 301
        },
        "id": "x2ISKhO3bTz2",
        "outputId": "eb97aad4-7215-44cf-8e96-4197fbc86cf3"
      },
      "source": [
        "df_train['Speed Limit'].value_counts().sort_index().plot.bar().set(title='Accidents by Speed Limit')"
      ],
      "execution_count": 147,
      "outputs": [
        {
          "output_type": "execute_result",
          "data": {
            "text/plain": [
              "[Text(0.5, 1.0, 'Accidents by Speed Limit')]"
            ]
          },
          "metadata": {},
          "execution_count": 147
        },
        {
          "output_type": "display_data",
          "data": {
            "image/png": "[encoded data removed]",
            "text/plain": [
              "<Figure size 432x288 with 1 Axes>"
            ]
          },
          "metadata": {
            "needs_background": "light"
          }
        }
      ]
    },
    {
      "cell_type": "code",
      "metadata": {
        "colab": {
          "base_uri": "https://localhost:8080/"
        },
        "id": "EluWmmAgJmBv",
        "outputId": "2a82c182-11f2-4379-b9dd-79f050993667"
      },
      "source": [
        "df_train.isna().sum().sort_values(ascending=False)/len(df_train)"
      ],
      "execution_count": 148,
      "outputs": [
        {
          "output_type": "execute_result",
          "data": {
            "text/plain": [
              "Equipment Problems                0.292542\n",
              "Driver Substance Abuse            0.246650\n",
              "Cross-Street Type                 0.174345\n",
              "Traffic Control                   0.171664\n",
              "Surface Condition                 0.125520\n",
              "Local Case Number                 0.125325\n",
              "Collision Type                    0.117926\n",
              "Route Type                        0.100563\n",
              "Weather                           0.090911\n",
              "Cross-Street Name                 0.087823\n",
              "Road Name                         0.087434\n",
              "Vehicle Continuing Dir            0.060303\n",
              "Vehicle Going Dir                 0.056535\n",
              "Vehicle Damage Extent             0.053875\n",
              "Drivers License State             0.049097\n",
              "Vehicle Body Type                 0.033754\n",
              "Light                             0.030278\n",
              "Driverless Vehicle                0.027015\n",
              "Vehicle Movement                  0.025830\n",
              "Vehicle Second Impact Location    0.021985\n",
              "Vehicle First Impact Location     0.021635\n",
              "Vehicle Model                     0.019849\n",
              "Vehicle Make                      0.019013\n",
              "ACRS Report Type                  0.000000\n",
              "Agency Name                       0.000000\n",
              "Fault                             0.000000\n",
              "Vehicle ID                        0.000000\n",
              "Person ID                         0.000000\n",
              "Injury Severity                   0.000000\n",
              "Location                          0.000000\n",
              "Speed Limit                       0.000000\n",
              "Parked Vehicle                    0.000000\n",
              "Vehicle Year                      0.000000\n",
              "Latitude                          0.000000\n",
              "Longitude                         0.000000\n",
              "Report Number                     0.000000\n",
              "dtype: float64"
            ]
          },
          "metadata": {},
          "execution_count": 148
        }
      ]
    },
    {
      "cell_type": "code",
      "metadata": {
        "colab": {
          "base_uri": "https://localhost:8080/"
        },
        "id": "RMHoQplYbaXL",
        "outputId": "414db765-4ecc-4cc1-b87d-0063e824a90f"
      },
      "source": [
        "df_test.isna().sum().sort_values(ascending=False)/len(df_train)"
      ],
      "execution_count": 149,
      "outputs": [
        {
          "output_type": "execute_result",
          "data": {
            "text/plain": [
              "Equipment Problems                0.433929\n",
              "Driver Substance Abuse            0.371548\n",
              "Cross-Street Type                 0.259079\n",
              "Traffic Control                   0.253408\n",
              "Local Case Number                 0.195630\n",
              "Surface Condition                 0.181608\n",
              "Collision Type                    0.173373\n",
              "Route Type                        0.145252\n",
              "Cross-Street Name                 0.137328\n",
              "Road Name                         0.137289\n",
              "Weather                           0.125189\n",
              "Drivers License State             0.076131\n",
              "Vehicle Continuing Dir            0.070732\n",
              "Vehicle Going Dir                 0.065935\n",
              "Vehicle Damage Extent             0.056671\n",
              "Vehicle Body Type                 0.044630\n",
              "Vehicle Movement                  0.031424\n",
              "Vehicle Model                     0.031191\n",
              "Vehicle Make                      0.029559\n",
              "Vehicle Second Impact Location    0.027054\n",
              "Vehicle First Impact Location     0.026024\n",
              "Light                             0.020023\n",
              "Driverless Vehicle                0.005632\n",
              "ACRS Report Type                  0.000000\n",
              "Agency Name                       0.000000\n",
              "Report Number                     0.000000\n",
              "Location                          0.000000\n",
              "Person ID                         0.000000\n",
              "Injury Severity                   0.000000\n",
              "Longitude                         0.000000\n",
              "Vehicle ID                        0.000000\n",
              "Speed Limit                       0.000000\n",
              "Parked Vehicle                    0.000000\n",
              "Vehicle Year                      0.000000\n",
              "Latitude                          0.000000\n",
              "Id                                0.000000\n",
              "dtype: float64"
            ]
          },
          "metadata": {},
          "execution_count": 149
        }
      ]
    },
    {
      "cell_type": "markdown",
      "metadata": {
        "id": "M31pu678m4aw"
      },
      "source": [
        "* Replace NA values of corresponding columns with their MODE"
      ]
    },
    {
      "cell_type": "code",
      "metadata": {
        "id": "ci-8A1GRmiUz"
      },
      "source": [
        "for column in df_train.columns:\n",
        "  df_train[column].fillna(df_train[column].mode()[0], inplace=True)"
      ],
      "execution_count": 150,
      "outputs": []
    },
    {
      "cell_type": "code",
      "metadata": {
        "id": "4Ygi1qEfbfOr"
      },
      "source": [
        "for column in df_test.columns:\n",
        "  df_test[column].fillna(df_test[column].mode()[0], inplace=True)"
      ],
      "execution_count": 151,
      "outputs": []
    },
    {
      "cell_type": "markdown",
      "metadata": {
        "id": "bC2BR4SwnkS3"
      },
      "source": [
        "As we can see all NA values are replaced"
      ]
    },
    {
      "cell_type": "markdown",
      "metadata": {
        "id": "t_C6F844hBNi"
      },
      "source": [
        "Now let's drop all the columns which are having -  \n",
        "* Either only one unique value\n",
        "* Mostly all unique values\n"
      ]
    },
    {
      "cell_type": "code",
      "metadata": {
        "id": "W6U6POqzfrXs"
      },
      "source": [
        "df_train.drop([\n",
        "         'Driverless Vehicle', 'Report Number', 'Local Case Number', 'Cross-Street Type',\n",
        "         'Cross-Street Name', 'Person ID', 'Vehicle ID', 'Vehicle Continuing Dir', \n",
        "         'Vehicle Going Dir', 'Road Name', 'Drivers License State', 'Parked Vehicle',\n",
        "         'Vehicle First Impact Location', 'Vehicle Second Impact Location', 'Route Type',\n",
        "         'Vehicle Make', 'Agency Name', 'Vehicle Model'], axis=1, inplace=True)"
      ],
      "execution_count": 152,
      "outputs": []
    },
    {
      "cell_type": "code",
      "metadata": {
        "id": "O7xiDdyiuNlk"
      },
      "source": [
        "df_test.drop([\n",
        "         'Driverless Vehicle', 'Report Number', 'Local Case Number', 'Cross-Street Type',\n",
        "         'Cross-Street Name', 'Person ID', 'Vehicle ID', 'Vehicle Continuing Dir', \n",
        "         'Vehicle Going Dir', 'Road Name', 'Drivers License State', 'Parked Vehicle',\n",
        "         'Vehicle First Impact Location', 'Vehicle Second Impact Location', 'Route Type',\n",
        "         'Vehicle Make', 'Vehicle Model', 'Agency Name'], axis=1, inplace=True)"
      ],
      "execution_count": 153,
      "outputs": []
    },
    {
      "cell_type": "code",
      "metadata": {
        "id": "B9Y_rFgCuXEO"
      },
      "source": [
        "test_id = df_test['Id']"
      ],
      "execution_count": 154,
      "outputs": []
    },
    {
      "cell_type": "code",
      "metadata": {
        "id": "FUY0YUIbuxT3"
      },
      "source": [
        "df_test.drop(['Id'], axis=1, inplace=True)"
      ],
      "execution_count": 155,
      "outputs": []
    },
    {
      "cell_type": "code",
      "metadata": {
        "colab": {
          "base_uri": "https://localhost:8080/"
        },
        "id": "JBcHCXDSu6EP",
        "outputId": "e7f0737b-11bd-4e4d-cba3-c8db5920e0a0"
      },
      "source": [
        "df_test.columns"
      ],
      "execution_count": 156,
      "outputs": [
        {
          "output_type": "execute_result",
          "data": {
            "text/plain": [
              "Index(['ACRS Report Type', 'Collision Type', 'Weather', 'Surface Condition',\n",
              "       'Light', 'Traffic Control', 'Driver Substance Abuse', 'Injury Severity',\n",
              "       'Vehicle Damage Extent', 'Vehicle Body Type', 'Vehicle Movement',\n",
              "       'Speed Limit', 'Vehicle Year', 'Equipment Problems', 'Latitude',\n",
              "       'Longitude', 'Location'],\n",
              "      dtype='object')"
            ]
          },
          "metadata": {},
          "execution_count": 156
        }
      ]
    },
    {
      "cell_type": "code",
      "metadata": {
        "colab": {
          "base_uri": "https://localhost:8080/"
        },
        "id": "60XxTygSwVsl",
        "outputId": "2f7c4958-52b3-46bc-a508-325240f86da9"
      },
      "source": [
        "print(len(df_train.columns))\n",
        "print(len(df_test.columns))"
      ],
      "execution_count": 157,
      "outputs": [
        {
          "output_type": "stream",
          "name": "stdout",
          "text": [
            "18\n",
            "17\n"
          ]
        }
      ]
    },
    {
      "cell_type": "code",
      "metadata": {
        "id": "a6mGb0w97rQE"
      },
      "source": [
        "df_train.drop(['Location'], axis=1, inplace=True)\n",
        "df_test.drop(['Location'], axis=1, inplace=True)"
      ],
      "execution_count": 158,
      "outputs": []
    },
    {
      "cell_type": "markdown",
      "metadata": {
        "id": "o9xAuENo0pzP"
      },
      "source": [
        "Use Target and One-hot Encoding for categorical columns"
      ]
    },
    {
      "cell_type": "markdown",
      "metadata": {
        "id": "nkwLCgzy07xP"
      },
      "source": [
        "Check number of unique values column-wise"
      ]
    },
    {
      "cell_type": "code",
      "metadata": {
        "colab": {
          "base_uri": "https://localhost:8080/"
        },
        "id": "lqX08bM5yUOH",
        "outputId": "cd536966-b790-406b-94ea-12eaad5ef68a"
      },
      "source": [
        "for column in df_train.select_dtypes(include='object').columns:\n",
        "  print(\"%-30s - %3d\\n\" % (column, df_train[column].nunique()))"
      ],
      "execution_count": 159,
      "outputs": [
        {
          "output_type": "stream",
          "name": "stdout",
          "text": [
            "ACRS Report Type               -   3\n",
            "\n",
            "Collision Type                 -  16\n",
            "\n",
            "Weather                        -  10\n",
            "\n",
            "Surface Condition              -   9\n",
            "\n",
            "Light                          -   6\n",
            "\n",
            "Traffic Control                -   9\n",
            "\n",
            "Driver Substance Abuse         -   9\n",
            "\n",
            "Injury Severity                -   5\n",
            "\n",
            "Vehicle Damage Extent          -   5\n",
            "\n",
            "Vehicle Body Type              -  28\n",
            "\n",
            "Vehicle Movement               -  20\n",
            "\n",
            "Equipment Problems             -   6\n",
            "\n"
          ]
        }
      ]
    },
    {
      "cell_type": "markdown",
      "metadata": {
        "id": "XhE8v761E9uc"
      },
      "source": [
        "Finding the percentage of each unique values for every column in Pandas and\n",
        "group insignificant unique values together into a single value"
      ]
    },
    {
      "cell_type": "markdown",
      "metadata": {
        "id": "Yyn5tiRiXlB5"
      },
      "source": [
        "ACRS Report Type"
      ]
    },
    {
      "cell_type": "code",
      "metadata": {
        "colab": {
          "base_uri": "https://localhost:8080/",
          "height": 142
        },
        "id": "JuXcAI1-Xvk3",
        "outputId": "74badb77-2221-436f-debc-aabfab55c538"
      },
      "source": [
        "uniq_val = df_train['ACRS Report Type'].value_counts(normalize=True).to_frame()*100\n",
        "uniq_val"
      ],
      "execution_count": 160,
      "outputs": [
        {
          "output_type": "execute_result",
          "data": {
            "text/html": [
              "<div>\n",
              "<style scoped>\n",
              "    .dataframe tbody tr th:only-of-type {\n",
              "        vertical-align: middle;\n",
              "    }\n",
              "\n",
              "    .dataframe tbody tr th {\n",
              "        vertical-align: top;\n",
              "    }\n",
              "\n",
              "    .dataframe thead th {\n",
              "        text-align: right;\n",
              "    }\n",
              "</style>\n",
              "<table border=\"1\" class=\"dataframe\">\n",
              "  <thead>\n",
              "    <tr style=\"text-align: right;\">\n",
              "      <th></th>\n",
              "      <th>ACRS Report Type</th>\n",
              "    </tr>\n",
              "  </thead>\n",
              "  <tbody>\n",
              "    <tr>\n",
              "      <th>Property Damage Crash</th>\n",
              "      <td>61.487668</td>\n",
              "    </tr>\n",
              "    <tr>\n",
              "      <th>Injury Crash</th>\n",
              "      <td>36.857642</td>\n",
              "    </tr>\n",
              "    <tr>\n",
              "      <th>Fatal Crash</th>\n",
              "      <td>1.654690</td>\n",
              "    </tr>\n",
              "  </tbody>\n",
              "</table>\n",
              "</div>"
            ],
            "text/plain": [
              "                       ACRS Report Type\n",
              "Property Damage Crash         61.487668\n",
              "Injury Crash                  36.857642\n",
              "Fatal Crash                    1.654690"
            ]
          },
          "metadata": {},
          "execution_count": 160
        }
      ]
    },
    {
      "cell_type": "code",
      "metadata": {
        "colab": {
          "base_uri": "https://localhost:8080/",
          "height": 111
        },
        "id": "9ClIVLJPYHLS",
        "outputId": "a6bc9756-4aaf-4142-9351-d8178c8696ec"
      },
      "source": [
        "df_train['ACRS Report Type'].replace(uniq_val[uniq_val['ACRS Report Type'] < 60.0].index,'OTHERS',inplace=True)\n",
        "df_train['ACRS Report Type'].value_counts(normalize=True).to_frame()*100"
      ],
      "execution_count": 161,
      "outputs": [
        {
          "output_type": "execute_result",
          "data": {
            "text/html": [
              "<div>\n",
              "<style scoped>\n",
              "    .dataframe tbody tr th:only-of-type {\n",
              "        vertical-align: middle;\n",
              "    }\n",
              "\n",
              "    .dataframe tbody tr th {\n",
              "        vertical-align: top;\n",
              "    }\n",
              "\n",
              "    .dataframe thead th {\n",
              "        text-align: right;\n",
              "    }\n",
              "</style>\n",
              "<table border=\"1\" class=\"dataframe\">\n",
              "  <thead>\n",
              "    <tr style=\"text-align: right;\">\n",
              "      <th></th>\n",
              "      <th>ACRS Report Type</th>\n",
              "    </tr>\n",
              "  </thead>\n",
              "  <tbody>\n",
              "    <tr>\n",
              "      <th>Property Damage Crash</th>\n",
              "      <td>61.487668</td>\n",
              "    </tr>\n",
              "    <tr>\n",
              "      <th>OTHERS</th>\n",
              "      <td>38.512332</td>\n",
              "    </tr>\n",
              "  </tbody>\n",
              "</table>\n",
              "</div>"
            ],
            "text/plain": [
              "                       ACRS Report Type\n",
              "Property Damage Crash         61.487668\n",
              "OTHERS                        38.512332"
            ]
          },
          "metadata": {},
          "execution_count": 161
        }
      ]
    },
    {
      "cell_type": "markdown",
      "metadata": {
        "id": "njrSJmKOPdk9"
      },
      "source": [
        "Collision Type"
      ]
    },
    {
      "cell_type": "code",
      "metadata": {
        "colab": {
          "base_uri": "https://localhost:8080/"
        },
        "id": "v1Mv75rRElog",
        "outputId": "d81cb603-0782-4407-cd01-d581790977c5"
      },
      "source": [
        "uniq_val = df_train['Collision Type'].value_counts(normalize=True).to_frame()*100\n",
        "uniq_val[uniq_val['Collision Type'] < 5.0].index"
      ],
      "execution_count": 162,
      "outputs": [
        {
          "output_type": "execute_result",
          "data": {
            "text/plain": [
              "Index(['HEAD ON', 'SAME DIRECTION LEFT TURN', 'SAME DIRECTION RIGHT TURN',\n",
              "       'OPPOSITE DIRECTION SIDESWIPE', 'ANGLE MEETS LEFT TURN',\n",
              "       'ANGLE MEETS RIGHT TURN', 'SAME DIR REND LEFT TURN',\n",
              "       'ANGLE MEETS LEFT HEAD ON', 'SAME DIR REND RIGHT TURN',\n",
              "       'SAME DIR BOTH LEFT TURN', 'OPPOSITE DIR BOTH LEFT TURN'],\n",
              "      dtype='object')"
            ]
          },
          "metadata": {},
          "execution_count": 162
        }
      ]
    },
    {
      "cell_type": "code",
      "metadata": {
        "id": "M-kIS41BItFb"
      },
      "source": [
        "df_train['Collision Type'].replace(uniq_val[uniq_val['Collision Type'] < 5.0].index,'OTHERS',inplace=True)"
      ],
      "execution_count": 163,
      "outputs": []
    },
    {
      "cell_type": "code",
      "metadata": {
        "colab": {
          "base_uri": "https://localhost:8080/",
          "height": 235
        },
        "id": "jJp66m3nOdb0",
        "outputId": "a478c8f5-6ef0-416b-ed37-b360a351d82d"
      },
      "source": [
        "df_train['Collision Type'].value_counts(normalize=True).to_frame()*100"
      ],
      "execution_count": 164,
      "outputs": [
        {
          "output_type": "execute_result",
          "data": {
            "text/html": [
              "<div>\n",
              "<style scoped>\n",
              "    .dataframe tbody tr th:only-of-type {\n",
              "        vertical-align: middle;\n",
              "    }\n",
              "\n",
              "    .dataframe tbody tr th {\n",
              "        vertical-align: top;\n",
              "    }\n",
              "\n",
              "    .dataframe thead th {\n",
              "        text-align: right;\n",
              "    }\n",
              "</style>\n",
              "<table border=\"1\" class=\"dataframe\">\n",
              "  <thead>\n",
              "    <tr style=\"text-align: right;\">\n",
              "      <th></th>\n",
              "      <th>Collision Type</th>\n",
              "    </tr>\n",
              "  </thead>\n",
              "  <tbody>\n",
              "    <tr>\n",
              "      <th>SAME DIR REAR END</th>\n",
              "      <td>44.286269</td>\n",
              "    </tr>\n",
              "    <tr>\n",
              "      <th>STRAIGHT MOVEMENT ANGLE</th>\n",
              "      <td>16.616819</td>\n",
              "    </tr>\n",
              "    <tr>\n",
              "      <th>OTHERS</th>\n",
              "      <td>13.866770</td>\n",
              "    </tr>\n",
              "    <tr>\n",
              "      <th>SINGLE VEHICLE</th>\n",
              "      <td>9.161002</td>\n",
              "    </tr>\n",
              "    <tr>\n",
              "      <th>SAME DIRECTION SIDESWIPE</th>\n",
              "      <td>8.582249</td>\n",
              "    </tr>\n",
              "    <tr>\n",
              "      <th>HEAD ON LEFT TURN</th>\n",
              "      <td>7.486891</td>\n",
              "    </tr>\n",
              "  </tbody>\n",
              "</table>\n",
              "</div>"
            ],
            "text/plain": [
              "                          Collision Type\n",
              "SAME DIR REAR END              44.286269\n",
              "STRAIGHT MOVEMENT ANGLE        16.616819\n",
              "OTHERS                         13.866770\n",
              "SINGLE VEHICLE                  9.161002\n",
              "SAME DIRECTION SIDESWIPE        8.582249\n",
              "HEAD ON LEFT TURN               7.486891"
            ]
          },
          "metadata": {},
          "execution_count": 164
        }
      ]
    },
    {
      "cell_type": "markdown",
      "metadata": {
        "id": "hC3Oyaj-PjdA"
      },
      "source": [
        "Weather"
      ]
    },
    {
      "cell_type": "code",
      "metadata": {
        "colab": {
          "base_uri": "https://localhost:8080/"
        },
        "id": "Eaj2WD0aOo3U",
        "outputId": "08dca3ed-0eea-49b4-d30c-48cc391f704f"
      },
      "source": [
        "uniq_val = df_train['Weather'].value_counts(normalize=True).to_frame()*100\n",
        "uniq_val[uniq_val['Weather'] < 10.0].index"
      ],
      "execution_count": 165,
      "outputs": [
        {
          "output_type": "execute_result",
          "data": {
            "text/plain": [
              "Index(['SNOW', 'FOGGY', 'WINTRY MIX', 'SLEET', 'SEVERE WINDS', 'BLOWING SNOW',\n",
              "       'BLOWING SAND, SOIL, DIRT'],\n",
              "      dtype='object')"
            ]
          },
          "metadata": {},
          "execution_count": 165
        }
      ]
    },
    {
      "cell_type": "code",
      "metadata": {
        "id": "lifwzNz2O88u"
      },
      "source": [
        "df_train['Weather'].replace(uniq_val[uniq_val['Weather'] < 10.0].index,'OTHERS',inplace=True)"
      ],
      "execution_count": 166,
      "outputs": []
    },
    {
      "cell_type": "code",
      "metadata": {
        "colab": {
          "base_uri": "https://localhost:8080/",
          "height": 173
        },
        "id": "kvaXRyg9PGf5",
        "outputId": "2f53c3e0-7f94-4d52-dc5e-0941726d3035"
      },
      "source": [
        "df_train['Weather'].value_counts(normalize=True).to_frame()*100"
      ],
      "execution_count": 167,
      "outputs": [
        {
          "output_type": "execute_result",
          "data": {
            "text/html": [
              "<div>\n",
              "<style scoped>\n",
              "    .dataframe tbody tr th:only-of-type {\n",
              "        vertical-align: middle;\n",
              "    }\n",
              "\n",
              "    .dataframe tbody tr th {\n",
              "        vertical-align: top;\n",
              "    }\n",
              "\n",
              "    .dataframe thead th {\n",
              "        text-align: right;\n",
              "    }\n",
              "</style>\n",
              "<table border=\"1\" class=\"dataframe\">\n",
              "  <thead>\n",
              "    <tr style=\"text-align: right;\">\n",
              "      <th></th>\n",
              "      <th>Weather</th>\n",
              "    </tr>\n",
              "  </thead>\n",
              "  <tbody>\n",
              "    <tr>\n",
              "      <th>CLEAR</th>\n",
              "      <td>73.402602</td>\n",
              "    </tr>\n",
              "    <tr>\n",
              "      <th>RAINING</th>\n",
              "      <td>11.988736</td>\n",
              "    </tr>\n",
              "    <tr>\n",
              "      <th>CLOUDY</th>\n",
              "      <td>10.279666</td>\n",
              "    </tr>\n",
              "    <tr>\n",
              "      <th>OTHERS</th>\n",
              "      <td>4.328996</td>\n",
              "    </tr>\n",
              "  </tbody>\n",
              "</table>\n",
              "</div>"
            ],
            "text/plain": [
              "           Weather\n",
              "CLEAR    73.402602\n",
              "RAINING  11.988736\n",
              "CLOUDY   10.279666\n",
              "OTHERS    4.328996"
            ]
          },
          "metadata": {},
          "execution_count": 167
        }
      ]
    },
    {
      "cell_type": "markdown",
      "metadata": {
        "id": "FeMUyh23PsHo"
      },
      "source": [
        "Surface Condition"
      ]
    },
    {
      "cell_type": "code",
      "metadata": {
        "id": "z_weZv-1PuH4"
      },
      "source": [
        "uniq_val = df_train['Surface Condition'].value_counts(normalize=True).to_frame()*100"
      ],
      "execution_count": 168,
      "outputs": []
    },
    {
      "cell_type": "code",
      "metadata": {
        "colab": {
          "base_uri": "https://localhost:8080/",
          "height": 328
        },
        "id": "pij2EyrnP74r",
        "outputId": "94d20d85-1b2c-421c-b912-9a40ce5f9b90"
      },
      "source": [
        "uniq_val"
      ],
      "execution_count": 169,
      "outputs": [
        {
          "output_type": "execute_result",
          "data": {
            "text/html": [
              "<div>\n",
              "<style scoped>\n",
              "    .dataframe tbody tr th:only-of-type {\n",
              "        vertical-align: middle;\n",
              "    }\n",
              "\n",
              "    .dataframe tbody tr th {\n",
              "        vertical-align: top;\n",
              "    }\n",
              "\n",
              "    .dataframe thead th {\n",
              "        text-align: right;\n",
              "    }\n",
              "</style>\n",
              "<table border=\"1\" class=\"dataframe\">\n",
              "  <thead>\n",
              "    <tr style=\"text-align: right;\">\n",
              "      <th></th>\n",
              "      <th>Surface Condition</th>\n",
              "    </tr>\n",
              "  </thead>\n",
              "  <tbody>\n",
              "    <tr>\n",
              "      <th>DRY</th>\n",
              "      <td>78.966790</td>\n",
              "    </tr>\n",
              "    <tr>\n",
              "      <th>WET</th>\n",
              "      <td>16.688677</td>\n",
              "    </tr>\n",
              "    <tr>\n",
              "      <th>ICE</th>\n",
              "      <td>1.029326</td>\n",
              "    </tr>\n",
              "    <tr>\n",
              "      <th>SNOW</th>\n",
              "      <td>1.025442</td>\n",
              "    </tr>\n",
              "    <tr>\n",
              "      <th>SLUSH</th>\n",
              "      <td>0.545737</td>\n",
              "    </tr>\n",
              "    <tr>\n",
              "      <th>WATER(STANDING/MOVING)</th>\n",
              "      <td>0.489415</td>\n",
              "    </tr>\n",
              "    <tr>\n",
              "      <th>MUD, DIRT, GRAVEL</th>\n",
              "      <td>0.438920</td>\n",
              "    </tr>\n",
              "    <tr>\n",
              "      <th>OIL</th>\n",
              "      <td>0.431152</td>\n",
              "    </tr>\n",
              "    <tr>\n",
              "      <th>SAND</th>\n",
              "      <td>0.384541</td>\n",
              "    </tr>\n",
              "  </tbody>\n",
              "</table>\n",
              "</div>"
            ],
            "text/plain": [
              "                        Surface Condition\n",
              "DRY                             78.966790\n",
              "WET                             16.688677\n",
              "ICE                              1.029326\n",
              "SNOW                             1.025442\n",
              "SLUSH                            0.545737\n",
              "WATER(STANDING/MOVING)           0.489415\n",
              "MUD, DIRT, GRAVEL                0.438920\n",
              "OIL                              0.431152\n",
              "SAND                             0.384541"
            ]
          },
          "metadata": {},
          "execution_count": 169
        }
      ]
    },
    {
      "cell_type": "code",
      "metadata": {
        "colab": {
          "base_uri": "https://localhost:8080/",
          "height": 142
        },
        "id": "R_qbS7WDP31E",
        "outputId": "5fee896a-42a2-459e-c1e8-9a33613d2a59"
      },
      "source": [
        "df_train['Surface Condition'].replace(uniq_val[uniq_val['Surface Condition'] < 15.0].index,'OTHERS',inplace=True)\n",
        "df_train['Surface Condition'].value_counts(normalize=True).to_frame()*100"
      ],
      "execution_count": 170,
      "outputs": [
        {
          "output_type": "execute_result",
          "data": {
            "text/html": [
              "<div>\n",
              "<style scoped>\n",
              "    .dataframe tbody tr th:only-of-type {\n",
              "        vertical-align: middle;\n",
              "    }\n",
              "\n",
              "    .dataframe tbody tr th {\n",
              "        vertical-align: top;\n",
              "    }\n",
              "\n",
              "    .dataframe thead th {\n",
              "        text-align: right;\n",
              "    }\n",
              "</style>\n",
              "<table border=\"1\" class=\"dataframe\">\n",
              "  <thead>\n",
              "    <tr style=\"text-align: right;\">\n",
              "      <th></th>\n",
              "      <th>Surface Condition</th>\n",
              "    </tr>\n",
              "  </thead>\n",
              "  <tbody>\n",
              "    <tr>\n",
              "      <th>DRY</th>\n",
              "      <td>78.966790</td>\n",
              "    </tr>\n",
              "    <tr>\n",
              "      <th>WET</th>\n",
              "      <td>16.688677</td>\n",
              "    </tr>\n",
              "    <tr>\n",
              "      <th>OTHERS</th>\n",
              "      <td>4.344533</td>\n",
              "    </tr>\n",
              "  </tbody>\n",
              "</table>\n",
              "</div>"
            ],
            "text/plain": [
              "        Surface Condition\n",
              "DRY             78.966790\n",
              "WET             16.688677\n",
              "OTHERS           4.344533"
            ]
          },
          "metadata": {},
          "execution_count": 170
        }
      ]
    },
    {
      "cell_type": "markdown",
      "metadata": {
        "id": "j47cnQb4QUt_"
      },
      "source": [
        "Light"
      ]
    },
    {
      "cell_type": "code",
      "metadata": {
        "colab": {
          "base_uri": "https://localhost:8080/",
          "height": 235
        },
        "id": "FF0v2rBgQXgF",
        "outputId": "86b50a2a-28a9-4523-cb40-f2342cc39de9"
      },
      "source": [
        "uniq_val = df_train['Light'].value_counts(normalize=True).to_frame()*100\n",
        "uniq_val"
      ],
      "execution_count": 171,
      "outputs": [
        {
          "output_type": "execute_result",
          "data": {
            "text/html": [
              "<div>\n",
              "<style scoped>\n",
              "    .dataframe tbody tr th:only-of-type {\n",
              "        vertical-align: middle;\n",
              "    }\n",
              "\n",
              "    .dataframe tbody tr th {\n",
              "        vertical-align: top;\n",
              "    }\n",
              "\n",
              "    .dataframe thead th {\n",
              "        text-align: right;\n",
              "    }\n",
              "</style>\n",
              "<table border=\"1\" class=\"dataframe\">\n",
              "  <thead>\n",
              "    <tr style=\"text-align: right;\">\n",
              "      <th></th>\n",
              "      <th>Light</th>\n",
              "    </tr>\n",
              "  </thead>\n",
              "  <tbody>\n",
              "    <tr>\n",
              "      <th>DAYLIGHT</th>\n",
              "      <td>68.316178</td>\n",
              "    </tr>\n",
              "    <tr>\n",
              "      <th>DARK LIGHTS ON</th>\n",
              "      <td>21.798407</td>\n",
              "    </tr>\n",
              "    <tr>\n",
              "      <th>DARK NO LIGHTS</th>\n",
              "      <td>3.332686</td>\n",
              "    </tr>\n",
              "    <tr>\n",
              "      <th>DUSK</th>\n",
              "      <td>2.767528</td>\n",
              "    </tr>\n",
              "    <tr>\n",
              "      <th>DAWN</th>\n",
              "      <td>2.373276</td>\n",
              "    </tr>\n",
              "    <tr>\n",
              "      <th>DARK -- UNKNOWN LIGHTING</th>\n",
              "      <td>1.411925</td>\n",
              "    </tr>\n",
              "  </tbody>\n",
              "</table>\n",
              "</div>"
            ],
            "text/plain": [
              "                              Light\n",
              "DAYLIGHT                  68.316178\n",
              "DARK LIGHTS ON            21.798407\n",
              "DARK NO LIGHTS             3.332686\n",
              "DUSK                       2.767528\n",
              "DAWN                       2.373276\n",
              "DARK -- UNKNOWN LIGHTING   1.411925"
            ]
          },
          "metadata": {},
          "execution_count": 171
        }
      ]
    },
    {
      "cell_type": "code",
      "metadata": {
        "colab": {
          "base_uri": "https://localhost:8080/",
          "height": 142
        },
        "id": "OK92uBWWQiUT",
        "outputId": "c8ba5ab7-abbd-4bfa-92aa-d97d34fe8a17"
      },
      "source": [
        "df_train['Light'].replace(uniq_val[uniq_val['Light'] < 20.0].index,'OTHERS',inplace=True)\n",
        "df_train['Light'].value_counts(normalize=True).to_frame()*100"
      ],
      "execution_count": 172,
      "outputs": [
        {
          "output_type": "execute_result",
          "data": {
            "text/html": [
              "<div>\n",
              "<style scoped>\n",
              "    .dataframe tbody tr th:only-of-type {\n",
              "        vertical-align: middle;\n",
              "    }\n",
              "\n",
              "    .dataframe tbody tr th {\n",
              "        vertical-align: top;\n",
              "    }\n",
              "\n",
              "    .dataframe thead th {\n",
              "        text-align: right;\n",
              "    }\n",
              "</style>\n",
              "<table border=\"1\" class=\"dataframe\">\n",
              "  <thead>\n",
              "    <tr style=\"text-align: right;\">\n",
              "      <th></th>\n",
              "      <th>Light</th>\n",
              "    </tr>\n",
              "  </thead>\n",
              "  <tbody>\n",
              "    <tr>\n",
              "      <th>DAYLIGHT</th>\n",
              "      <td>68.316178</td>\n",
              "    </tr>\n",
              "    <tr>\n",
              "      <th>DARK LIGHTS ON</th>\n",
              "      <td>21.798407</td>\n",
              "    </tr>\n",
              "    <tr>\n",
              "      <th>OTHERS</th>\n",
              "      <td>9.885415</td>\n",
              "    </tr>\n",
              "  </tbody>\n",
              "</table>\n",
              "</div>"
            ],
            "text/plain": [
              "                    Light\n",
              "DAYLIGHT        68.316178\n",
              "DARK LIGHTS ON  21.798407\n",
              "OTHERS           9.885415"
            ]
          },
          "metadata": {},
          "execution_count": 172
        }
      ]
    },
    {
      "cell_type": "markdown",
      "metadata": {
        "id": "BDdZb0YSQ7S8"
      },
      "source": [
        "Traffic Control"
      ]
    },
    {
      "cell_type": "code",
      "metadata": {
        "colab": {
          "base_uri": "https://localhost:8080/",
          "height": 328
        },
        "id": "Zt4DohPrQ9YC",
        "outputId": "6464462c-0f87-4235-8821-52d30046b2b8"
      },
      "source": [
        "uniq_val = df_train['Traffic Control'].value_counts(normalize=True).to_frame()*100\n",
        "uniq_val"
      ],
      "execution_count": 173,
      "outputs": [
        {
          "output_type": "execute_result",
          "data": {
            "text/html": [
              "<div>\n",
              "<style scoped>\n",
              "    .dataframe tbody tr th:only-of-type {\n",
              "        vertical-align: middle;\n",
              "    }\n",
              "\n",
              "    .dataframe tbody tr th {\n",
              "        vertical-align: top;\n",
              "    }\n",
              "\n",
              "    .dataframe thead th {\n",
              "        text-align: right;\n",
              "    }\n",
              "</style>\n",
              "<table border=\"1\" class=\"dataframe\">\n",
              "  <thead>\n",
              "    <tr style=\"text-align: right;\">\n",
              "      <th></th>\n",
              "      <th>Traffic Control</th>\n",
              "    </tr>\n",
              "  </thead>\n",
              "  <tbody>\n",
              "    <tr>\n",
              "      <th>NO CONTROLS</th>\n",
              "      <td>55.284521</td>\n",
              "    </tr>\n",
              "    <tr>\n",
              "      <th>TRAFFIC SIGNAL</th>\n",
              "      <td>32.522820</td>\n",
              "    </tr>\n",
              "    <tr>\n",
              "      <th>STOP SIGN</th>\n",
              "      <td>7.323752</td>\n",
              "    </tr>\n",
              "    <tr>\n",
              "      <th>FLASHING TRAFFIC SIGNAL</th>\n",
              "      <td>1.512915</td>\n",
              "    </tr>\n",
              "    <tr>\n",
              "      <th>YIELD SIGN</th>\n",
              "      <td>1.479899</td>\n",
              "    </tr>\n",
              "    <tr>\n",
              "      <th>PERSON</th>\n",
              "      <td>0.563216</td>\n",
              "    </tr>\n",
              "    <tr>\n",
              "      <th>WARNING SIGN</th>\n",
              "      <td>0.503010</td>\n",
              "    </tr>\n",
              "    <tr>\n",
              "      <th>RAILWAY CROSSING DEVICE</th>\n",
              "      <td>0.411730</td>\n",
              "    </tr>\n",
              "    <tr>\n",
              "      <th>SCHOOL ZONE SIGN DEVICE</th>\n",
              "      <td>0.398136</td>\n",
              "    </tr>\n",
              "  </tbody>\n",
              "</table>\n",
              "</div>"
            ],
            "text/plain": [
              "                         Traffic Control\n",
              "NO CONTROLS                    55.284521\n",
              "TRAFFIC SIGNAL                 32.522820\n",
              "STOP SIGN                       7.323752\n",
              "FLASHING TRAFFIC SIGNAL         1.512915\n",
              "YIELD SIGN                      1.479899\n",
              "PERSON                          0.563216\n",
              "WARNING SIGN                    0.503010\n",
              "RAILWAY CROSSING DEVICE         0.411730\n",
              "SCHOOL ZONE SIGN DEVICE         0.398136"
            ]
          },
          "metadata": {},
          "execution_count": 173
        }
      ]
    },
    {
      "cell_type": "code",
      "metadata": {
        "colab": {
          "base_uri": "https://localhost:8080/",
          "height": 173
        },
        "id": "k7gQEf2ORFRg",
        "outputId": "7ab256b8-06dc-43c9-edc1-adf9215cd40e"
      },
      "source": [
        "df_train['Traffic Control'].replace(uniq_val[uniq_val['Traffic Control'] < 7.0].index,'OTHERS',inplace=True)\n",
        "df_train['Traffic Control'].value_counts(normalize=True).to_frame()*100"
      ],
      "execution_count": 174,
      "outputs": [
        {
          "output_type": "execute_result",
          "data": {
            "text/html": [
              "<div>\n",
              "<style scoped>\n",
              "    .dataframe tbody tr th:only-of-type {\n",
              "        vertical-align: middle;\n",
              "    }\n",
              "\n",
              "    .dataframe tbody tr th {\n",
              "        vertical-align: top;\n",
              "    }\n",
              "\n",
              "    .dataframe thead th {\n",
              "        text-align: right;\n",
              "    }\n",
              "</style>\n",
              "<table border=\"1\" class=\"dataframe\">\n",
              "  <thead>\n",
              "    <tr style=\"text-align: right;\">\n",
              "      <th></th>\n",
              "      <th>Traffic Control</th>\n",
              "    </tr>\n",
              "  </thead>\n",
              "  <tbody>\n",
              "    <tr>\n",
              "      <th>NO CONTROLS</th>\n",
              "      <td>55.284521</td>\n",
              "    </tr>\n",
              "    <tr>\n",
              "      <th>TRAFFIC SIGNAL</th>\n",
              "      <td>32.522820</td>\n",
              "    </tr>\n",
              "    <tr>\n",
              "      <th>STOP SIGN</th>\n",
              "      <td>7.323752</td>\n",
              "    </tr>\n",
              "    <tr>\n",
              "      <th>OTHERS</th>\n",
              "      <td>4.868907</td>\n",
              "    </tr>\n",
              "  </tbody>\n",
              "</table>\n",
              "</div>"
            ],
            "text/plain": [
              "                Traffic Control\n",
              "NO CONTROLS           55.284521\n",
              "TRAFFIC SIGNAL        32.522820\n",
              "STOP SIGN              7.323752\n",
              "OTHERS                 4.868907"
            ]
          },
          "metadata": {},
          "execution_count": 174
        }
      ]
    },
    {
      "cell_type": "markdown",
      "metadata": {
        "id": "r9fLvBN2RVoG"
      },
      "source": [
        "Driver Substance Abuse"
      ]
    },
    {
      "cell_type": "code",
      "metadata": {
        "colab": {
          "base_uri": "https://localhost:8080/",
          "height": 328
        },
        "id": "C3wYI4V1Subo",
        "outputId": "1cda7df8-c58f-4527-e13b-53f565b308a1"
      },
      "source": [
        "uniq_val = df_train['Driver Substance Abuse'].value_counts(normalize=True).to_frame()*100\n",
        "uniq_val"
      ],
      "execution_count": 175,
      "outputs": [
        {
          "output_type": "execute_result",
          "data": {
            "text/html": [
              "<div>\n",
              "<style scoped>\n",
              "    .dataframe tbody tr th:only-of-type {\n",
              "        vertical-align: middle;\n",
              "    }\n",
              "\n",
              "    .dataframe tbody tr th {\n",
              "        vertical-align: top;\n",
              "    }\n",
              "\n",
              "    .dataframe thead th {\n",
              "        text-align: right;\n",
              "    }\n",
              "</style>\n",
              "<table border=\"1\" class=\"dataframe\">\n",
              "  <thead>\n",
              "    <tr style=\"text-align: right;\">\n",
              "      <th></th>\n",
              "      <th>Driver Substance Abuse</th>\n",
              "    </tr>\n",
              "  </thead>\n",
              "  <tbody>\n",
              "    <tr>\n",
              "      <th>NONE DETECTED</th>\n",
              "      <td>93.268596</td>\n",
              "    </tr>\n",
              "    <tr>\n",
              "      <th>ALCOHOL PRESENT</th>\n",
              "      <td>2.724801</td>\n",
              "    </tr>\n",
              "    <tr>\n",
              "      <th>ALCOHOL CONTRIBUTED</th>\n",
              "      <td>1.184696</td>\n",
              "    </tr>\n",
              "    <tr>\n",
              "      <th>ILLEGAL DRUG PRESENT</th>\n",
              "      <td>0.569043</td>\n",
              "    </tr>\n",
              "    <tr>\n",
              "      <th>MEDICATION PRESENT</th>\n",
              "      <td>0.506895</td>\n",
              "    </tr>\n",
              "    <tr>\n",
              "      <th>MEDICATION CONTRIBUTED</th>\n",
              "      <td>0.448631</td>\n",
              "    </tr>\n",
              "    <tr>\n",
              "      <th>ILLEGAL DRUG CONTRIBUTED</th>\n",
              "      <td>0.448631</td>\n",
              "    </tr>\n",
              "    <tr>\n",
              "      <th>COMBINATION CONTRIBUTED</th>\n",
              "      <td>0.435036</td>\n",
              "    </tr>\n",
              "    <tr>\n",
              "      <th>COMBINED SUBSTANCE PRESENT</th>\n",
              "      <td>0.413673</td>\n",
              "    </tr>\n",
              "  </tbody>\n",
              "</table>\n",
              "</div>"
            ],
            "text/plain": [
              "                            Driver Substance Abuse\n",
              "NONE DETECTED                            93.268596\n",
              "ALCOHOL PRESENT                           2.724801\n",
              "ALCOHOL CONTRIBUTED                       1.184696\n",
              "ILLEGAL DRUG PRESENT                      0.569043\n",
              "MEDICATION PRESENT                        0.506895\n",
              "MEDICATION CONTRIBUTED                    0.448631\n",
              "ILLEGAL DRUG CONTRIBUTED                  0.448631\n",
              "COMBINATION CONTRIBUTED                   0.435036\n",
              "COMBINED SUBSTANCE PRESENT                0.413673"
            ]
          },
          "metadata": {},
          "execution_count": 175
        }
      ]
    },
    {
      "cell_type": "code",
      "metadata": {
        "colab": {
          "base_uri": "https://localhost:8080/",
          "height": 111
        },
        "id": "NSJXcVJ0S7Oo",
        "outputId": "05dccbbb-57d7-4a46-ffbd-fc57fb995dd1"
      },
      "source": [
        "df_train['Driver Substance Abuse'].replace(uniq_val[uniq_val['Driver Substance Abuse'] < 93.0].index,'OTHERS',inplace=True)\n",
        "df_train['Driver Substance Abuse'].value_counts(normalize=True).to_frame()*100"
      ],
      "execution_count": 176,
      "outputs": [
        {
          "output_type": "execute_result",
          "data": {
            "text/html": [
              "<div>\n",
              "<style scoped>\n",
              "    .dataframe tbody tr th:only-of-type {\n",
              "        vertical-align: middle;\n",
              "    }\n",
              "\n",
              "    .dataframe tbody tr th {\n",
              "        vertical-align: top;\n",
              "    }\n",
              "\n",
              "    .dataframe thead th {\n",
              "        text-align: right;\n",
              "    }\n",
              "</style>\n",
              "<table border=\"1\" class=\"dataframe\">\n",
              "  <thead>\n",
              "    <tr style=\"text-align: right;\">\n",
              "      <th></th>\n",
              "      <th>Driver Substance Abuse</th>\n",
              "    </tr>\n",
              "  </thead>\n",
              "  <tbody>\n",
              "    <tr>\n",
              "      <th>NONE DETECTED</th>\n",
              "      <td>93.268596</td>\n",
              "    </tr>\n",
              "    <tr>\n",
              "      <th>OTHERS</th>\n",
              "      <td>6.731404</td>\n",
              "    </tr>\n",
              "  </tbody>\n",
              "</table>\n",
              "</div>"
            ],
            "text/plain": [
              "               Driver Substance Abuse\n",
              "NONE DETECTED               93.268596\n",
              "OTHERS                       6.731404"
            ]
          },
          "metadata": {},
          "execution_count": 176
        }
      ]
    },
    {
      "cell_type": "markdown",
      "metadata": {
        "id": "HeQL1TVVTJPY"
      },
      "source": [
        "Injury Severity"
      ]
    },
    {
      "cell_type": "code",
      "metadata": {
        "colab": {
          "base_uri": "https://localhost:8080/",
          "height": 204
        },
        "id": "Cc9mbpgBTMTo",
        "outputId": "dff14c98-cd5b-45db-d3eb-70d133e6fcaa"
      },
      "source": [
        "uniq_val = df_train['Injury Severity'].value_counts(normalize=True).to_frame()*100\n",
        "uniq_val"
      ],
      "execution_count": 177,
      "outputs": [
        {
          "output_type": "execute_result",
          "data": {
            "text/html": [
              "<div>\n",
              "<style scoped>\n",
              "    .dataframe tbody tr th:only-of-type {\n",
              "        vertical-align: middle;\n",
              "    }\n",
              "\n",
              "    .dataframe tbody tr th {\n",
              "        vertical-align: top;\n",
              "    }\n",
              "\n",
              "    .dataframe thead th {\n",
              "        text-align: right;\n",
              "    }\n",
              "</style>\n",
              "<table border=\"1\" class=\"dataframe\">\n",
              "  <thead>\n",
              "    <tr style=\"text-align: right;\">\n",
              "      <th></th>\n",
              "      <th>Injury Severity</th>\n",
              "    </tr>\n",
              "  </thead>\n",
              "  <tbody>\n",
              "    <tr>\n",
              "      <th>NO APPARENT INJURY</th>\n",
              "      <td>78.677413</td>\n",
              "    </tr>\n",
              "    <tr>\n",
              "      <th>POSSIBLE INJURY</th>\n",
              "      <td>10.769081</td>\n",
              "    </tr>\n",
              "    <tr>\n",
              "      <th>SUSPECTED MINOR INJURY</th>\n",
              "      <td>7.754904</td>\n",
              "    </tr>\n",
              "    <tr>\n",
              "      <th>SUSPECTED SERIOUS INJURY</th>\n",
              "      <td>1.775102</td>\n",
              "    </tr>\n",
              "    <tr>\n",
              "      <th>FATAL INJURY</th>\n",
              "      <td>1.023500</td>\n",
              "    </tr>\n",
              "  </tbody>\n",
              "</table>\n",
              "</div>"
            ],
            "text/plain": [
              "                          Injury Severity\n",
              "NO APPARENT INJURY              78.677413\n",
              "POSSIBLE INJURY                 10.769081\n",
              "SUSPECTED MINOR INJURY           7.754904\n",
              "SUSPECTED SERIOUS INJURY         1.775102\n",
              "FATAL INJURY                     1.023500"
            ]
          },
          "metadata": {},
          "execution_count": 177
        }
      ]
    },
    {
      "cell_type": "code",
      "metadata": {
        "colab": {
          "base_uri": "https://localhost:8080/",
          "height": 173
        },
        "id": "OQsBWJ2wTXse",
        "outputId": "0d321fa2-34cc-4754-c94a-91560e716660"
      },
      "source": [
        "df_train['Injury Severity'].replace(uniq_val[uniq_val['Injury Severity'] < 7.0].index,'OTHERS',inplace=True)\n",
        "df_train['Injury Severity'].value_counts(normalize=True).to_frame()*100"
      ],
      "execution_count": 178,
      "outputs": [
        {
          "output_type": "execute_result",
          "data": {
            "text/html": [
              "<div>\n",
              "<style scoped>\n",
              "    .dataframe tbody tr th:only-of-type {\n",
              "        vertical-align: middle;\n",
              "    }\n",
              "\n",
              "    .dataframe tbody tr th {\n",
              "        vertical-align: top;\n",
              "    }\n",
              "\n",
              "    .dataframe thead th {\n",
              "        text-align: right;\n",
              "    }\n",
              "</style>\n",
              "<table border=\"1\" class=\"dataframe\">\n",
              "  <thead>\n",
              "    <tr style=\"text-align: right;\">\n",
              "      <th></th>\n",
              "      <th>Injury Severity</th>\n",
              "    </tr>\n",
              "  </thead>\n",
              "  <tbody>\n",
              "    <tr>\n",
              "      <th>NO APPARENT INJURY</th>\n",
              "      <td>78.677413</td>\n",
              "    </tr>\n",
              "    <tr>\n",
              "      <th>POSSIBLE INJURY</th>\n",
              "      <td>10.769081</td>\n",
              "    </tr>\n",
              "    <tr>\n",
              "      <th>SUSPECTED MINOR INJURY</th>\n",
              "      <td>7.754904</td>\n",
              "    </tr>\n",
              "    <tr>\n",
              "      <th>OTHERS</th>\n",
              "      <td>2.798602</td>\n",
              "    </tr>\n",
              "  </tbody>\n",
              "</table>\n",
              "</div>"
            ],
            "text/plain": [
              "                        Injury Severity\n",
              "NO APPARENT INJURY            78.677413\n",
              "POSSIBLE INJURY               10.769081\n",
              "SUSPECTED MINOR INJURY         7.754904\n",
              "OTHERS                         2.798602"
            ]
          },
          "metadata": {},
          "execution_count": 178
        }
      ]
    },
    {
      "cell_type": "markdown",
      "metadata": {
        "id": "uMQgJ4KwUMUZ"
      },
      "source": [
        "Vehicle Body Type"
      ]
    },
    {
      "cell_type": "code",
      "metadata": {
        "colab": {
          "base_uri": "https://localhost:8080/",
          "height": 917
        },
        "id": "aIYMlVNWUOLq",
        "outputId": "40d82a0e-a7c9-40cc-9f59-554eae36b40f"
      },
      "source": [
        "uniq_val = df_train['Vehicle Body Type'].value_counts(normalize=True).to_frame()*100\n",
        "uniq_val"
      ],
      "execution_count": 179,
      "outputs": [
        {
          "output_type": "execute_result",
          "data": {
            "text/html": [
              "<div>\n",
              "<style scoped>\n",
              "    .dataframe tbody tr th:only-of-type {\n",
              "        vertical-align: middle;\n",
              "    }\n",
              "\n",
              "    .dataframe tbody tr th {\n",
              "        vertical-align: top;\n",
              "    }\n",
              "\n",
              "    .dataframe thead th {\n",
              "        text-align: right;\n",
              "    }\n",
              "</style>\n",
              "<table border=\"1\" class=\"dataframe\">\n",
              "  <thead>\n",
              "    <tr style=\"text-align: right;\">\n",
              "      <th></th>\n",
              "      <th>Vehicle Body Type</th>\n",
              "    </tr>\n",
              "  </thead>\n",
              "  <tbody>\n",
              "    <tr>\n",
              "      <th>PASSENGER CAR</th>\n",
              "      <td>69.722276</td>\n",
              "    </tr>\n",
              "    <tr>\n",
              "      <th>(SPORT) UTILITY VEHICLE</th>\n",
              "      <td>8.725966</td>\n",
              "    </tr>\n",
              "    <tr>\n",
              "      <th>PICKUP TRUCK</th>\n",
              "      <td>4.000777</td>\n",
              "    </tr>\n",
              "    <tr>\n",
              "      <th>VAN</th>\n",
              "      <td>2.856865</td>\n",
              "    </tr>\n",
              "    <tr>\n",
              "      <th>TRANSIT BUS</th>\n",
              "      <td>2.182948</td>\n",
              "    </tr>\n",
              "    <tr>\n",
              "      <th>SCHOOL BUS</th>\n",
              "      <td>1.687706</td>\n",
              "    </tr>\n",
              "    <tr>\n",
              "      <th>POLICE VEHICLE/NON EMERGENCY</th>\n",
              "      <td>1.299281</td>\n",
              "    </tr>\n",
              "    <tr>\n",
              "      <th>OTHER LIGHT TRUCKS (10,000LBS (4,536KG) OR LESS)</th>\n",
              "      <td>1.221596</td>\n",
              "    </tr>\n",
              "    <tr>\n",
              "      <th>CARGO VAN/LIGHT TRUCK 2 AXLES (OVER 10,000LBS (4,536 KG))</th>\n",
              "      <td>1.165275</td>\n",
              "    </tr>\n",
              "    <tr>\n",
              "      <th>POLICE VEHICLE/EMERGENCY</th>\n",
              "      <td>1.081763</td>\n",
              "    </tr>\n",
              "    <tr>\n",
              "      <th>MEDIUM/HEAVY TRUCKS 3 AXLES (OVER 10,000LBS (4,536KG))</th>\n",
              "      <td>0.994368</td>\n",
              "    </tr>\n",
              "    <tr>\n",
              "      <th>MOTORCYCLE</th>\n",
              "      <td>0.605943</td>\n",
              "    </tr>\n",
              "    <tr>\n",
              "      <th>STATION WAGON</th>\n",
              "      <td>0.578753</td>\n",
              "    </tr>\n",
              "    <tr>\n",
              "      <th>TRUCK TRACTOR</th>\n",
              "      <td>0.429210</td>\n",
              "    </tr>\n",
              "    <tr>\n",
              "      <th>OTHER BUS</th>\n",
              "      <td>0.415615</td>\n",
              "    </tr>\n",
              "    <tr>\n",
              "      <th>FIRE VEHICLE/EMERGENCY</th>\n",
              "      <td>0.365119</td>\n",
              "    </tr>\n",
              "    <tr>\n",
              "      <th>AMBULANCE/EMERGENCY</th>\n",
              "      <td>0.363177</td>\n",
              "    </tr>\n",
              "    <tr>\n",
              "      <th>FIRE VEHICLE/NON EMERGENCY</th>\n",
              "      <td>0.353467</td>\n",
              "    </tr>\n",
              "    <tr>\n",
              "      <th>RECREATIONAL VEHICLE</th>\n",
              "      <td>0.256360</td>\n",
              "    </tr>\n",
              "    <tr>\n",
              "      <th>AMBULANCE/NON EMERGENCY</th>\n",
              "      <td>0.242766</td>\n",
              "    </tr>\n",
              "    <tr>\n",
              "      <th>SNOWMOBILE</th>\n",
              "      <td>0.225286</td>\n",
              "    </tr>\n",
              "    <tr>\n",
              "      <th>ALL TERRAIN VEHICLE (ATV)</th>\n",
              "      <td>0.209749</td>\n",
              "    </tr>\n",
              "    <tr>\n",
              "      <th>MOPED</th>\n",
              "      <td>0.188386</td>\n",
              "    </tr>\n",
              "    <tr>\n",
              "      <th>AUTOCYCLE</th>\n",
              "      <td>0.184502</td>\n",
              "    </tr>\n",
              "    <tr>\n",
              "      <th>LOW SPEED VEHICLE</th>\n",
              "      <td>0.178675</td>\n",
              "    </tr>\n",
              "    <tr>\n",
              "      <th>CROSS COUNTRY BUS</th>\n",
              "      <td>0.161196</td>\n",
              "    </tr>\n",
              "    <tr>\n",
              "      <th>FARM VEHICLE</th>\n",
              "      <td>0.157312</td>\n",
              "    </tr>\n",
              "    <tr>\n",
              "      <th>LIMOUSINE</th>\n",
              "      <td>0.145659</td>\n",
              "    </tr>\n",
              "  </tbody>\n",
              "</table>\n",
              "</div>"
            ],
            "text/plain": [
              "                                                    Vehicle Body Type\n",
              "PASSENGER CAR                                               69.722276\n",
              "(SPORT) UTILITY VEHICLE                                      8.725966\n",
              "PICKUP TRUCK                                                 4.000777\n",
              "VAN                                                          2.856865\n",
              "TRANSIT BUS                                                  2.182948\n",
              "SCHOOL BUS                                                   1.687706\n",
              "POLICE VEHICLE/NON EMERGENCY                                 1.299281\n",
              "OTHER LIGHT TRUCKS (10,000LBS (4,536KG) OR LESS)             1.221596\n",
              "CARGO VAN/LIGHT TRUCK 2 AXLES (OVER 10,000LBS (...           1.165275\n",
              "POLICE VEHICLE/EMERGENCY                                     1.081763\n",
              "MEDIUM/HEAVY TRUCKS 3 AXLES (OVER 10,000LBS (4,...           0.994368\n",
              "MOTORCYCLE                                                   0.605943\n",
              "STATION WAGON                                                0.578753\n",
              "TRUCK TRACTOR                                                0.429210\n",
              "OTHER BUS                                                    0.415615\n",
              "FIRE VEHICLE/EMERGENCY                                       0.365119\n",
              "AMBULANCE/EMERGENCY                                          0.363177\n",
              "FIRE VEHICLE/NON EMERGENCY                                   0.353467\n",
              "RECREATIONAL VEHICLE                                         0.256360\n",
              "AMBULANCE/NON EMERGENCY                                      0.242766\n",
              "SNOWMOBILE                                                   0.225286\n",
              "ALL TERRAIN VEHICLE (ATV)                                    0.209749\n",
              "MOPED                                                        0.188386\n",
              "AUTOCYCLE                                                    0.184502\n",
              "LOW SPEED VEHICLE                                            0.178675\n",
              "CROSS COUNTRY BUS                                            0.161196\n",
              "FARM VEHICLE                                                 0.157312\n",
              "LIMOUSINE                                                    0.145659"
            ]
          },
          "metadata": {},
          "execution_count": 179
        }
      ]
    },
    {
      "cell_type": "code",
      "metadata": {
        "colab": {
          "base_uri": "https://localhost:8080/",
          "height": 173
        },
        "id": "D3lLt-7vU0kX",
        "outputId": "53620f4d-c3cf-40a8-8500-0b339bc56a21"
      },
      "source": [
        "df_train['Vehicle Body Type'].replace(uniq_val[uniq_val['Vehicle Body Type'] < 3.0].index,'OTHERS',inplace=True)\n",
        "df_train['Vehicle Body Type'].value_counts(normalize=True).to_frame()*100"
      ],
      "execution_count": 180,
      "outputs": [
        {
          "output_type": "execute_result",
          "data": {
            "text/html": [
              "<div>\n",
              "<style scoped>\n",
              "    .dataframe tbody tr th:only-of-type {\n",
              "        vertical-align: middle;\n",
              "    }\n",
              "\n",
              "    .dataframe tbody tr th {\n",
              "        vertical-align: top;\n",
              "    }\n",
              "\n",
              "    .dataframe thead th {\n",
              "        text-align: right;\n",
              "    }\n",
              "</style>\n",
              "<table border=\"1\" class=\"dataframe\">\n",
              "  <thead>\n",
              "    <tr style=\"text-align: right;\">\n",
              "      <th></th>\n",
              "      <th>Vehicle Body Type</th>\n",
              "    </tr>\n",
              "  </thead>\n",
              "  <tbody>\n",
              "    <tr>\n",
              "      <th>PASSENGER CAR</th>\n",
              "      <td>69.722276</td>\n",
              "    </tr>\n",
              "    <tr>\n",
              "      <th>OTHERS</th>\n",
              "      <td>17.550981</td>\n",
              "    </tr>\n",
              "    <tr>\n",
              "      <th>(SPORT) UTILITY VEHICLE</th>\n",
              "      <td>8.725966</td>\n",
              "    </tr>\n",
              "    <tr>\n",
              "      <th>PICKUP TRUCK</th>\n",
              "      <td>4.000777</td>\n",
              "    </tr>\n",
              "  </tbody>\n",
              "</table>\n",
              "</div>"
            ],
            "text/plain": [
              "                         Vehicle Body Type\n",
              "PASSENGER CAR                    69.722276\n",
              "OTHERS                           17.550981\n",
              "(SPORT) UTILITY VEHICLE           8.725966\n",
              "PICKUP TRUCK                      4.000777"
            ]
          },
          "metadata": {},
          "execution_count": 180
        }
      ]
    },
    {
      "cell_type": "markdown",
      "metadata": {
        "id": "8CjzL8d3VaeZ"
      },
      "source": [
        "Vehicle Movement"
      ]
    },
    {
      "cell_type": "code",
      "metadata": {
        "colab": {
          "base_uri": "https://localhost:8080/",
          "height": 669
        },
        "id": "zUAIR8Z9VbeL",
        "outputId": "70cc263b-0432-4b8b-f762-8a0c4cb3d7be"
      },
      "source": [
        "uniq_val = df_train['Vehicle Movement'].value_counts(normalize=True).to_frame()*100\n",
        "uniq_val"
      ],
      "execution_count": 181,
      "outputs": [
        {
          "output_type": "execute_result",
          "data": {
            "text/html": [
              "<div>\n",
              "<style scoped>\n",
              "    .dataframe tbody tr th:only-of-type {\n",
              "        vertical-align: middle;\n",
              "    }\n",
              "\n",
              "    .dataframe tbody tr th {\n",
              "        vertical-align: top;\n",
              "    }\n",
              "\n",
              "    .dataframe thead th {\n",
              "        text-align: right;\n",
              "    }\n",
              "</style>\n",
              "<table border=\"1\" class=\"dataframe\">\n",
              "  <thead>\n",
              "    <tr style=\"text-align: right;\">\n",
              "      <th></th>\n",
              "      <th>Vehicle Movement</th>\n",
              "    </tr>\n",
              "  </thead>\n",
              "  <tbody>\n",
              "    <tr>\n",
              "      <th>MOVING CONSTANT SPEED</th>\n",
              "      <td>39.256166</td>\n",
              "    </tr>\n",
              "    <tr>\n",
              "      <th>SLOWING OR STOPPING</th>\n",
              "      <td>14.731016</td>\n",
              "    </tr>\n",
              "    <tr>\n",
              "      <th>STOPPED IN TRAFFIC LANE</th>\n",
              "      <td>10.831229</td>\n",
              "    </tr>\n",
              "    <tr>\n",
              "      <th>MAKING LEFT TURN</th>\n",
              "      <td>9.122160</td>\n",
              "    </tr>\n",
              "    <tr>\n",
              "      <th>ACCELERATING</th>\n",
              "      <td>5.538940</td>\n",
              "    </tr>\n",
              "    <tr>\n",
              "      <th>BACKING</th>\n",
              "      <td>3.408429</td>\n",
              "    </tr>\n",
              "    <tr>\n",
              "      <th>MAKING RIGHT TURN</th>\n",
              "      <td>3.161779</td>\n",
              "    </tr>\n",
              "    <tr>\n",
              "      <th>STARTING FROM LANE</th>\n",
              "      <td>2.748106</td>\n",
              "    </tr>\n",
              "    <tr>\n",
              "      <th>CHANGING LANES</th>\n",
              "      <td>2.722859</td>\n",
              "    </tr>\n",
              "    <tr>\n",
              "      <th>PARKED</th>\n",
              "      <td>1.652748</td>\n",
              "    </tr>\n",
              "    <tr>\n",
              "      <th>PARKING</th>\n",
              "      <td>1.279860</td>\n",
              "    </tr>\n",
              "    <tr>\n",
              "      <th>STARTING FROM PARKED</th>\n",
              "      <td>1.223539</td>\n",
              "    </tr>\n",
              "    <tr>\n",
              "      <th>MAKING U TURN</th>\n",
              "      <td>0.895319</td>\n",
              "    </tr>\n",
              "    <tr>\n",
              "      <th>PASSING</th>\n",
              "      <td>0.759371</td>\n",
              "    </tr>\n",
              "    <tr>\n",
              "      <th>ENTERING TRAFFIC LANE</th>\n",
              "      <td>0.629248</td>\n",
              "    </tr>\n",
              "    <tr>\n",
              "      <th>SKIDDING</th>\n",
              "      <td>0.625364</td>\n",
              "    </tr>\n",
              "    <tr>\n",
              "      <th>NEGOTIATING A CURVE</th>\n",
              "      <td>0.497184</td>\n",
              "    </tr>\n",
              "    <tr>\n",
              "      <th>RIGHT TURN ON RED</th>\n",
              "      <td>0.392309</td>\n",
              "    </tr>\n",
              "    <tr>\n",
              "      <th>LEAVING TRAFFIC LANE</th>\n",
              "      <td>0.308798</td>\n",
              "    </tr>\n",
              "    <tr>\n",
              "      <th>DRIVERLESS MOVING VEH.</th>\n",
              "      <td>0.215576</td>\n",
              "    </tr>\n",
              "  </tbody>\n",
              "</table>\n",
              "</div>"
            ],
            "text/plain": [
              "                         Vehicle Movement\n",
              "MOVING CONSTANT SPEED           39.256166\n",
              "SLOWING OR STOPPING             14.731016\n",
              "STOPPED IN TRAFFIC LANE         10.831229\n",
              "MAKING LEFT TURN                 9.122160\n",
              "ACCELERATING                     5.538940\n",
              "BACKING                          3.408429\n",
              "MAKING RIGHT TURN                3.161779\n",
              "STARTING FROM LANE               2.748106\n",
              "CHANGING LANES                   2.722859\n",
              "PARKED                           1.652748\n",
              "PARKING                          1.279860\n",
              "STARTING FROM PARKED             1.223539\n",
              "MAKING U TURN                    0.895319\n",
              "PASSING                          0.759371\n",
              "ENTERING TRAFFIC LANE            0.629248\n",
              "SKIDDING                         0.625364\n",
              "NEGOTIATING A CURVE              0.497184\n",
              "RIGHT TURN ON RED                0.392309\n",
              "LEAVING TRAFFIC LANE             0.308798\n",
              "DRIVERLESS MOVING VEH.           0.215576"
            ]
          },
          "metadata": {},
          "execution_count": 181
        }
      ]
    },
    {
      "cell_type": "code",
      "metadata": {
        "colab": {
          "base_uri": "https://localhost:8080/",
          "height": 235
        },
        "id": "CibXownxWHV9",
        "outputId": "7112392d-2cca-4a4d-a76f-d2ade398844d"
      },
      "source": [
        "df_train['Vehicle Movement'].replace(uniq_val[uniq_val['Vehicle Movement'] < 5.0].index,'OTHERS',inplace=True)\n",
        "df_train['Vehicle Movement'].value_counts(normalize=True).to_frame()*100"
      ],
      "execution_count": 182,
      "outputs": [
        {
          "output_type": "execute_result",
          "data": {
            "text/html": [
              "<div>\n",
              "<style scoped>\n",
              "    .dataframe tbody tr th:only-of-type {\n",
              "        vertical-align: middle;\n",
              "    }\n",
              "\n",
              "    .dataframe tbody tr th {\n",
              "        vertical-align: top;\n",
              "    }\n",
              "\n",
              "    .dataframe thead th {\n",
              "        text-align: right;\n",
              "    }\n",
              "</style>\n",
              "<table border=\"1\" class=\"dataframe\">\n",
              "  <thead>\n",
              "    <tr style=\"text-align: right;\">\n",
              "      <th></th>\n",
              "      <th>Vehicle Movement</th>\n",
              "    </tr>\n",
              "  </thead>\n",
              "  <tbody>\n",
              "    <tr>\n",
              "      <th>MOVING CONSTANT SPEED</th>\n",
              "      <td>39.256166</td>\n",
              "    </tr>\n",
              "    <tr>\n",
              "      <th>OTHERS</th>\n",
              "      <td>20.520489</td>\n",
              "    </tr>\n",
              "    <tr>\n",
              "      <th>SLOWING OR STOPPING</th>\n",
              "      <td>14.731016</td>\n",
              "    </tr>\n",
              "    <tr>\n",
              "      <th>STOPPED IN TRAFFIC LANE</th>\n",
              "      <td>10.831229</td>\n",
              "    </tr>\n",
              "    <tr>\n",
              "      <th>MAKING LEFT TURN</th>\n",
              "      <td>9.122160</td>\n",
              "    </tr>\n",
              "    <tr>\n",
              "      <th>ACCELERATING</th>\n",
              "      <td>5.538940</td>\n",
              "    </tr>\n",
              "  </tbody>\n",
              "</table>\n",
              "</div>"
            ],
            "text/plain": [
              "                         Vehicle Movement\n",
              "MOVING CONSTANT SPEED           39.256166\n",
              "OTHERS                          20.520489\n",
              "SLOWING OR STOPPING             14.731016\n",
              "STOPPED IN TRAFFIC LANE         10.831229\n",
              "MAKING LEFT TURN                 9.122160\n",
              "ACCELERATING                     5.538940"
            ]
          },
          "metadata": {},
          "execution_count": 182
        }
      ]
    },
    {
      "cell_type": "markdown",
      "metadata": {
        "id": "ckP3mDQFWzv_"
      },
      "source": [
        "Equipment Problems"
      ]
    },
    {
      "cell_type": "code",
      "metadata": {
        "colab": {
          "base_uri": "https://localhost:8080/",
          "height": 235
        },
        "id": "LmiB8mg6W2Qo",
        "outputId": "2d9cfcf4-00d1-4352-de98-f542b6d59e68"
      },
      "source": [
        "uniq_val = df_train['Equipment Problems'].value_counts(normalize=True).to_frame()*100\n",
        "uniq_val"
      ],
      "execution_count": 183,
      "outputs": [
        {
          "output_type": "execute_result",
          "data": {
            "text/html": [
              "<div>\n",
              "<style scoped>\n",
              "    .dataframe tbody tr th:only-of-type {\n",
              "        vertical-align: middle;\n",
              "    }\n",
              "\n",
              "    .dataframe tbody tr th {\n",
              "        vertical-align: top;\n",
              "    }\n",
              "\n",
              "    .dataframe thead th {\n",
              "        text-align: right;\n",
              "    }\n",
              "</style>\n",
              "<table border=\"1\" class=\"dataframe\">\n",
              "  <thead>\n",
              "    <tr style=\"text-align: right;\">\n",
              "      <th></th>\n",
              "      <th>Equipment Problems</th>\n",
              "    </tr>\n",
              "  </thead>\n",
              "  <tbody>\n",
              "    <tr>\n",
              "      <th>NO MISUSE</th>\n",
              "      <td>97.308215</td>\n",
              "    </tr>\n",
              "    <tr>\n",
              "      <th>AIR BAG FAILED</th>\n",
              "      <td>0.611769</td>\n",
              "    </tr>\n",
              "    <tr>\n",
              "      <th>BELT(S) MISUSED</th>\n",
              "      <td>0.555448</td>\n",
              "    </tr>\n",
              "    <tr>\n",
              "      <th>BELTS/ANCHORS BROKE</th>\n",
              "      <td>0.514663</td>\n",
              "    </tr>\n",
              "    <tr>\n",
              "      <th>FACING WRONG WAY</th>\n",
              "      <td>0.512721</td>\n",
              "    </tr>\n",
              "    <tr>\n",
              "      <th>STRAP/TETHER LOOSE</th>\n",
              "      <td>0.497184</td>\n",
              "    </tr>\n",
              "  </tbody>\n",
              "</table>\n",
              "</div>"
            ],
            "text/plain": [
              "                     Equipment Problems\n",
              "NO MISUSE                     97.308215\n",
              "AIR BAG FAILED                 0.611769\n",
              "BELT(S) MISUSED                0.555448\n",
              "BELTS/ANCHORS BROKE            0.514663\n",
              "FACING WRONG WAY               0.512721\n",
              "STRAP/TETHER LOOSE             0.497184"
            ]
          },
          "metadata": {},
          "execution_count": 183
        }
      ]
    },
    {
      "cell_type": "code",
      "metadata": {
        "colab": {
          "base_uri": "https://localhost:8080/",
          "height": 111
        },
        "id": "UFkL128YW8HI",
        "outputId": "4aeddd5e-7323-4e47-a44a-6060d45fc907"
      },
      "source": [
        "df_train['Equipment Problems'].replace(uniq_val[uniq_val['Equipment Problems'] < 97.0].index,'OTHERS',inplace=True)\n",
        "df_train['Equipment Problems'].value_counts(normalize=True).to_frame()*100"
      ],
      "execution_count": 184,
      "outputs": [
        {
          "output_type": "execute_result",
          "data": {
            "text/html": [
              "<div>\n",
              "<style scoped>\n",
              "    .dataframe tbody tr th:only-of-type {\n",
              "        vertical-align: middle;\n",
              "    }\n",
              "\n",
              "    .dataframe tbody tr th {\n",
              "        vertical-align: top;\n",
              "    }\n",
              "\n",
              "    .dataframe thead th {\n",
              "        text-align: right;\n",
              "    }\n",
              "</style>\n",
              "<table border=\"1\" class=\"dataframe\">\n",
              "  <thead>\n",
              "    <tr style=\"text-align: right;\">\n",
              "      <th></th>\n",
              "      <th>Equipment Problems</th>\n",
              "    </tr>\n",
              "  </thead>\n",
              "  <tbody>\n",
              "    <tr>\n",
              "      <th>NO MISUSE</th>\n",
              "      <td>97.308215</td>\n",
              "    </tr>\n",
              "    <tr>\n",
              "      <th>OTHERS</th>\n",
              "      <td>2.691785</td>\n",
              "    </tr>\n",
              "  </tbody>\n",
              "</table>\n",
              "</div>"
            ],
            "text/plain": [
              "           Equipment Problems\n",
              "NO MISUSE           97.308215\n",
              "OTHERS               2.691785"
            ]
          },
          "metadata": {},
          "execution_count": 184
        }
      ]
    },
    {
      "cell_type": "markdown",
      "metadata": {
        "id": "jz4-7nTdXM19"
      },
      "source": [
        "Re-check unique values of object type columns after Data cleaning"
      ]
    },
    {
      "cell_type": "code",
      "metadata": {
        "colab": {
          "base_uri": "https://localhost:8080/"
        },
        "id": "RYIANJY6XT-v",
        "outputId": "d21ae784-07d8-4c98-ec23-b6134889f158"
      },
      "source": [
        "for column in df_train.select_dtypes(include='object').columns:\n",
        "  print(\"%-30s - %3d\\n\" % (column, df_train[column].nunique()))"
      ],
      "execution_count": 185,
      "outputs": [
        {
          "output_type": "stream",
          "name": "stdout",
          "text": [
            "ACRS Report Type               -   2\n",
            "\n",
            "Collision Type                 -   6\n",
            "\n",
            "Weather                        -   4\n",
            "\n",
            "Surface Condition              -   3\n",
            "\n",
            "Light                          -   3\n",
            "\n",
            "Traffic Control                -   4\n",
            "\n",
            "Driver Substance Abuse         -   2\n",
            "\n",
            "Injury Severity                -   4\n",
            "\n",
            "Vehicle Damage Extent          -   5\n",
            "\n",
            "Vehicle Body Type              -   4\n",
            "\n",
            "Vehicle Movement               -   6\n",
            "\n",
            "Equipment Problems             -   2\n",
            "\n"
          ]
        }
      ]
    },
    {
      "cell_type": "code",
      "metadata": {
        "colab": {
          "base_uri": "https://localhost:8080/"
        },
        "id": "aHB-hwuD1NA0",
        "outputId": "5f9fe2d8-63cb-49a5-e0e4-206d07593b4a"
      },
      "source": [
        "print(df_train.shape)\n",
        "print(df_test.shape)\n",
        "df_train.select_dtypes(include='object').columns"
      ],
      "execution_count": 186,
      "outputs": [
        {
          "output_type": "stream",
          "name": "stdout",
          "text": [
            "(51490, 17)\n",
            "(77235, 16)\n"
          ]
        },
        {
          "output_type": "execute_result",
          "data": {
            "text/plain": [
              "Index(['ACRS Report Type', 'Collision Type', 'Weather', 'Surface Condition',\n",
              "       'Light', 'Traffic Control', 'Driver Substance Abuse', 'Injury Severity',\n",
              "       'Vehicle Damage Extent', 'Vehicle Body Type', 'Vehicle Movement',\n",
              "       'Equipment Problems'],\n",
              "      dtype='object')"
            ]
          },
          "metadata": {},
          "execution_count": 186
        }
      ]
    },
    {
      "cell_type": "markdown",
      "metadata": {
        "id": "F6yrHdyCZKB6"
      },
      "source": [
        "Clean Test data"
      ]
    },
    {
      "cell_type": "code",
      "metadata": {
        "id": "dr2vZvvZZJGB"
      },
      "source": [
        "def clean_cat_cols(col_name, perc, gt_lt):\n",
        "  uniq_val = df_test[col_name].value_counts(normalize=True).to_frame()*100\n",
        "  if gt_lt == '<':\n",
        "    cond = uniq_val[uniq_val[col_name] < perc].index\n",
        "  else:\n",
        "    cond = uniq_val[uniq_val[col_name] > perc].index\n",
        "  df_test[col_name].replace(cond,'OTHERS',inplace=True)"
      ],
      "execution_count": 187,
      "outputs": []
    },
    {
      "cell_type": "code",
      "metadata": {
        "id": "0mabvZjibgTe"
      },
      "source": [
        "clean_cat_cols('ACRS Report Type', 60.0, '<')\n",
        "clean_cat_cols('Collision Type', 5.0, '<')\n",
        "clean_cat_cols('Weather', 10.0, '<')\n",
        "clean_cat_cols('Surface Condition', 15.0, '<')\n",
        "clean_cat_cols('Light', 20.0, '<')\n",
        "clean_cat_cols('Traffic Control', 7.0, '<')\n",
        "clean_cat_cols('Driver Substance Abuse', 93.0, '<')\n",
        "clean_cat_cols('Injury Severity', 7.0, '<')\n",
        "clean_cat_cols('Vehicle Body Type', 3.0, '<')\n",
        "clean_cat_cols('Vehicle Movement', 5.0, '<')\n",
        "clean_cat_cols('Equipment Problems', 97.0, '<')"
      ],
      "execution_count": 188,
      "outputs": []
    },
    {
      "cell_type": "code",
      "metadata": {
        "colab": {
          "base_uri": "https://localhost:8080/",
          "height": 895
        },
        "id": "DaC8O7LrfWJ_",
        "outputId": "dfca72b5-3c85-44ad-e7fd-a343b8d67987"
      },
      "source": [
        "df_train"
      ],
      "execution_count": 189,
      "outputs": [
        {
          "output_type": "execute_result",
          "data": {
            "text/html": [
              "<div>\n",
              "<style scoped>\n",
              "    .dataframe tbody tr th:only-of-type {\n",
              "        vertical-align: middle;\n",
              "    }\n",
              "\n",
              "    .dataframe tbody tr th {\n",
              "        vertical-align: top;\n",
              "    }\n",
              "\n",
              "    .dataframe thead th {\n",
              "        text-align: right;\n",
              "    }\n",
              "</style>\n",
              "<table border=\"1\" class=\"dataframe\">\n",
              "  <thead>\n",
              "    <tr style=\"text-align: right;\">\n",
              "      <th></th>\n",
              "      <th>ACRS Report Type</th>\n",
              "      <th>Collision Type</th>\n",
              "      <th>Weather</th>\n",
              "      <th>Surface Condition</th>\n",
              "      <th>Light</th>\n",
              "      <th>Traffic Control</th>\n",
              "      <th>Driver Substance Abuse</th>\n",
              "      <th>Injury Severity</th>\n",
              "      <th>Vehicle Damage Extent</th>\n",
              "      <th>Vehicle Body Type</th>\n",
              "      <th>Vehicle Movement</th>\n",
              "      <th>Speed Limit</th>\n",
              "      <th>Vehicle Year</th>\n",
              "      <th>Equipment Problems</th>\n",
              "      <th>Latitude</th>\n",
              "      <th>Longitude</th>\n",
              "      <th>Fault</th>\n",
              "    </tr>\n",
              "    <tr>\n",
              "      <th>Crash Date/Time</th>\n",
              "      <th></th>\n",
              "      <th></th>\n",
              "      <th></th>\n",
              "      <th></th>\n",
              "      <th></th>\n",
              "      <th></th>\n",
              "      <th></th>\n",
              "      <th></th>\n",
              "      <th></th>\n",
              "      <th></th>\n",
              "      <th></th>\n",
              "      <th></th>\n",
              "      <th></th>\n",
              "      <th></th>\n",
              "      <th></th>\n",
              "      <th></th>\n",
              "      <th></th>\n",
              "    </tr>\n",
              "  </thead>\n",
              "  <tbody>\n",
              "    <tr>\n",
              "      <th>2015-01-01 00:30:00</th>\n",
              "      <td>Property Damage Crash</td>\n",
              "      <td>SAME DIR REAR END</td>\n",
              "      <td>CLEAR</td>\n",
              "      <td>DRY</td>\n",
              "      <td>DARK LIGHTS ON</td>\n",
              "      <td>TRAFFIC SIGNAL</td>\n",
              "      <td>NONE DETECTED</td>\n",
              "      <td>NO APPARENT INJURY</td>\n",
              "      <td>FUNCTIONAL</td>\n",
              "      <td>PASSENGER CAR</td>\n",
              "      <td>OTHERS</td>\n",
              "      <td>35</td>\n",
              "      <td>1993</td>\n",
              "      <td>NO MISUSE</td>\n",
              "      <td>39.022001</td>\n",
              "      <td>-77.102673</td>\n",
              "      <td>0</td>\n",
              "    </tr>\n",
              "    <tr>\n",
              "      <th>2015-01-01 01:10:00</th>\n",
              "      <td>OTHERS</td>\n",
              "      <td>SAME DIR REAR END</td>\n",
              "      <td>CLEAR</td>\n",
              "      <td>DRY</td>\n",
              "      <td>DARK LIGHTS ON</td>\n",
              "      <td>TRAFFIC SIGNAL</td>\n",
              "      <td>NONE DETECTED</td>\n",
              "      <td>NO APPARENT INJURY</td>\n",
              "      <td>FUNCTIONAL</td>\n",
              "      <td>(SPORT) UTILITY VEHICLE</td>\n",
              "      <td>MAKING LEFT TURN</td>\n",
              "      <td>40</td>\n",
              "      <td>1987</td>\n",
              "      <td>NO MISUSE</td>\n",
              "      <td>39.196610</td>\n",
              "      <td>-77.265547</td>\n",
              "      <td>0</td>\n",
              "    </tr>\n",
              "    <tr>\n",
              "      <th>2015-01-01 01:14:00</th>\n",
              "      <td>OTHERS</td>\n",
              "      <td>OTHERS</td>\n",
              "      <td>CLEAR</td>\n",
              "      <td>DRY</td>\n",
              "      <td>DARK LIGHTS ON</td>\n",
              "      <td>TRAFFIC SIGNAL</td>\n",
              "      <td>OTHERS</td>\n",
              "      <td>NO APPARENT INJURY</td>\n",
              "      <td>DISABLING</td>\n",
              "      <td>PICKUP TRUCK</td>\n",
              "      <td>MOVING CONSTANT SPEED</td>\n",
              "      <td>40</td>\n",
              "      <td>1999</td>\n",
              "      <td>NO MISUSE</td>\n",
              "      <td>39.096217</td>\n",
              "      <td>-77.109803</td>\n",
              "      <td>1</td>\n",
              "    </tr>\n",
              "    <tr>\n",
              "      <th>2015-01-01 01:14:00</th>\n",
              "      <td>OTHERS</td>\n",
              "      <td>OTHERS</td>\n",
              "      <td>CLEAR</td>\n",
              "      <td>DRY</td>\n",
              "      <td>DARK LIGHTS ON</td>\n",
              "      <td>TRAFFIC SIGNAL</td>\n",
              "      <td>NONE DETECTED</td>\n",
              "      <td>SUSPECTED MINOR INJURY</td>\n",
              "      <td>DISABLING</td>\n",
              "      <td>PASSENGER CAR</td>\n",
              "      <td>MOVING CONSTANT SPEED</td>\n",
              "      <td>35</td>\n",
              "      <td>2002</td>\n",
              "      <td>NO MISUSE</td>\n",
              "      <td>39.096217</td>\n",
              "      <td>-77.155942</td>\n",
              "      <td>0</td>\n",
              "    </tr>\n",
              "    <tr>\n",
              "      <th>2015-01-01 01:26:00</th>\n",
              "      <td>Property Damage Crash</td>\n",
              "      <td>OTHERS</td>\n",
              "      <td>CLEAR</td>\n",
              "      <td>DRY</td>\n",
              "      <td>DARK LIGHTS ON</td>\n",
              "      <td>TRAFFIC SIGNAL</td>\n",
              "      <td>NONE DETECTED</td>\n",
              "      <td>NO APPARENT INJURY</td>\n",
              "      <td>FUNCTIONAL</td>\n",
              "      <td>PASSENGER CAR</td>\n",
              "      <td>MAKING LEFT TURN</td>\n",
              "      <td>35</td>\n",
              "      <td>1998</td>\n",
              "      <td>NO MISUSE</td>\n",
              "      <td>39.158059</td>\n",
              "      <td>-77.204349</td>\n",
              "      <td>1</td>\n",
              "    </tr>\n",
              "    <tr>\n",
              "      <th>...</th>\n",
              "      <td>...</td>\n",
              "      <td>...</td>\n",
              "      <td>...</td>\n",
              "      <td>...</td>\n",
              "      <td>...</td>\n",
              "      <td>...</td>\n",
              "      <td>...</td>\n",
              "      <td>...</td>\n",
              "      <td>...</td>\n",
              "      <td>...</td>\n",
              "      <td>...</td>\n",
              "      <td>...</td>\n",
              "      <td>...</td>\n",
              "      <td>...</td>\n",
              "      <td>...</td>\n",
              "      <td>...</td>\n",
              "      <td>...</td>\n",
              "    </tr>\n",
              "    <tr>\n",
              "      <th>2021-10-27 18:50:00</th>\n",
              "      <td>Property Damage Crash</td>\n",
              "      <td>SAME DIR REAR END</td>\n",
              "      <td>CLEAR</td>\n",
              "      <td>DRY</td>\n",
              "      <td>DARK LIGHTS ON</td>\n",
              "      <td>OTHERS</td>\n",
              "      <td>NONE DETECTED</td>\n",
              "      <td>NO APPARENT INJURY</td>\n",
              "      <td>FUNCTIONAL</td>\n",
              "      <td>PASSENGER CAR</td>\n",
              "      <td>STOPPED IN TRAFFIC LANE</td>\n",
              "      <td>40</td>\n",
              "      <td>2020</td>\n",
              "      <td>NO MISUSE</td>\n",
              "      <td>39.122231</td>\n",
              "      <td>-77.177870</td>\n",
              "      <td>0</td>\n",
              "    </tr>\n",
              "    <tr>\n",
              "      <th>2021-10-27 19:53:00</th>\n",
              "      <td>Property Damage Crash</td>\n",
              "      <td>SINGLE VEHICLE</td>\n",
              "      <td>CLEAR</td>\n",
              "      <td>DRY</td>\n",
              "      <td>DARK LIGHTS ON</td>\n",
              "      <td>NO CONTROLS</td>\n",
              "      <td>NONE DETECTED</td>\n",
              "      <td>NO APPARENT INJURY</td>\n",
              "      <td>DISABLING</td>\n",
              "      <td>PASSENGER CAR</td>\n",
              "      <td>MOVING CONSTANT SPEED</td>\n",
              "      <td>35</td>\n",
              "      <td>2008</td>\n",
              "      <td>NO MISUSE</td>\n",
              "      <td>39.065462</td>\n",
              "      <td>-77.074375</td>\n",
              "      <td>1</td>\n",
              "    </tr>\n",
              "    <tr>\n",
              "      <th>2021-10-27 20:34:00</th>\n",
              "      <td>OTHERS</td>\n",
              "      <td>SAME DIR REAR END</td>\n",
              "      <td>CLEAR</td>\n",
              "      <td>DRY</td>\n",
              "      <td>DARK LIGHTS ON</td>\n",
              "      <td>NO CONTROLS</td>\n",
              "      <td>NONE DETECTED</td>\n",
              "      <td>NO APPARENT INJURY</td>\n",
              "      <td>DISABLING</td>\n",
              "      <td>(SPORT) UTILITY VEHICLE</td>\n",
              "      <td>OTHERS</td>\n",
              "      <td>25</td>\n",
              "      <td>2000</td>\n",
              "      <td>NO MISUSE</td>\n",
              "      <td>39.101723</td>\n",
              "      <td>-77.160020</td>\n",
              "      <td>1</td>\n",
              "    </tr>\n",
              "    <tr>\n",
              "      <th>2021-10-27 21:09:00</th>\n",
              "      <td>OTHERS</td>\n",
              "      <td>SAME DIR REAR END</td>\n",
              "      <td>CLEAR</td>\n",
              "      <td>DRY</td>\n",
              "      <td>DARK LIGHTS ON</td>\n",
              "      <td>NO CONTROLS</td>\n",
              "      <td>OTHERS</td>\n",
              "      <td>SUSPECTED MINOR INJURY</td>\n",
              "      <td>FUNCTIONAL</td>\n",
              "      <td>PASSENGER CAR</td>\n",
              "      <td>MOVING CONSTANT SPEED</td>\n",
              "      <td>35</td>\n",
              "      <td>2020</td>\n",
              "      <td>NO MISUSE</td>\n",
              "      <td>39.184603</td>\n",
              "      <td>-77.273492</td>\n",
              "      <td>1</td>\n",
              "    </tr>\n",
              "    <tr>\n",
              "      <th>2021-10-28 07:19:00</th>\n",
              "      <td>OTHERS</td>\n",
              "      <td>OTHERS</td>\n",
              "      <td>CLEAR</td>\n",
              "      <td>DRY</td>\n",
              "      <td>OTHERS</td>\n",
              "      <td>NO CONTROLS</td>\n",
              "      <td>NONE DETECTED</td>\n",
              "      <td>POSSIBLE INJURY</td>\n",
              "      <td>SUPERFICIAL</td>\n",
              "      <td>PASSENGER CAR</td>\n",
              "      <td>STOPPED IN TRAFFIC LANE</td>\n",
              "      <td>35</td>\n",
              "      <td>2019</td>\n",
              "      <td>NO MISUSE</td>\n",
              "      <td>39.169793</td>\n",
              "      <td>-77.264045</td>\n",
              "      <td>0</td>\n",
              "    </tr>\n",
              "  </tbody>\n",
              "</table>\n",
              "<p>51490 rows × 17 columns</p>\n",
              "</div>"
            ],
            "text/plain": [
              "                          ACRS Report Type     Collision Type  ...  Longitude Fault\n",
              "Crash Date/Time                                                ...                 \n",
              "2015-01-01 00:30:00  Property Damage Crash  SAME DIR REAR END  ... -77.102673     0\n",
              "2015-01-01 01:10:00                 OTHERS  SAME DIR REAR END  ... -77.265547     0\n",
              "2015-01-01 01:14:00                 OTHERS             OTHERS  ... -77.109803     1\n",
              "2015-01-01 01:14:00                 OTHERS             OTHERS  ... -77.155942     0\n",
              "2015-01-01 01:26:00  Property Damage Crash             OTHERS  ... -77.204349     1\n",
              "...                                    ...                ...  ...        ...   ...\n",
              "2021-10-27 18:50:00  Property Damage Crash  SAME DIR REAR END  ... -77.177870     0\n",
              "2021-10-27 19:53:00  Property Damage Crash     SINGLE VEHICLE  ... -77.074375     1\n",
              "2021-10-27 20:34:00                 OTHERS  SAME DIR REAR END  ... -77.160020     1\n",
              "2021-10-27 21:09:00                 OTHERS  SAME DIR REAR END  ... -77.273492     1\n",
              "2021-10-28 07:19:00                 OTHERS             OTHERS  ... -77.264045     0\n",
              "\n",
              "[51490 rows x 17 columns]"
            ]
          },
          "metadata": {},
          "execution_count": 189
        }
      ]
    },
    {
      "cell_type": "markdown",
      "metadata": {
        "id": "ESuBXOIqFl1t"
      },
      "source": [
        "# Prediction"
      ]
    },
    {
      "cell_type": "code",
      "metadata": {
        "id": "rTHL-9W6zj18"
      },
      "source": [
        "dummies = ['ACRS Report Type', 'Surface Condition', 'Light',  \n",
        "           'Driver Substance Abuse', 'Injury Severity', 'Equipment Problems', \n",
        "           'Weather', 'Vehicle Damage Extent', 'Traffic Control', \n",
        "           'Vehicle Body Type', 'Vehicle Movement', 'Collision Type']\n",
        "\n",
        "col_names = df_train.select_dtypes(include='object').columns\n",
        "df_train_Hotenc = pd.get_dummies(df_train, columns=col_names, drop_first=True)\n",
        "df_test_Hotenc = pd.get_dummies(df_test, columns=col_names, drop_first=True)\n"
      ],
      "execution_count": 190,
      "outputs": []
    },
    {
      "cell_type": "code",
      "metadata": {
        "colab": {
          "base_uri": "https://localhost:8080/"
        },
        "id": "wH1t52sF86nK",
        "outputId": "281b2092-d2e8-4696-9ea8-3fc052ee012a"
      },
      "source": [
        "print(df_train_Hotenc.shape)\n",
        "print(df_test_Hotenc.shape)"
      ],
      "execution_count": 191,
      "outputs": [
        {
          "output_type": "stream",
          "name": "stdout",
          "text": [
            "(51490, 38)\n",
            "(77235, 37)\n"
          ]
        }
      ]
    },
    {
      "cell_type": "code",
      "metadata": {
        "id": "TuiDQA18f_LP"
      },
      "source": [
        "X_hotenc_train, y_hotenc_train = df_train_Hotenc.drop(['Fault'], axis=1), df_train_Hotenc.Fault"
      ],
      "execution_count": 192,
      "outputs": []
    },
    {
      "cell_type": "code",
      "metadata": {
        "id": "E94K3sZzgdgn"
      },
      "source": [
        "from sklearn.preprocessing import MinMaxScaler\n",
        "min_max_scaler = MinMaxScaler()"
      ],
      "execution_count": 193,
      "outputs": []
    },
    {
      "cell_type": "markdown",
      "metadata": {
        "id": "WKN72gVyhKXb"
      },
      "source": [
        "Scale non-object columns"
      ]
    },
    {
      "cell_type": "code",
      "metadata": {
        "id": "Z3nh84RkgjG8"
      },
      "source": [
        "X_hotenc_train[['Speed Limit','Vehicle Year','Latitude','Longitude']] = min_max_scaler.fit_transform(X_hotenc_train[['Speed Limit','Vehicle Year','Latitude','Longitude']])\n",
        "df_test_Hotenc[['Speed Limit','Vehicle Year','Latitude','Longitude']] = min_max_scaler.fit_transform(df_test_Hotenc[['Speed Limit','Vehicle Year','Latitude','Longitude']])"
      ],
      "execution_count": 194,
      "outputs": []
    },
    {
      "cell_type": "code",
      "metadata": {
        "colab": {
          "base_uri": "https://localhost:8080/",
          "height": 708
        },
        "id": "CvcYUeQth46A",
        "outputId": "ea8ce4cb-8e99-4a4a-ca83-dee391c96942"
      },
      "source": [
        "X_hotenc_train"
      ],
      "execution_count": 195,
      "outputs": [
        {
          "output_type": "execute_result",
          "data": {
            "text/html": [
              "<div>\n",
              "<style scoped>\n",
              "    .dataframe tbody tr th:only-of-type {\n",
              "        vertical-align: middle;\n",
              "    }\n",
              "\n",
              "    .dataframe tbody tr th {\n",
              "        vertical-align: top;\n",
              "    }\n",
              "\n",
              "    .dataframe thead th {\n",
              "        text-align: right;\n",
              "    }\n",
              "</style>\n",
              "<table border=\"1\" class=\"dataframe\">\n",
              "  <thead>\n",
              "    <tr style=\"text-align: right;\">\n",
              "      <th></th>\n",
              "      <th>Speed Limit</th>\n",
              "      <th>Vehicle Year</th>\n",
              "      <th>Latitude</th>\n",
              "      <th>Longitude</th>\n",
              "      <th>ACRS Report Type_Property Damage Crash</th>\n",
              "      <th>Collision Type_OTHERS</th>\n",
              "      <th>Collision Type_SAME DIR REAR END</th>\n",
              "      <th>Collision Type_SAME DIRECTION SIDESWIPE</th>\n",
              "      <th>Collision Type_SINGLE VEHICLE</th>\n",
              "      <th>Collision Type_STRAIGHT MOVEMENT ANGLE</th>\n",
              "      <th>Weather_CLOUDY</th>\n",
              "      <th>Weather_OTHERS</th>\n",
              "      <th>Weather_RAINING</th>\n",
              "      <th>Surface Condition_OTHERS</th>\n",
              "      <th>Surface Condition_WET</th>\n",
              "      <th>Light_DAYLIGHT</th>\n",
              "      <th>Light_OTHERS</th>\n",
              "      <th>Traffic Control_OTHERS</th>\n",
              "      <th>Traffic Control_STOP SIGN</th>\n",
              "      <th>Traffic Control_TRAFFIC SIGNAL</th>\n",
              "      <th>Driver Substance Abuse_OTHERS</th>\n",
              "      <th>Injury Severity_OTHERS</th>\n",
              "      <th>Injury Severity_POSSIBLE INJURY</th>\n",
              "      <th>Injury Severity_SUSPECTED MINOR INJURY</th>\n",
              "      <th>Vehicle Damage Extent_DISABLING</th>\n",
              "      <th>Vehicle Damage Extent_FUNCTIONAL</th>\n",
              "      <th>Vehicle Damage Extent_NO DAMAGE</th>\n",
              "      <th>Vehicle Damage Extent_SUPERFICIAL</th>\n",
              "      <th>Vehicle Body Type_OTHERS</th>\n",
              "      <th>Vehicle Body Type_PASSENGER CAR</th>\n",
              "      <th>Vehicle Body Type_PICKUP TRUCK</th>\n",
              "      <th>Vehicle Movement_MAKING LEFT TURN</th>\n",
              "      <th>Vehicle Movement_MOVING CONSTANT SPEED</th>\n",
              "      <th>Vehicle Movement_OTHERS</th>\n",
              "      <th>Vehicle Movement_SLOWING OR STOPPING</th>\n",
              "      <th>Vehicle Movement_STOPPED IN TRAFFIC LANE</th>\n",
              "      <th>Equipment Problems_OTHERS</th>\n",
              "    </tr>\n",
              "    <tr>\n",
              "      <th>Crash Date/Time</th>\n",
              "      <th></th>\n",
              "      <th></th>\n",
              "      <th></th>\n",
              "      <th></th>\n",
              "      <th></th>\n",
              "      <th></th>\n",
              "      <th></th>\n",
              "      <th></th>\n",
              "      <th></th>\n",
              "      <th></th>\n",
              "      <th></th>\n",
              "      <th></th>\n",
              "      <th></th>\n",
              "      <th></th>\n",
              "      <th></th>\n",
              "      <th></th>\n",
              "      <th></th>\n",
              "      <th></th>\n",
              "      <th></th>\n",
              "      <th></th>\n",
              "      <th></th>\n",
              "      <th></th>\n",
              "      <th></th>\n",
              "      <th></th>\n",
              "      <th></th>\n",
              "      <th></th>\n",
              "      <th></th>\n",
              "      <th></th>\n",
              "      <th></th>\n",
              "      <th></th>\n",
              "      <th></th>\n",
              "      <th></th>\n",
              "      <th></th>\n",
              "      <th></th>\n",
              "      <th></th>\n",
              "      <th></th>\n",
              "      <th></th>\n",
              "    </tr>\n",
              "  </thead>\n",
              "  <tbody>\n",
              "    <tr>\n",
              "      <th>2015-01-01 00:30:00</th>\n",
              "      <td>0.500000</td>\n",
              "      <td>0.19932</td>\n",
              "      <td>0.511641</td>\n",
              "      <td>0.679001</td>\n",
              "      <td>1</td>\n",
              "      <td>0</td>\n",
              "      <td>1</td>\n",
              "      <td>0</td>\n",
              "      <td>0</td>\n",
              "      <td>0</td>\n",
              "      <td>0</td>\n",
              "      <td>0</td>\n",
              "      <td>0</td>\n",
              "      <td>0</td>\n",
              "      <td>0</td>\n",
              "      <td>0</td>\n",
              "      <td>0</td>\n",
              "      <td>0</td>\n",
              "      <td>0</td>\n",
              "      <td>1</td>\n",
              "      <td>0</td>\n",
              "      <td>0</td>\n",
              "      <td>0</td>\n",
              "      <td>0</td>\n",
              "      <td>0</td>\n",
              "      <td>1</td>\n",
              "      <td>0</td>\n",
              "      <td>0</td>\n",
              "      <td>0</td>\n",
              "      <td>1</td>\n",
              "      <td>0</td>\n",
              "      <td>0</td>\n",
              "      <td>0</td>\n",
              "      <td>1</td>\n",
              "      <td>0</td>\n",
              "      <td>0</td>\n",
              "      <td>0</td>\n",
              "    </tr>\n",
              "    <tr>\n",
              "      <th>2015-01-01 01:10:00</th>\n",
              "      <td>0.571429</td>\n",
              "      <td>0.19872</td>\n",
              "      <td>0.599755</td>\n",
              "      <td>0.632599</td>\n",
              "      <td>0</td>\n",
              "      <td>0</td>\n",
              "      <td>1</td>\n",
              "      <td>0</td>\n",
              "      <td>0</td>\n",
              "      <td>0</td>\n",
              "      <td>0</td>\n",
              "      <td>0</td>\n",
              "      <td>0</td>\n",
              "      <td>0</td>\n",
              "      <td>0</td>\n",
              "      <td>0</td>\n",
              "      <td>0</td>\n",
              "      <td>0</td>\n",
              "      <td>0</td>\n",
              "      <td>1</td>\n",
              "      <td>0</td>\n",
              "      <td>0</td>\n",
              "      <td>0</td>\n",
              "      <td>0</td>\n",
              "      <td>0</td>\n",
              "      <td>1</td>\n",
              "      <td>0</td>\n",
              "      <td>0</td>\n",
              "      <td>0</td>\n",
              "      <td>0</td>\n",
              "      <td>0</td>\n",
              "      <td>1</td>\n",
              "      <td>0</td>\n",
              "      <td>0</td>\n",
              "      <td>0</td>\n",
              "      <td>0</td>\n",
              "      <td>0</td>\n",
              "    </tr>\n",
              "    <tr>\n",
              "      <th>2015-01-01 01:14:00</th>\n",
              "      <td>0.571429</td>\n",
              "      <td>0.19992</td>\n",
              "      <td>0.549093</td>\n",
              "      <td>0.676970</td>\n",
              "      <td>0</td>\n",
              "      <td>1</td>\n",
              "      <td>0</td>\n",
              "      <td>0</td>\n",
              "      <td>0</td>\n",
              "      <td>0</td>\n",
              "      <td>0</td>\n",
              "      <td>0</td>\n",
              "      <td>0</td>\n",
              "      <td>0</td>\n",
              "      <td>0</td>\n",
              "      <td>0</td>\n",
              "      <td>0</td>\n",
              "      <td>0</td>\n",
              "      <td>0</td>\n",
              "      <td>1</td>\n",
              "      <td>1</td>\n",
              "      <td>0</td>\n",
              "      <td>0</td>\n",
              "      <td>0</td>\n",
              "      <td>1</td>\n",
              "      <td>0</td>\n",
              "      <td>0</td>\n",
              "      <td>0</td>\n",
              "      <td>0</td>\n",
              "      <td>0</td>\n",
              "      <td>1</td>\n",
              "      <td>0</td>\n",
              "      <td>1</td>\n",
              "      <td>0</td>\n",
              "      <td>0</td>\n",
              "      <td>0</td>\n",
              "      <td>0</td>\n",
              "    </tr>\n",
              "    <tr>\n",
              "      <th>2015-01-01 01:14:00</th>\n",
              "      <td>0.500000</td>\n",
              "      <td>0.20022</td>\n",
              "      <td>0.549093</td>\n",
              "      <td>0.663825</td>\n",
              "      <td>0</td>\n",
              "      <td>1</td>\n",
              "      <td>0</td>\n",
              "      <td>0</td>\n",
              "      <td>0</td>\n",
              "      <td>0</td>\n",
              "      <td>0</td>\n",
              "      <td>0</td>\n",
              "      <td>0</td>\n",
              "      <td>0</td>\n",
              "      <td>0</td>\n",
              "      <td>0</td>\n",
              "      <td>0</td>\n",
              "      <td>0</td>\n",
              "      <td>0</td>\n",
              "      <td>1</td>\n",
              "      <td>0</td>\n",
              "      <td>0</td>\n",
              "      <td>0</td>\n",
              "      <td>1</td>\n",
              "      <td>1</td>\n",
              "      <td>0</td>\n",
              "      <td>0</td>\n",
              "      <td>0</td>\n",
              "      <td>0</td>\n",
              "      <td>1</td>\n",
              "      <td>0</td>\n",
              "      <td>0</td>\n",
              "      <td>1</td>\n",
              "      <td>0</td>\n",
              "      <td>0</td>\n",
              "      <td>0</td>\n",
              "      <td>0</td>\n",
              "    </tr>\n",
              "    <tr>\n",
              "      <th>2015-01-01 01:26:00</th>\n",
              "      <td>0.500000</td>\n",
              "      <td>0.19982</td>\n",
              "      <td>0.580300</td>\n",
              "      <td>0.650034</td>\n",
              "      <td>1</td>\n",
              "      <td>1</td>\n",
              "      <td>0</td>\n",
              "      <td>0</td>\n",
              "      <td>0</td>\n",
              "      <td>0</td>\n",
              "      <td>0</td>\n",
              "      <td>0</td>\n",
              "      <td>0</td>\n",
              "      <td>0</td>\n",
              "      <td>0</td>\n",
              "      <td>0</td>\n",
              "      <td>0</td>\n",
              "      <td>0</td>\n",
              "      <td>0</td>\n",
              "      <td>1</td>\n",
              "      <td>0</td>\n",
              "      <td>0</td>\n",
              "      <td>0</td>\n",
              "      <td>0</td>\n",
              "      <td>0</td>\n",
              "      <td>1</td>\n",
              "      <td>0</td>\n",
              "      <td>0</td>\n",
              "      <td>0</td>\n",
              "      <td>1</td>\n",
              "      <td>0</td>\n",
              "      <td>1</td>\n",
              "      <td>0</td>\n",
              "      <td>0</td>\n",
              "      <td>0</td>\n",
              "      <td>0</td>\n",
              "      <td>0</td>\n",
              "    </tr>\n",
              "    <tr>\n",
              "      <th>...</th>\n",
              "      <td>...</td>\n",
              "      <td>...</td>\n",
              "      <td>...</td>\n",
              "      <td>...</td>\n",
              "      <td>...</td>\n",
              "      <td>...</td>\n",
              "      <td>...</td>\n",
              "      <td>...</td>\n",
              "      <td>...</td>\n",
              "      <td>...</td>\n",
              "      <td>...</td>\n",
              "      <td>...</td>\n",
              "      <td>...</td>\n",
              "      <td>...</td>\n",
              "      <td>...</td>\n",
              "      <td>...</td>\n",
              "      <td>...</td>\n",
              "      <td>...</td>\n",
              "      <td>...</td>\n",
              "      <td>...</td>\n",
              "      <td>...</td>\n",
              "      <td>...</td>\n",
              "      <td>...</td>\n",
              "      <td>...</td>\n",
              "      <td>...</td>\n",
              "      <td>...</td>\n",
              "      <td>...</td>\n",
              "      <td>...</td>\n",
              "      <td>...</td>\n",
              "      <td>...</td>\n",
              "      <td>...</td>\n",
              "      <td>...</td>\n",
              "      <td>...</td>\n",
              "      <td>...</td>\n",
              "      <td>...</td>\n",
              "      <td>...</td>\n",
              "      <td>...</td>\n",
              "    </tr>\n",
              "    <tr>\n",
              "      <th>2021-10-27 18:50:00</th>\n",
              "      <td>0.571429</td>\n",
              "      <td>0.20202</td>\n",
              "      <td>0.562220</td>\n",
              "      <td>0.657578</td>\n",
              "      <td>1</td>\n",
              "      <td>0</td>\n",
              "      <td>1</td>\n",
              "      <td>0</td>\n",
              "      <td>0</td>\n",
              "      <td>0</td>\n",
              "      <td>0</td>\n",
              "      <td>0</td>\n",
              "      <td>0</td>\n",
              "      <td>0</td>\n",
              "      <td>0</td>\n",
              "      <td>0</td>\n",
              "      <td>0</td>\n",
              "      <td>1</td>\n",
              "      <td>0</td>\n",
              "      <td>0</td>\n",
              "      <td>0</td>\n",
              "      <td>0</td>\n",
              "      <td>0</td>\n",
              "      <td>0</td>\n",
              "      <td>0</td>\n",
              "      <td>1</td>\n",
              "      <td>0</td>\n",
              "      <td>0</td>\n",
              "      <td>0</td>\n",
              "      <td>1</td>\n",
              "      <td>0</td>\n",
              "      <td>0</td>\n",
              "      <td>0</td>\n",
              "      <td>0</td>\n",
              "      <td>0</td>\n",
              "      <td>1</td>\n",
              "      <td>0</td>\n",
              "    </tr>\n",
              "    <tr>\n",
              "      <th>2021-10-27 19:53:00</th>\n",
              "      <td>0.500000</td>\n",
              "      <td>0.20082</td>\n",
              "      <td>0.533572</td>\n",
              "      <td>0.687063</td>\n",
              "      <td>1</td>\n",
              "      <td>0</td>\n",
              "      <td>0</td>\n",
              "      <td>0</td>\n",
              "      <td>1</td>\n",
              "      <td>0</td>\n",
              "      <td>0</td>\n",
              "      <td>0</td>\n",
              "      <td>0</td>\n",
              "      <td>0</td>\n",
              "      <td>0</td>\n",
              "      <td>0</td>\n",
              "      <td>0</td>\n",
              "      <td>0</td>\n",
              "      <td>0</td>\n",
              "      <td>0</td>\n",
              "      <td>0</td>\n",
              "      <td>0</td>\n",
              "      <td>0</td>\n",
              "      <td>0</td>\n",
              "      <td>1</td>\n",
              "      <td>0</td>\n",
              "      <td>0</td>\n",
              "      <td>0</td>\n",
              "      <td>0</td>\n",
              "      <td>1</td>\n",
              "      <td>0</td>\n",
              "      <td>0</td>\n",
              "      <td>1</td>\n",
              "      <td>0</td>\n",
              "      <td>0</td>\n",
              "      <td>0</td>\n",
              "      <td>0</td>\n",
              "    </tr>\n",
              "    <tr>\n",
              "      <th>2021-10-27 20:34:00</th>\n",
              "      <td>0.357143</td>\n",
              "      <td>0.20002</td>\n",
              "      <td>0.551871</td>\n",
              "      <td>0.662663</td>\n",
              "      <td>0</td>\n",
              "      <td>0</td>\n",
              "      <td>1</td>\n",
              "      <td>0</td>\n",
              "      <td>0</td>\n",
              "      <td>0</td>\n",
              "      <td>0</td>\n",
              "      <td>0</td>\n",
              "      <td>0</td>\n",
              "      <td>0</td>\n",
              "      <td>0</td>\n",
              "      <td>0</td>\n",
              "      <td>0</td>\n",
              "      <td>0</td>\n",
              "      <td>0</td>\n",
              "      <td>0</td>\n",
              "      <td>0</td>\n",
              "      <td>0</td>\n",
              "      <td>0</td>\n",
              "      <td>0</td>\n",
              "      <td>1</td>\n",
              "      <td>0</td>\n",
              "      <td>0</td>\n",
              "      <td>0</td>\n",
              "      <td>0</td>\n",
              "      <td>0</td>\n",
              "      <td>0</td>\n",
              "      <td>0</td>\n",
              "      <td>0</td>\n",
              "      <td>1</td>\n",
              "      <td>0</td>\n",
              "      <td>0</td>\n",
              "      <td>0</td>\n",
              "    </tr>\n",
              "    <tr>\n",
              "      <th>2021-10-27 21:09:00</th>\n",
              "      <td>0.500000</td>\n",
              "      <td>0.20202</td>\n",
              "      <td>0.593696</td>\n",
              "      <td>0.630336</td>\n",
              "      <td>0</td>\n",
              "      <td>0</td>\n",
              "      <td>1</td>\n",
              "      <td>0</td>\n",
              "      <td>0</td>\n",
              "      <td>0</td>\n",
              "      <td>0</td>\n",
              "      <td>0</td>\n",
              "      <td>0</td>\n",
              "      <td>0</td>\n",
              "      <td>0</td>\n",
              "      <td>0</td>\n",
              "      <td>0</td>\n",
              "      <td>0</td>\n",
              "      <td>0</td>\n",
              "      <td>0</td>\n",
              "      <td>1</td>\n",
              "      <td>0</td>\n",
              "      <td>0</td>\n",
              "      <td>1</td>\n",
              "      <td>0</td>\n",
              "      <td>1</td>\n",
              "      <td>0</td>\n",
              "      <td>0</td>\n",
              "      <td>0</td>\n",
              "      <td>1</td>\n",
              "      <td>0</td>\n",
              "      <td>0</td>\n",
              "      <td>1</td>\n",
              "      <td>0</td>\n",
              "      <td>0</td>\n",
              "      <td>0</td>\n",
              "      <td>0</td>\n",
              "    </tr>\n",
              "    <tr>\n",
              "      <th>2021-10-28 07:19:00</th>\n",
              "      <td>0.500000</td>\n",
              "      <td>0.20192</td>\n",
              "      <td>0.586222</td>\n",
              "      <td>0.633027</td>\n",
              "      <td>0</td>\n",
              "      <td>1</td>\n",
              "      <td>0</td>\n",
              "      <td>0</td>\n",
              "      <td>0</td>\n",
              "      <td>0</td>\n",
              "      <td>0</td>\n",
              "      <td>0</td>\n",
              "      <td>0</td>\n",
              "      <td>0</td>\n",
              "      <td>0</td>\n",
              "      <td>0</td>\n",
              "      <td>1</td>\n",
              "      <td>0</td>\n",
              "      <td>0</td>\n",
              "      <td>0</td>\n",
              "      <td>0</td>\n",
              "      <td>0</td>\n",
              "      <td>1</td>\n",
              "      <td>0</td>\n",
              "      <td>0</td>\n",
              "      <td>0</td>\n",
              "      <td>0</td>\n",
              "      <td>1</td>\n",
              "      <td>0</td>\n",
              "      <td>1</td>\n",
              "      <td>0</td>\n",
              "      <td>0</td>\n",
              "      <td>0</td>\n",
              "      <td>0</td>\n",
              "      <td>0</td>\n",
              "      <td>1</td>\n",
              "      <td>0</td>\n",
              "    </tr>\n",
              "  </tbody>\n",
              "</table>\n",
              "<p>51490 rows × 37 columns</p>\n",
              "</div>"
            ],
            "text/plain": [
              "                     Speed Limit  ...  Equipment Problems_OTHERS\n",
              "Crash Date/Time                   ...                           \n",
              "2015-01-01 00:30:00     0.500000  ...                          0\n",
              "2015-01-01 01:10:00     0.571429  ...                          0\n",
              "2015-01-01 01:14:00     0.571429  ...                          0\n",
              "2015-01-01 01:14:00     0.500000  ...                          0\n",
              "2015-01-01 01:26:00     0.500000  ...                          0\n",
              "...                          ...  ...                        ...\n",
              "2021-10-27 18:50:00     0.571429  ...                          0\n",
              "2021-10-27 19:53:00     0.500000  ...                          0\n",
              "2021-10-27 20:34:00     0.357143  ...                          0\n",
              "2021-10-27 21:09:00     0.500000  ...                          0\n",
              "2021-10-28 07:19:00     0.500000  ...                          0\n",
              "\n",
              "[51490 rows x 37 columns]"
            ]
          },
          "metadata": {},
          "execution_count": 195
        }
      ]
    },
    {
      "cell_type": "code",
      "metadata": {
        "id": "Ot-kbubciTyz"
      },
      "source": [
        "import xgboost as xgb\n",
        "from sklearn.ensemble import StackingClassifier\n",
        "from sklearn.linear_model import LogisticRegression\n",
        "estimators = [\n",
        "              ('xgb', xgb.XGBClassifier(n_estimators=150, \n",
        "                                        learning_rate=0.1, \n",
        "                                        objective='binary:logistic'))\n",
        "            ]\n",
        "clf = StackingClassifier(\n",
        "      estimators=estimators, final_estimator=LogisticRegression()\n",
        "    )"
      ],
      "execution_count": 196,
      "outputs": []
    },
    {
      "cell_type": "code",
      "metadata": {
        "id": "dU9HVHZ7icdA"
      },
      "source": [
        "clf.fit(X_hotenc_train, y_hotenc_train)\n",
        "preds = clf.predict(df_test_Hotenc)"
      ],
      "execution_count": 197,
      "outputs": []
    },
    {
      "cell_type": "code",
      "metadata": {
        "id": "h-00R9SKisn5"
      },
      "source": [
        "submission = pd.DataFrame()\n",
        "submission['Id'] = test_id\n",
        "submission['Fault'] = preds"
      ],
      "execution_count": 198,
      "outputs": []
    },
    {
      "cell_type": "code",
      "metadata": {
        "id": "GIFKO8uji0no"
      },
      "source": [
        "submission.to_csv('STACK_oneHot_xgb_lr_clf.csv', index=False)"
      ],
      "execution_count": 199,
      "outputs": []
    },
    {
      "cell_type": "code",
      "metadata": {
        "colab": {
          "base_uri": "https://localhost:8080/"
        },
        "id": "rNfKxCYF6osY",
        "outputId": "87982b4d-5765-4ced-94dc-da85437cd94c"
      },
      "source": [
        "!pip install category_encoders"
      ],
      "execution_count": 200,
      "outputs": [
        {
          "output_type": "stream",
          "name": "stdout",
          "text": [
            "Requirement already satisfied: category_encoders in /usr/local/lib/python3.7/dist-packages (2.3.0)\n",
            "Requirement already satisfied: statsmodels>=0.9.0 in /usr/local/lib/python3.7/dist-packages (from category_encoders) (0.10.2)\n",
            "Requirement already satisfied: scikit-learn>=0.20.0 in /usr/local/lib/python3.7/dist-packages (from category_encoders) (0.22.2.post1)\n",
            "Requirement already satisfied: pandas>=0.21.1 in /usr/local/lib/python3.7/dist-packages (from category_encoders) (1.1.5)\n",
            "Requirement already satisfied: patsy>=0.5.1 in /usr/local/lib/python3.7/dist-packages (from category_encoders) (0.5.2)\n",
            "Requirement already satisfied: scipy>=1.0.0 in /usr/local/lib/python3.7/dist-packages (from category_encoders) (1.4.1)\n",
            "Requirement already satisfied: numpy>=1.14.0 in /usr/local/lib/python3.7/dist-packages (from category_encoders) (1.19.5)\n",
            "Requirement already satisfied: python-dateutil>=2.7.3 in /usr/local/lib/python3.7/dist-packages (from pandas>=0.21.1->category_encoders) (2.8.2)\n",
            "Requirement already satisfied: pytz>=2017.2 in /usr/local/lib/python3.7/dist-packages (from pandas>=0.21.1->category_encoders) (2018.9)\n",
            "Requirement already satisfied: six in /usr/local/lib/python3.7/dist-packages (from patsy>=0.5.1->category_encoders) (1.15.0)\n",
            "Requirement already satisfied: joblib>=0.11 in /usr/local/lib/python3.7/dist-packages (from scikit-learn>=0.20.0->category_encoders) (1.1.0)\n"
          ]
        }
      ]
    },
    {
      "cell_type": "code",
      "metadata": {
        "id": "MJgLwUL44jeB"
      },
      "source": [
        "import category_encoders\n",
        "from category_encoders import TargetEncoder\n",
        "t_encoder = TargetEncoder()"
      ],
      "execution_count": 201,
      "outputs": []
    },
    {
      "cell_type": "code",
      "metadata": {
        "id": "5ddWG0Hz56i4"
      },
      "source": [
        "X_tarenc_train, y_tarenc_train = df_train.drop(['Fault'], axis=1), df_train.Fault\n",
        "X_tarenc_test = df_test"
      ],
      "execution_count": 202,
      "outputs": []
    },
    {
      "cell_type": "code",
      "metadata": {
        "colab": {
          "base_uri": "https://localhost:8080/"
        },
        "id": "GN1e9eYLqvmf",
        "outputId": "104f9b85-8746-4dcf-9875-3ed50a59246d"
      },
      "source": [
        "print(X_tarenc_train.shape)\n",
        "print(X_tarenc_test.shape)"
      ],
      "execution_count": 203,
      "outputs": [
        {
          "output_type": "stream",
          "name": "stdout",
          "text": [
            "(51490, 16)\n",
            "(77235, 16)\n"
          ]
        }
      ]
    },
    {
      "cell_type": "code",
      "metadata": {
        "id": "VwIPreSblrHP"
      },
      "source": [
        "X_tarenc_train[['Speed Limit','Vehicle Year','Latitude','Longitude']] = min_max_scaler.fit_transform(X_tarenc_train[['Speed Limit','Vehicle Year','Latitude','Longitude']])\n",
        "X_tarenc_test[['Speed Limit','Vehicle Year','Latitude','Longitude']] = min_max_scaler.fit_transform(X_tarenc_test[['Speed Limit','Vehicle Year','Latitude','Longitude']])"
      ],
      "execution_count": 205,
      "outputs": []
    },
    {
      "cell_type": "code",
      "metadata": {
        "colab": {
          "base_uri": "https://localhost:8080/"
        },
        "id": "zgUKVlSd7YIF",
        "outputId": "e9fa202e-e5f5-44b5-9afa-65895fbb54ae"
      },
      "source": [
        "print(X_tarenc_train.shape)\n",
        "print(y_tarenc_train.shape)\n",
        "print(X_tarenc_test.shape)"
      ],
      "execution_count": 206,
      "outputs": [
        {
          "output_type": "stream",
          "name": "stdout",
          "text": [
            "(51490, 16)\n",
            "(51490,)\n",
            "(77235, 16)\n"
          ]
        }
      ]
    },
    {
      "cell_type": "code",
      "metadata": {
        "colab": {
          "base_uri": "https://localhost:8080/"
        },
        "id": "Vz68-RYh7ohC",
        "outputId": "290693c9-c8cf-4954-a8ca-2c233fd0f524"
      },
      "source": [
        "t_encoder.fit(X_tarenc_train, y_tarenc_train)"
      ],
      "execution_count": 207,
      "outputs": [
        {
          "output_type": "execute_result",
          "data": {
            "text/plain": [
              "TargetEncoder(cols=['ACRS Report Type', 'Collision Type', 'Weather',\n",
              "                    'Surface Condition', 'Light', 'Traffic Control',\n",
              "                    'Driver Substance Abuse', 'Injury Severity',\n",
              "                    'Vehicle Damage Extent', 'Vehicle Body Type',\n",
              "                    'Vehicle Movement', 'Equipment Problems'],\n",
              "              drop_invariant=False, handle_missing='value',\n",
              "              handle_unknown='value', min_samples_leaf=1, return_df=True,\n",
              "              smoothing=1.0, verbose=0)"
            ]
          },
          "metadata": {},
          "execution_count": 207
        }
      ]
    },
    {
      "cell_type": "code",
      "metadata": {
        "id": "JJIwf_LiBAmp"
      },
      "source": [
        "X_tarenc_train = t_encoder.transform(X_tarenc_train)\n",
        "X_tarenc_test = t_encoder.transform(X_tarenc_test)"
      ],
      "execution_count": 208,
      "outputs": []
    },
    {
      "cell_type": "code",
      "metadata": {
        "id": "j98R7UvzU9fD"
      },
      "source": [
        "clf.fit(X_tarenc_train, y_tarenc_train)\n",
        "preds = clf.predict(X_tarenc_test)"
      ],
      "execution_count": null,
      "outputs": []
    },
    {
      "cell_type": "code",
      "metadata": {
        "id": "GsxH5JFVVBKu"
      },
      "source": [
        "submission = pd.DataFrame()\n",
        "submission['Id'] = test_id\n",
        "submission['Fault'] = preds"
      ],
      "execution_count": null,
      "outputs": []
    },
    {
      "cell_type": "code",
      "metadata": {
        "id": "7Ts2FN0oVC1O"
      },
      "source": [
        "submission.to_csv('STACK_tarenc_xgb_lr_clf.csv', index=False)"
      ],
      "execution_count": null,
      "outputs": []
    }
  ]
}