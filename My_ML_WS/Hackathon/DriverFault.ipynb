{
  "nbformat": 4,
  "nbformat_minor": 0,
  "metadata": {
    "colab": {
      "name": "DriverFault.ipynb",
      "provenance": []
    },
    "kernelspec": {
      "name": "python3",
      "display_name": "Python 3"
    },
    "language_info": {
      "name": "python"
    },
    "accelerator": "GPU"
  },
  "cells": [
    {
      "cell_type": "markdown",
      "metadata": {
        "id": "lrZDZc7WDCMo"
      },
      "source": [
        "# Data Exploration"
      ]
    },
    {
      "cell_type": "code",
      "metadata": {
        "colab": {
          "base_uri": "https://localhost:8080/",
          "height": 1000
        },
        "id": "t9kRcLqTDFaK",
        "outputId": "0286aa53-47f8-4e83-a050-79d8dfbbf3e3"
      },
      "source": [
        "import matplotlib.pyplot as plt\n",
        "import numpy as np\n",
        "import pandas as pd\n",
        "import seaborn as sns\n",
        "\n",
        "df_train = pd.read_csv(\"train.csv\")\n",
        "df_test = pd.read_csv(\"test.csv\")\n",
        "print(df_train.info())\n",
        "print(df_train.describe())\n",
        "sns.pairplot(df_train)"
      ],
      "execution_count": 109,
      "outputs": [
        {
          "output_type": "stream",
          "name": "stderr",
          "text": [
            "/usr/local/lib/python3.7/dist-packages/IPython/core/interactiveshell.py:2718: DtypeWarning: Columns (2) have mixed types.Specify dtype option on import or set low_memory=False.\n",
            "  interactivity=interactivity, compiler=compiler, result=result)\n"
          ]
        },
        {
          "output_type": "stream",
          "name": "stdout",
          "text": [
            "<class 'pandas.core.frame.DataFrame'>\n",
            "RangeIndex: 51490 entries, 0 to 51489\n",
            "Data columns (total 42 columns):\n",
            " #   Column                          Non-Null Count  Dtype  \n",
            "---  ------                          --------------  -----  \n",
            " 0   Report Number                   51490 non-null  object \n",
            " 1   Local Case Number               45037 non-null  object \n",
            " 2   Agency Name                     51490 non-null  object \n",
            " 3   ACRS Report Type                51490 non-null  object \n",
            " 4   Crash Date/Time                 51490 non-null  object \n",
            " 5   Route Type                      46522 non-null  object \n",
            " 6   Road Name                       46988 non-null  object \n",
            " 7   Cross-Street Type               46471 non-null  object \n",
            " 8   Cross-Street Name               46968 non-null  object \n",
            " 9   Off-Road Description            6950 non-null   object \n",
            " 10  Municipality                    7567 non-null   object \n",
            " 11  Related Non-Motorist            3648 non-null   object \n",
            " 12  Collision Type                  51191 non-null  object \n",
            " 13  Weather                         47461 non-null  object \n",
            " 14  Surface Condition               45611 non-null  object \n",
            " 15  Light                           50786 non-null  object \n",
            " 16  Traffic Control                 43716 non-null  object \n",
            " 17  Driver Substance Abuse          42395 non-null  object \n",
            " 18  Non-Motorist Substance Abuse    3384 non-null   object \n",
            " 19  Person ID                       51490 non-null  object \n",
            " 20  Injury Severity                 51490 non-null  object \n",
            " 21  Circumstance                    11752 non-null  object \n",
            " 22  Drivers License State           48962 non-null  object \n",
            " 23  Vehicle ID                      51490 non-null  object \n",
            " 24  Vehicle Damage Extent           51093 non-null  object \n",
            " 25  Vehicle First Impact Location   51268 non-null  object \n",
            " 26  Vehicle Second Impact Location  51256 non-null  object \n",
            " 27  Vehicle Body Type               50705 non-null  object \n",
            " 28  Vehicle Movement                51292 non-null  object \n",
            " 29  Vehicle Continuing Dir          50361 non-null  object \n",
            " 30  Vehicle Going Dir               50377 non-null  object \n",
            " 31  Speed Limit                     51490 non-null  int64  \n",
            " 32  Driverless Vehicle              51490 non-null  object \n",
            " 33  Parked Vehicle                  51490 non-null  object \n",
            " 34  Vehicle Year                    51490 non-null  int64  \n",
            " 35  Vehicle Make                    51482 non-null  object \n",
            " 36  Vehicle Model                   51471 non-null  object \n",
            " 37  Equipment Problems              40824 non-null  object \n",
            " 38  Latitude                        51490 non-null  float64\n",
            " 39  Longitude                       51490 non-null  float64\n",
            " 40  Location                        51490 non-null  object \n",
            " 41  Fault                           51490 non-null  int64  \n",
            "dtypes: float64(2), int64(3), object(37)\n",
            "memory usage: 16.5+ MB\n",
            "None\n",
            "        Speed Limit  Vehicle Year      Latitude     Longitude         Fault\n",
            "count  51490.000000  51490.000000  51490.000000  51490.000000  51490.000000\n",
            "mean      32.895319   1974.545465     39.082783    -77.112688      0.550204\n",
            "std       11.696668    483.279428      0.072062      0.098300      0.497478\n",
            "min        0.000000      0.000000     38.008120    -79.486000      0.000000\n",
            "25%       25.000000   2005.000000     39.023974    -77.188926      0.000000\n",
            "50%       35.000000   2010.000000     39.074522    -77.105670      1.000000\n",
            "75%       40.000000   2014.000000     39.139685    -77.040114      1.000000\n",
            "max       70.000000   9999.000000     39.989747    -75.975952      1.000000\n"
          ]
        },
        {
          "output_type": "execute_result",
          "data": {
            "text/plain": [
              "<seaborn.axisgrid.PairGrid at 0x7f87f29f8b50>"
            ]
          },
          "metadata": {},
          "execution_count": 109
        },
        {
          "output_type": "display_data",
          "data": {
            "image/png": "[encoded data removed]",
            "text/plain": [
              "<Figure size 900x900 with 30 Axes>"
            ]
          },
          "metadata": {
            "needs_background": "light"
          }
        }
      ]
    },
    {
      "cell_type": "markdown",
      "metadata": {
        "id": "_fGNMvV3I3fc"
      },
      "source": [
        "# Data Cleaning and Preprocessing"
      ]
    },
    {
      "cell_type": "markdown",
      "metadata": {
        "id": "Ybbrd1kCFON2"
      },
      "source": [
        "Dates weren't recorded in a format understood by matplotlib so change it to pandas.to_datetime function."
      ]
    },
    {
      "cell_type": "code",
      "metadata": {
        "id": "AfM5iNTFEHKj"
      },
      "source": [
        "df_train[\"Crash Date/Time\"] = pd.to_datetime(df_train[\"Crash Date/Time\"])\n",
        "df_train.set_index('Crash Date/Time', inplace=True)\n",
        "df_train.sort_index(inplace=True)\n",
        "\n",
        "df_test[\"Crash Date/Time\"] = pd.to_datetime(df_test[\"Crash Date/Time\"])\n",
        "df_test.set_index('Crash Date/Time', inplace=True)\n",
        "df_test.sort_index(inplace=True)"
      ],
      "execution_count": 110,
      "outputs": []
    },
    {
      "cell_type": "markdown",
      "metadata": {
        "id": "UwNCtAjcaPDE"
      },
      "source": [
        "Many of the columns have null values. We will look at the fraction of NA values in the columns in descending order."
      ]
    },
    {
      "cell_type": "code",
      "metadata": {
        "colab": {
          "base_uri": "https://localhost:8080/"
        },
        "id": "N__WSkCOaWOa",
        "outputId": "af432d16-0c1c-4933-9967-79a02baeb6b8"
      },
      "source": [
        "df_train.isna().sum().sort_values(ascending=False)/len(df_train)"
      ],
      "execution_count": 111,
      "outputs": [
        {
          "output_type": "execute_result",
          "data": {
            "text/plain": [
              "Non-Motorist Substance Abuse      0.934279\n",
              "Related Non-Motorist              0.929151\n",
              "Off-Road Description              0.865022\n",
              "Municipality                      0.853039\n",
              "Circumstance                      0.771762\n",
              "Equipment Problems                0.207147\n",
              "Driver Substance Abuse            0.176636\n",
              "Traffic Control                   0.150981\n",
              "Local Case Number                 0.125325\n",
              "Surface Condition                 0.114178\n",
              "Cross-Street Type                 0.097475\n",
              "Route Type                        0.096485\n",
              "Cross-Street Name                 0.087823\n",
              "Road Name                         0.087434\n",
              "Weather                           0.078248\n",
              "Drivers License State             0.049097\n",
              "Vehicle Continuing Dir            0.021927\n",
              "Vehicle Going Dir                 0.021616\n",
              "Vehicle Body Type                 0.015246\n",
              "Light                             0.013673\n",
              "Vehicle Damage Extent             0.007710\n",
              "Collision Type                    0.005807\n",
              "Vehicle Second Impact Location    0.004545\n",
              "Vehicle First Impact Location     0.004312\n",
              "Vehicle Movement                  0.003845\n",
              "Vehicle Model                     0.000369\n",
              "Vehicle Make                      0.000155\n",
              "ACRS Report Type                  0.000000\n",
              "Agency Name                       0.000000\n",
              "Fault                             0.000000\n",
              "Person ID                         0.000000\n",
              "Injury Severity                   0.000000\n",
              "Location                          0.000000\n",
              "Vehicle ID                        0.000000\n",
              "Speed Limit                       0.000000\n",
              "Driverless Vehicle                0.000000\n",
              "Parked Vehicle                    0.000000\n",
              "Vehicle Year                      0.000000\n",
              "Latitude                          0.000000\n",
              "Longitude                         0.000000\n",
              "Report Number                     0.000000\n",
              "dtype: float64"
            ]
          },
          "metadata": {},
          "execution_count": 111
        }
      ]
    },
    {
      "cell_type": "markdown",
      "metadata": {
        "id": "O-4aRm-rc07p"
      },
      "source": [
        "We are going to drop the columns which have more than 75% NA values in them"
      ]
    },
    {
      "cell_type": "code",
      "metadata": {
        "id": "h3H_Q_89cbcz"
      },
      "source": [
        "df_train.drop(columns=['Off-Road Description', 'Municipality', \n",
        "                       'Related Non-Motorist', 'Circumstance', \n",
        "                       'Non-Motorist Substance Abuse'], axis=1, inplace=True)"
      ],
      "execution_count": 112,
      "outputs": []
    },
    {
      "cell_type": "code",
      "metadata": {
        "id": "IgDcDs0Kdjw0"
      },
      "source": [
        "df_test.drop(columns=['Off-Road Description', 'Municipality', \n",
        "                      'Related Non-Motorist', 'Circumstance', \n",
        "                      'Non-Motorist Substance Abuse'], axis=1, inplace=True)"
      ],
      "execution_count": 113,
      "outputs": []
    },
    {
      "cell_type": "markdown",
      "metadata": {
        "id": "iQ_qYBuGdVlR"
      },
      "source": [
        "Next we will replace some values with nan values which are common throughout the dataset and may indicate missing data. "
      ]
    },
    {
      "cell_type": "code",
      "metadata": {
        "id": "OEwTLYobdZb1"
      },
      "source": [
        "df_train.replace(['UNKNOWN','Unknown','OTHER'], np.nan, inplace=True)"
      ],
      "execution_count": 114,
      "outputs": []
    },
    {
      "cell_type": "code",
      "metadata": {
        "id": "EGICa9gPd2ip"
      },
      "source": [
        "df_test.replace(['UNKNOWN','Unknown','OTHER'], np.nan, inplace=True)"
      ],
      "execution_count": 115,
      "outputs": []
    },
    {
      "cell_type": "markdown",
      "metadata": {
        "id": "SYmOxEY_arsq"
      },
      "source": [
        "Let check empty strings"
      ]
    },
    {
      "cell_type": "code",
      "metadata": {
        "colab": {
          "base_uri": "https://localhost:8080/"
        },
        "id": "cDEFgiAcav45",
        "outputId": "bf6d5f12-f879-4535-fc4b-835c60e5974b"
      },
      "source": [
        "df_train.select_dtypes(include='object').apply(lambda x: x.eq('')).sum()"
      ],
      "execution_count": 116,
      "outputs": [
        {
          "output_type": "execute_result",
          "data": {
            "text/plain": [
              "Report Number                     0\n",
              "Local Case Number                 0\n",
              "Agency Name                       0\n",
              "ACRS Report Type                  0\n",
              "Route Type                        0\n",
              "Road Name                         0\n",
              "Cross-Street Type                 0\n",
              "Cross-Street Name                 0\n",
              "Collision Type                    0\n",
              "Weather                           0\n",
              "Surface Condition                 0\n",
              "Light                             0\n",
              "Traffic Control                   0\n",
              "Driver Substance Abuse            0\n",
              "Person ID                         0\n",
              "Injury Severity                   0\n",
              "Drivers License State             0\n",
              "Vehicle ID                        0\n",
              "Vehicle Damage Extent             0\n",
              "Vehicle First Impact Location     0\n",
              "Vehicle Second Impact Location    0\n",
              "Vehicle Body Type                 0\n",
              "Vehicle Movement                  0\n",
              "Vehicle Continuing Dir            0\n",
              "Vehicle Going Dir                 0\n",
              "Driverless Vehicle                0\n",
              "Parked Vehicle                    0\n",
              "Vehicle Make                      0\n",
              "Vehicle Model                     0\n",
              "Equipment Problems                0\n",
              "Location                          0\n",
              "dtype: int64"
            ]
          },
          "metadata": {},
          "execution_count": 116
        }
      ]
    },
    {
      "cell_type": "markdown",
      "metadata": {
        "id": "GGDztjoza_Or"
      },
      "source": [
        "No empty strings found in the data"
      ]
    },
    {
      "cell_type": "markdown",
      "metadata": {
        "id": "F7CdlGWJbQrp"
      },
      "source": [
        "We can see speed Limit column has values like 0 which may indicate bad data or no speed limit. Speed with 5 units may indicate collisions in a place like parking lot."
      ]
    },
    {
      "cell_type": "code",
      "metadata": {
        "colab": {
          "base_uri": "https://localhost:8080/",
          "height": 301
        },
        "id": "x2ISKhO3bTz2",
        "outputId": "03130487-fd31-4b08-9ba5-6d5ff25cb9e1"
      },
      "source": [
        "df_train['Speed Limit'].value_counts().sort_index().plot.bar().set(title='Accidents by Speed Limit')"
      ],
      "execution_count": 117,
      "outputs": [
        {
          "output_type": "execute_result",
          "data": {
            "text/plain": [
              "[Text(0.5, 1.0, 'Accidents by Speed Limit')]"
            ]
          },
          "metadata": {},
          "execution_count": 117
        },
        {
          "output_type": "display_data",
          "data": {
            "image/png": "[encoded data removed]",
            "text/plain": [
              "<Figure size 432x288 with 1 Axes>"
            ]
          },
          "metadata": {
            "needs_background": "light"
          }
        }
      ]
    },
    {
      "cell_type": "markdown",
      "metadata": {
        "id": "51-CAhWIjk0a"
      },
      "source": [
        "* Find max and min longitude and latitude from test data so that we can trim train data accordingly"
      ]
    },
    {
      "cell_type": "code",
      "metadata": {
        "colab": {
          "base_uri": "https://localhost:8080/"
        },
        "id": "iN5YRE8ejigO",
        "outputId": "2f686f5f-0834-47ca-bdbc-73ec508d7b27"
      },
      "source": [
        "print('Test Data')\n",
        "max_lon = max(df_test['Longitude'])\n",
        "min_lon = min(df_test['Longitude'])\n",
        "max_lat = max(df_test['Latitude'])\n",
        "min_lat = min(df_test['Latitude'])\n",
        "print('Longitude: ',min_lon, ', ', max_lon)\n",
        "print('Latitude: ',min_lat, ', ', max_lat)"
      ],
      "execution_count": 118,
      "outputs": [
        {
          "output_type": "stream",
          "name": "stdout",
          "text": [
            "Test Data\n",
            "Longitude:  -79.486 ,  -75.52770787\n",
            "Latitude:  37.72 ,  39.990414\n"
          ]
        }
      ]
    },
    {
      "cell_type": "code",
      "metadata": {
        "colab": {
          "base_uri": "https://localhost:8080/"
        },
        "id": "FTJo2lTVk0YF",
        "outputId": "49266b11-e09b-465b-e0fd-cb0b2a9f927a"
      },
      "source": [
        "print('Train Data')\n",
        "max_lon = max(df_train['Longitude'])\n",
        "min_lon = min(df_train['Longitude'])\n",
        "max_lat = max(df_train['Latitude'])\n",
        "min_lat = min(df_train['Latitude'])\n",
        "print('Longitude: ',min_lon, ', ', max_lon)\n",
        "print('Latitude: ',min_lat, ', ', max_lat)"
      ],
      "execution_count": 119,
      "outputs": [
        {
          "output_type": "stream",
          "name": "stdout",
          "text": [
            "Train Data\n",
            "Longitude:  -79.486 ,  -75.97595215\n",
            "Latitude:  38.00812 ,  39.98974718\n"
          ]
        }
      ]
    },
    {
      "cell_type": "markdown",
      "metadata": {
        "id": "z9jA-7sClSWC"
      },
      "source": [
        "Both Train and Test Data is almost from same area/distribution"
      ]
    },
    {
      "cell_type": "code",
      "metadata": {
        "colab": {
          "base_uri": "https://localhost:8080/"
        },
        "id": "EluWmmAgJmBv",
        "outputId": "925423ad-16eb-4ad7-ace8-7d2f7d2d7d9c"
      },
      "source": [
        "df_train.isna().sum().sort_values(ascending=False)/len(df_train)"
      ],
      "execution_count": 120,
      "outputs": [
        {
          "output_type": "execute_result",
          "data": {
            "text/plain": [
              "Equipment Problems                0.292542\n",
              "Driver Substance Abuse            0.246650\n",
              "Cross-Street Type                 0.174345\n",
              "Traffic Control                   0.171664\n",
              "Surface Condition                 0.125520\n",
              "Local Case Number                 0.125325\n",
              "Collision Type                    0.117926\n",
              "Route Type                        0.100563\n",
              "Weather                           0.090911\n",
              "Cross-Street Name                 0.087823\n",
              "Road Name                         0.087434\n",
              "Vehicle Continuing Dir            0.060303\n",
              "Vehicle Going Dir                 0.056535\n",
              "Vehicle Damage Extent             0.053875\n",
              "Drivers License State             0.049097\n",
              "Vehicle Body Type                 0.033754\n",
              "Light                             0.030278\n",
              "Driverless Vehicle                0.027015\n",
              "Vehicle Movement                  0.025830\n",
              "Vehicle Second Impact Location    0.021985\n",
              "Vehicle First Impact Location     0.021635\n",
              "Vehicle Model                     0.019849\n",
              "Vehicle Make                      0.019013\n",
              "ACRS Report Type                  0.000000\n",
              "Agency Name                       0.000000\n",
              "Fault                             0.000000\n",
              "Vehicle ID                        0.000000\n",
              "Person ID                         0.000000\n",
              "Injury Severity                   0.000000\n",
              "Location                          0.000000\n",
              "Speed Limit                       0.000000\n",
              "Parked Vehicle                    0.000000\n",
              "Vehicle Year                      0.000000\n",
              "Latitude                          0.000000\n",
              "Longitude                         0.000000\n",
              "Report Number                     0.000000\n",
              "dtype: float64"
            ]
          },
          "metadata": {},
          "execution_count": 120
        }
      ]
    },
    {
      "cell_type": "markdown",
      "metadata": {
        "id": "M31pu678m4aw"
      },
      "source": [
        "* Replace NA values of corresponding columns with their MODE"
      ]
    },
    {
      "cell_type": "code",
      "metadata": {
        "id": "ci-8A1GRmiUz"
      },
      "source": [
        "for column in df_train.columns:\n",
        "  df_train[column].fillna(df_train[column].mode()[0], inplace=True)"
      ],
      "execution_count": 121,
      "outputs": []
    },
    {
      "cell_type": "code",
      "metadata": {
        "colab": {
          "base_uri": "https://localhost:8080/"
        },
        "id": "gYM5JC5MnhiD",
        "outputId": "53638a20-2498-47e6-c00b-73fc2abd1d42"
      },
      "source": [
        "df_train.isna().sum().sort_values(ascending=False)/len(df_train)"
      ],
      "execution_count": 122,
      "outputs": [
        {
          "output_type": "execute_result",
          "data": {
            "text/plain": [
              "Fault                             0.0\n",
              "Location                          0.0\n",
              "Injury Severity                   0.0\n",
              "Person ID                         0.0\n",
              "Driver Substance Abuse            0.0\n",
              "Traffic Control                   0.0\n",
              "Light                             0.0\n",
              "Surface Condition                 0.0\n",
              "Weather                           0.0\n",
              "Collision Type                    0.0\n",
              "Cross-Street Name                 0.0\n",
              "Cross-Street Type                 0.0\n",
              "Road Name                         0.0\n",
              "Route Type                        0.0\n",
              "ACRS Report Type                  0.0\n",
              "Agency Name                       0.0\n",
              "Local Case Number                 0.0\n",
              "Drivers License State             0.0\n",
              "Vehicle ID                        0.0\n",
              "Vehicle Damage Extent             0.0\n",
              "Parked Vehicle                    0.0\n",
              "Longitude                         0.0\n",
              "Latitude                          0.0\n",
              "Equipment Problems                0.0\n",
              "Vehicle Model                     0.0\n",
              "Vehicle Make                      0.0\n",
              "Vehicle Year                      0.0\n",
              "Driverless Vehicle                0.0\n",
              "Vehicle First Impact Location     0.0\n",
              "Speed Limit                       0.0\n",
              "Vehicle Going Dir                 0.0\n",
              "Vehicle Continuing Dir            0.0\n",
              "Vehicle Movement                  0.0\n",
              "Vehicle Body Type                 0.0\n",
              "Vehicle Second Impact Location    0.0\n",
              "Report Number                     0.0\n",
              "dtype: float64"
            ]
          },
          "metadata": {},
          "execution_count": 122
        }
      ]
    },
    {
      "cell_type": "code",
      "metadata": {
        "colab": {
          "base_uri": "https://localhost:8080/"
        },
        "id": "Wxhdmxj7roD7",
        "outputId": "bb6439c8-6ba6-40bf-aea4-b374c5cdbc62"
      },
      "source": [
        "df_train['Vehicle Movement'].nunique()"
      ],
      "execution_count": 123,
      "outputs": [
        {
          "output_type": "execute_result",
          "data": {
            "text/plain": [
              "20"
            ]
          },
          "metadata": {},
          "execution_count": 123
        }
      ]
    },
    {
      "cell_type": "code",
      "metadata": {
        "colab": {
          "base_uri": "https://localhost:8080/"
        },
        "id": "lTZm44IYn75A",
        "outputId": "92fba5a5-a1aa-4d73-9932-96a6d859a5c6"
      },
      "source": [
        "df_train.columns"
      ],
      "execution_count": 124,
      "outputs": [
        {
          "output_type": "execute_result",
          "data": {
            "text/plain": [
              "Index(['Report Number', 'Local Case Number', 'Agency Name', 'ACRS Report Type',\n",
              "       'Route Type', 'Road Name', 'Cross-Street Type', 'Cross-Street Name',\n",
              "       'Collision Type', 'Weather', 'Surface Condition', 'Light',\n",
              "       'Traffic Control', 'Driver Substance Abuse', 'Person ID',\n",
              "       'Injury Severity', 'Drivers License State', 'Vehicle ID',\n",
              "       'Vehicle Damage Extent', 'Vehicle First Impact Location',\n",
              "       'Vehicle Second Impact Location', 'Vehicle Body Type',\n",
              "       'Vehicle Movement', 'Vehicle Continuing Dir', 'Vehicle Going Dir',\n",
              "       'Speed Limit', 'Driverless Vehicle', 'Parked Vehicle', 'Vehicle Year',\n",
              "       'Vehicle Make', 'Vehicle Model', 'Equipment Problems', 'Latitude',\n",
              "       'Longitude', 'Location', 'Fault'],\n",
              "      dtype='object')"
            ]
          },
          "metadata": {},
          "execution_count": 124
        }
      ]
    },
    {
      "cell_type": "markdown",
      "metadata": {
        "id": "bC2BR4SwnkS3"
      },
      "source": [
        "As we can see all NA values are replaced"
      ]
    },
    {
      "cell_type": "markdown",
      "metadata": {
        "id": "t_C6F844hBNi"
      },
      "source": [
        "Now let's drop all the columns which are having -  \n",
        "* Either only one unique value\n",
        "* Mostly all unique values\n"
      ]
    },
    {
      "cell_type": "code",
      "metadata": {
        "id": "W6U6POqzfrXs"
      },
      "source": [
        "df_train.drop([\n",
        "         'Driverless Vehicle', 'Report Number', 'Local Case Number', 'Agency Name',\n",
        "         'Cross-Street Name', 'Person ID', 'Vehicle ID', 'Vehicle Continuing Dir', \n",
        "         'Vehicle Going Dir', 'Location', 'Road Name', 'Drivers License State',\n",
        "         'Vehicle Make', 'Vehicle Model'], axis=1, inplace=True)"
      ],
      "execution_count": 125,
      "outputs": []
    },
    {
      "cell_type": "code",
      "metadata": {
        "id": "O7xiDdyiuNlk"
      },
      "source": [
        "df_test.drop([\n",
        "         'Driverless Vehicle', 'Report Number', 'Local Case Number', 'Agency Name',\n",
        "         'Cross-Street Name', 'Person ID', 'Vehicle ID', 'Vehicle Continuing Dir', \n",
        "         'Vehicle Going Dir', 'Location', 'Road Name', 'Drivers License State',\n",
        "         'Vehicle Make', 'Vehicle Model'], axis=1, inplace=True)"
      ],
      "execution_count": null,
      "outputs": []
    },
    {
      "cell_type": "code",
      "metadata": {
        "id": "B9Y_rFgCuXEO"
      },
      "source": [
        "test_id = df_test['Id']"
      ],
      "execution_count": 129,
      "outputs": []
    },
    {
      "cell_type": "code",
      "metadata": {
        "id": "FUY0YUIbuxT3"
      },
      "source": [
        "df_test.drop(['Id'], axis=1, inplace=True)"
      ],
      "execution_count": 130,
      "outputs": []
    },
    {
      "cell_type": "code",
      "metadata": {
        "colab": {
          "base_uri": "https://localhost:8080/"
        },
        "id": "JBcHCXDSu6EP",
        "outputId": "2c35d003-5c9c-46ad-8f93-70e55fc05846"
      },
      "source": [
        "df_test.columns"
      ],
      "execution_count": 131,
      "outputs": [
        {
          "output_type": "execute_result",
          "data": {
            "text/plain": [
              "Index(['ACRS Report Type', 'Route Type', 'Cross-Street Type', 'Collision Type',\n",
              "       'Weather', 'Surface Condition', 'Light', 'Traffic Control',\n",
              "       'Driver Substance Abuse', 'Injury Severity', 'Vehicle Damage Extent',\n",
              "       'Vehicle First Impact Location', 'Vehicle Second Impact Location',\n",
              "       'Vehicle Body Type', 'Vehicle Movement', 'Speed Limit',\n",
              "       'Parked Vehicle', 'Vehicle Year', 'Equipment Problems', 'Latitude',\n",
              "       'Longitude'],\n",
              "      dtype='object')"
            ]
          },
          "metadata": {},
          "execution_count": 131
        }
      ]
    },
    {
      "cell_type": "code",
      "metadata": {
        "colab": {
          "base_uri": "https://localhost:8080/"
        },
        "id": "3F7Hz2XYvEmV",
        "outputId": "1653c83a-e76d-4214-ed24-f03469160140"
      },
      "source": [
        "df_train['ACRS Report Type'].unique()"
      ],
      "execution_count": 132,
      "outputs": [
        {
          "output_type": "execute_result",
          "data": {
            "text/plain": [
              "array(['Property Damage Crash', 'Fatal Crash', 'Injury Crash'],\n",
              "      dtype=object)"
            ]
          },
          "metadata": {},
          "execution_count": 132
        }
      ]
    },
    {
      "cell_type": "code",
      "metadata": {
        "colab": {
          "base_uri": "https://localhost:8080/"
        },
        "id": "60XxTygSwVsl",
        "outputId": "4c1c8323-6914-404e-8686-07a070e7025c"
      },
      "source": [
        "print(len(df_train.columns))\n",
        "print(len(df_test.columns))"
      ],
      "execution_count": 133,
      "outputs": [
        {
          "output_type": "stream",
          "name": "stdout",
          "text": [
            "22\n",
            "21\n"
          ]
        }
      ]
    },
    {
      "cell_type": "code",
      "metadata": {
        "colab": {
          "base_uri": "https://localhost:8080/"
        },
        "id": "PrJrU58XxnXL",
        "outputId": "01201028-7c7f-4054-f41f-262e96df93b4"
      },
      "source": [
        "df_train['Equipment Problems'].unique()"
      ],
      "execution_count": 134,
      "outputs": [
        {
          "output_type": "execute_result",
          "data": {
            "text/plain": [
              "array(['NO MISUSE', 'STRAP/TETHER LOOSE', 'FACING WRONG WAY',\n",
              "       'BELTS/ANCHORS BROKE', 'AIR BAG FAILED', 'BELT(S) MISUSED'],\n",
              "      dtype=object)"
            ]
          },
          "metadata": {},
          "execution_count": 134
        }
      ]
    },
    {
      "cell_type": "code",
      "metadata": {
        "colab": {
          "base_uri": "https://localhost:8080/"
        },
        "id": "mDfMpjcox0Nu",
        "outputId": "e6ff274e-f086-4919-d633-f41a241c8d5d"
      },
      "source": [
        "df_train.info()"
      ],
      "execution_count": 135,
      "outputs": [
        {
          "output_type": "stream",
          "name": "stdout",
          "text": [
            "<class 'pandas.core.frame.DataFrame'>\n",
            "DatetimeIndex: 51490 entries, 2015-01-01 00:30:00 to 2021-10-28 07:19:00\n",
            "Data columns (total 22 columns):\n",
            " #   Column                          Non-Null Count  Dtype  \n",
            "---  ------                          --------------  -----  \n",
            " 0   ACRS Report Type                51490 non-null  object \n",
            " 1   Route Type                      51490 non-null  object \n",
            " 2   Cross-Street Type               51490 non-null  object \n",
            " 3   Collision Type                  51490 non-null  object \n",
            " 4   Weather                         51490 non-null  object \n",
            " 5   Surface Condition               51490 non-null  object \n",
            " 6   Light                           51490 non-null  object \n",
            " 7   Traffic Control                 51490 non-null  object \n",
            " 8   Driver Substance Abuse          51490 non-null  object \n",
            " 9   Injury Severity                 51490 non-null  object \n",
            " 10  Vehicle Damage Extent           51490 non-null  object \n",
            " 11  Vehicle First Impact Location   51490 non-null  object \n",
            " 12  Vehicle Second Impact Location  51490 non-null  object \n",
            " 13  Vehicle Body Type               51490 non-null  object \n",
            " 14  Vehicle Movement                51490 non-null  object \n",
            " 15  Speed Limit                     51490 non-null  int64  \n",
            " 16  Parked Vehicle                  51490 non-null  object \n",
            " 17  Vehicle Year                    51490 non-null  int64  \n",
            " 18  Equipment Problems              51490 non-null  object \n",
            " 19  Latitude                        51490 non-null  float64\n",
            " 20  Longitude                       51490 non-null  float64\n",
            " 21  Fault                           51490 non-null  int64  \n",
            "dtypes: float64(2), int64(3), object(17)\n",
            "memory usage: 9.0+ MB\n"
          ]
        }
      ]
    },
    {
      "cell_type": "markdown",
      "metadata": {
        "id": "o9xAuENo0pzP"
      },
      "source": [
        "Use Target and One-hot Encoding for categorical columns"
      ]
    },
    {
      "cell_type": "markdown",
      "metadata": {
        "id": "nkwLCgzy07xP"
      },
      "source": [
        "Check number of unique values column-wise"
      ]
    },
    {
      "cell_type": "code",
      "metadata": {
        "colab": {
          "base_uri": "https://localhost:8080/"
        },
        "id": "lqX08bM5yUOH",
        "outputId": "b3e34ff1-bf7d-4766-f396-d3e2f6a43289"
      },
      "source": [
        "for column in df_train.select_dtypes(include='object').columns:\n",
        "  print(\"%-30s - %3d\\n\" % (column, df_train[column].nunique()))"
      ],
      "execution_count": 136,
      "outputs": [
        {
          "output_type": "stream",
          "name": "stdout",
          "text": [
            "ACRS Report Type               -   3\n",
            "\n",
            "Route Type                     -   9\n",
            "\n",
            "Cross-Street Type              -   9\n",
            "\n",
            "Collision Type                 -  16\n",
            "\n",
            "Weather                        -  10\n",
            "\n",
            "Surface Condition              -   9\n",
            "\n",
            "Light                          -   6\n",
            "\n",
            "Traffic Control                -   9\n",
            "\n",
            "Driver Substance Abuse         -   9\n",
            "\n",
            "Injury Severity                -   5\n",
            "\n",
            "Vehicle Damage Extent          -   5\n",
            "\n",
            "Vehicle First Impact Location  -  15\n",
            "\n",
            "Vehicle Second Impact Location -  15\n",
            "\n",
            "Vehicle Body Type              -  28\n",
            "\n",
            "Vehicle Movement               -  20\n",
            "\n",
            "Parked Vehicle                 -   2\n",
            "\n",
            "Equipment Problems             -   6\n",
            "\n"
          ]
        }
      ]
    },
    {
      "cell_type": "code",
      "metadata": {
        "colab": {
          "base_uri": "https://localhost:8080/"
        },
        "id": "aHB-hwuD1NA0",
        "outputId": "6126ec13-68bb-4e4d-d4b6-4d312358029f"
      },
      "source": [
        "print(df_train.shape)\n",
        "print(df_test.shape)"
      ],
      "execution_count": 137,
      "outputs": [
        {
          "output_type": "stream",
          "name": "stdout",
          "text": [
            "(51490, 22)\n",
            "(77235, 21)\n"
          ]
        }
      ]
    },
    {
      "cell_type": "markdown",
      "metadata": {
        "id": "ESuBXOIqFl1t"
      },
      "source": [
        "# Prediction"
      ]
    },
    {
      "cell_type": "code",
      "metadata": {
        "colab": {
          "base_uri": "https://localhost:8080/"
        },
        "id": "rNfKxCYF6osY",
        "outputId": "c3416bb6-78ca-4f96-d13c-464037ee76ec"
      },
      "source": [
        "!pip install category_encoders"
      ],
      "execution_count": 138,
      "outputs": [
        {
          "output_type": "stream",
          "name": "stdout",
          "text": [
            "Requirement already satisfied: category_encoders in /usr/local/lib/python3.7/dist-packages (2.3.0)\n",
            "Requirement already satisfied: numpy>=1.14.0 in /usr/local/lib/python3.7/dist-packages (from category_encoders) (1.19.5)\n",
            "Requirement already satisfied: pandas>=0.21.1 in /usr/local/lib/python3.7/dist-packages (from category_encoders) (1.1.5)\n",
            "Requirement already satisfied: statsmodels>=0.9.0 in /usr/local/lib/python3.7/dist-packages (from category_encoders) (0.10.2)\n",
            "Requirement already satisfied: scikit-learn>=0.20.0 in /usr/local/lib/python3.7/dist-packages (from category_encoders) (0.22.2.post1)\n",
            "Requirement already satisfied: scipy>=1.0.0 in /usr/local/lib/python3.7/dist-packages (from category_encoders) (1.4.1)\n",
            "Requirement already satisfied: patsy>=0.5.1 in /usr/local/lib/python3.7/dist-packages (from category_encoders) (0.5.2)\n",
            "Requirement already satisfied: pytz>=2017.2 in /usr/local/lib/python3.7/dist-packages (from pandas>=0.21.1->category_encoders) (2018.9)\n",
            "Requirement already satisfied: python-dateutil>=2.7.3 in /usr/local/lib/python3.7/dist-packages (from pandas>=0.21.1->category_encoders) (2.8.2)\n",
            "Requirement already satisfied: six in /usr/local/lib/python3.7/dist-packages (from patsy>=0.5.1->category_encoders) (1.15.0)\n",
            "Requirement already satisfied: joblib>=0.11 in /usr/local/lib/python3.7/dist-packages (from scikit-learn>=0.20.0->category_encoders) (1.1.0)\n"
          ]
        }
      ]
    },
    {
      "cell_type": "code",
      "metadata": {
        "id": "MJgLwUL44jeB"
      },
      "source": [
        "import category_encoders\n",
        "from category_encoders import TargetEncoder\n",
        "t_encoder = TargetEncoder()"
      ],
      "execution_count": 139,
      "outputs": []
    },
    {
      "cell_type": "code",
      "metadata": {
        "id": "5ddWG0Hz56i4"
      },
      "source": [
        "X_train, y_train = df_train.drop(['Fault'], axis=1), df_train.Fault"
      ],
      "execution_count": 140,
      "outputs": []
    },
    {
      "cell_type": "code",
      "metadata": {
        "colab": {
          "base_uri": "https://localhost:8080/"
        },
        "id": "zgUKVlSd7YIF",
        "outputId": "064b30c8-c6ae-4681-d05a-1a57709eb075"
      },
      "source": [
        "print(X_train.shape)\n",
        "print(y_train.shape)\n",
        "print(df_test.shape)\n",
        "print(df_train.columns)"
      ],
      "execution_count": 141,
      "outputs": [
        {
          "output_type": "stream",
          "name": "stdout",
          "text": [
            "(51490, 21)\n",
            "(51490,)\n",
            "(77235, 21)\n",
            "Index(['ACRS Report Type', 'Route Type', 'Cross-Street Type', 'Collision Type',\n",
            "       'Weather', 'Surface Condition', 'Light', 'Traffic Control',\n",
            "       'Driver Substance Abuse', 'Injury Severity', 'Vehicle Damage Extent',\n",
            "       'Vehicle First Impact Location', 'Vehicle Second Impact Location',\n",
            "       'Vehicle Body Type', 'Vehicle Movement', 'Speed Limit',\n",
            "       'Parked Vehicle', 'Vehicle Year', 'Equipment Problems', 'Latitude',\n",
            "       'Longitude', 'Fault'],\n",
            "      dtype='object')\n"
          ]
        }
      ]
    },
    {
      "cell_type": "code",
      "metadata": {
        "colab": {
          "base_uri": "https://localhost:8080/"
        },
        "id": "KLgEB1zP7lcN",
        "outputId": "589d9aae-f899-4a99-c9f6-3169a5961cd7"
      },
      "source": [
        "y_train"
      ],
      "execution_count": 142,
      "outputs": [
        {
          "output_type": "execute_result",
          "data": {
            "text/plain": [
              "Crash Date/Time\n",
              "2015-01-01 00:30:00    0\n",
              "2015-01-01 01:10:00    0\n",
              "2015-01-01 01:14:00    1\n",
              "2015-01-01 01:14:00    0\n",
              "2015-01-01 01:26:00    1\n",
              "                      ..\n",
              "2021-10-27 18:50:00    0\n",
              "2021-10-27 19:53:00    1\n",
              "2021-10-27 20:34:00    1\n",
              "2021-10-27 21:09:00    1\n",
              "2021-10-28 07:19:00    0\n",
              "Name: Fault, Length: 51490, dtype: int64"
            ]
          },
          "metadata": {},
          "execution_count": 142
        }
      ]
    },
    {
      "cell_type": "code",
      "metadata": {
        "colab": {
          "base_uri": "https://localhost:8080/"
        },
        "id": "Vz68-RYh7ohC",
        "outputId": "f6a191c8-407d-4c54-fcf3-cef27bb7cb5e"
      },
      "source": [
        "t_encoder.fit(X_train, y_train)"
      ],
      "execution_count": 143,
      "outputs": [
        {
          "output_type": "execute_result",
          "data": {
            "text/plain": [
              "TargetEncoder(cols=['ACRS Report Type', 'Route Type', 'Cross-Street Type',\n",
              "                    'Collision Type', 'Weather', 'Surface Condition', 'Light',\n",
              "                    'Traffic Control', 'Driver Substance Abuse',\n",
              "                    'Injury Severity', 'Vehicle Damage Extent',\n",
              "                    'Vehicle First Impact Location',\n",
              "                    'Vehicle Second Impact Location', 'Vehicle Body Type',\n",
              "                    'Vehicle Movement', 'Parked Vehicle',\n",
              "                    'Equipment Problems'],\n",
              "              drop_invariant=False, handle_missing='value',\n",
              "              handle_unknown='value', min_samples_leaf=1, return_df=True,\n",
              "              smoothing=1.0, verbose=0)"
            ]
          },
          "metadata": {},
          "execution_count": 143
        }
      ]
    },
    {
      "cell_type": "code",
      "metadata": {
        "id": "JJIwf_LiBAmp"
      },
      "source": [
        "X_train = t_encoder.transform(X_train)\n",
        "X_test = t_encoder.transform(df_test)"
      ],
      "execution_count": 144,
      "outputs": []
    },
    {
      "cell_type": "code",
      "metadata": {
        "id": "0S6B6xMD-Hpi"
      },
      "source": [
        "from sklearn.preprocessing import StandardScaler\n",
        "scaler = StandardScaler()"
      ],
      "execution_count": 145,
      "outputs": []
    },
    {
      "cell_type": "code",
      "metadata": {
        "id": "DiR6OL9LBtl1"
      },
      "source": [
        "X_train = scaler.fit_transform(X_train)\n",
        "X_test = scaler.fit_transform(X_test)"
      ],
      "execution_count": 146,
      "outputs": []
    },
    {
      "cell_type": "code",
      "metadata": {
        "id": "IhcBelV_CTJ-"
      },
      "source": [
        "from sklearn.ensemble import GradientBoostingClassifier\n",
        "clf = GradientBoostingClassifier(n_estimators=100, \n",
        "                                 learning_rate=0.3, \n",
        "                                 max_depth=1).fit(X_train, y_train)"
      ],
      "execution_count": 147,
      "outputs": []
    },
    {
      "cell_type": "code",
      "metadata": {
        "id": "e244UqW2D70Z"
      },
      "source": [
        "preds = clf.predict(X_test)"
      ],
      "execution_count": 148,
      "outputs": []
    },
    {
      "cell_type": "code",
      "metadata": {
        "colab": {
          "base_uri": "https://localhost:8080/"
        },
        "id": "2eMjk2y1EYsu",
        "outputId": "ba98e3b9-9ccc-4e05-ba00-006455c95d86"
      },
      "source": [
        "len(preds)"
      ],
      "execution_count": 149,
      "outputs": [
        {
          "output_type": "execute_result",
          "data": {
            "text/plain": [
              "77235"
            ]
          },
          "metadata": {},
          "execution_count": 149
        }
      ]
    },
    {
      "cell_type": "code",
      "metadata": {
        "id": "uhbOkMSVEZu8"
      },
      "source": [
        "submission = pd.DataFrame()\n",
        "submission['Id'] = test_id\n",
        "submission['Fault'] = preds"
      ],
      "execution_count": 150,
      "outputs": []
    },
    {
      "cell_type": "code",
      "metadata": {
        "id": "_DhrCkd3E8cf"
      },
      "source": [
        "submission.to_csv('GB_clf.csv', index=False)"
      ],
      "execution_count": 151,
      "outputs": []
    },
    {
      "cell_type": "code",
      "metadata": {
        "id": "UC6QtKGIFKWv"
      },
      "source": [
        ""
      ],
      "execution_count": 151,
      "outputs": []
    }
  ]
}