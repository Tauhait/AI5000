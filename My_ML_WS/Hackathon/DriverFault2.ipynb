{
  "nbformat": 4,
  "nbformat_minor": 0,
  "metadata": {
    "colab": {
      "name": "DriverFault.ipynb",
      "provenance": []
    },
    "kernelspec": {
      "name": "python3",
      "display_name": "Python 3"
    },
    "language_info": {
      "name": "python"
    }
  },
  "cells": [
    {
      "cell_type": "markdown",
      "metadata": {
        "id": "lrZDZc7WDCMo"
      },
      "source": [
        "# Data Exploration"
      ]
    },
    {
      "cell_type": "code",
      "metadata": {
        "colab": {
          "base_uri": "https://localhost:8080/"
        },
        "id": "t9kRcLqTDFaK",
        "outputId": "193c1337-c0eb-40ed-ebc4-c7c53365973d"
      },
      "source": [
        "import matplotlib.pyplot as plt\n",
        "import numpy as np\n",
        "import pandas as pd\n",
        "import seaborn as sns\n",
        "\n",
        "df_train = pd.read_csv(\"train.csv\")\n",
        "df_test = pd.read_csv(\"test.csv\")\n",
        "print(df_train.info())\n",
        "print(df_train.describe())"
      ],
      "execution_count": 2,
      "outputs": [
        {
          "output_type": "stream",
          "name": "stderr",
          "text": [
            "/usr/local/lib/python3.7/dist-packages/IPython/core/interactiveshell.py:2718: DtypeWarning: Columns (2) have mixed types.Specify dtype option on import or set low_memory=False.\n",
            "  interactivity=interactivity, compiler=compiler, result=result)\n"
          ]
        },
        {
          "output_type": "stream",
          "name": "stdout",
          "text": [
            "<class 'pandas.core.frame.DataFrame'>\n",
            "RangeIndex: 51490 entries, 0 to 51489\n",
            "Data columns (total 42 columns):\n",
            " #   Column                          Non-Null Count  Dtype  \n",
            "---  ------                          --------------  -----  \n",
            " 0   Report Number                   51490 non-null  object \n",
            " 1   Local Case Number               45037 non-null  object \n",
            " 2   Agency Name                     51490 non-null  object \n",
            " 3   ACRS Report Type                51490 non-null  object \n",
            " 4   Crash Date/Time                 51490 non-null  object \n",
            " 5   Route Type                      46522 non-null  object \n",
            " 6   Road Name                       46988 non-null  object \n",
            " 7   Cross-Street Type               46471 non-null  object \n",
            " 8   Cross-Street Name               46968 non-null  object \n",
            " 9   Off-Road Description            6950 non-null   object \n",
            " 10  Municipality                    7567 non-null   object \n",
            " 11  Related Non-Motorist            3648 non-null   object \n",
            " 12  Collision Type                  51191 non-null  object \n",
            " 13  Weather                         47461 non-null  object \n",
            " 14  Surface Condition               45611 non-null  object \n",
            " 15  Light                           50786 non-null  object \n",
            " 16  Traffic Control                 43716 non-null  object \n",
            " 17  Driver Substance Abuse          42395 non-null  object \n",
            " 18  Non-Motorist Substance Abuse    3384 non-null   object \n",
            " 19  Person ID                       51490 non-null  object \n",
            " 20  Injury Severity                 51490 non-null  object \n",
            " 21  Circumstance                    11752 non-null  object \n",
            " 22  Drivers License State           48962 non-null  object \n",
            " 23  Vehicle ID                      51490 non-null  object \n",
            " 24  Vehicle Damage Extent           51093 non-null  object \n",
            " 25  Vehicle First Impact Location   51268 non-null  object \n",
            " 26  Vehicle Second Impact Location  51256 non-null  object \n",
            " 27  Vehicle Body Type               50705 non-null  object \n",
            " 28  Vehicle Movement                51292 non-null  object \n",
            " 29  Vehicle Continuing Dir          50361 non-null  object \n",
            " 30  Vehicle Going Dir               50377 non-null  object \n",
            " 31  Speed Limit                     51490 non-null  int64  \n",
            " 32  Driverless Vehicle              51490 non-null  object \n",
            " 33  Parked Vehicle                  51490 non-null  object \n",
            " 34  Vehicle Year                    51490 non-null  int64  \n",
            " 35  Vehicle Make                    51482 non-null  object \n",
            " 36  Vehicle Model                   51471 non-null  object \n",
            " 37  Equipment Problems              40824 non-null  object \n",
            " 38  Latitude                        51490 non-null  float64\n",
            " 39  Longitude                       51490 non-null  float64\n",
            " 40  Location                        51490 non-null  object \n",
            " 41  Fault                           51490 non-null  int64  \n",
            "dtypes: float64(2), int64(3), object(37)\n",
            "memory usage: 16.5+ MB\n",
            "None\n",
            "        Speed Limit  Vehicle Year      Latitude     Longitude         Fault\n",
            "count  51490.000000  51490.000000  51490.000000  51490.000000  51490.000000\n",
            "mean      32.895319   1974.545465     39.082783    -77.112688      0.550204\n",
            "std       11.696668    483.279428      0.072062      0.098300      0.497478\n",
            "min        0.000000      0.000000     38.008120    -79.486000      0.000000\n",
            "25%       25.000000   2005.000000     39.023974    -77.188926      0.000000\n",
            "50%       35.000000   2010.000000     39.074522    -77.105670      1.000000\n",
            "75%       40.000000   2014.000000     39.139685    -77.040114      1.000000\n",
            "max       70.000000   9999.000000     39.989747    -75.975952      1.000000\n"
          ]
        }
      ]
    },
    {
      "cell_type": "markdown",
      "metadata": {
        "id": "_fGNMvV3I3fc"
      },
      "source": [
        "# Data Cleaning and Preprocessing"
      ]
    },
    {
      "cell_type": "markdown",
      "metadata": {
        "id": "Ybbrd1kCFON2"
      },
      "source": [
        "Dates weren't recorded in a format understood by matplotlib so change it to pandas.to_datetime function."
      ]
    },
    {
      "cell_type": "code",
      "metadata": {
        "id": "AfM5iNTFEHKj"
      },
      "source": [
        "df_train[\"Crash Date/Time\"] = pd.to_datetime(df_train[\"Crash Date/Time\"])\n",
        "df_train.set_index('Crash Date/Time', inplace=True)\n",
        "df_train.sort_index(inplace=True)\n",
        "\n",
        "df_test[\"Crash Date/Time\"] = pd.to_datetime(df_test[\"Crash Date/Time\"])\n",
        "df_test.set_index('Crash Date/Time', inplace=True)\n",
        "df_test.sort_index(inplace=True)"
      ],
      "execution_count": 3,
      "outputs": []
    },
    {
      "cell_type": "markdown",
      "metadata": {
        "id": "UwNCtAjcaPDE"
      },
      "source": [
        "Many of the columns have null values. We will look at the fraction of NA values in the columns in descending order."
      ]
    },
    {
      "cell_type": "code",
      "metadata": {
        "colab": {
          "base_uri": "https://localhost:8080/"
        },
        "id": "N__WSkCOaWOa",
        "outputId": "1890d31a-d426-4164-f62d-19618a58de8a"
      },
      "source": [
        "df_train.isna().sum().sort_values(ascending=False)/len(df_train)"
      ],
      "execution_count": null,
      "outputs": [
        {
          "output_type": "execute_result",
          "data": {
            "text/plain": [
              "Non-Motorist Substance Abuse      0.934279\n",
              "Related Non-Motorist              0.929151\n",
              "Off-Road Description              0.865022\n",
              "Municipality                      0.853039\n",
              "Circumstance                      0.771762\n",
              "Equipment Problems                0.207147\n",
              "Driver Substance Abuse            0.176636\n",
              "Traffic Control                   0.150981\n",
              "Local Case Number                 0.125325\n",
              "Surface Condition                 0.114178\n",
              "Cross-Street Type                 0.097475\n",
              "Route Type                        0.096485\n",
              "Cross-Street Name                 0.087823\n",
              "Road Name                         0.087434\n",
              "Weather                           0.078248\n",
              "Drivers License State             0.049097\n",
              "Vehicle Continuing Dir            0.021927\n",
              "Vehicle Going Dir                 0.021616\n",
              "Vehicle Body Type                 0.015246\n",
              "Light                             0.013673\n",
              "Vehicle Damage Extent             0.007710\n",
              "Collision Type                    0.005807\n",
              "Vehicle Second Impact Location    0.004545\n",
              "Vehicle First Impact Location     0.004312\n",
              "Vehicle Movement                  0.003845\n",
              "Vehicle Model                     0.000369\n",
              "Vehicle Make                      0.000155\n",
              "ACRS Report Type                  0.000000\n",
              "Agency Name                       0.000000\n",
              "Fault                             0.000000\n",
              "Person ID                         0.000000\n",
              "Injury Severity                   0.000000\n",
              "Location                          0.000000\n",
              "Vehicle ID                        0.000000\n",
              "Speed Limit                       0.000000\n",
              "Driverless Vehicle                0.000000\n",
              "Parked Vehicle                    0.000000\n",
              "Vehicle Year                      0.000000\n",
              "Latitude                          0.000000\n",
              "Longitude                         0.000000\n",
              "Report Number                     0.000000\n",
              "dtype: float64"
            ]
          },
          "metadata": {},
          "execution_count": 3
        }
      ]
    },
    {
      "cell_type": "markdown",
      "metadata": {
        "id": "O-4aRm-rc07p"
      },
      "source": [
        "We are going to drop the columns which have more than 75% NA values in them"
      ]
    },
    {
      "cell_type": "code",
      "metadata": {
        "id": "h3H_Q_89cbcz"
      },
      "source": [
        "df_train.drop(columns=['Off-Road Description', 'Municipality', \n",
        "                       'Related Non-Motorist', 'Circumstance', \n",
        "                       'Non-Motorist Substance Abuse'], axis=1, inplace=True)"
      ],
      "execution_count": 4,
      "outputs": []
    },
    {
      "cell_type": "code",
      "metadata": {
        "id": "IgDcDs0Kdjw0"
      },
      "source": [
        "df_test.drop(columns=['Off-Road Description', 'Municipality', \n",
        "                      'Related Non-Motorist', 'Circumstance', \n",
        "                      'Non-Motorist Substance Abuse'], axis=1, inplace=True)"
      ],
      "execution_count": 5,
      "outputs": []
    },
    {
      "cell_type": "markdown",
      "metadata": {
        "id": "iQ_qYBuGdVlR"
      },
      "source": [
        "Next we will replace some values with nan values which are common throughout the dataset and may indicate missing data. "
      ]
    },
    {
      "cell_type": "code",
      "metadata": {
        "id": "OEwTLYobdZb1"
      },
      "source": [
        "df_train.replace(['UNKNOWN','Unknown','OTHER'], np.nan, inplace=True)"
      ],
      "execution_count": 6,
      "outputs": []
    },
    {
      "cell_type": "code",
      "metadata": {
        "id": "EGICa9gPd2ip"
      },
      "source": [
        "df_test.replace(['UNKNOWN','Unknown','OTHER'], np.nan, inplace=True)"
      ],
      "execution_count": 7,
      "outputs": []
    },
    {
      "cell_type": "code",
      "metadata": {
        "colab": {
          "base_uri": "https://localhost:8080/",
          "height": 301
        },
        "id": "x2ISKhO3bTz2",
        "outputId": "1722c66a-8c6e-4a3e-913a-cbfbb37cf97f"
      },
      "source": [
        "df_train['Speed Limit'].value_counts().sort_index().plot.bar().set(title='Accidents by Speed Limit')"
      ],
      "execution_count": null,
      "outputs": [
        {
          "output_type": "execute_result",
          "data": {
            "text/plain": [
              "[Text(0.5, 1.0, 'Accidents by Speed Limit')]"
            ]
          },
          "metadata": {},
          "execution_count": 7
        },
        {
          "output_type": "display_data",
          "data": {
            "image/png": "[encoded data removed]",
            "text/plain": [
              "<Figure size 432x288 with 1 Axes>"
            ]
          },
          "metadata": {
            "needs_background": "light"
          }
        }
      ]
    },
    {
      "cell_type": "code",
      "metadata": {
        "colab": {
          "base_uri": "https://localhost:8080/"
        },
        "id": "EluWmmAgJmBv",
        "outputId": "5465a51f-877b-43ba-be5f-0aa71511dad0"
      },
      "source": [
        "df_train.isna().sum().sort_values(ascending=False)/len(df_train)"
      ],
      "execution_count": null,
      "outputs": [
        {
          "output_type": "execute_result",
          "data": {
            "text/plain": [
              "Equipment Problems                0.292542\n",
              "Driver Substance Abuse            0.246650\n",
              "Cross-Street Type                 0.174345\n",
              "Traffic Control                   0.171664\n",
              "Surface Condition                 0.125520\n",
              "Local Case Number                 0.125325\n",
              "Collision Type                    0.117926\n",
              "Route Type                        0.100563\n",
              "Weather                           0.090911\n",
              "Cross-Street Name                 0.087823\n",
              "Road Name                         0.087434\n",
              "Vehicle Continuing Dir            0.060303\n",
              "Vehicle Going Dir                 0.056535\n",
              "Vehicle Damage Extent             0.053875\n",
              "Drivers License State             0.049097\n",
              "Vehicle Body Type                 0.033754\n",
              "Light                             0.030278\n",
              "Driverless Vehicle                0.027015\n",
              "Vehicle Movement                  0.025830\n",
              "Vehicle Second Impact Location    0.021985\n",
              "Vehicle First Impact Location     0.021635\n",
              "Vehicle Model                     0.019849\n",
              "Vehicle Make                      0.019013\n",
              "ACRS Report Type                  0.000000\n",
              "Agency Name                       0.000000\n",
              "Fault                             0.000000\n",
              "Vehicle ID                        0.000000\n",
              "Person ID                         0.000000\n",
              "Injury Severity                   0.000000\n",
              "Location                          0.000000\n",
              "Speed Limit                       0.000000\n",
              "Parked Vehicle                    0.000000\n",
              "Vehicle Year                      0.000000\n",
              "Latitude                          0.000000\n",
              "Longitude                         0.000000\n",
              "Report Number                     0.000000\n",
              "dtype: float64"
            ]
          },
          "metadata": {},
          "execution_count": 9
        }
      ]
    },
    {
      "cell_type": "markdown",
      "metadata": {
        "id": "M31pu678m4aw"
      },
      "source": [
        "* Replace NA values of corresponding columns with their MODE"
      ]
    },
    {
      "cell_type": "code",
      "metadata": {
        "id": "ci-8A1GRmiUz"
      },
      "source": [
        "for column in df_train.columns:\n",
        "  df_train[column].fillna(df_train[column].mode()[0], inplace=True)"
      ],
      "execution_count": 8,
      "outputs": []
    },
    {
      "cell_type": "code",
      "metadata": {
        "id": "4Ygi1qEfbfOr"
      },
      "source": [
        "for column in df_test.columns:\n",
        "  df_test[column].fillna(df_test[column].mode()[0], inplace=True)"
      ],
      "execution_count": 9,
      "outputs": []
    },
    {
      "cell_type": "markdown",
      "metadata": {
        "id": "bC2BR4SwnkS3"
      },
      "source": [
        "As we can see all NA values are replaced"
      ]
    },
    {
      "cell_type": "markdown",
      "metadata": {
        "id": "t_C6F844hBNi"
      },
      "source": [
        "Now let's drop all the columns which are having -  \n",
        "* Either only one unique value\n",
        "* Mostly all unique values\n"
      ]
    },
    {
      "cell_type": "code",
      "metadata": {
        "id": "W6U6POqzfrXs"
      },
      "source": [
        "# df_train.drop([\n",
        "#          'Driverless Vehicle', 'Report Number', 'Local Case Number', 'Cross-Street Type',\n",
        "#          'Cross-Street Name', 'Person ID', 'Vehicle ID', 'Vehicle Continuing Dir', \n",
        "#          'Vehicle Going Dir', 'Road Name', 'Drivers License State', 'Parked Vehicle',\n",
        "#          'Vehicle First Impact Location', 'Vehicle Second Impact Location', 'Route Type',\n",
        "#          'Vehicle Make', 'Agency Name', 'Vehicle Model', 'Location'], axis=1, inplace=True)\n",
        "df_train.drop([\n",
        "         'Report Number', 'Local Case Number',\n",
        "         'Cross-Street Name', 'Person ID', 'Vehicle ID', \n",
        "          'Road Name', 'Drivers License State'], axis=1, inplace=True)"
      ],
      "execution_count": 10,
      "outputs": []
    },
    {
      "cell_type": "code",
      "metadata": {
        "id": "O7xiDdyiuNlk"
      },
      "source": [
        "# df_test.drop([\n",
        "#          'Driverless Vehicle', 'Report Number', 'Local Case Number', 'Cross-Street Type',\n",
        "#          'Cross-Street Name', 'Person ID', 'Vehicle ID', 'Vehicle Continuing Dir', \n",
        "#          'Vehicle Going Dir', 'Road Name', 'Drivers License State', 'Parked Vehicle',\n",
        "#          'Vehicle First Impact Location', 'Vehicle Second Impact Location', 'Route Type',\n",
        "#          'Vehicle Make', 'Vehicle Model', 'Agency Name', 'Location'], axis=1, inplace=True)\n",
        "df_test.drop([\n",
        "         'Report Number', 'Local Case Number',\n",
        "         'Cross-Street Name', 'Person ID', 'Vehicle ID', \n",
        "          'Road Name', 'Drivers License State'], axis=1, inplace=True)"
      ],
      "execution_count": 11,
      "outputs": []
    },
    {
      "cell_type": "code",
      "metadata": {
        "id": "B9Y_rFgCuXEO"
      },
      "source": [
        "test_id = df_test['Id']"
      ],
      "execution_count": 12,
      "outputs": []
    },
    {
      "cell_type": "code",
      "metadata": {
        "id": "FUY0YUIbuxT3"
      },
      "source": [
        "df_test.drop(['Id'], axis=1, inplace=True)"
      ],
      "execution_count": 13,
      "outputs": []
    },
    {
      "cell_type": "code",
      "metadata": {
        "colab": {
          "base_uri": "https://localhost:8080/"
        },
        "id": "JBcHCXDSu6EP",
        "outputId": "1e779cc7-b5fb-439b-d462-544e926f4ef7"
      },
      "source": [
        "df_test.columns"
      ],
      "execution_count": 14,
      "outputs": [
        {
          "output_type": "execute_result",
          "data": {
            "text/plain": [
              "Index(['Agency Name', 'ACRS Report Type', 'Route Type', 'Cross-Street Type',\n",
              "       'Collision Type', 'Weather', 'Surface Condition', 'Light',\n",
              "       'Traffic Control', 'Driver Substance Abuse', 'Injury Severity',\n",
              "       'Vehicle Damage Extent', 'Vehicle First Impact Location',\n",
              "       'Vehicle Second Impact Location', 'Vehicle Body Type',\n",
              "       'Vehicle Movement', 'Vehicle Continuing Dir', 'Vehicle Going Dir',\n",
              "       'Speed Limit', 'Driverless Vehicle', 'Parked Vehicle', 'Vehicle Year',\n",
              "       'Vehicle Make', 'Vehicle Model', 'Equipment Problems', 'Latitude',\n",
              "       'Longitude', 'Location'],\n",
              "      dtype='object')"
            ]
          },
          "metadata": {},
          "execution_count": 14
        }
      ]
    },
    {
      "cell_type": "code",
      "metadata": {
        "colab": {
          "base_uri": "https://localhost:8080/"
        },
        "id": "60XxTygSwVsl",
        "outputId": "6f9f96c1-9212-468f-de97-05c63f0f1f29"
      },
      "source": [
        "print(len(df_train.columns))\n",
        "print(len(df_test.columns))"
      ],
      "execution_count": 15,
      "outputs": [
        {
          "output_type": "stream",
          "name": "stdout",
          "text": [
            "29\n",
            "28\n"
          ]
        }
      ]
    },
    {
      "cell_type": "markdown",
      "metadata": {
        "id": "o9xAuENo0pzP"
      },
      "source": [
        "# Use Target and One-hot Encoding for categorical columns"
      ]
    },
    {
      "cell_type": "markdown",
      "metadata": {
        "id": "nkwLCgzy07xP"
      },
      "source": [
        "Check number of unique values column-wise"
      ]
    },
    {
      "cell_type": "code",
      "metadata": {
        "colab": {
          "base_uri": "https://localhost:8080/"
        },
        "id": "lqX08bM5yUOH",
        "outputId": "bb529124-43c3-4565-a3c8-117f884b4d38"
      },
      "source": [
        "for column in df_train.select_dtypes(include='object').columns:\n",
        "  print(\"%-30s - %3d\\n\" % (column, df_train[column].nunique()))"
      ],
      "execution_count": null,
      "outputs": [
        {
          "output_type": "stream",
          "name": "stdout",
          "text": [
            "Report Number                  - 3256\n",
            "\n",
            "Local Case Number              - 1429\n",
            "\n",
            "Agency Name                    -  10\n",
            "\n",
            "ACRS Report Type               -   3\n",
            "\n",
            "Route Type                     -   9\n",
            "\n",
            "Road Name                      - 2226\n",
            "\n",
            "Cross-Street Type              -   9\n",
            "\n",
            "Cross-Street Name              - 4525\n",
            "\n",
            "Collision Type                 -  16\n",
            "\n",
            "Weather                        -  10\n",
            "\n",
            "Surface Condition              -   9\n",
            "\n",
            "Light                          -   6\n",
            "\n",
            "Traffic Control                -   9\n",
            "\n",
            "Driver Substance Abuse         -   9\n",
            "\n",
            "Person ID                      - 49209\n",
            "\n",
            "Injury Severity                -   5\n",
            "\n",
            "Drivers License State          -  65\n",
            "\n",
            "Vehicle ID                     - 49160\n",
            "\n",
            "Vehicle Damage Extent          -   5\n",
            "\n",
            "Vehicle First Impact Location  -  15\n",
            "\n",
            "Vehicle Second Impact Location -  15\n",
            "\n",
            "Vehicle Body Type              -  28\n",
            "\n",
            "Vehicle Movement               -  20\n",
            "\n",
            "Vehicle Continuing Dir         -   4\n",
            "\n",
            "Vehicle Going Dir              -   4\n",
            "\n",
            "Driverless Vehicle             -   1\n",
            "\n",
            "Parked Vehicle                 -   2\n",
            "\n",
            "Vehicle Make                   - 884\n",
            "\n",
            "Vehicle Model                  - 3126\n",
            "\n",
            "Equipment Problems             -   6\n",
            "\n",
            "Location                       - 38953\n",
            "\n"
          ]
        }
      ]
    },
    {
      "cell_type": "markdown",
      "metadata": {
        "id": "XhE8v761E9uc"
      },
      "source": [
        "Finding the percentage of each unique values for every column in Pandas and\n",
        "group insignificant unique values together into a single value"
      ]
    },
    {
      "cell_type": "markdown",
      "metadata": {
        "id": "Yyn5tiRiXlB5"
      },
      "source": [
        "ACRS Report Type"
      ]
    },
    {
      "cell_type": "code",
      "metadata": {
        "colab": {
          "base_uri": "https://localhost:8080/"
        },
        "id": "JuXcAI1-Xvk3",
        "outputId": "b0774c0c-9272-4bdc-aa9f-03bc5fa85844"
      },
      "source": [
        "uniq_val = df_train['ACRS Report Type'].value_counts(normalize=True).to_frame()*100\n",
        "uniq_val"
      ],
      "execution_count": null,
      "outputs": [
        {
          "output_type": "execute_result",
          "data": {
            "text/html": [
              "<div>\n",
              "<style scoped>\n",
              "    .dataframe tbody tr th:only-of-type {\n",
              "        vertical-align: middle;\n",
              "    }\n",
              "\n",
              "    .dataframe tbody tr th {\n",
              "        vertical-align: top;\n",
              "    }\n",
              "\n",
              "    .dataframe thead th {\n",
              "        text-align: right;\n",
              "    }\n",
              "</style>\n",
              "<table border=\"1\" class=\"dataframe\">\n",
              "  <thead>\n",
              "    <tr style=\"text-align: right;\">\n",
              "      <th></th>\n",
              "      <th>ACRS Report Type</th>\n",
              "    </tr>\n",
              "  </thead>\n",
              "  <tbody>\n",
              "    <tr>\n",
              "      <th>Property Damage Crash</th>\n",
              "      <td>61.487668</td>\n",
              "    </tr>\n",
              "    <tr>\n",
              "      <th>Injury Crash</th>\n",
              "      <td>36.857642</td>\n",
              "    </tr>\n",
              "    <tr>\n",
              "      <th>Fatal Crash</th>\n",
              "      <td>1.654690</td>\n",
              "    </tr>\n",
              "  </tbody>\n",
              "</table>\n",
              "</div>"
            ],
            "text/plain": [
              "                       ACRS Report Type\n",
              "Property Damage Crash         61.487668\n",
              "Injury Crash                  36.857642\n",
              "Fatal Crash                    1.654690"
            ]
          },
          "metadata": {},
          "execution_count": 19
        }
      ]
    },
    {
      "cell_type": "code",
      "metadata": {
        "colab": {
          "base_uri": "https://localhost:8080/"
        },
        "id": "9ClIVLJPYHLS",
        "outputId": "a20aa856-5e28-410e-cc40-4742fc501a17"
      },
      "source": [
        "df_train['ACRS Report Type'].replace(uniq_val[uniq_val['ACRS Report Type'] < 60.0].index,'OTHERS',inplace=True)\n",
        "df_train['ACRS Report Type'].value_counts(normalize=True).to_frame()*100"
      ],
      "execution_count": null,
      "outputs": [
        {
          "output_type": "execute_result",
          "data": {
            "text/html": [
              "<div>\n",
              "<style scoped>\n",
              "    .dataframe tbody tr th:only-of-type {\n",
              "        vertical-align: middle;\n",
              "    }\n",
              "\n",
              "    .dataframe tbody tr th {\n",
              "        vertical-align: top;\n",
              "    }\n",
              "\n",
              "    .dataframe thead th {\n",
              "        text-align: right;\n",
              "    }\n",
              "</style>\n",
              "<table border=\"1\" class=\"dataframe\">\n",
              "  <thead>\n",
              "    <tr style=\"text-align: right;\">\n",
              "      <th></th>\n",
              "      <th>ACRS Report Type</th>\n",
              "    </tr>\n",
              "  </thead>\n",
              "  <tbody>\n",
              "    <tr>\n",
              "      <th>Property Damage Crash</th>\n",
              "      <td>61.487668</td>\n",
              "    </tr>\n",
              "    <tr>\n",
              "      <th>OTHERS</th>\n",
              "      <td>38.512332</td>\n",
              "    </tr>\n",
              "  </tbody>\n",
              "</table>\n",
              "</div>"
            ],
            "text/plain": [
              "                       ACRS Report Type\n",
              "Property Damage Crash         61.487668\n",
              "OTHERS                        38.512332"
            ]
          },
          "metadata": {},
          "execution_count": 20
        }
      ]
    },
    {
      "cell_type": "markdown",
      "metadata": {
        "id": "njrSJmKOPdk9"
      },
      "source": [
        "Collision Type"
      ]
    },
    {
      "cell_type": "code",
      "metadata": {
        "colab": {
          "base_uri": "https://localhost:8080/"
        },
        "id": "v1Mv75rRElog",
        "outputId": "27fff2d5-7b63-44d1-a69f-4b79c1d558b6"
      },
      "source": [
        "uniq_val = df_train['Collision Type'].value_counts(normalize=True).to_frame()*100\n",
        "uniq_val[uniq_val['Collision Type'] < 5.0].index"
      ],
      "execution_count": null,
      "outputs": [
        {
          "output_type": "execute_result",
          "data": {
            "text/plain": [
              "Index(['HEAD ON', 'SAME DIRECTION LEFT TURN', 'SAME DIRECTION RIGHT TURN',\n",
              "       'OPPOSITE DIRECTION SIDESWIPE', 'ANGLE MEETS LEFT TURN',\n",
              "       'ANGLE MEETS RIGHT TURN', 'SAME DIR REND LEFT TURN',\n",
              "       'ANGLE MEETS LEFT HEAD ON', 'SAME DIR REND RIGHT TURN',\n",
              "       'SAME DIR BOTH LEFT TURN', 'OPPOSITE DIR BOTH LEFT TURN'],\n",
              "      dtype='object')"
            ]
          },
          "metadata": {},
          "execution_count": 21
        }
      ]
    },
    {
      "cell_type": "code",
      "metadata": {
        "id": "M-kIS41BItFb"
      },
      "source": [
        "df_train['Collision Type'].replace(uniq_val[uniq_val['Collision Type'] < 5.0].index,'OTHERS',inplace=True)"
      ],
      "execution_count": null,
      "outputs": []
    },
    {
      "cell_type": "code",
      "metadata": {
        "colab": {
          "base_uri": "https://localhost:8080/"
        },
        "id": "jJp66m3nOdb0",
        "outputId": "cba7a1ed-7a37-4b65-9c2e-ee042b29539e"
      },
      "source": [
        "df_train['Collision Type'].value_counts(normalize=True).to_frame()*100"
      ],
      "execution_count": null,
      "outputs": [
        {
          "output_type": "execute_result",
          "data": {
            "text/html": [
              "<div>\n",
              "<style scoped>\n",
              "    .dataframe tbody tr th:only-of-type {\n",
              "        vertical-align: middle;\n",
              "    }\n",
              "\n",
              "    .dataframe tbody tr th {\n",
              "        vertical-align: top;\n",
              "    }\n",
              "\n",
              "    .dataframe thead th {\n",
              "        text-align: right;\n",
              "    }\n",
              "</style>\n",
              "<table border=\"1\" class=\"dataframe\">\n",
              "  <thead>\n",
              "    <tr style=\"text-align: right;\">\n",
              "      <th></th>\n",
              "      <th>Collision Type</th>\n",
              "    </tr>\n",
              "  </thead>\n",
              "  <tbody>\n",
              "    <tr>\n",
              "      <th>SAME DIR REAR END</th>\n",
              "      <td>44.286269</td>\n",
              "    </tr>\n",
              "    <tr>\n",
              "      <th>STRAIGHT MOVEMENT ANGLE</th>\n",
              "      <td>16.616819</td>\n",
              "    </tr>\n",
              "    <tr>\n",
              "      <th>OTHERS</th>\n",
              "      <td>13.866770</td>\n",
              "    </tr>\n",
              "    <tr>\n",
              "      <th>SINGLE VEHICLE</th>\n",
              "      <td>9.161002</td>\n",
              "    </tr>\n",
              "    <tr>\n",
              "      <th>SAME DIRECTION SIDESWIPE</th>\n",
              "      <td>8.582249</td>\n",
              "    </tr>\n",
              "    <tr>\n",
              "      <th>HEAD ON LEFT TURN</th>\n",
              "      <td>7.486891</td>\n",
              "    </tr>\n",
              "  </tbody>\n",
              "</table>\n",
              "</div>"
            ],
            "text/plain": [
              "                          Collision Type\n",
              "SAME DIR REAR END              44.286269\n",
              "STRAIGHT MOVEMENT ANGLE        16.616819\n",
              "OTHERS                         13.866770\n",
              "SINGLE VEHICLE                  9.161002\n",
              "SAME DIRECTION SIDESWIPE        8.582249\n",
              "HEAD ON LEFT TURN               7.486891"
            ]
          },
          "metadata": {},
          "execution_count": 23
        }
      ]
    },
    {
      "cell_type": "markdown",
      "metadata": {
        "id": "hC3Oyaj-PjdA"
      },
      "source": [
        "Weather"
      ]
    },
    {
      "cell_type": "code",
      "metadata": {
        "colab": {
          "base_uri": "https://localhost:8080/"
        },
        "id": "Eaj2WD0aOo3U",
        "outputId": "b8706a27-1026-4835-a395-4a5ddab0202b"
      },
      "source": [
        "uniq_val = df_train['Weather'].value_counts(normalize=True).to_frame()*100\n",
        "uniq_val[uniq_val['Weather'] < 10.0].index"
      ],
      "execution_count": null,
      "outputs": [
        {
          "output_type": "execute_result",
          "data": {
            "text/plain": [
              "Index(['SNOW', 'FOGGY', 'WINTRY MIX', 'SLEET', 'SEVERE WINDS', 'BLOWING SNOW',\n",
              "       'BLOWING SAND, SOIL, DIRT'],\n",
              "      dtype='object')"
            ]
          },
          "metadata": {},
          "execution_count": 24
        }
      ]
    },
    {
      "cell_type": "code",
      "metadata": {
        "id": "lifwzNz2O88u"
      },
      "source": [
        "df_train['Weather'].replace(uniq_val[uniq_val['Weather'] < 10.0].index,'OTHERS',inplace=True)"
      ],
      "execution_count": null,
      "outputs": []
    },
    {
      "cell_type": "code",
      "metadata": {
        "colab": {
          "base_uri": "https://localhost:8080/"
        },
        "id": "kvaXRyg9PGf5",
        "outputId": "00e770a0-d246-4ec2-ea42-236d5acfef0b"
      },
      "source": [
        "df_train['Weather'].value_counts(normalize=True).to_frame()*100"
      ],
      "execution_count": null,
      "outputs": [
        {
          "output_type": "execute_result",
          "data": {
            "text/html": [
              "<div>\n",
              "<style scoped>\n",
              "    .dataframe tbody tr th:only-of-type {\n",
              "        vertical-align: middle;\n",
              "    }\n",
              "\n",
              "    .dataframe tbody tr th {\n",
              "        vertical-align: top;\n",
              "    }\n",
              "\n",
              "    .dataframe thead th {\n",
              "        text-align: right;\n",
              "    }\n",
              "</style>\n",
              "<table border=\"1\" class=\"dataframe\">\n",
              "  <thead>\n",
              "    <tr style=\"text-align: right;\">\n",
              "      <th></th>\n",
              "      <th>Weather</th>\n",
              "    </tr>\n",
              "  </thead>\n",
              "  <tbody>\n",
              "    <tr>\n",
              "      <th>CLEAR</th>\n",
              "      <td>73.402602</td>\n",
              "    </tr>\n",
              "    <tr>\n",
              "      <th>RAINING</th>\n",
              "      <td>11.988736</td>\n",
              "    </tr>\n",
              "    <tr>\n",
              "      <th>CLOUDY</th>\n",
              "      <td>10.279666</td>\n",
              "    </tr>\n",
              "    <tr>\n",
              "      <th>OTHERS</th>\n",
              "      <td>4.328996</td>\n",
              "    </tr>\n",
              "  </tbody>\n",
              "</table>\n",
              "</div>"
            ],
            "text/plain": [
              "           Weather\n",
              "CLEAR    73.402602\n",
              "RAINING  11.988736\n",
              "CLOUDY   10.279666\n",
              "OTHERS    4.328996"
            ]
          },
          "metadata": {},
          "execution_count": 26
        }
      ]
    },
    {
      "cell_type": "markdown",
      "metadata": {
        "id": "FeMUyh23PsHo"
      },
      "source": [
        "Surface Condition"
      ]
    },
    {
      "cell_type": "code",
      "metadata": {
        "id": "z_weZv-1PuH4"
      },
      "source": [
        "uniq_val = df_train['Surface Condition'].value_counts(normalize=True).to_frame()*100"
      ],
      "execution_count": null,
      "outputs": []
    },
    {
      "cell_type": "code",
      "metadata": {
        "colab": {
          "base_uri": "https://localhost:8080/"
        },
        "id": "pij2EyrnP74r",
        "outputId": "7cc07c7d-5927-4b72-8b58-e7f6abdb3e13"
      },
      "source": [
        "uniq_val"
      ],
      "execution_count": null,
      "outputs": [
        {
          "output_type": "execute_result",
          "data": {
            "text/html": [
              "<div>\n",
              "<style scoped>\n",
              "    .dataframe tbody tr th:only-of-type {\n",
              "        vertical-align: middle;\n",
              "    }\n",
              "\n",
              "    .dataframe tbody tr th {\n",
              "        vertical-align: top;\n",
              "    }\n",
              "\n",
              "    .dataframe thead th {\n",
              "        text-align: right;\n",
              "    }\n",
              "</style>\n",
              "<table border=\"1\" class=\"dataframe\">\n",
              "  <thead>\n",
              "    <tr style=\"text-align: right;\">\n",
              "      <th></th>\n",
              "      <th>Surface Condition</th>\n",
              "    </tr>\n",
              "  </thead>\n",
              "  <tbody>\n",
              "    <tr>\n",
              "      <th>DRY</th>\n",
              "      <td>78.966790</td>\n",
              "    </tr>\n",
              "    <tr>\n",
              "      <th>WET</th>\n",
              "      <td>16.688677</td>\n",
              "    </tr>\n",
              "    <tr>\n",
              "      <th>ICE</th>\n",
              "      <td>1.029326</td>\n",
              "    </tr>\n",
              "    <tr>\n",
              "      <th>SNOW</th>\n",
              "      <td>1.025442</td>\n",
              "    </tr>\n",
              "    <tr>\n",
              "      <th>SLUSH</th>\n",
              "      <td>0.545737</td>\n",
              "    </tr>\n",
              "    <tr>\n",
              "      <th>WATER(STANDING/MOVING)</th>\n",
              "      <td>0.489415</td>\n",
              "    </tr>\n",
              "    <tr>\n",
              "      <th>MUD, DIRT, GRAVEL</th>\n",
              "      <td>0.438920</td>\n",
              "    </tr>\n",
              "    <tr>\n",
              "      <th>OIL</th>\n",
              "      <td>0.431152</td>\n",
              "    </tr>\n",
              "    <tr>\n",
              "      <th>SAND</th>\n",
              "      <td>0.384541</td>\n",
              "    </tr>\n",
              "  </tbody>\n",
              "</table>\n",
              "</div>"
            ],
            "text/plain": [
              "                        Surface Condition\n",
              "DRY                             78.966790\n",
              "WET                             16.688677\n",
              "ICE                              1.029326\n",
              "SNOW                             1.025442\n",
              "SLUSH                            0.545737\n",
              "WATER(STANDING/MOVING)           0.489415\n",
              "MUD, DIRT, GRAVEL                0.438920\n",
              "OIL                              0.431152\n",
              "SAND                             0.384541"
            ]
          },
          "metadata": {},
          "execution_count": 28
        }
      ]
    },
    {
      "cell_type": "code",
      "metadata": {
        "colab": {
          "base_uri": "https://localhost:8080/"
        },
        "id": "R_qbS7WDP31E",
        "outputId": "e19f5d3d-dc2a-4b82-9a77-3f5a17811428"
      },
      "source": [
        "df_train['Surface Condition'].replace(uniq_val[uniq_val['Surface Condition'] < 15.0].index,'OTHERS',inplace=True)\n",
        "df_train['Surface Condition'].value_counts(normalize=True).to_frame()*100"
      ],
      "execution_count": null,
      "outputs": [
        {
          "output_type": "execute_result",
          "data": {
            "text/html": [
              "<div>\n",
              "<style scoped>\n",
              "    .dataframe tbody tr th:only-of-type {\n",
              "        vertical-align: middle;\n",
              "    }\n",
              "\n",
              "    .dataframe tbody tr th {\n",
              "        vertical-align: top;\n",
              "    }\n",
              "\n",
              "    .dataframe thead th {\n",
              "        text-align: right;\n",
              "    }\n",
              "</style>\n",
              "<table border=\"1\" class=\"dataframe\">\n",
              "  <thead>\n",
              "    <tr style=\"text-align: right;\">\n",
              "      <th></th>\n",
              "      <th>Surface Condition</th>\n",
              "    </tr>\n",
              "  </thead>\n",
              "  <tbody>\n",
              "    <tr>\n",
              "      <th>DRY</th>\n",
              "      <td>78.966790</td>\n",
              "    </tr>\n",
              "    <tr>\n",
              "      <th>WET</th>\n",
              "      <td>16.688677</td>\n",
              "    </tr>\n",
              "    <tr>\n",
              "      <th>OTHERS</th>\n",
              "      <td>4.344533</td>\n",
              "    </tr>\n",
              "  </tbody>\n",
              "</table>\n",
              "</div>"
            ],
            "text/plain": [
              "        Surface Condition\n",
              "DRY             78.966790\n",
              "WET             16.688677\n",
              "OTHERS           4.344533"
            ]
          },
          "metadata": {},
          "execution_count": 29
        }
      ]
    },
    {
      "cell_type": "markdown",
      "metadata": {
        "id": "j47cnQb4QUt_"
      },
      "source": [
        "Light"
      ]
    },
    {
      "cell_type": "code",
      "metadata": {
        "colab": {
          "base_uri": "https://localhost:8080/"
        },
        "id": "FF0v2rBgQXgF",
        "outputId": "b2d06fd2-c6ac-4748-a710-8623f5ad2ffa"
      },
      "source": [
        "uniq_val = df_train['Light'].value_counts(normalize=True).to_frame()*100\n",
        "uniq_val"
      ],
      "execution_count": null,
      "outputs": [
        {
          "output_type": "execute_result",
          "data": {
            "text/html": [
              "<div>\n",
              "<style scoped>\n",
              "    .dataframe tbody tr th:only-of-type {\n",
              "        vertical-align: middle;\n",
              "    }\n",
              "\n",
              "    .dataframe tbody tr th {\n",
              "        vertical-align: top;\n",
              "    }\n",
              "\n",
              "    .dataframe thead th {\n",
              "        text-align: right;\n",
              "    }\n",
              "</style>\n",
              "<table border=\"1\" class=\"dataframe\">\n",
              "  <thead>\n",
              "    <tr style=\"text-align: right;\">\n",
              "      <th></th>\n",
              "      <th>Light</th>\n",
              "    </tr>\n",
              "  </thead>\n",
              "  <tbody>\n",
              "    <tr>\n",
              "      <th>DAYLIGHT</th>\n",
              "      <td>68.316178</td>\n",
              "    </tr>\n",
              "    <tr>\n",
              "      <th>DARK LIGHTS ON</th>\n",
              "      <td>21.798407</td>\n",
              "    </tr>\n",
              "    <tr>\n",
              "      <th>DARK NO LIGHTS</th>\n",
              "      <td>3.332686</td>\n",
              "    </tr>\n",
              "    <tr>\n",
              "      <th>DUSK</th>\n",
              "      <td>2.767528</td>\n",
              "    </tr>\n",
              "    <tr>\n",
              "      <th>DAWN</th>\n",
              "      <td>2.373276</td>\n",
              "    </tr>\n",
              "    <tr>\n",
              "      <th>DARK -- UNKNOWN LIGHTING</th>\n",
              "      <td>1.411925</td>\n",
              "    </tr>\n",
              "  </tbody>\n",
              "</table>\n",
              "</div>"
            ],
            "text/plain": [
              "                              Light\n",
              "DAYLIGHT                  68.316178\n",
              "DARK LIGHTS ON            21.798407\n",
              "DARK NO LIGHTS             3.332686\n",
              "DUSK                       2.767528\n",
              "DAWN                       2.373276\n",
              "DARK -- UNKNOWN LIGHTING   1.411925"
            ]
          },
          "metadata": {},
          "execution_count": 30
        }
      ]
    },
    {
      "cell_type": "code",
      "metadata": {
        "colab": {
          "base_uri": "https://localhost:8080/"
        },
        "id": "OK92uBWWQiUT",
        "outputId": "e035cb5c-9a12-4427-e20e-d6c6b9d08d0f"
      },
      "source": [
        "df_train['Light'].replace(uniq_val[uniq_val['Light'] < 20.0].index,'OTHERS',inplace=True)\n",
        "df_train['Light'].value_counts(normalize=True).to_frame()*100"
      ],
      "execution_count": null,
      "outputs": [
        {
          "output_type": "execute_result",
          "data": {
            "text/html": [
              "<div>\n",
              "<style scoped>\n",
              "    .dataframe tbody tr th:only-of-type {\n",
              "        vertical-align: middle;\n",
              "    }\n",
              "\n",
              "    .dataframe tbody tr th {\n",
              "        vertical-align: top;\n",
              "    }\n",
              "\n",
              "    .dataframe thead th {\n",
              "        text-align: right;\n",
              "    }\n",
              "</style>\n",
              "<table border=\"1\" class=\"dataframe\">\n",
              "  <thead>\n",
              "    <tr style=\"text-align: right;\">\n",
              "      <th></th>\n",
              "      <th>Light</th>\n",
              "    </tr>\n",
              "  </thead>\n",
              "  <tbody>\n",
              "    <tr>\n",
              "      <th>DAYLIGHT</th>\n",
              "      <td>68.316178</td>\n",
              "    </tr>\n",
              "    <tr>\n",
              "      <th>DARK LIGHTS ON</th>\n",
              "      <td>21.798407</td>\n",
              "    </tr>\n",
              "    <tr>\n",
              "      <th>OTHERS</th>\n",
              "      <td>9.885415</td>\n",
              "    </tr>\n",
              "  </tbody>\n",
              "</table>\n",
              "</div>"
            ],
            "text/plain": [
              "                    Light\n",
              "DAYLIGHT        68.316178\n",
              "DARK LIGHTS ON  21.798407\n",
              "OTHERS           9.885415"
            ]
          },
          "metadata": {},
          "execution_count": 31
        }
      ]
    },
    {
      "cell_type": "markdown",
      "metadata": {
        "id": "BDdZb0YSQ7S8"
      },
      "source": [
        "Traffic Control"
      ]
    },
    {
      "cell_type": "code",
      "metadata": {
        "colab": {
          "base_uri": "https://localhost:8080/"
        },
        "id": "Zt4DohPrQ9YC",
        "outputId": "dc70488c-29f1-46ff-e974-6a1808f17947"
      },
      "source": [
        "uniq_val = df_train['Traffic Control'].value_counts(normalize=True).to_frame()*100\n",
        "uniq_val"
      ],
      "execution_count": null,
      "outputs": [
        {
          "output_type": "execute_result",
          "data": {
            "text/html": [
              "<div>\n",
              "<style scoped>\n",
              "    .dataframe tbody tr th:only-of-type {\n",
              "        vertical-align: middle;\n",
              "    }\n",
              "\n",
              "    .dataframe tbody tr th {\n",
              "        vertical-align: top;\n",
              "    }\n",
              "\n",
              "    .dataframe thead th {\n",
              "        text-align: right;\n",
              "    }\n",
              "</style>\n",
              "<table border=\"1\" class=\"dataframe\">\n",
              "  <thead>\n",
              "    <tr style=\"text-align: right;\">\n",
              "      <th></th>\n",
              "      <th>Traffic Control</th>\n",
              "    </tr>\n",
              "  </thead>\n",
              "  <tbody>\n",
              "    <tr>\n",
              "      <th>NO CONTROLS</th>\n",
              "      <td>55.284521</td>\n",
              "    </tr>\n",
              "    <tr>\n",
              "      <th>TRAFFIC SIGNAL</th>\n",
              "      <td>32.522820</td>\n",
              "    </tr>\n",
              "    <tr>\n",
              "      <th>STOP SIGN</th>\n",
              "      <td>7.323752</td>\n",
              "    </tr>\n",
              "    <tr>\n",
              "      <th>FLASHING TRAFFIC SIGNAL</th>\n",
              "      <td>1.512915</td>\n",
              "    </tr>\n",
              "    <tr>\n",
              "      <th>YIELD SIGN</th>\n",
              "      <td>1.479899</td>\n",
              "    </tr>\n",
              "    <tr>\n",
              "      <th>PERSON</th>\n",
              "      <td>0.563216</td>\n",
              "    </tr>\n",
              "    <tr>\n",
              "      <th>WARNING SIGN</th>\n",
              "      <td>0.503010</td>\n",
              "    </tr>\n",
              "    <tr>\n",
              "      <th>RAILWAY CROSSING DEVICE</th>\n",
              "      <td>0.411730</td>\n",
              "    </tr>\n",
              "    <tr>\n",
              "      <th>SCHOOL ZONE SIGN DEVICE</th>\n",
              "      <td>0.398136</td>\n",
              "    </tr>\n",
              "  </tbody>\n",
              "</table>\n",
              "</div>"
            ],
            "text/plain": [
              "                         Traffic Control\n",
              "NO CONTROLS                    55.284521\n",
              "TRAFFIC SIGNAL                 32.522820\n",
              "STOP SIGN                       7.323752\n",
              "FLASHING TRAFFIC SIGNAL         1.512915\n",
              "YIELD SIGN                      1.479899\n",
              "PERSON                          0.563216\n",
              "WARNING SIGN                    0.503010\n",
              "RAILWAY CROSSING DEVICE         0.411730\n",
              "SCHOOL ZONE SIGN DEVICE         0.398136"
            ]
          },
          "metadata": {},
          "execution_count": 32
        }
      ]
    },
    {
      "cell_type": "code",
      "metadata": {
        "colab": {
          "base_uri": "https://localhost:8080/"
        },
        "id": "k7gQEf2ORFRg",
        "outputId": "5550db1a-dda4-4765-db2d-d9dc988d79f5"
      },
      "source": [
        "df_train['Traffic Control'].replace(uniq_val[uniq_val['Traffic Control'] < 7.0].index,'OTHERS',inplace=True)\n",
        "df_train['Traffic Control'].value_counts(normalize=True).to_frame()*100"
      ],
      "execution_count": null,
      "outputs": [
        {
          "output_type": "execute_result",
          "data": {
            "text/html": [
              "<div>\n",
              "<style scoped>\n",
              "    .dataframe tbody tr th:only-of-type {\n",
              "        vertical-align: middle;\n",
              "    }\n",
              "\n",
              "    .dataframe tbody tr th {\n",
              "        vertical-align: top;\n",
              "    }\n",
              "\n",
              "    .dataframe thead th {\n",
              "        text-align: right;\n",
              "    }\n",
              "</style>\n",
              "<table border=\"1\" class=\"dataframe\">\n",
              "  <thead>\n",
              "    <tr style=\"text-align: right;\">\n",
              "      <th></th>\n",
              "      <th>Traffic Control</th>\n",
              "    </tr>\n",
              "  </thead>\n",
              "  <tbody>\n",
              "    <tr>\n",
              "      <th>NO CONTROLS</th>\n",
              "      <td>55.284521</td>\n",
              "    </tr>\n",
              "    <tr>\n",
              "      <th>TRAFFIC SIGNAL</th>\n",
              "      <td>32.522820</td>\n",
              "    </tr>\n",
              "    <tr>\n",
              "      <th>STOP SIGN</th>\n",
              "      <td>7.323752</td>\n",
              "    </tr>\n",
              "    <tr>\n",
              "      <th>OTHERS</th>\n",
              "      <td>4.868907</td>\n",
              "    </tr>\n",
              "  </tbody>\n",
              "</table>\n",
              "</div>"
            ],
            "text/plain": [
              "                Traffic Control\n",
              "NO CONTROLS           55.284521\n",
              "TRAFFIC SIGNAL        32.522820\n",
              "STOP SIGN              7.323752\n",
              "OTHERS                 4.868907"
            ]
          },
          "metadata": {},
          "execution_count": 33
        }
      ]
    },
    {
      "cell_type": "markdown",
      "metadata": {
        "id": "r9fLvBN2RVoG"
      },
      "source": [
        "Driver Substance Abuse"
      ]
    },
    {
      "cell_type": "code",
      "metadata": {
        "colab": {
          "base_uri": "https://localhost:8080/"
        },
        "id": "C3wYI4V1Subo",
        "outputId": "090a7572-ba4b-4da5-855d-c777dbaa6f2f"
      },
      "source": [
        "uniq_val = df_train['Driver Substance Abuse'].value_counts(normalize=True).to_frame()*100\n",
        "uniq_val"
      ],
      "execution_count": null,
      "outputs": [
        {
          "output_type": "execute_result",
          "data": {
            "text/html": [
              "<div>\n",
              "<style scoped>\n",
              "    .dataframe tbody tr th:only-of-type {\n",
              "        vertical-align: middle;\n",
              "    }\n",
              "\n",
              "    .dataframe tbody tr th {\n",
              "        vertical-align: top;\n",
              "    }\n",
              "\n",
              "    .dataframe thead th {\n",
              "        text-align: right;\n",
              "    }\n",
              "</style>\n",
              "<table border=\"1\" class=\"dataframe\">\n",
              "  <thead>\n",
              "    <tr style=\"text-align: right;\">\n",
              "      <th></th>\n",
              "      <th>Driver Substance Abuse</th>\n",
              "    </tr>\n",
              "  </thead>\n",
              "  <tbody>\n",
              "    <tr>\n",
              "      <th>NONE DETECTED</th>\n",
              "      <td>93.268596</td>\n",
              "    </tr>\n",
              "    <tr>\n",
              "      <th>ALCOHOL PRESENT</th>\n",
              "      <td>2.724801</td>\n",
              "    </tr>\n",
              "    <tr>\n",
              "      <th>ALCOHOL CONTRIBUTED</th>\n",
              "      <td>1.184696</td>\n",
              "    </tr>\n",
              "    <tr>\n",
              "      <th>ILLEGAL DRUG PRESENT</th>\n",
              "      <td>0.569043</td>\n",
              "    </tr>\n",
              "    <tr>\n",
              "      <th>MEDICATION PRESENT</th>\n",
              "      <td>0.506895</td>\n",
              "    </tr>\n",
              "    <tr>\n",
              "      <th>MEDICATION CONTRIBUTED</th>\n",
              "      <td>0.448631</td>\n",
              "    </tr>\n",
              "    <tr>\n",
              "      <th>ILLEGAL DRUG CONTRIBUTED</th>\n",
              "      <td>0.448631</td>\n",
              "    </tr>\n",
              "    <tr>\n",
              "      <th>COMBINATION CONTRIBUTED</th>\n",
              "      <td>0.435036</td>\n",
              "    </tr>\n",
              "    <tr>\n",
              "      <th>COMBINED SUBSTANCE PRESENT</th>\n",
              "      <td>0.413673</td>\n",
              "    </tr>\n",
              "  </tbody>\n",
              "</table>\n",
              "</div>"
            ],
            "text/plain": [
              "                            Driver Substance Abuse\n",
              "NONE DETECTED                            93.268596\n",
              "ALCOHOL PRESENT                           2.724801\n",
              "ALCOHOL CONTRIBUTED                       1.184696\n",
              "ILLEGAL DRUG PRESENT                      0.569043\n",
              "MEDICATION PRESENT                        0.506895\n",
              "MEDICATION CONTRIBUTED                    0.448631\n",
              "ILLEGAL DRUG CONTRIBUTED                  0.448631\n",
              "COMBINATION CONTRIBUTED                   0.435036\n",
              "COMBINED SUBSTANCE PRESENT                0.413673"
            ]
          },
          "metadata": {},
          "execution_count": 34
        }
      ]
    },
    {
      "cell_type": "code",
      "metadata": {
        "colab": {
          "base_uri": "https://localhost:8080/"
        },
        "id": "NSJXcVJ0S7Oo",
        "outputId": "612296ec-7af1-400d-de27-4ac79dfc89bd"
      },
      "source": [
        "df_train['Driver Substance Abuse'].replace(uniq_val[uniq_val['Driver Substance Abuse'] < 93.0].index,'OTHERS',inplace=True)\n",
        "df_train['Driver Substance Abuse'].value_counts(normalize=True).to_frame()*100"
      ],
      "execution_count": null,
      "outputs": [
        {
          "output_type": "execute_result",
          "data": {
            "text/html": [
              "<div>\n",
              "<style scoped>\n",
              "    .dataframe tbody tr th:only-of-type {\n",
              "        vertical-align: middle;\n",
              "    }\n",
              "\n",
              "    .dataframe tbody tr th {\n",
              "        vertical-align: top;\n",
              "    }\n",
              "\n",
              "    .dataframe thead th {\n",
              "        text-align: right;\n",
              "    }\n",
              "</style>\n",
              "<table border=\"1\" class=\"dataframe\">\n",
              "  <thead>\n",
              "    <tr style=\"text-align: right;\">\n",
              "      <th></th>\n",
              "      <th>Driver Substance Abuse</th>\n",
              "    </tr>\n",
              "  </thead>\n",
              "  <tbody>\n",
              "    <tr>\n",
              "      <th>NONE DETECTED</th>\n",
              "      <td>93.268596</td>\n",
              "    </tr>\n",
              "    <tr>\n",
              "      <th>OTHERS</th>\n",
              "      <td>6.731404</td>\n",
              "    </tr>\n",
              "  </tbody>\n",
              "</table>\n",
              "</div>"
            ],
            "text/plain": [
              "               Driver Substance Abuse\n",
              "NONE DETECTED               93.268596\n",
              "OTHERS                       6.731404"
            ]
          },
          "metadata": {},
          "execution_count": 35
        }
      ]
    },
    {
      "cell_type": "markdown",
      "metadata": {
        "id": "HeQL1TVVTJPY"
      },
      "source": [
        "Injury Severity"
      ]
    },
    {
      "cell_type": "code",
      "metadata": {
        "colab": {
          "base_uri": "https://localhost:8080/"
        },
        "id": "Cc9mbpgBTMTo",
        "outputId": "66e0f7af-d967-48e2-a240-c2eb2b803885"
      },
      "source": [
        "uniq_val = df_train['Injury Severity'].value_counts(normalize=True).to_frame()*100\n",
        "uniq_val"
      ],
      "execution_count": null,
      "outputs": [
        {
          "output_type": "execute_result",
          "data": {
            "text/html": [
              "<div>\n",
              "<style scoped>\n",
              "    .dataframe tbody tr th:only-of-type {\n",
              "        vertical-align: middle;\n",
              "    }\n",
              "\n",
              "    .dataframe tbody tr th {\n",
              "        vertical-align: top;\n",
              "    }\n",
              "\n",
              "    .dataframe thead th {\n",
              "        text-align: right;\n",
              "    }\n",
              "</style>\n",
              "<table border=\"1\" class=\"dataframe\">\n",
              "  <thead>\n",
              "    <tr style=\"text-align: right;\">\n",
              "      <th></th>\n",
              "      <th>Injury Severity</th>\n",
              "    </tr>\n",
              "  </thead>\n",
              "  <tbody>\n",
              "    <tr>\n",
              "      <th>NO APPARENT INJURY</th>\n",
              "      <td>78.677413</td>\n",
              "    </tr>\n",
              "    <tr>\n",
              "      <th>POSSIBLE INJURY</th>\n",
              "      <td>10.769081</td>\n",
              "    </tr>\n",
              "    <tr>\n",
              "      <th>SUSPECTED MINOR INJURY</th>\n",
              "      <td>7.754904</td>\n",
              "    </tr>\n",
              "    <tr>\n",
              "      <th>SUSPECTED SERIOUS INJURY</th>\n",
              "      <td>1.775102</td>\n",
              "    </tr>\n",
              "    <tr>\n",
              "      <th>FATAL INJURY</th>\n",
              "      <td>1.023500</td>\n",
              "    </tr>\n",
              "  </tbody>\n",
              "</table>\n",
              "</div>"
            ],
            "text/plain": [
              "                          Injury Severity\n",
              "NO APPARENT INJURY              78.677413\n",
              "POSSIBLE INJURY                 10.769081\n",
              "SUSPECTED MINOR INJURY           7.754904\n",
              "SUSPECTED SERIOUS INJURY         1.775102\n",
              "FATAL INJURY                     1.023500"
            ]
          },
          "metadata": {},
          "execution_count": 36
        }
      ]
    },
    {
      "cell_type": "code",
      "metadata": {
        "colab": {
          "base_uri": "https://localhost:8080/"
        },
        "id": "OQsBWJ2wTXse",
        "outputId": "f4eb6454-6ce2-48bc-9997-9e8dacbc811d"
      },
      "source": [
        "df_train['Injury Severity'].replace(uniq_val[uniq_val['Injury Severity'] < 7.0].index,'OTHERS',inplace=True)\n",
        "df_train['Injury Severity'].value_counts(normalize=True).to_frame()*100"
      ],
      "execution_count": null,
      "outputs": [
        {
          "output_type": "execute_result",
          "data": {
            "text/html": [
              "<div>\n",
              "<style scoped>\n",
              "    .dataframe tbody tr th:only-of-type {\n",
              "        vertical-align: middle;\n",
              "    }\n",
              "\n",
              "    .dataframe tbody tr th {\n",
              "        vertical-align: top;\n",
              "    }\n",
              "\n",
              "    .dataframe thead th {\n",
              "        text-align: right;\n",
              "    }\n",
              "</style>\n",
              "<table border=\"1\" class=\"dataframe\">\n",
              "  <thead>\n",
              "    <tr style=\"text-align: right;\">\n",
              "      <th></th>\n",
              "      <th>Injury Severity</th>\n",
              "    </tr>\n",
              "  </thead>\n",
              "  <tbody>\n",
              "    <tr>\n",
              "      <th>NO APPARENT INJURY</th>\n",
              "      <td>78.677413</td>\n",
              "    </tr>\n",
              "    <tr>\n",
              "      <th>POSSIBLE INJURY</th>\n",
              "      <td>10.769081</td>\n",
              "    </tr>\n",
              "    <tr>\n",
              "      <th>SUSPECTED MINOR INJURY</th>\n",
              "      <td>7.754904</td>\n",
              "    </tr>\n",
              "    <tr>\n",
              "      <th>OTHERS</th>\n",
              "      <td>2.798602</td>\n",
              "    </tr>\n",
              "  </tbody>\n",
              "</table>\n",
              "</div>"
            ],
            "text/plain": [
              "                        Injury Severity\n",
              "NO APPARENT INJURY            78.677413\n",
              "POSSIBLE INJURY               10.769081\n",
              "SUSPECTED MINOR INJURY         7.754904\n",
              "OTHERS                         2.798602"
            ]
          },
          "metadata": {},
          "execution_count": 37
        }
      ]
    },
    {
      "cell_type": "markdown",
      "metadata": {
        "id": "uMQgJ4KwUMUZ"
      },
      "source": [
        "Vehicle Body Type"
      ]
    },
    {
      "cell_type": "code",
      "metadata": {
        "colab": {
          "base_uri": "https://localhost:8080/"
        },
        "id": "aIYMlVNWUOLq",
        "outputId": "e9f27df8-f086-418f-92fc-f5761b2ae346"
      },
      "source": [
        "uniq_val = df_train['Vehicle Body Type'].value_counts(normalize=True).to_frame()*100\n",
        "uniq_val"
      ],
      "execution_count": null,
      "outputs": [
        {
          "output_type": "execute_result",
          "data": {
            "text/html": [
              "<div>\n",
              "<style scoped>\n",
              "    .dataframe tbody tr th:only-of-type {\n",
              "        vertical-align: middle;\n",
              "    }\n",
              "\n",
              "    .dataframe tbody tr th {\n",
              "        vertical-align: top;\n",
              "    }\n",
              "\n",
              "    .dataframe thead th {\n",
              "        text-align: right;\n",
              "    }\n",
              "</style>\n",
              "<table border=\"1\" class=\"dataframe\">\n",
              "  <thead>\n",
              "    <tr style=\"text-align: right;\">\n",
              "      <th></th>\n",
              "      <th>Vehicle Body Type</th>\n",
              "    </tr>\n",
              "  </thead>\n",
              "  <tbody>\n",
              "    <tr>\n",
              "      <th>PASSENGER CAR</th>\n",
              "      <td>69.722276</td>\n",
              "    </tr>\n",
              "    <tr>\n",
              "      <th>(SPORT) UTILITY VEHICLE</th>\n",
              "      <td>8.725966</td>\n",
              "    </tr>\n",
              "    <tr>\n",
              "      <th>PICKUP TRUCK</th>\n",
              "      <td>4.000777</td>\n",
              "    </tr>\n",
              "    <tr>\n",
              "      <th>VAN</th>\n",
              "      <td>2.856865</td>\n",
              "    </tr>\n",
              "    <tr>\n",
              "      <th>TRANSIT BUS</th>\n",
              "      <td>2.182948</td>\n",
              "    </tr>\n",
              "    <tr>\n",
              "      <th>SCHOOL BUS</th>\n",
              "      <td>1.687706</td>\n",
              "    </tr>\n",
              "    <tr>\n",
              "      <th>POLICE VEHICLE/NON EMERGENCY</th>\n",
              "      <td>1.299281</td>\n",
              "    </tr>\n",
              "    <tr>\n",
              "      <th>OTHER LIGHT TRUCKS (10,000LBS (4,536KG) OR LESS)</th>\n",
              "      <td>1.221596</td>\n",
              "    </tr>\n",
              "    <tr>\n",
              "      <th>CARGO VAN/LIGHT TRUCK 2 AXLES (OVER 10,000LBS (4,536 KG))</th>\n",
              "      <td>1.165275</td>\n",
              "    </tr>\n",
              "    <tr>\n",
              "      <th>POLICE VEHICLE/EMERGENCY</th>\n",
              "      <td>1.081763</td>\n",
              "    </tr>\n",
              "    <tr>\n",
              "      <th>MEDIUM/HEAVY TRUCKS 3 AXLES (OVER 10,000LBS (4,536KG))</th>\n",
              "      <td>0.994368</td>\n",
              "    </tr>\n",
              "    <tr>\n",
              "      <th>MOTORCYCLE</th>\n",
              "      <td>0.605943</td>\n",
              "    </tr>\n",
              "    <tr>\n",
              "      <th>STATION WAGON</th>\n",
              "      <td>0.578753</td>\n",
              "    </tr>\n",
              "    <tr>\n",
              "      <th>TRUCK TRACTOR</th>\n",
              "      <td>0.429210</td>\n",
              "    </tr>\n",
              "    <tr>\n",
              "      <th>OTHER BUS</th>\n",
              "      <td>0.415615</td>\n",
              "    </tr>\n",
              "    <tr>\n",
              "      <th>FIRE VEHICLE/EMERGENCY</th>\n",
              "      <td>0.365119</td>\n",
              "    </tr>\n",
              "    <tr>\n",
              "      <th>AMBULANCE/EMERGENCY</th>\n",
              "      <td>0.363177</td>\n",
              "    </tr>\n",
              "    <tr>\n",
              "      <th>FIRE VEHICLE/NON EMERGENCY</th>\n",
              "      <td>0.353467</td>\n",
              "    </tr>\n",
              "    <tr>\n",
              "      <th>RECREATIONAL VEHICLE</th>\n",
              "      <td>0.256360</td>\n",
              "    </tr>\n",
              "    <tr>\n",
              "      <th>AMBULANCE/NON EMERGENCY</th>\n",
              "      <td>0.242766</td>\n",
              "    </tr>\n",
              "    <tr>\n",
              "      <th>SNOWMOBILE</th>\n",
              "      <td>0.225286</td>\n",
              "    </tr>\n",
              "    <tr>\n",
              "      <th>ALL TERRAIN VEHICLE (ATV)</th>\n",
              "      <td>0.209749</td>\n",
              "    </tr>\n",
              "    <tr>\n",
              "      <th>MOPED</th>\n",
              "      <td>0.188386</td>\n",
              "    </tr>\n",
              "    <tr>\n",
              "      <th>AUTOCYCLE</th>\n",
              "      <td>0.184502</td>\n",
              "    </tr>\n",
              "    <tr>\n",
              "      <th>LOW SPEED VEHICLE</th>\n",
              "      <td>0.178675</td>\n",
              "    </tr>\n",
              "    <tr>\n",
              "      <th>CROSS COUNTRY BUS</th>\n",
              "      <td>0.161196</td>\n",
              "    </tr>\n",
              "    <tr>\n",
              "      <th>FARM VEHICLE</th>\n",
              "      <td>0.157312</td>\n",
              "    </tr>\n",
              "    <tr>\n",
              "      <th>LIMOUSINE</th>\n",
              "      <td>0.145659</td>\n",
              "    </tr>\n",
              "  </tbody>\n",
              "</table>\n",
              "</div>"
            ],
            "text/plain": [
              "                                                    Vehicle Body Type\n",
              "PASSENGER CAR                                               69.722276\n",
              "(SPORT) UTILITY VEHICLE                                      8.725966\n",
              "PICKUP TRUCK                                                 4.000777\n",
              "VAN                                                          2.856865\n",
              "TRANSIT BUS                                                  2.182948\n",
              "SCHOOL BUS                                                   1.687706\n",
              "POLICE VEHICLE/NON EMERGENCY                                 1.299281\n",
              "OTHER LIGHT TRUCKS (10,000LBS (4,536KG) OR LESS)             1.221596\n",
              "CARGO VAN/LIGHT TRUCK 2 AXLES (OVER 10,000LBS (...           1.165275\n",
              "POLICE VEHICLE/EMERGENCY                                     1.081763\n",
              "MEDIUM/HEAVY TRUCKS 3 AXLES (OVER 10,000LBS (4,...           0.994368\n",
              "MOTORCYCLE                                                   0.605943\n",
              "STATION WAGON                                                0.578753\n",
              "TRUCK TRACTOR                                                0.429210\n",
              "OTHER BUS                                                    0.415615\n",
              "FIRE VEHICLE/EMERGENCY                                       0.365119\n",
              "AMBULANCE/EMERGENCY                                          0.363177\n",
              "FIRE VEHICLE/NON EMERGENCY                                   0.353467\n",
              "RECREATIONAL VEHICLE                                         0.256360\n",
              "AMBULANCE/NON EMERGENCY                                      0.242766\n",
              "SNOWMOBILE                                                   0.225286\n",
              "ALL TERRAIN VEHICLE (ATV)                                    0.209749\n",
              "MOPED                                                        0.188386\n",
              "AUTOCYCLE                                                    0.184502\n",
              "LOW SPEED VEHICLE                                            0.178675\n",
              "CROSS COUNTRY BUS                                            0.161196\n",
              "FARM VEHICLE                                                 0.157312\n",
              "LIMOUSINE                                                    0.145659"
            ]
          },
          "metadata": {},
          "execution_count": 38
        }
      ]
    },
    {
      "cell_type": "code",
      "metadata": {
        "colab": {
          "base_uri": "https://localhost:8080/"
        },
        "id": "D3lLt-7vU0kX",
        "outputId": "7fbf940b-5d8f-4b30-8384-7a6bc94312bd"
      },
      "source": [
        "df_train['Vehicle Body Type'].replace(uniq_val[uniq_val['Vehicle Body Type'] < 3.0].index,'OTHERS',inplace=True)\n",
        "df_train['Vehicle Body Type'].value_counts(normalize=True).to_frame()*100"
      ],
      "execution_count": null,
      "outputs": [
        {
          "output_type": "execute_result",
          "data": {
            "text/html": [
              "<div>\n",
              "<style scoped>\n",
              "    .dataframe tbody tr th:only-of-type {\n",
              "        vertical-align: middle;\n",
              "    }\n",
              "\n",
              "    .dataframe tbody tr th {\n",
              "        vertical-align: top;\n",
              "    }\n",
              "\n",
              "    .dataframe thead th {\n",
              "        text-align: right;\n",
              "    }\n",
              "</style>\n",
              "<table border=\"1\" class=\"dataframe\">\n",
              "  <thead>\n",
              "    <tr style=\"text-align: right;\">\n",
              "      <th></th>\n",
              "      <th>Vehicle Body Type</th>\n",
              "    </tr>\n",
              "  </thead>\n",
              "  <tbody>\n",
              "    <tr>\n",
              "      <th>PASSENGER CAR</th>\n",
              "      <td>69.722276</td>\n",
              "    </tr>\n",
              "    <tr>\n",
              "      <th>OTHERS</th>\n",
              "      <td>17.550981</td>\n",
              "    </tr>\n",
              "    <tr>\n",
              "      <th>(SPORT) UTILITY VEHICLE</th>\n",
              "      <td>8.725966</td>\n",
              "    </tr>\n",
              "    <tr>\n",
              "      <th>PICKUP TRUCK</th>\n",
              "      <td>4.000777</td>\n",
              "    </tr>\n",
              "  </tbody>\n",
              "</table>\n",
              "</div>"
            ],
            "text/plain": [
              "                         Vehicle Body Type\n",
              "PASSENGER CAR                    69.722276\n",
              "OTHERS                           17.550981\n",
              "(SPORT) UTILITY VEHICLE           8.725966\n",
              "PICKUP TRUCK                      4.000777"
            ]
          },
          "metadata": {},
          "execution_count": 39
        }
      ]
    },
    {
      "cell_type": "markdown",
      "metadata": {
        "id": "8CjzL8d3VaeZ"
      },
      "source": [
        "Vehicle Movement"
      ]
    },
    {
      "cell_type": "code",
      "metadata": {
        "colab": {
          "base_uri": "https://localhost:8080/"
        },
        "id": "zUAIR8Z9VbeL",
        "outputId": "85f31222-f040-4445-f3c5-8cc77d01aa43"
      },
      "source": [
        "uniq_val = df_train['Vehicle Movement'].value_counts(normalize=True).to_frame()*100\n",
        "uniq_val"
      ],
      "execution_count": null,
      "outputs": [
        {
          "output_type": "execute_result",
          "data": {
            "text/html": [
              "<div>\n",
              "<style scoped>\n",
              "    .dataframe tbody tr th:only-of-type {\n",
              "        vertical-align: middle;\n",
              "    }\n",
              "\n",
              "    .dataframe tbody tr th {\n",
              "        vertical-align: top;\n",
              "    }\n",
              "\n",
              "    .dataframe thead th {\n",
              "        text-align: right;\n",
              "    }\n",
              "</style>\n",
              "<table border=\"1\" class=\"dataframe\">\n",
              "  <thead>\n",
              "    <tr style=\"text-align: right;\">\n",
              "      <th></th>\n",
              "      <th>Vehicle Movement</th>\n",
              "    </tr>\n",
              "  </thead>\n",
              "  <tbody>\n",
              "    <tr>\n",
              "      <th>MOVING CONSTANT SPEED</th>\n",
              "      <td>39.256166</td>\n",
              "    </tr>\n",
              "    <tr>\n",
              "      <th>SLOWING OR STOPPING</th>\n",
              "      <td>14.731016</td>\n",
              "    </tr>\n",
              "    <tr>\n",
              "      <th>STOPPED IN TRAFFIC LANE</th>\n",
              "      <td>10.831229</td>\n",
              "    </tr>\n",
              "    <tr>\n",
              "      <th>MAKING LEFT TURN</th>\n",
              "      <td>9.122160</td>\n",
              "    </tr>\n",
              "    <tr>\n",
              "      <th>ACCELERATING</th>\n",
              "      <td>5.538940</td>\n",
              "    </tr>\n",
              "    <tr>\n",
              "      <th>BACKING</th>\n",
              "      <td>3.408429</td>\n",
              "    </tr>\n",
              "    <tr>\n",
              "      <th>MAKING RIGHT TURN</th>\n",
              "      <td>3.161779</td>\n",
              "    </tr>\n",
              "    <tr>\n",
              "      <th>STARTING FROM LANE</th>\n",
              "      <td>2.748106</td>\n",
              "    </tr>\n",
              "    <tr>\n",
              "      <th>CHANGING LANES</th>\n",
              "      <td>2.722859</td>\n",
              "    </tr>\n",
              "    <tr>\n",
              "      <th>PARKED</th>\n",
              "      <td>1.652748</td>\n",
              "    </tr>\n",
              "    <tr>\n",
              "      <th>PARKING</th>\n",
              "      <td>1.279860</td>\n",
              "    </tr>\n",
              "    <tr>\n",
              "      <th>STARTING FROM PARKED</th>\n",
              "      <td>1.223539</td>\n",
              "    </tr>\n",
              "    <tr>\n",
              "      <th>MAKING U TURN</th>\n",
              "      <td>0.895319</td>\n",
              "    </tr>\n",
              "    <tr>\n",
              "      <th>PASSING</th>\n",
              "      <td>0.759371</td>\n",
              "    </tr>\n",
              "    <tr>\n",
              "      <th>ENTERING TRAFFIC LANE</th>\n",
              "      <td>0.629248</td>\n",
              "    </tr>\n",
              "    <tr>\n",
              "      <th>SKIDDING</th>\n",
              "      <td>0.625364</td>\n",
              "    </tr>\n",
              "    <tr>\n",
              "      <th>NEGOTIATING A CURVE</th>\n",
              "      <td>0.497184</td>\n",
              "    </tr>\n",
              "    <tr>\n",
              "      <th>RIGHT TURN ON RED</th>\n",
              "      <td>0.392309</td>\n",
              "    </tr>\n",
              "    <tr>\n",
              "      <th>LEAVING TRAFFIC LANE</th>\n",
              "      <td>0.308798</td>\n",
              "    </tr>\n",
              "    <tr>\n",
              "      <th>DRIVERLESS MOVING VEH.</th>\n",
              "      <td>0.215576</td>\n",
              "    </tr>\n",
              "  </tbody>\n",
              "</table>\n",
              "</div>"
            ],
            "text/plain": [
              "                         Vehicle Movement\n",
              "MOVING CONSTANT SPEED           39.256166\n",
              "SLOWING OR STOPPING             14.731016\n",
              "STOPPED IN TRAFFIC LANE         10.831229\n",
              "MAKING LEFT TURN                 9.122160\n",
              "ACCELERATING                     5.538940\n",
              "BACKING                          3.408429\n",
              "MAKING RIGHT TURN                3.161779\n",
              "STARTING FROM LANE               2.748106\n",
              "CHANGING LANES                   2.722859\n",
              "PARKED                           1.652748\n",
              "PARKING                          1.279860\n",
              "STARTING FROM PARKED             1.223539\n",
              "MAKING U TURN                    0.895319\n",
              "PASSING                          0.759371\n",
              "ENTERING TRAFFIC LANE            0.629248\n",
              "SKIDDING                         0.625364\n",
              "NEGOTIATING A CURVE              0.497184\n",
              "RIGHT TURN ON RED                0.392309\n",
              "LEAVING TRAFFIC LANE             0.308798\n",
              "DRIVERLESS MOVING VEH.           0.215576"
            ]
          },
          "metadata": {},
          "execution_count": 40
        }
      ]
    },
    {
      "cell_type": "code",
      "metadata": {
        "colab": {
          "base_uri": "https://localhost:8080/"
        },
        "id": "CibXownxWHV9",
        "outputId": "549191c3-f1dd-43aa-d24e-e4bcc461c468"
      },
      "source": [
        "df_train['Vehicle Movement'].replace(uniq_val[uniq_val['Vehicle Movement'] < 5.0].index,'OTHERS',inplace=True)\n",
        "df_train['Vehicle Movement'].value_counts(normalize=True).to_frame()*100"
      ],
      "execution_count": null,
      "outputs": [
        {
          "output_type": "execute_result",
          "data": {
            "text/html": [
              "<div>\n",
              "<style scoped>\n",
              "    .dataframe tbody tr th:only-of-type {\n",
              "        vertical-align: middle;\n",
              "    }\n",
              "\n",
              "    .dataframe tbody tr th {\n",
              "        vertical-align: top;\n",
              "    }\n",
              "\n",
              "    .dataframe thead th {\n",
              "        text-align: right;\n",
              "    }\n",
              "</style>\n",
              "<table border=\"1\" class=\"dataframe\">\n",
              "  <thead>\n",
              "    <tr style=\"text-align: right;\">\n",
              "      <th></th>\n",
              "      <th>Vehicle Movement</th>\n",
              "    </tr>\n",
              "  </thead>\n",
              "  <tbody>\n",
              "    <tr>\n",
              "      <th>MOVING CONSTANT SPEED</th>\n",
              "      <td>39.256166</td>\n",
              "    </tr>\n",
              "    <tr>\n",
              "      <th>OTHERS</th>\n",
              "      <td>20.520489</td>\n",
              "    </tr>\n",
              "    <tr>\n",
              "      <th>SLOWING OR STOPPING</th>\n",
              "      <td>14.731016</td>\n",
              "    </tr>\n",
              "    <tr>\n",
              "      <th>STOPPED IN TRAFFIC LANE</th>\n",
              "      <td>10.831229</td>\n",
              "    </tr>\n",
              "    <tr>\n",
              "      <th>MAKING LEFT TURN</th>\n",
              "      <td>9.122160</td>\n",
              "    </tr>\n",
              "    <tr>\n",
              "      <th>ACCELERATING</th>\n",
              "      <td>5.538940</td>\n",
              "    </tr>\n",
              "  </tbody>\n",
              "</table>\n",
              "</div>"
            ],
            "text/plain": [
              "                         Vehicle Movement\n",
              "MOVING CONSTANT SPEED           39.256166\n",
              "OTHERS                          20.520489\n",
              "SLOWING OR STOPPING             14.731016\n",
              "STOPPED IN TRAFFIC LANE         10.831229\n",
              "MAKING LEFT TURN                 9.122160\n",
              "ACCELERATING                     5.538940"
            ]
          },
          "metadata": {},
          "execution_count": 41
        }
      ]
    },
    {
      "cell_type": "markdown",
      "metadata": {
        "id": "ckP3mDQFWzv_"
      },
      "source": [
        "Equipment Problems"
      ]
    },
    {
      "cell_type": "code",
      "metadata": {
        "colab": {
          "base_uri": "https://localhost:8080/"
        },
        "id": "LmiB8mg6W2Qo",
        "outputId": "18ce7f0c-c322-4a10-b7b9-1a6dc444fc92"
      },
      "source": [
        "uniq_val = df_train['Equipment Problems'].value_counts(normalize=True).to_frame()*100\n",
        "uniq_val"
      ],
      "execution_count": null,
      "outputs": [
        {
          "output_type": "execute_result",
          "data": {
            "text/html": [
              "<div>\n",
              "<style scoped>\n",
              "    .dataframe tbody tr th:only-of-type {\n",
              "        vertical-align: middle;\n",
              "    }\n",
              "\n",
              "    .dataframe tbody tr th {\n",
              "        vertical-align: top;\n",
              "    }\n",
              "\n",
              "    .dataframe thead th {\n",
              "        text-align: right;\n",
              "    }\n",
              "</style>\n",
              "<table border=\"1\" class=\"dataframe\">\n",
              "  <thead>\n",
              "    <tr style=\"text-align: right;\">\n",
              "      <th></th>\n",
              "      <th>Equipment Problems</th>\n",
              "    </tr>\n",
              "  </thead>\n",
              "  <tbody>\n",
              "    <tr>\n",
              "      <th>NO MISUSE</th>\n",
              "      <td>97.308215</td>\n",
              "    </tr>\n",
              "    <tr>\n",
              "      <th>AIR BAG FAILED</th>\n",
              "      <td>0.611769</td>\n",
              "    </tr>\n",
              "    <tr>\n",
              "      <th>BELT(S) MISUSED</th>\n",
              "      <td>0.555448</td>\n",
              "    </tr>\n",
              "    <tr>\n",
              "      <th>BELTS/ANCHORS BROKE</th>\n",
              "      <td>0.514663</td>\n",
              "    </tr>\n",
              "    <tr>\n",
              "      <th>FACING WRONG WAY</th>\n",
              "      <td>0.512721</td>\n",
              "    </tr>\n",
              "    <tr>\n",
              "      <th>STRAP/TETHER LOOSE</th>\n",
              "      <td>0.497184</td>\n",
              "    </tr>\n",
              "  </tbody>\n",
              "</table>\n",
              "</div>"
            ],
            "text/plain": [
              "                     Equipment Problems\n",
              "NO MISUSE                     97.308215\n",
              "AIR BAG FAILED                 0.611769\n",
              "BELT(S) MISUSED                0.555448\n",
              "BELTS/ANCHORS BROKE            0.514663\n",
              "FACING WRONG WAY               0.512721\n",
              "STRAP/TETHER LOOSE             0.497184"
            ]
          },
          "metadata": {},
          "execution_count": 42
        }
      ]
    },
    {
      "cell_type": "code",
      "metadata": {
        "colab": {
          "base_uri": "https://localhost:8080/"
        },
        "id": "UFkL128YW8HI",
        "outputId": "20b07a37-7f74-4c0b-ca48-6a8133efe73a"
      },
      "source": [
        "df_train['Equipment Problems'].replace(uniq_val[uniq_val['Equipment Problems'] < 97.0].index,'OTHERS',inplace=True)\n",
        "df_train['Equipment Problems'].value_counts(normalize=True).to_frame()*100"
      ],
      "execution_count": null,
      "outputs": [
        {
          "output_type": "execute_result",
          "data": {
            "text/html": [
              "<div>\n",
              "<style scoped>\n",
              "    .dataframe tbody tr th:only-of-type {\n",
              "        vertical-align: middle;\n",
              "    }\n",
              "\n",
              "    .dataframe tbody tr th {\n",
              "        vertical-align: top;\n",
              "    }\n",
              "\n",
              "    .dataframe thead th {\n",
              "        text-align: right;\n",
              "    }\n",
              "</style>\n",
              "<table border=\"1\" class=\"dataframe\">\n",
              "  <thead>\n",
              "    <tr style=\"text-align: right;\">\n",
              "      <th></th>\n",
              "      <th>Equipment Problems</th>\n",
              "    </tr>\n",
              "  </thead>\n",
              "  <tbody>\n",
              "    <tr>\n",
              "      <th>NO MISUSE</th>\n",
              "      <td>97.308215</td>\n",
              "    </tr>\n",
              "    <tr>\n",
              "      <th>OTHERS</th>\n",
              "      <td>2.691785</td>\n",
              "    </tr>\n",
              "  </tbody>\n",
              "</table>\n",
              "</div>"
            ],
            "text/plain": [
              "           Equipment Problems\n",
              "NO MISUSE           97.308215\n",
              "OTHERS               2.691785"
            ]
          },
          "metadata": {},
          "execution_count": 43
        }
      ]
    },
    {
      "cell_type": "markdown",
      "metadata": {
        "id": "jz4-7nTdXM19"
      },
      "source": [
        "Re-check unique values of object type columns after Data cleaning"
      ]
    },
    {
      "cell_type": "code",
      "metadata": {
        "colab": {
          "base_uri": "https://localhost:8080/"
        },
        "id": "RYIANJY6XT-v",
        "outputId": "843142d4-6e60-474d-9633-07bd3d6749cd"
      },
      "source": [
        "for column in df_train.select_dtypes(include='object').columns:\n",
        "  print(\"%-30s - %3d\\n\" % (column, df_train[column].nunique()))"
      ],
      "execution_count": null,
      "outputs": [
        {
          "output_type": "stream",
          "name": "stdout",
          "text": [
            "Report Number                  - 3256\n",
            "\n",
            "Local Case Number              - 1429\n",
            "\n",
            "Agency Name                    -  10\n",
            "\n",
            "ACRS Report Type               -   2\n",
            "\n",
            "Route Type                     -   9\n",
            "\n",
            "Road Name                      - 2226\n",
            "\n",
            "Cross-Street Type              -   9\n",
            "\n",
            "Cross-Street Name              - 4525\n",
            "\n",
            "Collision Type                 -   6\n",
            "\n",
            "Weather                        -   4\n",
            "\n",
            "Surface Condition              -   3\n",
            "\n",
            "Light                          -   3\n",
            "\n",
            "Traffic Control                -   4\n",
            "\n",
            "Driver Substance Abuse         -   2\n",
            "\n",
            "Person ID                      - 49209\n",
            "\n",
            "Injury Severity                -   4\n",
            "\n",
            "Drivers License State          -  65\n",
            "\n",
            "Vehicle ID                     - 49160\n",
            "\n",
            "Vehicle Damage Extent          -   5\n",
            "\n",
            "Vehicle First Impact Location  -  15\n",
            "\n",
            "Vehicle Second Impact Location -  15\n",
            "\n",
            "Vehicle Body Type              -   4\n",
            "\n",
            "Vehicle Movement               -   6\n",
            "\n",
            "Vehicle Continuing Dir         -   4\n",
            "\n",
            "Vehicle Going Dir              -   4\n",
            "\n",
            "Driverless Vehicle             -   1\n",
            "\n",
            "Parked Vehicle                 -   2\n",
            "\n",
            "Vehicle Make                   - 884\n",
            "\n",
            "Vehicle Model                  - 3126\n",
            "\n",
            "Equipment Problems             -   2\n",
            "\n",
            "Location                       - 38953\n",
            "\n"
          ]
        }
      ]
    },
    {
      "cell_type": "code",
      "metadata": {
        "colab": {
          "base_uri": "https://localhost:8080/"
        },
        "id": "aHB-hwuD1NA0",
        "outputId": "071f56f7-7211-470a-c214-bf1cad2a0699"
      },
      "source": [
        "print(df_train.shape)\n",
        "print(df_test.shape)\n",
        "df_train.select_dtypes(include='object').columns"
      ],
      "execution_count": null,
      "outputs": [
        {
          "output_type": "stream",
          "name": "stdout",
          "text": [
            "(51490, 36)\n",
            "(77235, 35)\n"
          ]
        },
        {
          "output_type": "execute_result",
          "data": {
            "text/plain": [
              "Index(['Report Number', 'Local Case Number', 'Agency Name', 'ACRS Report Type',\n",
              "       'Route Type', 'Road Name', 'Cross-Street Type', 'Cross-Street Name',\n",
              "       'Collision Type', 'Weather', 'Surface Condition', 'Light',\n",
              "       'Traffic Control', 'Driver Substance Abuse', 'Person ID',\n",
              "       'Injury Severity', 'Drivers License State', 'Vehicle ID',\n",
              "       'Vehicle Damage Extent', 'Vehicle First Impact Location',\n",
              "       'Vehicle Second Impact Location', 'Vehicle Body Type',\n",
              "       'Vehicle Movement', 'Vehicle Continuing Dir', 'Vehicle Going Dir',\n",
              "       'Driverless Vehicle', 'Parked Vehicle', 'Vehicle Make', 'Vehicle Model',\n",
              "       'Equipment Problems', 'Location'],\n",
              "      dtype='object')"
            ]
          },
          "metadata": {},
          "execution_count": 45
        }
      ]
    },
    {
      "cell_type": "markdown",
      "metadata": {
        "id": "F6yrHdyCZKB6"
      },
      "source": [
        "Clean Test data"
      ]
    },
    {
      "cell_type": "code",
      "metadata": {
        "id": "dr2vZvvZZJGB"
      },
      "source": [
        "def clean_cat_cols(col_name, perc, gt_lt):\n",
        "  uniq_val = df_test[col_name].value_counts(normalize=True).to_frame()*100\n",
        "  if gt_lt == '<':\n",
        "    cond = uniq_val[uniq_val[col_name] < perc].index\n",
        "  else:\n",
        "    cond = uniq_val[uniq_val[col_name] > perc].index\n",
        "  df_test[col_name].replace(cond,'OTHERS',inplace=True)"
      ],
      "execution_count": null,
      "outputs": []
    },
    {
      "cell_type": "code",
      "metadata": {
        "id": "0mabvZjibgTe"
      },
      "source": [
        "clean_cat_cols('ACRS Report Type', 60.0, '<')\n",
        "clean_cat_cols('Collision Type', 5.0, '<')\n",
        "clean_cat_cols('Weather', 10.0, '<')\n",
        "clean_cat_cols('Surface Condition', 15.0, '<')\n",
        "clean_cat_cols('Light', 20.0, '<')\n",
        "clean_cat_cols('Traffic Control', 7.0, '<')\n",
        "clean_cat_cols('Driver Substance Abuse', 93.0, '<')\n",
        "clean_cat_cols('Injury Severity', 7.0, '<')\n",
        "clean_cat_cols('Vehicle Body Type', 3.0, '<')\n",
        "clean_cat_cols('Vehicle Movement', 5.0, '<')\n",
        "clean_cat_cols('Equipment Problems', 97.0, '<')"
      ],
      "execution_count": null,
      "outputs": []
    },
    {
      "cell_type": "code",
      "metadata": {
        "colab": {
          "base_uri": "https://localhost:8080/"
        },
        "id": "DaC8O7LrfWJ_",
        "outputId": "35670d16-f0f7-4080-da94-b1919f6b3851"
      },
      "source": [
        "df_train"
      ],
      "execution_count": null,
      "outputs": [
        {
          "output_type": "execute_result",
          "data": {
            "text/html": [
              "<div>\n",
              "<style scoped>\n",
              "    .dataframe tbody tr th:only-of-type {\n",
              "        vertical-align: middle;\n",
              "    }\n",
              "\n",
              "    .dataframe tbody tr th {\n",
              "        vertical-align: top;\n",
              "    }\n",
              "\n",
              "    .dataframe thead th {\n",
              "        text-align: right;\n",
              "    }\n",
              "</style>\n",
              "<table border=\"1\" class=\"dataframe\">\n",
              "  <thead>\n",
              "    <tr style=\"text-align: right;\">\n",
              "      <th></th>\n",
              "      <th>Report Number</th>\n",
              "      <th>Local Case Number</th>\n",
              "      <th>Agency Name</th>\n",
              "      <th>ACRS Report Type</th>\n",
              "      <th>Route Type</th>\n",
              "      <th>Road Name</th>\n",
              "      <th>Cross-Street Type</th>\n",
              "      <th>Cross-Street Name</th>\n",
              "      <th>Collision Type</th>\n",
              "      <th>Weather</th>\n",
              "      <th>Surface Condition</th>\n",
              "      <th>Light</th>\n",
              "      <th>Traffic Control</th>\n",
              "      <th>Driver Substance Abuse</th>\n",
              "      <th>Person ID</th>\n",
              "      <th>Injury Severity</th>\n",
              "      <th>Drivers License State</th>\n",
              "      <th>Vehicle ID</th>\n",
              "      <th>Vehicle Damage Extent</th>\n",
              "      <th>Vehicle First Impact Location</th>\n",
              "      <th>Vehicle Second Impact Location</th>\n",
              "      <th>Vehicle Body Type</th>\n",
              "      <th>Vehicle Movement</th>\n",
              "      <th>Vehicle Continuing Dir</th>\n",
              "      <th>Vehicle Going Dir</th>\n",
              "      <th>Speed Limit</th>\n",
              "      <th>Driverless Vehicle</th>\n",
              "      <th>Parked Vehicle</th>\n",
              "      <th>Vehicle Year</th>\n",
              "      <th>Vehicle Make</th>\n",
              "      <th>Vehicle Model</th>\n",
              "      <th>Equipment Problems</th>\n",
              "      <th>Latitude</th>\n",
              "      <th>Longitude</th>\n",
              "      <th>Location</th>\n",
              "      <th>Fault</th>\n",
              "    </tr>\n",
              "    <tr>\n",
              "      <th>Crash Date/Time</th>\n",
              "      <th></th>\n",
              "      <th></th>\n",
              "      <th></th>\n",
              "      <th></th>\n",
              "      <th></th>\n",
              "      <th></th>\n",
              "      <th></th>\n",
              "      <th></th>\n",
              "      <th></th>\n",
              "      <th></th>\n",
              "      <th></th>\n",
              "      <th></th>\n",
              "      <th></th>\n",
              "      <th></th>\n",
              "      <th></th>\n",
              "      <th></th>\n",
              "      <th></th>\n",
              "      <th></th>\n",
              "      <th></th>\n",
              "      <th></th>\n",
              "      <th></th>\n",
              "      <th></th>\n",
              "      <th></th>\n",
              "      <th></th>\n",
              "      <th></th>\n",
              "      <th></th>\n",
              "      <th></th>\n",
              "      <th></th>\n",
              "      <th></th>\n",
              "      <th></th>\n",
              "      <th></th>\n",
              "      <th></th>\n",
              "      <th></th>\n",
              "      <th></th>\n",
              "      <th></th>\n",
              "      <th></th>\n",
              "    </tr>\n",
              "  </thead>\n",
              "  <tbody>\n",
              "    <tr>\n",
              "      <th>2015-01-01 00:30:00</th>\n",
              "      <td>MP1205</td>\n",
              "      <td>1000</td>\n",
              "      <td>Montgomery County Police</td>\n",
              "      <td>Property Damage Crash</td>\n",
              "      <td>Maryland (State)</td>\n",
              "      <td>ROCKVILLE PIKE</td>\n",
              "      <td>County</td>\n",
              "      <td>GROSVENOR LA</td>\n",
              "      <td>SAME DIR REAR END</td>\n",
              "      <td>CLEAR</td>\n",
              "      <td>DRY</td>\n",
              "      <td>DARK LIGHTS ON</td>\n",
              "      <td>TRAFFIC SIGNAL</td>\n",
              "      <td>NONE DETECTED</td>\n",
              "      <td>FF588D-9E490</td>\n",
              "      <td>NO APPARENT INJURY</td>\n",
              "      <td>MD</td>\n",
              "      <td>E37BE2-D35AD</td>\n",
              "      <td>FUNCTIONAL</td>\n",
              "      <td>SIX OCLOCK</td>\n",
              "      <td>SIX OCLOCK</td>\n",
              "      <td>PASSENGER CAR</td>\n",
              "      <td>OTHERS</td>\n",
              "      <td>North</td>\n",
              "      <td>North</td>\n",
              "      <td>35</td>\n",
              "      <td>No</td>\n",
              "      <td>No</td>\n",
              "      <td>1993</td>\n",
              "      <td>BUICK</td>\n",
              "      <td>4S</td>\n",
              "      <td>NO MISUSE</td>\n",
              "      <td>39.022001</td>\n",
              "      <td>-77.102673</td>\n",
              "      <td>3.2017 7.0635</td>\n",
              "      <td>0</td>\n",
              "    </tr>\n",
              "    <tr>\n",
              "      <th>2015-01-01 01:10:00</th>\n",
              "      <td>MP660D</td>\n",
              "      <td>1001</td>\n",
              "      <td>Montgomery County Police</td>\n",
              "      <td>OTHERS</td>\n",
              "      <td>Ramp</td>\n",
              "      <td>RAMP 5 FR RAMP 8 TO FATHER HURLEY BLVD</td>\n",
              "      <td>County</td>\n",
              "      <td>FATHER HURLEY BLVD</td>\n",
              "      <td>SAME DIR REAR END</td>\n",
              "      <td>CLEAR</td>\n",
              "      <td>DRY</td>\n",
              "      <td>DARK LIGHTS ON</td>\n",
              "      <td>TRAFFIC SIGNAL</td>\n",
              "      <td>NONE DETECTED</td>\n",
              "      <td>4CC24F-6A313</td>\n",
              "      <td>NO APPARENT INJURY</td>\n",
              "      <td>MD</td>\n",
              "      <td>D152EB-018D2</td>\n",
              "      <td>FUNCTIONAL</td>\n",
              "      <td>SIX OCLOCK</td>\n",
              "      <td>SIX OCLOCK</td>\n",
              "      <td>(SPORT) UTILITY VEHICLE</td>\n",
              "      <td>MAKING LEFT TURN</td>\n",
              "      <td>North</td>\n",
              "      <td>North</td>\n",
              "      <td>40</td>\n",
              "      <td>No</td>\n",
              "      <td>No</td>\n",
              "      <td>1987</td>\n",
              "      <td>TRUCK</td>\n",
              "      <td>COMPASS</td>\n",
              "      <td>NO MISUSE</td>\n",
              "      <td>39.196610</td>\n",
              "      <td>-77.265547</td>\n",
              "      <td>3.96,-72546</td>\n",
              "      <td>0</td>\n",
              "    </tr>\n",
              "    <tr>\n",
              "      <th>2015-01-01 01:14:00</th>\n",
              "      <td>MP730G</td>\n",
              "      <td>1002</td>\n",
              "      <td>Montgomery County Police</td>\n",
              "      <td>OTHERS</td>\n",
              "      <td>Maryland (State)</td>\n",
              "      <td>NORBECK RD</td>\n",
              "      <td>County</td>\n",
              "      <td>BAUER DR</td>\n",
              "      <td>OTHERS</td>\n",
              "      <td>CLEAR</td>\n",
              "      <td>DRY</td>\n",
              "      <td>DARK LIGHTS ON</td>\n",
              "      <td>TRAFFIC SIGNAL</td>\n",
              "      <td>OTHERS</td>\n",
              "      <td>BC649E-F588D</td>\n",
              "      <td>NO APPARENT INJURY</td>\n",
              "      <td>QC</td>\n",
              "      <td>89F19E-ADAD9</td>\n",
              "      <td>DISABLING</td>\n",
              "      <td>TWELVE OCLOCK</td>\n",
              "      <td>TWELVE OCLOCK</td>\n",
              "      <td>PICKUP TRUCK</td>\n",
              "      <td>MOVING CONSTANT SPEED</td>\n",
              "      <td>South</td>\n",
              "      <td>West</td>\n",
              "      <td>40</td>\n",
              "      <td>No</td>\n",
              "      <td>No</td>\n",
              "      <td>1999</td>\n",
              "      <td>FORD</td>\n",
              "      <td>PICK UP</td>\n",
              "      <td>NO MISUSE</td>\n",
              "      <td>39.096217</td>\n",
              "      <td>-77.109803</td>\n",
              "      <td>3.9267 7.0833</td>\n",
              "      <td>1</td>\n",
              "    </tr>\n",
              "    <tr>\n",
              "      <th>2015-01-01 01:14:00</th>\n",
              "      <td>MP730G</td>\n",
              "      <td>1002</td>\n",
              "      <td>Gaithersburg Police Depar</td>\n",
              "      <td>OTHERS</td>\n",
              "      <td>Maryland (State)</td>\n",
              "      <td>NORBECK RD</td>\n",
              "      <td>County</td>\n",
              "      <td>BAUER DR</td>\n",
              "      <td>OTHERS</td>\n",
              "      <td>CLEAR</td>\n",
              "      <td>DRY</td>\n",
              "      <td>DARK LIGHTS ON</td>\n",
              "      <td>TRAFFIC SIGNAL</td>\n",
              "      <td>NONE DETECTED</td>\n",
              "      <td>8F55E9-E2CCA</td>\n",
              "      <td>SUSPECTED MINOR INJURY</td>\n",
              "      <td>MD</td>\n",
              "      <td>214CB9-ED29B</td>\n",
              "      <td>DISABLING</td>\n",
              "      <td>TWELVE OCLOCK</td>\n",
              "      <td>TWELVE OCLOCK</td>\n",
              "      <td>PASSENGER CAR</td>\n",
              "      <td>MOVING CONSTANT SPEED</td>\n",
              "      <td>West</td>\n",
              "      <td>West</td>\n",
              "      <td>35</td>\n",
              "      <td>No</td>\n",
              "      <td>No</td>\n",
              "      <td>2002</td>\n",
              "      <td>TOYOTA</td>\n",
              "      <td>CAMRY</td>\n",
              "      <td>NO MISUSE</td>\n",
              "      <td>39.096217</td>\n",
              "      <td>-77.155942</td>\n",
              "      <td>3.9267 7.0833</td>\n",
              "      <td>0</td>\n",
              "    </tr>\n",
              "    <tr>\n",
              "      <th>2015-01-01 01:26:00</th>\n",
              "      <td>MP640D</td>\n",
              "      <td>1001</td>\n",
              "      <td>Montgomery County Police</td>\n",
              "      <td>Property Damage Crash</td>\n",
              "      <td>County</td>\n",
              "      <td>CHRISTOPHER AVE</td>\n",
              "      <td>Maryland (State)</td>\n",
              "      <td>MONTGOMERY VILLAGE AVE</td>\n",
              "      <td>OTHERS</td>\n",
              "      <td>CLEAR</td>\n",
              "      <td>DRY</td>\n",
              "      <td>DARK LIGHTS ON</td>\n",
              "      <td>TRAFFIC SIGNAL</td>\n",
              "      <td>NONE DETECTED</td>\n",
              "      <td>096E6D-8413D</td>\n",
              "      <td>NO APPARENT INJURY</td>\n",
              "      <td>SC</td>\n",
              "      <td>D50D24-AB205</td>\n",
              "      <td>FUNCTIONAL</td>\n",
              "      <td>ONE OCLOCK</td>\n",
              "      <td>ONE OCLOCK</td>\n",
              "      <td>PASSENGER CAR</td>\n",
              "      <td>MAKING LEFT TURN</td>\n",
              "      <td>South</td>\n",
              "      <td>West</td>\n",
              "      <td>35</td>\n",
              "      <td>No</td>\n",
              "      <td>No</td>\n",
              "      <td>1998</td>\n",
              "      <td>VOLKSWGEN</td>\n",
              "      <td>LX150</td>\n",
              "      <td>NO MISUSE</td>\n",
              "      <td>39.158059</td>\n",
              "      <td>-77.204349</td>\n",
              "      <td>3.509 7.039</td>\n",
              "      <td>1</td>\n",
              "    </tr>\n",
              "    <tr>\n",
              "      <th>...</th>\n",
              "      <td>...</td>\n",
              "      <td>...</td>\n",
              "      <td>...</td>\n",
              "      <td>...</td>\n",
              "      <td>...</td>\n",
              "      <td>...</td>\n",
              "      <td>...</td>\n",
              "      <td>...</td>\n",
              "      <td>...</td>\n",
              "      <td>...</td>\n",
              "      <td>...</td>\n",
              "      <td>...</td>\n",
              "      <td>...</td>\n",
              "      <td>...</td>\n",
              "      <td>...</td>\n",
              "      <td>...</td>\n",
              "      <td>...</td>\n",
              "      <td>...</td>\n",
              "      <td>...</td>\n",
              "      <td>...</td>\n",
              "      <td>...</td>\n",
              "      <td>...</td>\n",
              "      <td>...</td>\n",
              "      <td>...</td>\n",
              "      <td>...</td>\n",
              "      <td>...</td>\n",
              "      <td>...</td>\n",
              "      <td>...</td>\n",
              "      <td>...</td>\n",
              "      <td>...</td>\n",
              "      <td>...</td>\n",
              "      <td>...</td>\n",
              "      <td>...</td>\n",
              "      <td>...</td>\n",
              "      <td>...</td>\n",
              "      <td>...</td>\n",
              "    </tr>\n",
              "    <tr>\n",
              "      <th>2021-10-27 18:50:00</th>\n",
              "      <td>MP670Q</td>\n",
              "      <td>1005</td>\n",
              "      <td>Montgomery County Police</td>\n",
              "      <td>Property Damage Crash</td>\n",
              "      <td>Maryland (State)</td>\n",
              "      <td>FREDERICK RD</td>\n",
              "      <td>County</td>\n",
              "      <td>SPUR TO SHADY GROVE RD</td>\n",
              "      <td>SAME DIR REAR END</td>\n",
              "      <td>CLEAR</td>\n",
              "      <td>DRY</td>\n",
              "      <td>DARK LIGHTS ON</td>\n",
              "      <td>OTHERS</td>\n",
              "      <td>NONE DETECTED</td>\n",
              "      <td>E8D7E0-A6678</td>\n",
              "      <td>NO APPARENT INJURY</td>\n",
              "      <td>MD</td>\n",
              "      <td>6E02BE-34AF0</td>\n",
              "      <td>FUNCTIONAL</td>\n",
              "      <td>SIX OCLOCK</td>\n",
              "      <td>SIX OCLOCK</td>\n",
              "      <td>PASSENGER CAR</td>\n",
              "      <td>STOPPED IN TRAFFIC LANE</td>\n",
              "      <td>South</td>\n",
              "      <td>South</td>\n",
              "      <td>40</td>\n",
              "      <td>No</td>\n",
              "      <td>No</td>\n",
              "      <td>2020</td>\n",
              "      <td>CHEVY</td>\n",
              "      <td>BOLT</td>\n",
              "      <td>NO MISUSE</td>\n",
              "      <td>39.122231</td>\n",
              "      <td>-77.177870</td>\n",
              "      <td>3.220,-71768</td>\n",
              "      <td>0</td>\n",
              "    </tr>\n",
              "    <tr>\n",
              "      <th>2021-10-27 19:53:00</th>\n",
              "      <td>MP090T</td>\n",
              "      <td>1005</td>\n",
              "      <td>Montgomery County Police</td>\n",
              "      <td>Property Damage Crash</td>\n",
              "      <td>Maryland (State)</td>\n",
              "      <td>CONNECTICUT AVE</td>\n",
              "      <td>County</td>\n",
              "      <td>JEFFRY ST</td>\n",
              "      <td>SINGLE VEHICLE</td>\n",
              "      <td>CLEAR</td>\n",
              "      <td>DRY</td>\n",
              "      <td>DARK LIGHTS ON</td>\n",
              "      <td>NO CONTROLS</td>\n",
              "      <td>NONE DETECTED</td>\n",
              "      <td>F19898-D79CB</td>\n",
              "      <td>NO APPARENT INJURY</td>\n",
              "      <td>MD</td>\n",
              "      <td>4D12C1-5DD85</td>\n",
              "      <td>DISABLING</td>\n",
              "      <td>TWELVE OCLOCK</td>\n",
              "      <td>TWELVE OCLOCK</td>\n",
              "      <td>PASSENGER CAR</td>\n",
              "      <td>MOVING CONSTANT SPEED</td>\n",
              "      <td>South</td>\n",
              "      <td>South</td>\n",
              "      <td>35</td>\n",
              "      <td>No</td>\n",
              "      <td>No</td>\n",
              "      <td>2008</td>\n",
              "      <td>TOYOTA</td>\n",
              "      <td>COROLLA</td>\n",
              "      <td>NO MISUSE</td>\n",
              "      <td>39.065462</td>\n",
              "      <td>-77.074375</td>\n",
              "      <td>3.6417 7.735</td>\n",
              "      <td>1</td>\n",
              "    </tr>\n",
              "    <tr>\n",
              "      <th>2021-10-27 20:34:00</th>\n",
              "      <td>D5401</td>\n",
              "      <td>1005</td>\n",
              "      <td>Rockville Police Departme</td>\n",
              "      <td>OTHERS</td>\n",
              "      <td>Municipality</td>\n",
              "      <td>COLLEGE PKWY</td>\n",
              "      <td>Municipality</td>\n",
              "      <td>PRINCETON PL</td>\n",
              "      <td>SAME DIR REAR END</td>\n",
              "      <td>CLEAR</td>\n",
              "      <td>DRY</td>\n",
              "      <td>DARK LIGHTS ON</td>\n",
              "      <td>NO CONTROLS</td>\n",
              "      <td>NONE DETECTED</td>\n",
              "      <td>8D56A7-7C18B</td>\n",
              "      <td>NO APPARENT INJURY</td>\n",
              "      <td>MD</td>\n",
              "      <td>C195A1-623D0</td>\n",
              "      <td>DISABLING</td>\n",
              "      <td>TWELVE OCLOCK</td>\n",
              "      <td>TWELVE OCLOCK</td>\n",
              "      <td>(SPORT) UTILITY VEHICLE</td>\n",
              "      <td>OTHERS</td>\n",
              "      <td>East</td>\n",
              "      <td>East</td>\n",
              "      <td>25</td>\n",
              "      <td>No</td>\n",
              "      <td>No</td>\n",
              "      <td>2000</td>\n",
              "      <td>MERCEDES</td>\n",
              "      <td>VN</td>\n",
              "      <td>NO MISUSE</td>\n",
              "      <td>39.101723</td>\n",
              "      <td>-77.160020</td>\n",
              "      <td>3.0733 7.60</td>\n",
              "      <td>1</td>\n",
              "    </tr>\n",
              "    <tr>\n",
              "      <th>2021-10-27 21:09:00</th>\n",
              "      <td>MP6605</td>\n",
              "      <td>1005</td>\n",
              "      <td>Montgomery County Police</td>\n",
              "      <td>OTHERS</td>\n",
              "      <td>County</td>\n",
              "      <td>FATHER HURLEY BLVD</td>\n",
              "      <td>County</td>\n",
              "      <td>SPUR FR MIDDLEBROOK RD</td>\n",
              "      <td>SAME DIR REAR END</td>\n",
              "      <td>CLEAR</td>\n",
              "      <td>DRY</td>\n",
              "      <td>DARK LIGHTS ON</td>\n",
              "      <td>NO CONTROLS</td>\n",
              "      <td>OTHERS</td>\n",
              "      <td>EDD6C3-63988</td>\n",
              "      <td>SUSPECTED MINOR INJURY</td>\n",
              "      <td>MD</td>\n",
              "      <td>4A0260-F65D6</td>\n",
              "      <td>FUNCTIONAL</td>\n",
              "      <td>TWELVE OCLOCK</td>\n",
              "      <td>TWELVE OCLOCK</td>\n",
              "      <td>PASSENGER CAR</td>\n",
              "      <td>MOVING CONSTANT SPEED</td>\n",
              "      <td>North</td>\n",
              "      <td>North</td>\n",
              "      <td>35</td>\n",
              "      <td>No</td>\n",
              "      <td>No</td>\n",
              "      <td>2020</td>\n",
              "      <td>KIA</td>\n",
              "      <td>FORTE</td>\n",
              "      <td>NO MISUSE</td>\n",
              "      <td>39.184603</td>\n",
              "      <td>-77.273492</td>\n",
              "      <td>3.8633 7.7417</td>\n",
              "      <td>1</td>\n",
              "    </tr>\n",
              "    <tr>\n",
              "      <th>2021-10-28 07:19:00</th>\n",
              "      <td>MP560K</td>\n",
              "      <td>1005</td>\n",
              "      <td>Montgomery County Police</td>\n",
              "      <td>OTHERS</td>\n",
              "      <td>Maryland (State)</td>\n",
              "      <td>GREAT SENECA HWY</td>\n",
              "      <td>County</td>\n",
              "      <td>GREY EAGLE CT</td>\n",
              "      <td>OTHERS</td>\n",
              "      <td>CLEAR</td>\n",
              "      <td>DRY</td>\n",
              "      <td>OTHERS</td>\n",
              "      <td>NO CONTROLS</td>\n",
              "      <td>NONE DETECTED</td>\n",
              "      <td>A2010E-BF617</td>\n",
              "      <td>POSSIBLE INJURY</td>\n",
              "      <td>MD</td>\n",
              "      <td>48A5D3-8382C</td>\n",
              "      <td>SUPERFICIAL</td>\n",
              "      <td>SIX OCLOCK</td>\n",
              "      <td>SIX OCLOCK</td>\n",
              "      <td>PASSENGER CAR</td>\n",
              "      <td>STOPPED IN TRAFFIC LANE</td>\n",
              "      <td>South</td>\n",
              "      <td>South</td>\n",
              "      <td>35</td>\n",
              "      <td>No</td>\n",
              "      <td>No</td>\n",
              "      <td>2019</td>\n",
              "      <td>TRANSIT</td>\n",
              "      <td>BUS</td>\n",
              "      <td>NO MISUSE</td>\n",
              "      <td>39.169793</td>\n",
              "      <td>-77.264045</td>\n",
              "      <td>3.6733 7.605</td>\n",
              "      <td>0</td>\n",
              "    </tr>\n",
              "  </tbody>\n",
              "</table>\n",
              "<p>51490 rows × 36 columns</p>\n",
              "</div>"
            ],
            "text/plain": [
              "                    Report Number Local Case Number  ...       Location Fault\n",
              "Crash Date/Time                                      ...                     \n",
              "2015-01-01 00:30:00        MP1205              1000  ...  3.2017 7.0635     0\n",
              "2015-01-01 01:10:00        MP660D              1001  ...    3.96,-72546     0\n",
              "2015-01-01 01:14:00        MP730G              1002  ...  3.9267 7.0833     1\n",
              "2015-01-01 01:14:00        MP730G              1002  ...  3.9267 7.0833     0\n",
              "2015-01-01 01:26:00        MP640D              1001  ...    3.509 7.039     1\n",
              "...                           ...               ...  ...            ...   ...\n",
              "2021-10-27 18:50:00        MP670Q              1005  ...   3.220,-71768     0\n",
              "2021-10-27 19:53:00        MP090T              1005  ...   3.6417 7.735     1\n",
              "2021-10-27 20:34:00         D5401              1005  ...    3.0733 7.60     1\n",
              "2021-10-27 21:09:00        MP6605              1005  ...  3.8633 7.7417     1\n",
              "2021-10-28 07:19:00        MP560K              1005  ...   3.6733 7.605     0\n",
              "\n",
              "[51490 rows x 36 columns]"
            ]
          },
          "metadata": {},
          "execution_count": 48
        }
      ]
    },
    {
      "cell_type": "markdown",
      "metadata": {
        "id": "ESuBXOIqFl1t"
      },
      "source": [
        "# Prediction"
      ]
    },
    {
      "cell_type": "code",
      "metadata": {
        "colab": {
          "base_uri": "https://localhost:8080/"
        },
        "id": "herrIfs26Se3",
        "outputId": "f48dc71a-b928-4253-ef7d-ce211a76d583"
      },
      "source": [
        "!pip install category_encoders"
      ],
      "execution_count": 17,
      "outputs": [
        {
          "output_type": "stream",
          "name": "stdout",
          "text": [
            "Collecting category_encoders\n",
            "  Downloading category_encoders-2.3.0-py2.py3-none-any.whl (82 kB)\n",
            "\u001b[?25l\r\u001b[K     |████                            | 10 kB 27.5 MB/s eta 0:00:01\r\u001b[K     |████████                        | 20 kB 23.0 MB/s eta 0:00:01\r\u001b[K     |████████████                    | 30 kB 11.3 MB/s eta 0:00:01\r\u001b[K     |████████████████                | 40 kB 8.8 MB/s eta 0:00:01\r\u001b[K     |████████████████████            | 51 kB 5.0 MB/s eta 0:00:01\r\u001b[K     |████████████████████████        | 61 kB 5.3 MB/s eta 0:00:01\r\u001b[K     |████████████████████████████    | 71 kB 5.4 MB/s eta 0:00:01\r\u001b[K     |███████████████████████████████▉| 81 kB 5.9 MB/s eta 0:00:01\r\u001b[K     |████████████████████████████████| 82 kB 335 kB/s \n",
            "\u001b[?25hRequirement already satisfied: numpy>=1.14.0 in /usr/local/lib/python3.7/dist-packages (from category_encoders) (1.19.5)\n",
            "Requirement already satisfied: patsy>=0.5.1 in /usr/local/lib/python3.7/dist-packages (from category_encoders) (0.5.2)\n",
            "Requirement already satisfied: pandas>=0.21.1 in /usr/local/lib/python3.7/dist-packages (from category_encoders) (1.1.5)\n",
            "Requirement already satisfied: statsmodels>=0.9.0 in /usr/local/lib/python3.7/dist-packages (from category_encoders) (0.10.2)\n",
            "Requirement already satisfied: scikit-learn>=0.20.0 in /usr/local/lib/python3.7/dist-packages (from category_encoders) (0.22.2.post1)\n",
            "Requirement already satisfied: scipy>=1.0.0 in /usr/local/lib/python3.7/dist-packages (from category_encoders) (1.4.1)\n",
            "Requirement already satisfied: python-dateutil>=2.7.3 in /usr/local/lib/python3.7/dist-packages (from pandas>=0.21.1->category_encoders) (2.8.2)\n",
            "Requirement already satisfied: pytz>=2017.2 in /usr/local/lib/python3.7/dist-packages (from pandas>=0.21.1->category_encoders) (2018.9)\n",
            "Requirement already satisfied: six in /usr/local/lib/python3.7/dist-packages (from patsy>=0.5.1->category_encoders) (1.15.0)\n",
            "Requirement already satisfied: joblib>=0.11 in /usr/local/lib/python3.7/dist-packages (from scikit-learn>=0.20.0->category_encoders) (1.1.0)\n",
            "Installing collected packages: category-encoders\n",
            "Successfully installed category-encoders-2.3.0\n"
          ]
        }
      ]
    },
    {
      "cell_type": "code",
      "metadata": {
        "colab": {
          "base_uri": "https://localhost:8080/"
        },
        "id": "ExQ1Tp6uDRHU",
        "outputId": "09020025-81a8-49d7-c776-27d3765bb705"
      },
      "source": [
        "from xgboost import XGBClassifier\n",
        "from sklearn.model_selection import RepeatedStratifiedKFold\n",
        "from sklearn.model_selection import cross_val_score\n",
        "import category_encoders\n",
        "from category_encoders import TargetEncoder\n",
        "from sklearn.preprocessing import MinMaxScaler"
      ],
      "execution_count": 18,
      "outputs": [
        {
          "output_type": "stream",
          "name": "stderr",
          "text": [
            "/usr/local/lib/python3.7/dist-packages/statsmodels/tools/_testing.py:19: FutureWarning: pandas.util.testing is deprecated. Use the functions in the public API at pandas.testing instead.\n",
            "  import pandas.util.testing as tm\n"
          ]
        }
      ]
    },
    {
      "cell_type": "code",
      "metadata": {
        "id": "cGmQukEbLIBA"
      },
      "source": [
        "t_encoder = TargetEncoder()\n",
        "min_max_scaler = MinMaxScaler()"
      ],
      "execution_count": 19,
      "outputs": []
    },
    {
      "cell_type": "code",
      "metadata": {
        "id": "Thp9IHiPLOs3"
      },
      "source": [
        "X_tarenc_train, y_tarenc_train = df_train.drop(['Fault'], axis=1), df_train.Fault\n",
        "X_tarenc_test = df_test"
      ],
      "execution_count": 20,
      "outputs": []
    },
    {
      "cell_type": "code",
      "metadata": {
        "id": "-c3WimG3LgGG"
      },
      "source": [
        "X_tarenc_train[['Speed Limit','Vehicle Year','Latitude','Longitude']] = min_max_scaler.fit_transform(X_tarenc_train[['Speed Limit','Vehicle Year','Latitude','Longitude']])\n",
        "X_tarenc_test[['Speed Limit','Vehicle Year','Latitude','Longitude']] = min_max_scaler.fit_transform(X_tarenc_test[['Speed Limit','Vehicle Year','Latitude','Longitude']])"
      ],
      "execution_count": 21,
      "outputs": []
    },
    {
      "cell_type": "code",
      "metadata": {
        "colab": {
          "base_uri": "https://localhost:8080/"
        },
        "id": "YMQfp9W-LqiW",
        "outputId": "0d4e3c81-8ab2-49c8-e2b5-b661400b202f"
      },
      "source": [
        "t_encoder.fit(X_tarenc_train, y_tarenc_train)"
      ],
      "execution_count": 22,
      "outputs": [
        {
          "output_type": "execute_result",
          "data": {
            "text/plain": [
              "TargetEncoder(cols=['Agency Name', 'ACRS Report Type', 'Route Type',\n",
              "                    'Cross-Street Type', 'Collision Type', 'Weather',\n",
              "                    'Surface Condition', 'Light', 'Traffic Control',\n",
              "                    'Driver Substance Abuse', 'Injury Severity',\n",
              "                    'Vehicle Damage Extent', 'Vehicle First Impact Location',\n",
              "                    'Vehicle Second Impact Location', 'Vehicle Body Type',\n",
              "                    'Vehicle Movement', 'Vehicle Continuing Dir',\n",
              "                    'Vehicle Going Dir', 'Driverless Vehicle', 'Parked Vehicle',\n",
              "                    'Vehicle Make', 'Vehicle Model', 'Equipment Problems',\n",
              "                    'Location'],\n",
              "              drop_invariant=False, handle_missing='value',\n",
              "              handle_unknown='value', min_samples_leaf=1, return_df=True,\n",
              "              smoothing=1.0, verbose=0)"
            ]
          },
          "metadata": {},
          "execution_count": 22
        }
      ]
    },
    {
      "cell_type": "code",
      "metadata": {
        "id": "d7nTXRK9LzZy"
      },
      "source": [
        "X_tarenc_train = t_encoder.transform(X_tarenc_train)\n",
        "X_tarenc_test = t_encoder.transform(X_tarenc_test)"
      ],
      "execution_count": 23,
      "outputs": []
    },
    {
      "cell_type": "code",
      "metadata": {
        "id": "E94K3sZzgdgn",
        "colab": {
          "base_uri": "https://localhost:8080/"
        },
        "outputId": "077fd562-fb77-4b8a-de2b-514bbe3789cb"
      },
      "source": [
        "print(X_tarenc_train.shape)\n",
        "print(X_tarenc_test.shape)"
      ],
      "execution_count": 24,
      "outputs": [
        {
          "output_type": "stream",
          "name": "stdout",
          "text": [
            "(51490, 28)\n",
            "(77235, 28)\n"
          ]
        }
      ]
    },
    {
      "cell_type": "code",
      "metadata": {
        "id": "9vnLneeFBoKR"
      },
      "source": [
        "# evaluate a give model using cross-validation\n",
        "def evaluate_model(X, y, model):\n",
        "\tcv = RepeatedStratifiedKFold(n_splits=10, n_repeats=3, random_state=1)\n",
        "\tscores = cross_val_score(model, X, y, scoring='accuracy', cv=cv, n_jobs=-1)\n",
        "\treturn scores"
      ],
      "execution_count": 25,
      "outputs": []
    },
    {
      "cell_type": "code",
      "metadata": {
        "id": "O6QsI_19Cjwy"
      },
      "source": [
        "def get_acc(X, y, models):\n",
        "  # evaluate the models and store results\n",
        "  results, names = list(), list()\n",
        "  for name, model in models.items():\n",
        "    scores = evaluate_model(X, y, model)\n",
        "    results.append(scores)\n",
        "    names.append(name)\n",
        "    print('>%s %.3f (%.3f)' % (name, np.mean(scores), np.std(scores)))"
      ],
      "execution_count": 26,
      "outputs": []
    },
    {
      "cell_type": "markdown",
      "metadata": {
        "id": "f4gVPR7XDkJM"
      },
      "source": [
        "Explore XGB #Trees"
      ]
    },
    {
      "cell_type": "code",
      "metadata": {
        "id": "Gmthi1ROD7aa"
      },
      "source": [
        "# get a list of models to evaluate\n",
        "def get_models_exploreTrees():\n",
        "\tmodels = dict()\n",
        "\ttrees = [500]\n",
        "\tfor n in trees:\n",
        "\t\tmodels[str(n)] = XGBClassifier( objective='binary:logistic',n_estimators=n)\n",
        "\treturn models"
      ],
      "execution_count": 30,
      "outputs": []
    },
    {
      "cell_type": "code",
      "metadata": {
        "id": "Ot-kbubciTyz"
      },
      "source": [
        "models = get_models_exploreTrees()"
      ],
      "execution_count": 28,
      "outputs": []
    },
    {
      "cell_type": "code",
      "metadata": {
        "colab": {
          "base_uri": "https://localhost:8080/"
        },
        "id": "Iw-9KVJQKswg",
        "outputId": "928fe820-a76a-4d2d-d0df-f42d87155299"
      },
      "source": [
        "get_acc(X_tarenc_train, y_tarenc_train, models)"
      ],
      "execution_count": 29,
      "outputs": [
        {
          "output_type": "stream",
          "name": "stdout",
          "text": [
            ">500 0.864 (0.004)\n",
            ">1000 0.864 (0.004)\n"
          ]
        }
      ]
    },
    {
      "cell_type": "markdown",
      "metadata": {
        "id": "0A50eQ7mDtTq"
      },
      "source": [
        "Explore XGB Tree Depth "
      ]
    },
    {
      "cell_type": "code",
      "metadata": {
        "id": "FTR6cnnUD1Si"
      },
      "source": [
        "# get a list of models to evaluate\n",
        "def get_models_exploreTreeDepth():\n",
        "\tmodels = dict()\n",
        "\tfor i in range(9):\n",
        "\t\tmodels[str(i)] = XGBClassifier( objective='binary:logistic',max_depth=i)\n",
        "\treturn models"
      ],
      "execution_count": 34,
      "outputs": []
    },
    {
      "cell_type": "code",
      "metadata": {
        "id": "CN6VoBDJEMDf"
      },
      "source": [
        "models = get_models_exploreTreeDepth()"
      ],
      "execution_count": 32,
      "outputs": []
    },
    {
      "cell_type": "code",
      "metadata": {
        "colab": {
          "base_uri": "https://localhost:8080/",
          "height": 358
        },
        "id": "WQrg9555NStI",
        "outputId": "861ca3a9-9709-44e9-8851-82835ce7bf43"
      },
      "source": [
        "get_acc(X_tarenc_train, y_tarenc_train, models)"
      ],
      "execution_count": 33,
      "outputs": [
        {
          "output_type": "stream",
          "name": "stdout",
          "text": [
            ">7 0.864 (0.004)\n",
            ">8 0.865 (0.004)\n",
            ">9 0.865 (0.004)\n"
          ]
        },
        {
          "output_type": "error",
          "ename": "KeyboardInterrupt",
          "evalue": "ignored",
          "traceback": [
            "\u001b[0;31m---------------------------------------------------------------------------\u001b[0m",
            "\u001b[0;31mKeyboardInterrupt\u001b[0m                         Traceback (most recent call last)",
            "\u001b[0;32m<ipython-input-33-3feddef9ee05>\u001b[0m in \u001b[0;36m<module>\u001b[0;34m()\u001b[0m\n\u001b[0;32m----> 1\u001b[0;31m \u001b[0mget_acc\u001b[0m\u001b[0;34m(\u001b[0m\u001b[0mX_tarenc_train\u001b[0m\u001b[0;34m,\u001b[0m \u001b[0my_tarenc_train\u001b[0m\u001b[0;34m,\u001b[0m \u001b[0mmodels\u001b[0m\u001b[0;34m)\u001b[0m\u001b[0;34m\u001b[0m\u001b[0;34m\u001b[0m\u001b[0m\n\u001b[0m",
            "\u001b[0;32m<ipython-input-26-1c4672ce80a5>\u001b[0m in \u001b[0;36mget_acc\u001b[0;34m(X, y, models)\u001b[0m\n\u001b[1;32m      3\u001b[0m   \u001b[0mresults\u001b[0m\u001b[0;34m,\u001b[0m \u001b[0mnames\u001b[0m \u001b[0;34m=\u001b[0m \u001b[0mlist\u001b[0m\u001b[0;34m(\u001b[0m\u001b[0;34m)\u001b[0m\u001b[0;34m,\u001b[0m \u001b[0mlist\u001b[0m\u001b[0;34m(\u001b[0m\u001b[0;34m)\u001b[0m\u001b[0;34m\u001b[0m\u001b[0;34m\u001b[0m\u001b[0m\n\u001b[1;32m      4\u001b[0m   \u001b[0;32mfor\u001b[0m \u001b[0mname\u001b[0m\u001b[0;34m,\u001b[0m \u001b[0mmodel\u001b[0m \u001b[0;32min\u001b[0m \u001b[0mmodels\u001b[0m\u001b[0;34m.\u001b[0m\u001b[0mitems\u001b[0m\u001b[0;34m(\u001b[0m\u001b[0;34m)\u001b[0m\u001b[0;34m:\u001b[0m\u001b[0;34m\u001b[0m\u001b[0;34m\u001b[0m\u001b[0m\n\u001b[0;32m----> 5\u001b[0;31m     \u001b[0mscores\u001b[0m \u001b[0;34m=\u001b[0m \u001b[0mevaluate_model\u001b[0m\u001b[0;34m(\u001b[0m\u001b[0mX\u001b[0m\u001b[0;34m,\u001b[0m \u001b[0my\u001b[0m\u001b[0;34m,\u001b[0m \u001b[0mmodel\u001b[0m\u001b[0;34m)\u001b[0m\u001b[0;34m\u001b[0m\u001b[0;34m\u001b[0m\u001b[0m\n\u001b[0m\u001b[1;32m      6\u001b[0m     \u001b[0mresults\u001b[0m\u001b[0;34m.\u001b[0m\u001b[0mappend\u001b[0m\u001b[0;34m(\u001b[0m\u001b[0mscores\u001b[0m\u001b[0;34m)\u001b[0m\u001b[0;34m\u001b[0m\u001b[0;34m\u001b[0m\u001b[0m\n\u001b[1;32m      7\u001b[0m     \u001b[0mnames\u001b[0m\u001b[0;34m.\u001b[0m\u001b[0mappend\u001b[0m\u001b[0;34m(\u001b[0m\u001b[0mname\u001b[0m\u001b[0;34m)\u001b[0m\u001b[0;34m\u001b[0m\u001b[0;34m\u001b[0m\u001b[0m\n",
            "\u001b[0;32m<ipython-input-25-ae3a98855276>\u001b[0m in \u001b[0;36mevaluate_model\u001b[0;34m(X, y, model)\u001b[0m\n\u001b[1;32m      2\u001b[0m \u001b[0;32mdef\u001b[0m \u001b[0mevaluate_model\u001b[0m\u001b[0;34m(\u001b[0m\u001b[0mX\u001b[0m\u001b[0;34m,\u001b[0m \u001b[0my\u001b[0m\u001b[0;34m,\u001b[0m \u001b[0mmodel\u001b[0m\u001b[0;34m)\u001b[0m\u001b[0;34m:\u001b[0m\u001b[0;34m\u001b[0m\u001b[0;34m\u001b[0m\u001b[0m\n\u001b[1;32m      3\u001b[0m         \u001b[0mcv\u001b[0m \u001b[0;34m=\u001b[0m \u001b[0mRepeatedStratifiedKFold\u001b[0m\u001b[0;34m(\u001b[0m\u001b[0mn_splits\u001b[0m\u001b[0;34m=\u001b[0m\u001b[0;36m10\u001b[0m\u001b[0;34m,\u001b[0m \u001b[0mn_repeats\u001b[0m\u001b[0;34m=\u001b[0m\u001b[0;36m3\u001b[0m\u001b[0;34m,\u001b[0m \u001b[0mrandom_state\u001b[0m\u001b[0;34m=\u001b[0m\u001b[0;36m1\u001b[0m\u001b[0;34m)\u001b[0m\u001b[0;34m\u001b[0m\u001b[0;34m\u001b[0m\u001b[0m\n\u001b[0;32m----> 4\u001b[0;31m         \u001b[0mscores\u001b[0m \u001b[0;34m=\u001b[0m \u001b[0mcross_val_score\u001b[0m\u001b[0;34m(\u001b[0m\u001b[0mmodel\u001b[0m\u001b[0;34m,\u001b[0m \u001b[0mX\u001b[0m\u001b[0;34m,\u001b[0m \u001b[0my\u001b[0m\u001b[0;34m,\u001b[0m \u001b[0mscoring\u001b[0m\u001b[0;34m=\u001b[0m\u001b[0;34m'accuracy'\u001b[0m\u001b[0;34m,\u001b[0m \u001b[0mcv\u001b[0m\u001b[0;34m=\u001b[0m\u001b[0mcv\u001b[0m\u001b[0;34m,\u001b[0m \u001b[0mn_jobs\u001b[0m\u001b[0;34m=\u001b[0m\u001b[0;34m-\u001b[0m\u001b[0;36m1\u001b[0m\u001b[0;34m)\u001b[0m\u001b[0;34m\u001b[0m\u001b[0;34m\u001b[0m\u001b[0m\n\u001b[0m\u001b[1;32m      5\u001b[0m         \u001b[0;32mreturn\u001b[0m \u001b[0mscores\u001b[0m\u001b[0;34m\u001b[0m\u001b[0;34m\u001b[0m\u001b[0m\n",
            "\u001b[0;32m/usr/local/lib/python3.7/dist-packages/sklearn/model_selection/_validation.py\u001b[0m in \u001b[0;36mcross_val_score\u001b[0;34m(estimator, X, y, groups, scoring, cv, n_jobs, verbose, fit_params, pre_dispatch, error_score)\u001b[0m\n\u001b[1;32m    388\u001b[0m                                 \u001b[0mfit_params\u001b[0m\u001b[0;34m=\u001b[0m\u001b[0mfit_params\u001b[0m\u001b[0;34m,\u001b[0m\u001b[0;34m\u001b[0m\u001b[0;34m\u001b[0m\u001b[0m\n\u001b[1;32m    389\u001b[0m                                 \u001b[0mpre_dispatch\u001b[0m\u001b[0;34m=\u001b[0m\u001b[0mpre_dispatch\u001b[0m\u001b[0;34m,\u001b[0m\u001b[0;34m\u001b[0m\u001b[0;34m\u001b[0m\u001b[0m\n\u001b[0;32m--> 390\u001b[0;31m                                 error_score=error_score)\n\u001b[0m\u001b[1;32m    391\u001b[0m     \u001b[0;32mreturn\u001b[0m \u001b[0mcv_results\u001b[0m\u001b[0;34m[\u001b[0m\u001b[0;34m'test_score'\u001b[0m\u001b[0;34m]\u001b[0m\u001b[0;34m\u001b[0m\u001b[0;34m\u001b[0m\u001b[0m\n\u001b[1;32m    392\u001b[0m \u001b[0;34m\u001b[0m\u001b[0m\n",
            "\u001b[0;32m/usr/local/lib/python3.7/dist-packages/sklearn/model_selection/_validation.py\u001b[0m in \u001b[0;36mcross_validate\u001b[0;34m(estimator, X, y, groups, scoring, cv, n_jobs, verbose, fit_params, pre_dispatch, return_train_score, return_estimator, error_score)\u001b[0m\n\u001b[1;32m    234\u001b[0m             \u001b[0mreturn_times\u001b[0m\u001b[0;34m=\u001b[0m\u001b[0;32mTrue\u001b[0m\u001b[0;34m,\u001b[0m \u001b[0mreturn_estimator\u001b[0m\u001b[0;34m=\u001b[0m\u001b[0mreturn_estimator\u001b[0m\u001b[0;34m,\u001b[0m\u001b[0;34m\u001b[0m\u001b[0;34m\u001b[0m\u001b[0m\n\u001b[1;32m    235\u001b[0m             error_score=error_score)\n\u001b[0;32m--> 236\u001b[0;31m         for train, test in cv.split(X, y, groups))\n\u001b[0m\u001b[1;32m    237\u001b[0m \u001b[0;34m\u001b[0m\u001b[0m\n\u001b[1;32m    238\u001b[0m     \u001b[0mzipped_scores\u001b[0m \u001b[0;34m=\u001b[0m \u001b[0mlist\u001b[0m\u001b[0;34m(\u001b[0m\u001b[0mzip\u001b[0m\u001b[0;34m(\u001b[0m\u001b[0;34m*\u001b[0m\u001b[0mscores\u001b[0m\u001b[0;34m)\u001b[0m\u001b[0;34m)\u001b[0m\u001b[0;34m\u001b[0m\u001b[0;34m\u001b[0m\u001b[0m\n",
            "\u001b[0;32m/usr/local/lib/python3.7/dist-packages/joblib/parallel.py\u001b[0m in \u001b[0;36m__call__\u001b[0;34m(self, iterable)\u001b[0m\n\u001b[1;32m   1054\u001b[0m \u001b[0;34m\u001b[0m\u001b[0m\n\u001b[1;32m   1055\u001b[0m             \u001b[0;32mwith\u001b[0m \u001b[0mself\u001b[0m\u001b[0;34m.\u001b[0m\u001b[0m_backend\u001b[0m\u001b[0;34m.\u001b[0m\u001b[0mretrieval_context\u001b[0m\u001b[0;34m(\u001b[0m\u001b[0;34m)\u001b[0m\u001b[0;34m:\u001b[0m\u001b[0;34m\u001b[0m\u001b[0;34m\u001b[0m\u001b[0m\n\u001b[0;32m-> 1056\u001b[0;31m                 \u001b[0mself\u001b[0m\u001b[0;34m.\u001b[0m\u001b[0mretrieve\u001b[0m\u001b[0;34m(\u001b[0m\u001b[0;34m)\u001b[0m\u001b[0;34m\u001b[0m\u001b[0;34m\u001b[0m\u001b[0m\n\u001b[0m\u001b[1;32m   1057\u001b[0m             \u001b[0;31m# Make sure that we get a last message telling us we are done\u001b[0m\u001b[0;34m\u001b[0m\u001b[0;34m\u001b[0m\u001b[0;34m\u001b[0m\u001b[0m\n\u001b[1;32m   1058\u001b[0m             \u001b[0melapsed_time\u001b[0m \u001b[0;34m=\u001b[0m \u001b[0mtime\u001b[0m\u001b[0;34m.\u001b[0m\u001b[0mtime\u001b[0m\u001b[0;34m(\u001b[0m\u001b[0;34m)\u001b[0m \u001b[0;34m-\u001b[0m \u001b[0mself\u001b[0m\u001b[0;34m.\u001b[0m\u001b[0m_start_time\u001b[0m\u001b[0;34m\u001b[0m\u001b[0;34m\u001b[0m\u001b[0m\n",
            "\u001b[0;32m/usr/local/lib/python3.7/dist-packages/joblib/parallel.py\u001b[0m in \u001b[0;36mretrieve\u001b[0;34m(self)\u001b[0m\n\u001b[1;32m    933\u001b[0m             \u001b[0;32mtry\u001b[0m\u001b[0;34m:\u001b[0m\u001b[0;34m\u001b[0m\u001b[0;34m\u001b[0m\u001b[0m\n\u001b[1;32m    934\u001b[0m                 \u001b[0;32mif\u001b[0m \u001b[0mgetattr\u001b[0m\u001b[0;34m(\u001b[0m\u001b[0mself\u001b[0m\u001b[0;34m.\u001b[0m\u001b[0m_backend\u001b[0m\u001b[0;34m,\u001b[0m \u001b[0;34m'supports_timeout'\u001b[0m\u001b[0;34m,\u001b[0m \u001b[0;32mFalse\u001b[0m\u001b[0;34m)\u001b[0m\u001b[0;34m:\u001b[0m\u001b[0;34m\u001b[0m\u001b[0;34m\u001b[0m\u001b[0m\n\u001b[0;32m--> 935\u001b[0;31m                     \u001b[0mself\u001b[0m\u001b[0;34m.\u001b[0m\u001b[0m_output\u001b[0m\u001b[0;34m.\u001b[0m\u001b[0mextend\u001b[0m\u001b[0;34m(\u001b[0m\u001b[0mjob\u001b[0m\u001b[0;34m.\u001b[0m\u001b[0mget\u001b[0m\u001b[0;34m(\u001b[0m\u001b[0mtimeout\u001b[0m\u001b[0;34m=\u001b[0m\u001b[0mself\u001b[0m\u001b[0;34m.\u001b[0m\u001b[0mtimeout\u001b[0m\u001b[0;34m)\u001b[0m\u001b[0;34m)\u001b[0m\u001b[0;34m\u001b[0m\u001b[0;34m\u001b[0m\u001b[0m\n\u001b[0m\u001b[1;32m    936\u001b[0m                 \u001b[0;32melse\u001b[0m\u001b[0;34m:\u001b[0m\u001b[0;34m\u001b[0m\u001b[0;34m\u001b[0m\u001b[0m\n\u001b[1;32m    937\u001b[0m                     \u001b[0mself\u001b[0m\u001b[0;34m.\u001b[0m\u001b[0m_output\u001b[0m\u001b[0;34m.\u001b[0m\u001b[0mextend\u001b[0m\u001b[0;34m(\u001b[0m\u001b[0mjob\u001b[0m\u001b[0;34m.\u001b[0m\u001b[0mget\u001b[0m\u001b[0;34m(\u001b[0m\u001b[0;34m)\u001b[0m\u001b[0;34m)\u001b[0m\u001b[0;34m\u001b[0m\u001b[0;34m\u001b[0m\u001b[0m\n",
            "\u001b[0;32m/usr/local/lib/python3.7/dist-packages/joblib/_parallel_backends.py\u001b[0m in \u001b[0;36mwrap_future_result\u001b[0;34m(future, timeout)\u001b[0m\n\u001b[1;32m    540\u001b[0m         AsyncResults.get from multiprocessing.\"\"\"\n\u001b[1;32m    541\u001b[0m         \u001b[0;32mtry\u001b[0m\u001b[0;34m:\u001b[0m\u001b[0;34m\u001b[0m\u001b[0;34m\u001b[0m\u001b[0m\n\u001b[0;32m--> 542\u001b[0;31m             \u001b[0;32mreturn\u001b[0m \u001b[0mfuture\u001b[0m\u001b[0;34m.\u001b[0m\u001b[0mresult\u001b[0m\u001b[0;34m(\u001b[0m\u001b[0mtimeout\u001b[0m\u001b[0;34m=\u001b[0m\u001b[0mtimeout\u001b[0m\u001b[0;34m)\u001b[0m\u001b[0;34m\u001b[0m\u001b[0;34m\u001b[0m\u001b[0m\n\u001b[0m\u001b[1;32m    543\u001b[0m         \u001b[0;32mexcept\u001b[0m \u001b[0mCfTimeoutError\u001b[0m \u001b[0;32mas\u001b[0m \u001b[0me\u001b[0m\u001b[0;34m:\u001b[0m\u001b[0;34m\u001b[0m\u001b[0;34m\u001b[0m\u001b[0m\n\u001b[1;32m    544\u001b[0m             \u001b[0;32mraise\u001b[0m \u001b[0mTimeoutError\u001b[0m \u001b[0;32mfrom\u001b[0m \u001b[0me\u001b[0m\u001b[0;34m\u001b[0m\u001b[0;34m\u001b[0m\u001b[0m\n",
            "\u001b[0;32m/usr/lib/python3.7/concurrent/futures/_base.py\u001b[0m in \u001b[0;36mresult\u001b[0;34m(self, timeout)\u001b[0m\n\u001b[1;32m    428\u001b[0m                 \u001b[0;32mreturn\u001b[0m \u001b[0mself\u001b[0m\u001b[0;34m.\u001b[0m\u001b[0m__get_result\u001b[0m\u001b[0;34m(\u001b[0m\u001b[0;34m)\u001b[0m\u001b[0;34m\u001b[0m\u001b[0;34m\u001b[0m\u001b[0m\n\u001b[1;32m    429\u001b[0m \u001b[0;34m\u001b[0m\u001b[0m\n\u001b[0;32m--> 430\u001b[0;31m             \u001b[0mself\u001b[0m\u001b[0;34m.\u001b[0m\u001b[0m_condition\u001b[0m\u001b[0;34m.\u001b[0m\u001b[0mwait\u001b[0m\u001b[0;34m(\u001b[0m\u001b[0mtimeout\u001b[0m\u001b[0;34m)\u001b[0m\u001b[0;34m\u001b[0m\u001b[0;34m\u001b[0m\u001b[0m\n\u001b[0m\u001b[1;32m    431\u001b[0m \u001b[0;34m\u001b[0m\u001b[0m\n\u001b[1;32m    432\u001b[0m             \u001b[0;32mif\u001b[0m \u001b[0mself\u001b[0m\u001b[0;34m.\u001b[0m\u001b[0m_state\u001b[0m \u001b[0;32min\u001b[0m \u001b[0;34m[\u001b[0m\u001b[0mCANCELLED\u001b[0m\u001b[0;34m,\u001b[0m \u001b[0mCANCELLED_AND_NOTIFIED\u001b[0m\u001b[0;34m]\u001b[0m\u001b[0;34m:\u001b[0m\u001b[0;34m\u001b[0m\u001b[0;34m\u001b[0m\u001b[0m\n",
            "\u001b[0;32m/usr/lib/python3.7/threading.py\u001b[0m in \u001b[0;36mwait\u001b[0;34m(self, timeout)\u001b[0m\n\u001b[1;32m    294\u001b[0m         \u001b[0;32mtry\u001b[0m\u001b[0;34m:\u001b[0m    \u001b[0;31m# restore state no matter what (e.g., KeyboardInterrupt)\u001b[0m\u001b[0;34m\u001b[0m\u001b[0;34m\u001b[0m\u001b[0m\n\u001b[1;32m    295\u001b[0m             \u001b[0;32mif\u001b[0m \u001b[0mtimeout\u001b[0m \u001b[0;32mis\u001b[0m \u001b[0;32mNone\u001b[0m\u001b[0;34m:\u001b[0m\u001b[0;34m\u001b[0m\u001b[0;34m\u001b[0m\u001b[0m\n\u001b[0;32m--> 296\u001b[0;31m                 \u001b[0mwaiter\u001b[0m\u001b[0;34m.\u001b[0m\u001b[0macquire\u001b[0m\u001b[0;34m(\u001b[0m\u001b[0;34m)\u001b[0m\u001b[0;34m\u001b[0m\u001b[0;34m\u001b[0m\u001b[0m\n\u001b[0m\u001b[1;32m    297\u001b[0m                 \u001b[0mgotit\u001b[0m \u001b[0;34m=\u001b[0m \u001b[0;32mTrue\u001b[0m\u001b[0;34m\u001b[0m\u001b[0;34m\u001b[0m\u001b[0m\n\u001b[1;32m    298\u001b[0m             \u001b[0;32melse\u001b[0m\u001b[0;34m:\u001b[0m\u001b[0;34m\u001b[0m\u001b[0;34m\u001b[0m\u001b[0m\n",
            "\u001b[0;31mKeyboardInterrupt\u001b[0m: "
          ]
        }
      ]
    },
    {
      "cell_type": "markdown",
      "metadata": {
        "id": "JYC1tX8uEPxb"
      },
      "source": [
        "Explore Learning Rate"
      ]
    },
    {
      "cell_type": "code",
      "metadata": {
        "id": "fD0wvXJ9E3wn"
      },
      "source": [
        "# get a list of models to evaluate\n",
        "def get_models_exploreLR():\n",
        "\tmodels = dict()\n",
        "\trates = [0.5]\n",
        "\tfor r in rates:\n",
        "\t\tkey = '%.4f' % r\n",
        "\t\tmodels[key] = XGBClassifier( objective='binary:logistic',learning_rate=r)\n",
        "\treturn models"
      ],
      "execution_count": 42,
      "outputs": []
    },
    {
      "cell_type": "code",
      "metadata": {
        "id": "NKYSJV7nFaqM"
      },
      "source": [
        "models = get_models_exploreLR()"
      ],
      "execution_count": 40,
      "outputs": []
    },
    {
      "cell_type": "code",
      "metadata": {
        "id": "SKh0eMpb7x8m",
        "colab": {
          "base_uri": "https://localhost:8080/",
          "height": 341
        },
        "outputId": "d4c824c4-5a24-4969-84e4-a760a8c8ba9e"
      },
      "source": [
        "get_acc(X_tarenc_train, y_tarenc_train, models)"
      ],
      "execution_count": 41,
      "outputs": [
        {
          "output_type": "stream",
          "name": "stdout",
          "text": [
            ">0.6000 0.863 (0.004)\n",
            ">0.7000 0.861 (0.004)\n"
          ]
        },
        {
          "output_type": "error",
          "ename": "KeyboardInterrupt",
          "evalue": "ignored",
          "traceback": [
            "\u001b[0;31m---------------------------------------------------------------------------\u001b[0m",
            "\u001b[0;31mKeyboardInterrupt\u001b[0m                         Traceback (most recent call last)",
            "\u001b[0;32m<ipython-input-41-3feddef9ee05>\u001b[0m in \u001b[0;36m<module>\u001b[0;34m()\u001b[0m\n\u001b[0;32m----> 1\u001b[0;31m \u001b[0mget_acc\u001b[0m\u001b[0;34m(\u001b[0m\u001b[0mX_tarenc_train\u001b[0m\u001b[0;34m,\u001b[0m \u001b[0my_tarenc_train\u001b[0m\u001b[0;34m,\u001b[0m \u001b[0mmodels\u001b[0m\u001b[0;34m)\u001b[0m\u001b[0;34m\u001b[0m\u001b[0;34m\u001b[0m\u001b[0m\n\u001b[0m",
            "\u001b[0;32m<ipython-input-26-1c4672ce80a5>\u001b[0m in \u001b[0;36mget_acc\u001b[0;34m(X, y, models)\u001b[0m\n\u001b[1;32m      3\u001b[0m   \u001b[0mresults\u001b[0m\u001b[0;34m,\u001b[0m \u001b[0mnames\u001b[0m \u001b[0;34m=\u001b[0m \u001b[0mlist\u001b[0m\u001b[0;34m(\u001b[0m\u001b[0;34m)\u001b[0m\u001b[0;34m,\u001b[0m \u001b[0mlist\u001b[0m\u001b[0;34m(\u001b[0m\u001b[0;34m)\u001b[0m\u001b[0;34m\u001b[0m\u001b[0;34m\u001b[0m\u001b[0m\n\u001b[1;32m      4\u001b[0m   \u001b[0;32mfor\u001b[0m \u001b[0mname\u001b[0m\u001b[0;34m,\u001b[0m \u001b[0mmodel\u001b[0m \u001b[0;32min\u001b[0m \u001b[0mmodels\u001b[0m\u001b[0;34m.\u001b[0m\u001b[0mitems\u001b[0m\u001b[0;34m(\u001b[0m\u001b[0;34m)\u001b[0m\u001b[0;34m:\u001b[0m\u001b[0;34m\u001b[0m\u001b[0;34m\u001b[0m\u001b[0m\n\u001b[0;32m----> 5\u001b[0;31m     \u001b[0mscores\u001b[0m \u001b[0;34m=\u001b[0m \u001b[0mevaluate_model\u001b[0m\u001b[0;34m(\u001b[0m\u001b[0mX\u001b[0m\u001b[0;34m,\u001b[0m \u001b[0my\u001b[0m\u001b[0;34m,\u001b[0m \u001b[0mmodel\u001b[0m\u001b[0;34m)\u001b[0m\u001b[0;34m\u001b[0m\u001b[0;34m\u001b[0m\u001b[0m\n\u001b[0m\u001b[1;32m      6\u001b[0m     \u001b[0mresults\u001b[0m\u001b[0;34m.\u001b[0m\u001b[0mappend\u001b[0m\u001b[0;34m(\u001b[0m\u001b[0mscores\u001b[0m\u001b[0;34m)\u001b[0m\u001b[0;34m\u001b[0m\u001b[0;34m\u001b[0m\u001b[0m\n\u001b[1;32m      7\u001b[0m     \u001b[0mnames\u001b[0m\u001b[0;34m.\u001b[0m\u001b[0mappend\u001b[0m\u001b[0;34m(\u001b[0m\u001b[0mname\u001b[0m\u001b[0;34m)\u001b[0m\u001b[0;34m\u001b[0m\u001b[0;34m\u001b[0m\u001b[0m\n",
            "\u001b[0;32m<ipython-input-25-ae3a98855276>\u001b[0m in \u001b[0;36mevaluate_model\u001b[0;34m(X, y, model)\u001b[0m\n\u001b[1;32m      2\u001b[0m \u001b[0;32mdef\u001b[0m \u001b[0mevaluate_model\u001b[0m\u001b[0;34m(\u001b[0m\u001b[0mX\u001b[0m\u001b[0;34m,\u001b[0m \u001b[0my\u001b[0m\u001b[0;34m,\u001b[0m \u001b[0mmodel\u001b[0m\u001b[0;34m)\u001b[0m\u001b[0;34m:\u001b[0m\u001b[0;34m\u001b[0m\u001b[0;34m\u001b[0m\u001b[0m\n\u001b[1;32m      3\u001b[0m         \u001b[0mcv\u001b[0m \u001b[0;34m=\u001b[0m \u001b[0mRepeatedStratifiedKFold\u001b[0m\u001b[0;34m(\u001b[0m\u001b[0mn_splits\u001b[0m\u001b[0;34m=\u001b[0m\u001b[0;36m10\u001b[0m\u001b[0;34m,\u001b[0m \u001b[0mn_repeats\u001b[0m\u001b[0;34m=\u001b[0m\u001b[0;36m3\u001b[0m\u001b[0;34m,\u001b[0m \u001b[0mrandom_state\u001b[0m\u001b[0;34m=\u001b[0m\u001b[0;36m1\u001b[0m\u001b[0;34m)\u001b[0m\u001b[0;34m\u001b[0m\u001b[0;34m\u001b[0m\u001b[0m\n\u001b[0;32m----> 4\u001b[0;31m         \u001b[0mscores\u001b[0m \u001b[0;34m=\u001b[0m \u001b[0mcross_val_score\u001b[0m\u001b[0;34m(\u001b[0m\u001b[0mmodel\u001b[0m\u001b[0;34m,\u001b[0m \u001b[0mX\u001b[0m\u001b[0;34m,\u001b[0m \u001b[0my\u001b[0m\u001b[0;34m,\u001b[0m \u001b[0mscoring\u001b[0m\u001b[0;34m=\u001b[0m\u001b[0;34m'accuracy'\u001b[0m\u001b[0;34m,\u001b[0m \u001b[0mcv\u001b[0m\u001b[0;34m=\u001b[0m\u001b[0mcv\u001b[0m\u001b[0;34m,\u001b[0m \u001b[0mn_jobs\u001b[0m\u001b[0;34m=\u001b[0m\u001b[0;34m-\u001b[0m\u001b[0;36m1\u001b[0m\u001b[0;34m)\u001b[0m\u001b[0;34m\u001b[0m\u001b[0;34m\u001b[0m\u001b[0m\n\u001b[0m\u001b[1;32m      5\u001b[0m         \u001b[0;32mreturn\u001b[0m \u001b[0mscores\u001b[0m\u001b[0;34m\u001b[0m\u001b[0;34m\u001b[0m\u001b[0m\n",
            "\u001b[0;32m/usr/local/lib/python3.7/dist-packages/sklearn/model_selection/_validation.py\u001b[0m in \u001b[0;36mcross_val_score\u001b[0;34m(estimator, X, y, groups, scoring, cv, n_jobs, verbose, fit_params, pre_dispatch, error_score)\u001b[0m\n\u001b[1;32m    388\u001b[0m                                 \u001b[0mfit_params\u001b[0m\u001b[0;34m=\u001b[0m\u001b[0mfit_params\u001b[0m\u001b[0;34m,\u001b[0m\u001b[0;34m\u001b[0m\u001b[0;34m\u001b[0m\u001b[0m\n\u001b[1;32m    389\u001b[0m                                 \u001b[0mpre_dispatch\u001b[0m\u001b[0;34m=\u001b[0m\u001b[0mpre_dispatch\u001b[0m\u001b[0;34m,\u001b[0m\u001b[0;34m\u001b[0m\u001b[0;34m\u001b[0m\u001b[0m\n\u001b[0;32m--> 390\u001b[0;31m                                 error_score=error_score)\n\u001b[0m\u001b[1;32m    391\u001b[0m     \u001b[0;32mreturn\u001b[0m \u001b[0mcv_results\u001b[0m\u001b[0;34m[\u001b[0m\u001b[0;34m'test_score'\u001b[0m\u001b[0;34m]\u001b[0m\u001b[0;34m\u001b[0m\u001b[0;34m\u001b[0m\u001b[0m\n\u001b[1;32m    392\u001b[0m \u001b[0;34m\u001b[0m\u001b[0m\n",
            "\u001b[0;32m/usr/local/lib/python3.7/dist-packages/sklearn/model_selection/_validation.py\u001b[0m in \u001b[0;36mcross_validate\u001b[0;34m(estimator, X, y, groups, scoring, cv, n_jobs, verbose, fit_params, pre_dispatch, return_train_score, return_estimator, error_score)\u001b[0m\n\u001b[1;32m    234\u001b[0m             \u001b[0mreturn_times\u001b[0m\u001b[0;34m=\u001b[0m\u001b[0;32mTrue\u001b[0m\u001b[0;34m,\u001b[0m \u001b[0mreturn_estimator\u001b[0m\u001b[0;34m=\u001b[0m\u001b[0mreturn_estimator\u001b[0m\u001b[0;34m,\u001b[0m\u001b[0;34m\u001b[0m\u001b[0;34m\u001b[0m\u001b[0m\n\u001b[1;32m    235\u001b[0m             error_score=error_score)\n\u001b[0;32m--> 236\u001b[0;31m         for train, test in cv.split(X, y, groups))\n\u001b[0m\u001b[1;32m    237\u001b[0m \u001b[0;34m\u001b[0m\u001b[0m\n\u001b[1;32m    238\u001b[0m     \u001b[0mzipped_scores\u001b[0m \u001b[0;34m=\u001b[0m \u001b[0mlist\u001b[0m\u001b[0;34m(\u001b[0m\u001b[0mzip\u001b[0m\u001b[0;34m(\u001b[0m\u001b[0;34m*\u001b[0m\u001b[0mscores\u001b[0m\u001b[0;34m)\u001b[0m\u001b[0;34m)\u001b[0m\u001b[0;34m\u001b[0m\u001b[0;34m\u001b[0m\u001b[0m\n",
            "\u001b[0;32m/usr/local/lib/python3.7/dist-packages/joblib/parallel.py\u001b[0m in \u001b[0;36m__call__\u001b[0;34m(self, iterable)\u001b[0m\n\u001b[1;32m   1054\u001b[0m \u001b[0;34m\u001b[0m\u001b[0m\n\u001b[1;32m   1055\u001b[0m             \u001b[0;32mwith\u001b[0m \u001b[0mself\u001b[0m\u001b[0;34m.\u001b[0m\u001b[0m_backend\u001b[0m\u001b[0;34m.\u001b[0m\u001b[0mretrieval_context\u001b[0m\u001b[0;34m(\u001b[0m\u001b[0;34m)\u001b[0m\u001b[0;34m:\u001b[0m\u001b[0;34m\u001b[0m\u001b[0;34m\u001b[0m\u001b[0m\n\u001b[0;32m-> 1056\u001b[0;31m                 \u001b[0mself\u001b[0m\u001b[0;34m.\u001b[0m\u001b[0mretrieve\u001b[0m\u001b[0;34m(\u001b[0m\u001b[0;34m)\u001b[0m\u001b[0;34m\u001b[0m\u001b[0;34m\u001b[0m\u001b[0m\n\u001b[0m\u001b[1;32m   1057\u001b[0m             \u001b[0;31m# Make sure that we get a last message telling us we are done\u001b[0m\u001b[0;34m\u001b[0m\u001b[0;34m\u001b[0m\u001b[0;34m\u001b[0m\u001b[0m\n\u001b[1;32m   1058\u001b[0m             \u001b[0melapsed_time\u001b[0m \u001b[0;34m=\u001b[0m \u001b[0mtime\u001b[0m\u001b[0;34m.\u001b[0m\u001b[0mtime\u001b[0m\u001b[0;34m(\u001b[0m\u001b[0;34m)\u001b[0m \u001b[0;34m-\u001b[0m \u001b[0mself\u001b[0m\u001b[0;34m.\u001b[0m\u001b[0m_start_time\u001b[0m\u001b[0;34m\u001b[0m\u001b[0;34m\u001b[0m\u001b[0m\n",
            "\u001b[0;32m/usr/local/lib/python3.7/dist-packages/joblib/parallel.py\u001b[0m in \u001b[0;36mretrieve\u001b[0;34m(self)\u001b[0m\n\u001b[1;32m    933\u001b[0m             \u001b[0;32mtry\u001b[0m\u001b[0;34m:\u001b[0m\u001b[0;34m\u001b[0m\u001b[0;34m\u001b[0m\u001b[0m\n\u001b[1;32m    934\u001b[0m                 \u001b[0;32mif\u001b[0m \u001b[0mgetattr\u001b[0m\u001b[0;34m(\u001b[0m\u001b[0mself\u001b[0m\u001b[0;34m.\u001b[0m\u001b[0m_backend\u001b[0m\u001b[0;34m,\u001b[0m \u001b[0;34m'supports_timeout'\u001b[0m\u001b[0;34m,\u001b[0m \u001b[0;32mFalse\u001b[0m\u001b[0;34m)\u001b[0m\u001b[0;34m:\u001b[0m\u001b[0;34m\u001b[0m\u001b[0;34m\u001b[0m\u001b[0m\n\u001b[0;32m--> 935\u001b[0;31m                     \u001b[0mself\u001b[0m\u001b[0;34m.\u001b[0m\u001b[0m_output\u001b[0m\u001b[0;34m.\u001b[0m\u001b[0mextend\u001b[0m\u001b[0;34m(\u001b[0m\u001b[0mjob\u001b[0m\u001b[0;34m.\u001b[0m\u001b[0mget\u001b[0m\u001b[0;34m(\u001b[0m\u001b[0mtimeout\u001b[0m\u001b[0;34m=\u001b[0m\u001b[0mself\u001b[0m\u001b[0;34m.\u001b[0m\u001b[0mtimeout\u001b[0m\u001b[0;34m)\u001b[0m\u001b[0;34m)\u001b[0m\u001b[0;34m\u001b[0m\u001b[0;34m\u001b[0m\u001b[0m\n\u001b[0m\u001b[1;32m    936\u001b[0m                 \u001b[0;32melse\u001b[0m\u001b[0;34m:\u001b[0m\u001b[0;34m\u001b[0m\u001b[0;34m\u001b[0m\u001b[0m\n\u001b[1;32m    937\u001b[0m                     \u001b[0mself\u001b[0m\u001b[0;34m.\u001b[0m\u001b[0m_output\u001b[0m\u001b[0;34m.\u001b[0m\u001b[0mextend\u001b[0m\u001b[0;34m(\u001b[0m\u001b[0mjob\u001b[0m\u001b[0;34m.\u001b[0m\u001b[0mget\u001b[0m\u001b[0;34m(\u001b[0m\u001b[0;34m)\u001b[0m\u001b[0;34m)\u001b[0m\u001b[0;34m\u001b[0m\u001b[0;34m\u001b[0m\u001b[0m\n",
            "\u001b[0;32m/usr/local/lib/python3.7/dist-packages/joblib/_parallel_backends.py\u001b[0m in \u001b[0;36mwrap_future_result\u001b[0;34m(future, timeout)\u001b[0m\n\u001b[1;32m    540\u001b[0m         AsyncResults.get from multiprocessing.\"\"\"\n\u001b[1;32m    541\u001b[0m         \u001b[0;32mtry\u001b[0m\u001b[0;34m:\u001b[0m\u001b[0;34m\u001b[0m\u001b[0;34m\u001b[0m\u001b[0m\n\u001b[0;32m--> 542\u001b[0;31m             \u001b[0;32mreturn\u001b[0m \u001b[0mfuture\u001b[0m\u001b[0;34m.\u001b[0m\u001b[0mresult\u001b[0m\u001b[0;34m(\u001b[0m\u001b[0mtimeout\u001b[0m\u001b[0;34m=\u001b[0m\u001b[0mtimeout\u001b[0m\u001b[0;34m)\u001b[0m\u001b[0;34m\u001b[0m\u001b[0;34m\u001b[0m\u001b[0m\n\u001b[0m\u001b[1;32m    543\u001b[0m         \u001b[0;32mexcept\u001b[0m \u001b[0mCfTimeoutError\u001b[0m \u001b[0;32mas\u001b[0m \u001b[0me\u001b[0m\u001b[0;34m:\u001b[0m\u001b[0;34m\u001b[0m\u001b[0;34m\u001b[0m\u001b[0m\n\u001b[1;32m    544\u001b[0m             \u001b[0;32mraise\u001b[0m \u001b[0mTimeoutError\u001b[0m \u001b[0;32mfrom\u001b[0m \u001b[0me\u001b[0m\u001b[0;34m\u001b[0m\u001b[0;34m\u001b[0m\u001b[0m\n",
            "\u001b[0;32m/usr/lib/python3.7/concurrent/futures/_base.py\u001b[0m in \u001b[0;36mresult\u001b[0;34m(self, timeout)\u001b[0m\n\u001b[1;32m    428\u001b[0m                 \u001b[0;32mreturn\u001b[0m \u001b[0mself\u001b[0m\u001b[0;34m.\u001b[0m\u001b[0m__get_result\u001b[0m\u001b[0;34m(\u001b[0m\u001b[0;34m)\u001b[0m\u001b[0;34m\u001b[0m\u001b[0;34m\u001b[0m\u001b[0m\n\u001b[1;32m    429\u001b[0m \u001b[0;34m\u001b[0m\u001b[0m\n\u001b[0;32m--> 430\u001b[0;31m             \u001b[0mself\u001b[0m\u001b[0;34m.\u001b[0m\u001b[0m_condition\u001b[0m\u001b[0;34m.\u001b[0m\u001b[0mwait\u001b[0m\u001b[0;34m(\u001b[0m\u001b[0mtimeout\u001b[0m\u001b[0;34m)\u001b[0m\u001b[0;34m\u001b[0m\u001b[0;34m\u001b[0m\u001b[0m\n\u001b[0m\u001b[1;32m    431\u001b[0m \u001b[0;34m\u001b[0m\u001b[0m\n\u001b[1;32m    432\u001b[0m             \u001b[0;32mif\u001b[0m \u001b[0mself\u001b[0m\u001b[0;34m.\u001b[0m\u001b[0m_state\u001b[0m \u001b[0;32min\u001b[0m \u001b[0;34m[\u001b[0m\u001b[0mCANCELLED\u001b[0m\u001b[0;34m,\u001b[0m \u001b[0mCANCELLED_AND_NOTIFIED\u001b[0m\u001b[0;34m]\u001b[0m\u001b[0;34m:\u001b[0m\u001b[0;34m\u001b[0m\u001b[0;34m\u001b[0m\u001b[0m\n",
            "\u001b[0;32m/usr/lib/python3.7/threading.py\u001b[0m in \u001b[0;36mwait\u001b[0;34m(self, timeout)\u001b[0m\n\u001b[1;32m    294\u001b[0m         \u001b[0;32mtry\u001b[0m\u001b[0;34m:\u001b[0m    \u001b[0;31m# restore state no matter what (e.g., KeyboardInterrupt)\u001b[0m\u001b[0;34m\u001b[0m\u001b[0;34m\u001b[0m\u001b[0m\n\u001b[1;32m    295\u001b[0m             \u001b[0;32mif\u001b[0m \u001b[0mtimeout\u001b[0m \u001b[0;32mis\u001b[0m \u001b[0;32mNone\u001b[0m\u001b[0;34m:\u001b[0m\u001b[0;34m\u001b[0m\u001b[0;34m\u001b[0m\u001b[0m\n\u001b[0;32m--> 296\u001b[0;31m                 \u001b[0mwaiter\u001b[0m\u001b[0;34m.\u001b[0m\u001b[0macquire\u001b[0m\u001b[0;34m(\u001b[0m\u001b[0;34m)\u001b[0m\u001b[0;34m\u001b[0m\u001b[0;34m\u001b[0m\u001b[0m\n\u001b[0m\u001b[1;32m    297\u001b[0m                 \u001b[0mgotit\u001b[0m \u001b[0;34m=\u001b[0m \u001b[0;32mTrue\u001b[0m\u001b[0;34m\u001b[0m\u001b[0;34m\u001b[0m\u001b[0m\n\u001b[1;32m    298\u001b[0m             \u001b[0;32melse\u001b[0m\u001b[0;34m:\u001b[0m\u001b[0;34m\u001b[0m\u001b[0;34m\u001b[0m\u001b[0m\n",
            "\u001b[0;31mKeyboardInterrupt\u001b[0m: "
          ]
        }
      ]
    },
    {
      "cell_type": "markdown",
      "metadata": {
        "id": "pj4fJWN3FhYm"
      },
      "source": [
        "Explore Number of Samples"
      ]
    },
    {
      "cell_type": "markdown",
      "metadata": {
        "id": "BlACMUf6OkgA"
      },
      "source": [
        "Effect of the number of features on model performance with ratios varying from 10 percent to 100 percent in 10 percent increments."
      ]
    },
    {
      "cell_type": "code",
      "metadata": {
        "id": "1UmupshTFgJt"
      },
      "source": [
        "# get a list of models to evaluate\n",
        "def get_models_exploreSamples():\n",
        "\tmodels = dict()\n",
        "\tfor i in np.arange(0.1, 1.1, 0.1):\n",
        "\t\tkey = '%.1f' % i\n",
        "\t\tmodels[key] = XGBClassifier(subsample=i)\n",
        "\treturn models"
      ],
      "execution_count": 54,
      "outputs": []
    },
    {
      "cell_type": "code",
      "metadata": {
        "id": "EmR5dgIsGhZb"
      },
      "source": [
        "models = get_models_exploreSamples()"
      ],
      "execution_count": 55,
      "outputs": []
    },
    {
      "cell_type": "code",
      "metadata": {
        "colab": {
          "base_uri": "https://localhost:8080/",
          "height": 409
        },
        "id": "e-RpvzpjOpb7",
        "outputId": "220de624-2aaf-4430-f392-05221f853e4f"
      },
      "source": [
        "evaluate_model(X_tarenc_train, y_tarenc_train, models)"
      ],
      "execution_count": 56,
      "outputs": [
        {
          "output_type": "stream",
          "name": "stdout",
          "text": [
            ">0.1 0.854 (0.003)\n",
            ">0.2 0.855 (0.003)\n",
            ">0.3 0.855 (0.004)\n",
            ">0.4 0.855 (0.004)\n",
            ">0.5 0.855 (0.004)\n",
            ">0.6 0.855 (0.004)\n"
          ]
        },
        {
          "output_type": "error",
          "ename": "KeyboardInterrupt",
          "evalue": "ignored",
          "traceback": [
            "\u001b[0;31m---------------------------------------------------------------------------\u001b[0m",
            "\u001b[0;31mKeyboardInterrupt\u001b[0m                         Traceback (most recent call last)",
            "\u001b[0;32m<ipython-input-56-3feddef9ee05>\u001b[0m in \u001b[0;36m<module>\u001b[0;34m()\u001b[0m\n\u001b[0;32m----> 1\u001b[0;31m \u001b[0mget_acc\u001b[0m\u001b[0;34m(\u001b[0m\u001b[0mX_tarenc_train\u001b[0m\u001b[0;34m,\u001b[0m \u001b[0my_tarenc_train\u001b[0m\u001b[0;34m,\u001b[0m \u001b[0mmodels\u001b[0m\u001b[0;34m)\u001b[0m\u001b[0;34m\u001b[0m\u001b[0;34m\u001b[0m\u001b[0m\n\u001b[0m",
            "\u001b[0;32m<ipython-input-26-1c4672ce80a5>\u001b[0m in \u001b[0;36mget_acc\u001b[0;34m(X, y, models)\u001b[0m\n\u001b[1;32m      3\u001b[0m   \u001b[0mresults\u001b[0m\u001b[0;34m,\u001b[0m \u001b[0mnames\u001b[0m \u001b[0;34m=\u001b[0m \u001b[0mlist\u001b[0m\u001b[0;34m(\u001b[0m\u001b[0;34m)\u001b[0m\u001b[0;34m,\u001b[0m \u001b[0mlist\u001b[0m\u001b[0;34m(\u001b[0m\u001b[0;34m)\u001b[0m\u001b[0;34m\u001b[0m\u001b[0;34m\u001b[0m\u001b[0m\n\u001b[1;32m      4\u001b[0m   \u001b[0;32mfor\u001b[0m \u001b[0mname\u001b[0m\u001b[0;34m,\u001b[0m \u001b[0mmodel\u001b[0m \u001b[0;32min\u001b[0m \u001b[0mmodels\u001b[0m\u001b[0;34m.\u001b[0m\u001b[0mitems\u001b[0m\u001b[0;34m(\u001b[0m\u001b[0;34m)\u001b[0m\u001b[0;34m:\u001b[0m\u001b[0;34m\u001b[0m\u001b[0;34m\u001b[0m\u001b[0m\n\u001b[0;32m----> 5\u001b[0;31m     \u001b[0mscores\u001b[0m \u001b[0;34m=\u001b[0m \u001b[0mevaluate_model\u001b[0m\u001b[0;34m(\u001b[0m\u001b[0mX\u001b[0m\u001b[0;34m,\u001b[0m \u001b[0my\u001b[0m\u001b[0;34m,\u001b[0m \u001b[0mmodel\u001b[0m\u001b[0;34m)\u001b[0m\u001b[0;34m\u001b[0m\u001b[0;34m\u001b[0m\u001b[0m\n\u001b[0m\u001b[1;32m      6\u001b[0m     \u001b[0mresults\u001b[0m\u001b[0;34m.\u001b[0m\u001b[0mappend\u001b[0m\u001b[0;34m(\u001b[0m\u001b[0mscores\u001b[0m\u001b[0;34m)\u001b[0m\u001b[0;34m\u001b[0m\u001b[0;34m\u001b[0m\u001b[0m\n\u001b[1;32m      7\u001b[0m     \u001b[0mnames\u001b[0m\u001b[0;34m.\u001b[0m\u001b[0mappend\u001b[0m\u001b[0;34m(\u001b[0m\u001b[0mname\u001b[0m\u001b[0;34m)\u001b[0m\u001b[0;34m\u001b[0m\u001b[0;34m\u001b[0m\u001b[0m\n",
            "\u001b[0;32m<ipython-input-25-ae3a98855276>\u001b[0m in \u001b[0;36mevaluate_model\u001b[0;34m(X, y, model)\u001b[0m\n\u001b[1;32m      2\u001b[0m \u001b[0;32mdef\u001b[0m \u001b[0mevaluate_model\u001b[0m\u001b[0;34m(\u001b[0m\u001b[0mX\u001b[0m\u001b[0;34m,\u001b[0m \u001b[0my\u001b[0m\u001b[0;34m,\u001b[0m \u001b[0mmodel\u001b[0m\u001b[0;34m)\u001b[0m\u001b[0;34m:\u001b[0m\u001b[0;34m\u001b[0m\u001b[0;34m\u001b[0m\u001b[0m\n\u001b[1;32m      3\u001b[0m         \u001b[0mcv\u001b[0m \u001b[0;34m=\u001b[0m \u001b[0mRepeatedStratifiedKFold\u001b[0m\u001b[0;34m(\u001b[0m\u001b[0mn_splits\u001b[0m\u001b[0;34m=\u001b[0m\u001b[0;36m10\u001b[0m\u001b[0;34m,\u001b[0m \u001b[0mn_repeats\u001b[0m\u001b[0;34m=\u001b[0m\u001b[0;36m3\u001b[0m\u001b[0;34m,\u001b[0m \u001b[0mrandom_state\u001b[0m\u001b[0;34m=\u001b[0m\u001b[0;36m1\u001b[0m\u001b[0;34m)\u001b[0m\u001b[0;34m\u001b[0m\u001b[0;34m\u001b[0m\u001b[0m\n\u001b[0;32m----> 4\u001b[0;31m         \u001b[0mscores\u001b[0m \u001b[0;34m=\u001b[0m \u001b[0mcross_val_score\u001b[0m\u001b[0;34m(\u001b[0m\u001b[0mmodel\u001b[0m\u001b[0;34m,\u001b[0m \u001b[0mX\u001b[0m\u001b[0;34m,\u001b[0m \u001b[0my\u001b[0m\u001b[0;34m,\u001b[0m \u001b[0mscoring\u001b[0m\u001b[0;34m=\u001b[0m\u001b[0;34m'accuracy'\u001b[0m\u001b[0;34m,\u001b[0m \u001b[0mcv\u001b[0m\u001b[0;34m=\u001b[0m\u001b[0mcv\u001b[0m\u001b[0;34m,\u001b[0m \u001b[0mn_jobs\u001b[0m\u001b[0;34m=\u001b[0m\u001b[0;34m-\u001b[0m\u001b[0;36m1\u001b[0m\u001b[0;34m)\u001b[0m\u001b[0;34m\u001b[0m\u001b[0;34m\u001b[0m\u001b[0m\n\u001b[0m\u001b[1;32m      5\u001b[0m         \u001b[0;32mreturn\u001b[0m \u001b[0mscores\u001b[0m\u001b[0;34m\u001b[0m\u001b[0;34m\u001b[0m\u001b[0m\n",
            "\u001b[0;32m/usr/local/lib/python3.7/dist-packages/sklearn/model_selection/_validation.py\u001b[0m in \u001b[0;36mcross_val_score\u001b[0;34m(estimator, X, y, groups, scoring, cv, n_jobs, verbose, fit_params, pre_dispatch, error_score)\u001b[0m\n\u001b[1;32m    388\u001b[0m                                 \u001b[0mfit_params\u001b[0m\u001b[0;34m=\u001b[0m\u001b[0mfit_params\u001b[0m\u001b[0;34m,\u001b[0m\u001b[0;34m\u001b[0m\u001b[0;34m\u001b[0m\u001b[0m\n\u001b[1;32m    389\u001b[0m                                 \u001b[0mpre_dispatch\u001b[0m\u001b[0;34m=\u001b[0m\u001b[0mpre_dispatch\u001b[0m\u001b[0;34m,\u001b[0m\u001b[0;34m\u001b[0m\u001b[0;34m\u001b[0m\u001b[0m\n\u001b[0;32m--> 390\u001b[0;31m                                 error_score=error_score)\n\u001b[0m\u001b[1;32m    391\u001b[0m     \u001b[0;32mreturn\u001b[0m \u001b[0mcv_results\u001b[0m\u001b[0;34m[\u001b[0m\u001b[0;34m'test_score'\u001b[0m\u001b[0;34m]\u001b[0m\u001b[0;34m\u001b[0m\u001b[0;34m\u001b[0m\u001b[0m\n\u001b[1;32m    392\u001b[0m \u001b[0;34m\u001b[0m\u001b[0m\n",
            "\u001b[0;32m/usr/local/lib/python3.7/dist-packages/sklearn/model_selection/_validation.py\u001b[0m in \u001b[0;36mcross_validate\u001b[0;34m(estimator, X, y, groups, scoring, cv, n_jobs, verbose, fit_params, pre_dispatch, return_train_score, return_estimator, error_score)\u001b[0m\n\u001b[1;32m    234\u001b[0m             \u001b[0mreturn_times\u001b[0m\u001b[0;34m=\u001b[0m\u001b[0;32mTrue\u001b[0m\u001b[0;34m,\u001b[0m \u001b[0mreturn_estimator\u001b[0m\u001b[0;34m=\u001b[0m\u001b[0mreturn_estimator\u001b[0m\u001b[0;34m,\u001b[0m\u001b[0;34m\u001b[0m\u001b[0;34m\u001b[0m\u001b[0m\n\u001b[1;32m    235\u001b[0m             error_score=error_score)\n\u001b[0;32m--> 236\u001b[0;31m         for train, test in cv.split(X, y, groups))\n\u001b[0m\u001b[1;32m    237\u001b[0m \u001b[0;34m\u001b[0m\u001b[0m\n\u001b[1;32m    238\u001b[0m     \u001b[0mzipped_scores\u001b[0m \u001b[0;34m=\u001b[0m \u001b[0mlist\u001b[0m\u001b[0;34m(\u001b[0m\u001b[0mzip\u001b[0m\u001b[0;34m(\u001b[0m\u001b[0;34m*\u001b[0m\u001b[0mscores\u001b[0m\u001b[0;34m)\u001b[0m\u001b[0;34m)\u001b[0m\u001b[0;34m\u001b[0m\u001b[0;34m\u001b[0m\u001b[0m\n",
            "\u001b[0;32m/usr/local/lib/python3.7/dist-packages/joblib/parallel.py\u001b[0m in \u001b[0;36m__call__\u001b[0;34m(self, iterable)\u001b[0m\n\u001b[1;32m   1054\u001b[0m \u001b[0;34m\u001b[0m\u001b[0m\n\u001b[1;32m   1055\u001b[0m             \u001b[0;32mwith\u001b[0m \u001b[0mself\u001b[0m\u001b[0;34m.\u001b[0m\u001b[0m_backend\u001b[0m\u001b[0;34m.\u001b[0m\u001b[0mretrieval_context\u001b[0m\u001b[0;34m(\u001b[0m\u001b[0;34m)\u001b[0m\u001b[0;34m:\u001b[0m\u001b[0;34m\u001b[0m\u001b[0;34m\u001b[0m\u001b[0m\n\u001b[0;32m-> 1056\u001b[0;31m                 \u001b[0mself\u001b[0m\u001b[0;34m.\u001b[0m\u001b[0mretrieve\u001b[0m\u001b[0;34m(\u001b[0m\u001b[0;34m)\u001b[0m\u001b[0;34m\u001b[0m\u001b[0;34m\u001b[0m\u001b[0m\n\u001b[0m\u001b[1;32m   1057\u001b[0m             \u001b[0;31m# Make sure that we get a last message telling us we are done\u001b[0m\u001b[0;34m\u001b[0m\u001b[0;34m\u001b[0m\u001b[0;34m\u001b[0m\u001b[0m\n\u001b[1;32m   1058\u001b[0m             \u001b[0melapsed_time\u001b[0m \u001b[0;34m=\u001b[0m \u001b[0mtime\u001b[0m\u001b[0;34m.\u001b[0m\u001b[0mtime\u001b[0m\u001b[0;34m(\u001b[0m\u001b[0;34m)\u001b[0m \u001b[0;34m-\u001b[0m \u001b[0mself\u001b[0m\u001b[0;34m.\u001b[0m\u001b[0m_start_time\u001b[0m\u001b[0;34m\u001b[0m\u001b[0;34m\u001b[0m\u001b[0m\n",
            "\u001b[0;32m/usr/local/lib/python3.7/dist-packages/joblib/parallel.py\u001b[0m in \u001b[0;36mretrieve\u001b[0;34m(self)\u001b[0m\n\u001b[1;32m    933\u001b[0m             \u001b[0;32mtry\u001b[0m\u001b[0;34m:\u001b[0m\u001b[0;34m\u001b[0m\u001b[0;34m\u001b[0m\u001b[0m\n\u001b[1;32m    934\u001b[0m                 \u001b[0;32mif\u001b[0m \u001b[0mgetattr\u001b[0m\u001b[0;34m(\u001b[0m\u001b[0mself\u001b[0m\u001b[0;34m.\u001b[0m\u001b[0m_backend\u001b[0m\u001b[0;34m,\u001b[0m \u001b[0;34m'supports_timeout'\u001b[0m\u001b[0;34m,\u001b[0m \u001b[0;32mFalse\u001b[0m\u001b[0;34m)\u001b[0m\u001b[0;34m:\u001b[0m\u001b[0;34m\u001b[0m\u001b[0;34m\u001b[0m\u001b[0m\n\u001b[0;32m--> 935\u001b[0;31m                     \u001b[0mself\u001b[0m\u001b[0;34m.\u001b[0m\u001b[0m_output\u001b[0m\u001b[0;34m.\u001b[0m\u001b[0mextend\u001b[0m\u001b[0;34m(\u001b[0m\u001b[0mjob\u001b[0m\u001b[0;34m.\u001b[0m\u001b[0mget\u001b[0m\u001b[0;34m(\u001b[0m\u001b[0mtimeout\u001b[0m\u001b[0;34m=\u001b[0m\u001b[0mself\u001b[0m\u001b[0;34m.\u001b[0m\u001b[0mtimeout\u001b[0m\u001b[0;34m)\u001b[0m\u001b[0;34m)\u001b[0m\u001b[0;34m\u001b[0m\u001b[0;34m\u001b[0m\u001b[0m\n\u001b[0m\u001b[1;32m    936\u001b[0m                 \u001b[0;32melse\u001b[0m\u001b[0;34m:\u001b[0m\u001b[0;34m\u001b[0m\u001b[0;34m\u001b[0m\u001b[0m\n\u001b[1;32m    937\u001b[0m                     \u001b[0mself\u001b[0m\u001b[0;34m.\u001b[0m\u001b[0m_output\u001b[0m\u001b[0;34m.\u001b[0m\u001b[0mextend\u001b[0m\u001b[0;34m(\u001b[0m\u001b[0mjob\u001b[0m\u001b[0;34m.\u001b[0m\u001b[0mget\u001b[0m\u001b[0;34m(\u001b[0m\u001b[0;34m)\u001b[0m\u001b[0;34m)\u001b[0m\u001b[0;34m\u001b[0m\u001b[0;34m\u001b[0m\u001b[0m\n",
            "\u001b[0;32m/usr/local/lib/python3.7/dist-packages/joblib/_parallel_backends.py\u001b[0m in \u001b[0;36mwrap_future_result\u001b[0;34m(future, timeout)\u001b[0m\n\u001b[1;32m    540\u001b[0m         AsyncResults.get from multiprocessing.\"\"\"\n\u001b[1;32m    541\u001b[0m         \u001b[0;32mtry\u001b[0m\u001b[0;34m:\u001b[0m\u001b[0;34m\u001b[0m\u001b[0;34m\u001b[0m\u001b[0m\n\u001b[0;32m--> 542\u001b[0;31m             \u001b[0;32mreturn\u001b[0m \u001b[0mfuture\u001b[0m\u001b[0;34m.\u001b[0m\u001b[0mresult\u001b[0m\u001b[0;34m(\u001b[0m\u001b[0mtimeout\u001b[0m\u001b[0;34m=\u001b[0m\u001b[0mtimeout\u001b[0m\u001b[0;34m)\u001b[0m\u001b[0;34m\u001b[0m\u001b[0;34m\u001b[0m\u001b[0m\n\u001b[0m\u001b[1;32m    543\u001b[0m         \u001b[0;32mexcept\u001b[0m \u001b[0mCfTimeoutError\u001b[0m \u001b[0;32mas\u001b[0m \u001b[0me\u001b[0m\u001b[0;34m:\u001b[0m\u001b[0;34m\u001b[0m\u001b[0;34m\u001b[0m\u001b[0m\n\u001b[1;32m    544\u001b[0m             \u001b[0;32mraise\u001b[0m \u001b[0mTimeoutError\u001b[0m \u001b[0;32mfrom\u001b[0m \u001b[0me\u001b[0m\u001b[0;34m\u001b[0m\u001b[0;34m\u001b[0m\u001b[0m\n",
            "\u001b[0;32m/usr/lib/python3.7/concurrent/futures/_base.py\u001b[0m in \u001b[0;36mresult\u001b[0;34m(self, timeout)\u001b[0m\n\u001b[1;32m    428\u001b[0m                 \u001b[0;32mreturn\u001b[0m \u001b[0mself\u001b[0m\u001b[0;34m.\u001b[0m\u001b[0m__get_result\u001b[0m\u001b[0;34m(\u001b[0m\u001b[0;34m)\u001b[0m\u001b[0;34m\u001b[0m\u001b[0;34m\u001b[0m\u001b[0m\n\u001b[1;32m    429\u001b[0m \u001b[0;34m\u001b[0m\u001b[0m\n\u001b[0;32m--> 430\u001b[0;31m             \u001b[0mself\u001b[0m\u001b[0;34m.\u001b[0m\u001b[0m_condition\u001b[0m\u001b[0;34m.\u001b[0m\u001b[0mwait\u001b[0m\u001b[0;34m(\u001b[0m\u001b[0mtimeout\u001b[0m\u001b[0;34m)\u001b[0m\u001b[0;34m\u001b[0m\u001b[0;34m\u001b[0m\u001b[0m\n\u001b[0m\u001b[1;32m    431\u001b[0m \u001b[0;34m\u001b[0m\u001b[0m\n\u001b[1;32m    432\u001b[0m             \u001b[0;32mif\u001b[0m \u001b[0mself\u001b[0m\u001b[0;34m.\u001b[0m\u001b[0m_state\u001b[0m \u001b[0;32min\u001b[0m \u001b[0;34m[\u001b[0m\u001b[0mCANCELLED\u001b[0m\u001b[0;34m,\u001b[0m \u001b[0mCANCELLED_AND_NOTIFIED\u001b[0m\u001b[0;34m]\u001b[0m\u001b[0;34m:\u001b[0m\u001b[0;34m\u001b[0m\u001b[0;34m\u001b[0m\u001b[0m\n",
            "\u001b[0;32m/usr/lib/python3.7/threading.py\u001b[0m in \u001b[0;36mwait\u001b[0;34m(self, timeout)\u001b[0m\n\u001b[1;32m    294\u001b[0m         \u001b[0;32mtry\u001b[0m\u001b[0;34m:\u001b[0m    \u001b[0;31m# restore state no matter what (e.g., KeyboardInterrupt)\u001b[0m\u001b[0;34m\u001b[0m\u001b[0;34m\u001b[0m\u001b[0m\n\u001b[1;32m    295\u001b[0m             \u001b[0;32mif\u001b[0m \u001b[0mtimeout\u001b[0m \u001b[0;32mis\u001b[0m \u001b[0;32mNone\u001b[0m\u001b[0;34m:\u001b[0m\u001b[0;34m\u001b[0m\u001b[0;34m\u001b[0m\u001b[0m\n\u001b[0;32m--> 296\u001b[0;31m                 \u001b[0mwaiter\u001b[0m\u001b[0;34m.\u001b[0m\u001b[0macquire\u001b[0m\u001b[0;34m(\u001b[0m\u001b[0;34m)\u001b[0m\u001b[0;34m\u001b[0m\u001b[0;34m\u001b[0m\u001b[0m\n\u001b[0m\u001b[1;32m    297\u001b[0m                 \u001b[0mgotit\u001b[0m \u001b[0;34m=\u001b[0m \u001b[0;32mTrue\u001b[0m\u001b[0;34m\u001b[0m\u001b[0;34m\u001b[0m\u001b[0m\n\u001b[1;32m    298\u001b[0m             \u001b[0;32melse\u001b[0m\u001b[0;34m:\u001b[0m\u001b[0;34m\u001b[0m\u001b[0;34m\u001b[0m\u001b[0m\n",
            "\u001b[0;31mKeyboardInterrupt\u001b[0m: "
          ]
        }
      ]
    },
    {
      "cell_type": "code",
      "metadata": {
        "id": "GN1e9eYLqvmf",
        "colab": {
          "base_uri": "https://localhost:8080/"
        },
        "outputId": "77007676-dc89-42f6-aa30-69b960d04104"
      },
      "source": [
        "print(X_tarenc_train.shape)\n",
        "print(X_tarenc_test.shape)"
      ],
      "execution_count": 57,
      "outputs": [
        {
          "output_type": "stream",
          "name": "stdout",
          "text": [
            "(51490, 28)\n",
            "(77235, 28)\n"
          ]
        }
      ]
    },
    {
      "cell_type": "code",
      "metadata": {
        "id": "LsfGE3wIhWz1"
      },
      "source": [
        "clf = XGBClassifier(n_estimators=500,\n",
        "                    max_depth=9,\n",
        "                    subsample=0.3,\n",
        "                    objective='binary:logistic',\n",
        "                    learning_rate=0.5)"
      ],
      "execution_count": 58,
      "outputs": []
    },
    {
      "cell_type": "code",
      "metadata": {
        "id": "j98R7UvzU9fD"
      },
      "source": [
        "n_scores = evaluate_model(X_tarenc_train, y_tarenc_train, clf)\n",
        "# n_scores = cross_val_score(clf, X_tarenc_train, y_tarenc_train, scoring='accuracy', cv=cv, n_jobs=-1)\n",
        "print('Accuracy: %.3f (%.3f)' % (mean(n_scores), std(n_scores)))"
      ],
      "execution_count": null,
      "outputs": []
    },
    {
      "cell_type": "code",
      "metadata": {
        "id": "nSygURqhd05-"
      },
      "source": [
        "clf.fit(X_tarenc_train, y_tarenc_train)\n",
        "preds = clf.predict(X_tarenc_test)"
      ],
      "execution_count": null,
      "outputs": []
    },
    {
      "cell_type": "code",
      "metadata": {
        "id": "GsxH5JFVVBKu"
      },
      "source": [
        "submission = pd.DataFrame()\n",
        "submission['Id'] = test_id\n",
        "submission['Fault'] = preds"
      ],
      "execution_count": null,
      "outputs": []
    },
    {
      "cell_type": "code",
      "metadata": {
        "id": "7Ts2FN0oVC1O"
      },
      "source": [
        "submission.to_csv('STACK_tarenc_xgb_lr_clf.csv', index=False)"
      ],
      "execution_count": null,
      "outputs": []
    },
    {
      "cell_type": "code",
      "metadata": {
        "id": "NHBa7C7F-tla"
      },
      "source": [
        ""
      ],
      "execution_count": null,
      "outputs": []
    }
  ]
}