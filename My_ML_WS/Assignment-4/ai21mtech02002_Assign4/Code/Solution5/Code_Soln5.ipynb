{
  "nbformat": 4,
  "nbformat_minor": 0,
  "metadata": {
    "colab": {
      "name": "Code_Soln5.ipynb",
      "provenance": []
    },
    "kernelspec": {
      "name": "python3",
      "display_name": "Python 3"
    },
    "language_info": {
      "name": "python"
    }
  },
  "cells": [
    {
      "cell_type": "code",
      "metadata": {
        "id": "ygE8or-0pUsK"
      },
      "source": [
        "import pandas as pd\n",
        "import numpy as np\n",
        "from sklearn.metrics import accuracy_score as acc, precision_score as prec, recall_score as recall"
      ],
      "execution_count": 9,
      "outputs": []
    },
    {
      "cell_type": "code",
      "metadata": {
        "id": "_WrXUefapqni"
      },
      "source": [
        "test_x = np.array([  [0.959,0.382],\n",
        "          [0.750,0.306],\n",
        "          [0.395,0.760],\n",
        "          [0.823,0.764],\n",
        "          [0.761,0.874],\n",
        "          [0.844,0.435] ])\n",
        "test_y = np.array([0, 0, 0, 1, 1, 1]).T\n",
        "train_x = np.array([ [0.346,0.780],\n",
        "          [0.303,0.439],\n",
        "          [0.358,0.729],\n",
        "          [0.602,0.863],\n",
        "          [0.790,0.753],\n",
        "          [0.611,0.965] ])\n",
        "train_y = np.array([0, 0, 0, 1, 1, 1]).T\n",
        "theta = np.array([-1, 1.5, 0.5]).T\n",
        "l_r = 0.1"
      ],
      "execution_count": 62,
      "outputs": []
    },
    {
      "cell_type": "code",
      "metadata": {
        "id": "HhET8uD7nJM5"
      },
      "source": [
        "def sigmoid(X, weight):\n",
        "    z = np.dot(X, weight)\n",
        "    return 1 / (1 + np.exp(-z))"
      ],
      "execution_count": 7,
      "outputs": []
    },
    {
      "cell_type": "code",
      "metadata": {
        "id": "VLvDSWLlnY8J"
      },
      "source": [
        "def loss(h, y):\n",
        "    return (-y * np.log(h) - (1 - y) * np.log(1 - h)).mean()"
      ],
      "execution_count": 2,
      "outputs": []
    },
    {
      "cell_type": "code",
      "metadata": {
        "id": "SojR8vPTngav"
      },
      "source": [
        "def gradient_descent(X, h, y):\n",
        "    return np.dot(X.T, (h - y)) / y.shape[0]"
      ],
      "execution_count": 3,
      "outputs": []
    },
    {
      "cell_type": "code",
      "metadata": {
        "id": "xSGln9c4n7-V"
      },
      "source": [
        "def update_weight_loss(weight, learning_rate, gradient):\n",
        "    return weight - learning_rate * gradient"
      ],
      "execution_count": 4,
      "outputs": []
    },
    {
      "cell_type": "code",
      "metadata": {
        "id": "zuv71f7Pn-n1"
      },
      "source": [
        "num_iter = 100"
      ],
      "execution_count": 59,
      "outputs": []
    },
    {
      "cell_type": "code",
      "metadata": {
        "id": "4dQ247J7zfzm"
      },
      "source": [
        "intercept = np.ones((train_x.shape[0], 1)) \n",
        "train_x = np.concatenate((intercept, train_x), axis=1)\n",
        "test_x = np.concatenate((intercept, test_x), axis=1)"
      ],
      "execution_count": 63,
      "outputs": []
    },
    {
      "cell_type": "code",
      "metadata": {
        "colab": {
          "base_uri": "https://localhost:8080/"
        },
        "id": "SGvP-b2Noiih",
        "outputId": "2749c54c-3c6f-4da6-e568-295559f2bd7f"
      },
      "source": [
        "for i in range(num_iter):\n",
        "    h = sigmoid(train_x, theta)\n",
        "    gradient = gradient_descent(train_x, h, train_y)\n",
        "    theta = update_weight_loss(theta, l_r, gradient)\n",
        "print(theta)"
      ],
      "execution_count": 64,
      "outputs": [
        {
          "output_type": "stream",
          "name": "stdout",
          "text": [
            "[-1.3504601   1.99641842  0.6565945 ]\n"
          ]
        }
      ]
    },
    {
      "cell_type": "code",
      "metadata": {
        "colab": {
          "base_uri": "https://localhost:8080/"
        },
        "id": "YNJ2H9i-uh81",
        "outputId": "91400812-982c-4aad-ceb4-271e175f1020"
      },
      "source": [
        "preds = sigmoid(test_x, theta)\n",
        "preds"
      ],
      "execution_count": 65,
      "outputs": [
        {
          "output_type": "execute_result",
          "data": {
            "text/plain": [
              "array([0.69315784, 0.5860771 , 0.48428942, 0.68873897, 0.67758116,\n",
              "       0.6502494 ])"
            ]
          },
          "metadata": {},
          "execution_count": 65
        }
      ]
    },
    {
      "cell_type": "code",
      "metadata": {
        "colab": {
          "base_uri": "https://localhost:8080/"
        },
        "id": "P8rR6P0c2t2b",
        "outputId": "5a3f35cc-ebe4-4757-9dcc-1ae50a47f934"
      },
      "source": [
        "for i in range(len(preds)):\n",
        "  if(preds[i] >= 0.65):\n",
        "    preds[i] = 1\n",
        "  else:\n",
        "    preds[i] = 0\n",
        "preds"
      ],
      "execution_count": 66,
      "outputs": [
        {
          "output_type": "execute_result",
          "data": {
            "text/plain": [
              "array([1., 0., 0., 1., 1., 1.])"
            ]
          },
          "metadata": {},
          "execution_count": 66
        }
      ]
    },
    {
      "cell_type": "code",
      "metadata": {
        "colab": {
          "base_uri": "https://localhost:8080/"
        },
        "id": "kk85d_4_uVer",
        "outputId": "89473489-9425-4d6f-bcb2-b171f8858316"
      },
      "source": [
        "print(\"Accuracy: \", acc(test_y, preds))\n",
        "print(\"Precision: \", prec(test_y, preds))\n",
        "print(\"Recall: \", recall(test_y, preds))"
      ],
      "execution_count": 67,
      "outputs": [
        {
          "output_type": "stream",
          "name": "stdout",
          "text": [
            "Accuracy:  0.8333333333333334\n",
            "Precision:  0.75\n",
            "Recall:  1.0\n"
          ]
        }
      ]
    },
    {
      "cell_type": "code",
      "metadata": {
        "id": "Xxj1CIm59RH_"
      },
      "source": [
        ""
      ],
      "execution_count": null,
      "outputs": []
    }
  ]
}