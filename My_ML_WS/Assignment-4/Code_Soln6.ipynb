{
  "nbformat": 4,
  "nbformat_minor": 2,
  "metadata": {
    "accelerator": "GPU",
    "colab": {
      "name": "Code_Soln6.ipynb",
      "provenance": [],
      "collapsed_sections": []
    },
    "kernelspec": {
      "name": "python3",
      "display_name": "Python 3.9.6 64-bit ('base': conda)"
    },
    "language_info": {
      "name": "python",
      "version": "3.9.6",
      "mimetype": "text/x-python",
      "codemirror_mode": {
        "name": "ipython",
        "version": 3
      },
      "pygments_lexer": "ipython3",
      "nbconvert_exporter": "python",
      "file_extension": ".py"
    },
    "interpreter": {
      "hash": "95ec9ec1504d83f612128e0fb229072f90bbb4cb09d9d5d93b5dd26e0ca2cfd1"
    }
  },
  "cells": [
    {
      "cell_type": "markdown",
      "source": [
        "# **DATA PREPARATION**"
      ],
      "metadata": {
        "id": "CkyHzPXK2Pjm"
      }
    },
    {
      "cell_type": "markdown",
      "source": [
        "## Download and unzip data from Kaggle"
      ],
      "metadata": {
        "id": "_U_S5rJpjf-h"
      }
    },
    {
      "cell_type": "code",
      "execution_count": 7,
      "source": [
        "! pip install -q kaggle\n",
        "! mkdir ~/.kaggle\n",
        "! cp kaggle.json ~/.kaggle/\n",
        "! chmod 600 ~/.kaggle/kaggle.json\n",
        "! kaggle competitions download -c new-york-city-taxi-fare-prediction\n",
        "! mkdir train\n",
        "! unzip train.csv.zip -d train"
      ],
      "outputs": [
        {
          "output_type": "stream",
          "name": "stdout",
          "text": [
            "mkdir: cannot create directory ‘/root/.kaggle’: File exists\n",
            "Warning: Looks like you're using an outdated API Version, please consider updating (server 1.5.12 / client 1.5.4)\n",
            "Downloading test.csv to /content\n",
            "  0% 0.00/960k [00:00<?, ?B/s]\n",
            "100% 960k/960k [00:00<00:00, 62.9MB/s]\n",
            "Downloading sample_submission.csv to /content\n",
            "  0% 0.00/335k [00:00<?, ?B/s]\n",
            "100% 335k/335k [00:00<00:00, 108MB/s]\n",
            "Downloading train.csv.zip to /content\n",
            " 99% 1.55G/1.56G [00:14<00:00, 113MB/s]\n",
            "100% 1.56G/1.56G [00:14<00:00, 115MB/s]\n",
            "Downloading GCP-Coupons-Instructions.rtf to /content\n",
            "  0% 0.00/486 [00:00<?, ?B/s]\n",
            "100% 486/486 [00:00<00:00, 477kB/s]\n",
            "mkdir: cannot create directory ‘train’: File exists\n",
            "Archive:  train.csv.zip\n",
            "  inflating: train/train.csv         \n"
          ]
        }
      ],
      "metadata": {
        "colab": {
          "base_uri": "https://localhost:8080/"
        },
        "id": "y6-S6A1btQbf",
        "outputId": "870a860e-6d3c-4a49-b3f3-b817a1bc8c33"
      }
    },
    {
      "cell_type": "markdown",
      "source": [
        "## Import data loading libraries"
      ],
      "metadata": {
        "id": "jWCGNIW_2BSj"
      }
    },
    {
      "cell_type": "code",
      "execution_count": 8,
      "source": [
        "import numpy as np\n",
        "import pandas as pd\n",
        "import seaborn as sns\n",
        "import matplotlib.pyplot as plt\n",
        "import statsmodels.formula.api as smf\n",
        "%matplotlib inline\n",
        "\n",
        "# from pydoc import help\n",
        "# from scipy.stats.stats import pearsonr\n",
        "\n",
        "# from sklearn.ensemble import GradientBoostingRegressor\n",
        "# from sklearn.svm import SVR\n",
        "# from xgboost.sklearn import XGBRegressor\n",
        "\n",
        "from sklearn.metrics import mean_squared_error\n",
        "\n",
        "# from sklearn.model_selection import cross_val_score, cross_val_predict\n",
        "# from sklearn import metrics\n",
        "# import datetime\n",
        "from datetime import timedelta\n",
        "import datetime as dt\n",
        "import calendar\n",
        "\n",
        "# import math"
      ],
      "outputs": [],
      "metadata": {
        "id": "Nz7_p5ZQyIHa"
      }
    },
    {
      "cell_type": "markdown",
      "source": [
        "### Load 10% of total train data (55M) = 5.5M"
      ],
      "metadata": {
        "id": "7z_qUNv_hxvR"
      }
    },
    {
      "cell_type": "code",
      "execution_count": 9,
      "source": [
        "train = pd.read_csv('./train/train.csv', nrows = 5500000, parse_dates=[\"pickup_datetime\"])\n",
        "test =  pd.read_csv('./test.csv', parse_dates=[\"pickup_datetime\"])"
      ],
      "outputs": [],
      "metadata": {
        "id": "DukBgawkz7pZ"
      }
    },
    {
      "cell_type": "markdown",
      "source": [
        "## Data cleaning\n",
        "\n",
        "\n",
        "*   Checking for missing values and removing the rows corresponding to them if any."
      ],
      "metadata": {
        "id": "tsflV0xK1PV_"
      }
    },
    {
      "cell_type": "code",
      "execution_count": 10,
      "source": [
        "train = train.dropna(how='any', axis='rows')"
      ],
      "outputs": [],
      "metadata": {
        "id": "4jXecq3N1Ef2"
      }
    },
    {
      "cell_type": "markdown",
      "source": [
        "*   Removing the rows that have -ve values of Fare amount as Fare cannot be -ve."
      ],
      "metadata": {
        "id": "pyJ6nL369ppT"
      }
    },
    {
      "cell_type": "code",
      "execution_count": 11,
      "source": [
        "train = train.loc[train['fare_amount']>=0]"
      ],
      "outputs": [],
      "metadata": {
        "id": "6KHqmBHA1jMq"
      }
    },
    {
      "cell_type": "markdown",
      "source": [
        "* Truncate longitude and latitude coordinates based on NY\n",
        "\n",
        "> NewYork City coordinates are https://www.travelmath.com/cities/New+York,+NY\n",
        "> Here, we will try to define bounding box of interest by [long_min, long_max, latt_min, latt_max] using the minimum and maximum coordinates from test.csv. \n",
        "This will help us to make sure to train a model for the full pickup/dropoff co-ordinate range for the test set."
      ],
      "metadata": {
        "id": "AqZMHU2WAXh1"
      }
    },
    {
      "cell_type": "code",
      "execution_count": 12,
      "source": [
        "def get_bb_coords(df, b_box):\n",
        "  \"\"\"function to select bounding box coordinates\"\"\"\n",
        "  return ((df[\"pickup_longitude\"] >= b_box[0]) & (df[\"pickup_longitude\"] <= b_box[1]) & \n",
        "          (df[\"pickup_latitude\"] >= b_box[2]) & (df[\"pickup_latitude\"] <= b_box[3]) &\n",
        "          (df[\"dropoff_longitude\"] >= b_box[0]) & (df[\"dropoff_longitude\"] <= b_box[1]) &\n",
        "          (df[\"dropoff_latitude\"] >= b_box[2]) & (df[\"dropoff_latitude\"] <= b_box[3]))"
      ],
      "outputs": [],
      "metadata": {
        "id": "qvEeKAuvA7A2"
      }
    },
    {
      "cell_type": "markdown",
      "source": [
        "* Minimum and Maximum Longitude Test set"
      ],
      "metadata": {
        "id": "lQ3DiHxaAv_g"
      }
    },
    {
      "cell_type": "code",
      "execution_count": 13,
      "source": [
        "print(\"Longitude:\")\n",
        "print(\"Minimum\")\n",
        "print(min(test[\"pickup_longitude\"].min(), test[\"dropoff_longitude\"].min()))\n",
        "print(\"Maximum\")\n",
        "print(max(test[\"pickup_longitude\"].max(), test[\"dropoff_longitude\"].max()))"
      ],
      "outputs": [
        {
          "output_type": "stream",
          "name": "stdout",
          "text": [
            "Longitude:\n",
            "Minimum\n",
            "-74.263242\n",
            "Maximum\n",
            "-72.986532\n"
          ]
        }
      ],
      "metadata": {
        "colab": {
          "base_uri": "https://localhost:8080/"
        },
        "id": "PydDHoNjBUJS",
        "outputId": "b8019f0e-50ca-4a0f-c3e7-843c24d361e0"
      }
    },
    {
      "cell_type": "markdown",
      "source": [
        "* Minimum and Maximum Longitude Train set"
      ],
      "metadata": {
        "id": "VYR6RLh9Dn4C"
      }
    },
    {
      "cell_type": "code",
      "execution_count": 14,
      "source": [
        "print(\"Longitude:\")\n",
        "print(\"Minimum\")\n",
        "print(min(train[\"pickup_longitude\"].min(), train[\"dropoff_longitude\"].min()))\n",
        "print(\"Maximum\")\n",
        "print(max(train[\"pickup_longitude\"].max(), train[\"dropoff_longitude\"].max()))"
      ],
      "outputs": [
        {
          "output_type": "stream",
          "name": "stdout",
          "text": [
            "Longitude:\n",
            "Minimum\n",
            "-3426.60895\n",
            "Maximum\n",
            "3457.62235\n"
          ]
        }
      ],
      "metadata": {
        "colab": {
          "base_uri": "https://localhost:8080/"
        },
        "id": "n5adglDMDrbd",
        "outputId": "7314ce76-fcd6-4c7c-d7b4-533a11eca7f0"
      }
    },
    {
      "cell_type": "markdown",
      "source": [
        "* Minimum and Maximum Latitude Test set"
      ],
      "metadata": {
        "id": "hZx5FBrDEESQ"
      }
    },
    {
      "cell_type": "code",
      "execution_count": 15,
      "source": [
        "print(\"Latitude:\")\n",
        "print(\"Minimum\")\n",
        "print(min(test[\"pickup_latitude\"].min(), test[\"dropoff_latitude\"].min()))\n",
        "print(\"Maximum\")\n",
        "print(max(test[\"pickup_latitude\"].max(), test[\"dropoff_latitude\"].max()))"
      ],
      "outputs": [
        {
          "output_type": "stream",
          "name": "stdout",
          "text": [
            "Latitude:\n",
            "Minimum\n",
            "40.568973\n",
            "Maximum\n",
            "41.709555\n"
          ]
        }
      ],
      "metadata": {
        "colab": {
          "base_uri": "https://localhost:8080/"
        },
        "id": "qlcD0M-zERa7",
        "outputId": "45fcf1b7-d51a-4151-c05e-d35fc43e0898"
      }
    },
    {
      "cell_type": "markdown",
      "source": [
        "* Minimum and Maximum Latitude Train set"
      ],
      "metadata": {
        "id": "co7gvot-Eimd"
      }
    },
    {
      "cell_type": "code",
      "execution_count": 16,
      "source": [
        "print(\"Latitude:\")\n",
        "print(\"Minimum\")\n",
        "print(min(train[\"pickup_latitude\"].min(), train[\"dropoff_latitude\"].min()))\n",
        "print(\"Maximum\")\n",
        "print(max(train[\"pickup_latitude\"].max(), train[\"dropoff_latitude\"].max()))"
      ],
      "outputs": [
        {
          "output_type": "stream",
          "name": "stdout",
          "text": [
            "Latitude:\n",
            "Minimum\n",
            "-3488.079513\n",
            "Maximum\n",
            "3345.9173530000003\n"
          ]
        }
      ],
      "metadata": {
        "colab": {
          "base_uri": "https://localhost:8080/"
        },
        "id": "Ot6S23HNEo2P",
        "outputId": "e68a6b24-c51f-487b-b7cd-37e9855de95f"
      }
    },
    {
      "cell_type": "code",
      "execution_count": 17,
      "source": [
        "bounding_box = (-74.3, -73.0, 40.6, 41.7)"
      ],
      "outputs": [],
      "metadata": {
        "id": "Xegq9AmEFhOF"
      }
    },
    {
      "cell_type": "code",
      "execution_count": 18,
      "source": [
        "train = train[get_bb_coords(train, bounding_box)]"
      ],
      "outputs": [],
      "metadata": {
        "id": "qYt7E-HOF7EQ"
      }
    },
    {
      "cell_type": "code",
      "execution_count": 19,
      "source": [
        "print(\"New size {}\".format(len(train)))"
      ],
      "outputs": [
        {
          "output_type": "stream",
          "name": "stdout",
          "text": [
            "New size 5377880\n"
          ]
        }
      ],
      "metadata": {
        "colab": {
          "base_uri": "https://localhost:8080/"
        },
        "id": "NG7Gir8xGunx",
        "outputId": "8b09f7c7-ead6-46bd-d985-a408bf6c567d"
      }
    },
    {
      "cell_type": "markdown",
      "source": [
        "* Formula to be used for calculating the distance between latitude and longitude"
      ],
      "metadata": {
        "id": "RbGBiEJOIuoQ"
      }
    },
    {
      "cell_type": "code",
      "execution_count": 20,
      "source": [
        "def calc_haversian_dist(lat1, lat2, lon1,lon2):\n",
        "  \"\"\"HAVERSIAN DISTANCE\"\"\"\n",
        "  p = 0.017453292519943295 # Pi/180\n",
        "  a = 0.5 - np.cos((lat2 - lat1) * p)/2 + np.cos(lat1 * p) * np.cos(lat2 * p) * (1 - np.cos((lon2 - lon1) * p)) / 2\n",
        "  return 0.6213712 * 12742 * np.arcsin(np.sqrt(a))"
      ],
      "outputs": [],
      "metadata": {
        "id": "fTS_tAIF2tjm"
      }
    },
    {
      "cell_type": "code",
      "execution_count": 21,
      "source": [
        "train['distance_miles'] = train.apply(lambda row:calc_haversian_dist(\n",
        "                                                    row['pickup_latitude'],\n",
        "                                                    row['dropoff_latitude'],\n",
        "                                                    row['pickup_longitude'],\n",
        "                                                    row['dropoff_longitude']), axis=1)\n",
        "test['distance_miles'] = test.apply(lambda row:calc_haversian_dist(\n",
        "                                                    row['pickup_latitude'],\n",
        "                                                    row['dropoff_latitude'],\n",
        "                                                    row['pickup_longitude'],\n",
        "                                                    row['dropoff_longitude']), axis=1)"
      ],
      "outputs": [],
      "metadata": {
        "id": "iVNPpLlMIesg"
      }
    },
    {
      "cell_type": "markdown",
      "source": [
        "* Initialize NYC Latitude and Longitudes\n",
        "\n",
        "Source: https://www.latlong.net/place/new-york-city-ny-usa-1848.html"
      ],
      "metadata": {
        "id": "lyca1y0ltx4E"
      }
    },
    {
      "cell_type": "code",
      "execution_count": 22,
      "source": [
        "nyc = (40.730610, -73.935242)"
      ],
      "outputs": [],
      "metadata": {
        "id": "svOQ56Kwk3Lh"
      }
    },
    {
      "cell_type": "markdown",
      "source": [
        "## Extract data from PICKUP_DATETIME feature in the dataset "
      ],
      "metadata": {
        "id": "FJ_R7aiO9Gre"
      }
    },
    {
      "cell_type": "code",
      "execution_count": 24,
      "source": [
        "train['year'] = train[\"pickup_datetime\"].apply(lambda t: t.year)\n",
        "test['year'] = test[\"pickup_datetime\"].apply(lambda t: t.year)\n",
        "\n",
        "train['weekday'] = train[\"pickup_datetime\"].apply(lambda t: t.weekday())\n",
        "test['weekday'] = test[\"pickup_datetime\"].apply(lambda t: t.weekday())\n",
        "\n",
        "train['hour'] = train[\"pickup_datetime\"].apply(lambda t: t.hour)\n",
        "test['hour'] = test[\"pickup_datetime\"].apply(lambda t: t.hour)"
      ],
      "outputs": [],
      "metadata": {
        "id": "aN1pDXQA9djR"
      }
    },
    {
      "cell_type": "markdown",
      "source": [
        "### Formula to be used for calculating the distance between latitude and longitude"
      ],
      "metadata": {
        "id": "l2s5BwW9lM0K"
      }
    },
    {
      "cell_type": "code",
      "execution_count": 25,
      "source": [
        "def distance(lat1, lon1, lat2, lon2):\n",
        "  p = 0.017453292519943295 # Pi/180\n",
        "  a = 0.5 - np.cos((lat2 - lat1) * p)/2 + np.cos(lat1 * p) * np.cos(lat2 * p) * (1 - np.cos((lon2 - lon1) * p))/2\n",
        "  return 0.6213712 * 12742 * np.arcsin(np.sqrt(a))"
      ],
      "outputs": [],
      "metadata": {
        "id": "IuhHacqXlPfw"
      }
    },
    {
      "cell_type": "markdown",
      "source": [
        "#### The longer the distance between pickup and dropoff location, higher the fare. Adding new column to dataframe with distance in miles"
      ],
      "metadata": {
        "id": "yQuFDmZ5lSoB"
      }
    },
    {
      "cell_type": "code",
      "execution_count": 26,
      "source": [
        "train[\"distance_miles\"] = distance(train[\"pickup_latitude\"], train[\"pickup_longitude\"], \n",
        "                                      train[\"dropoff_latitude\"], train[\"dropoff_longitude\"])\n",
        "test[\"distance_miles\"] = distance(test[\"pickup_latitude\"], test[\"pickup_longitude\"], \n",
        "                                      test[\"dropoff_latitude\"], test[\"dropoff_longitude\"])"
      ],
      "outputs": [],
      "metadata": {
        "id": "KuHfcrSelVIL"
      }
    },
    {
      "cell_type": "markdown",
      "source": [
        "* Let us visualize distance in miles in histogram"
      ],
      "metadata": {
        "id": "bkYjbVkYmK4U"
      }
    },
    {
      "cell_type": "code",
      "execution_count": 27,
      "source": [
        "train[\"distance_miles\"].hist(bins=50, figsize=(12,4))\n",
        "plt.title(\"Histogram ride distance in miles\");"
      ],
      "outputs": [
        {
          "output_type": "display_data",
          "data": {
            "image/png": "[encoded data removed]",
            "text/plain": [
              "<Figure size 864x288 with 1 Axes>"
            ]
          },
          "metadata": {
            "needs_background": "light"
          }
        }
      ],
      "metadata": {
        "colab": {
          "base_uri": "https://localhost:8080/",
          "height": 281
        },
        "id": "4_ajV70lmI4w",
        "outputId": "521d060c-529e-4c87-b5e8-67d2ba96594c"
      }
    },
    {
      "cell_type": "code",
      "execution_count": 28,
      "source": [
        "train[\"distance_miles\"].describe()"
      ],
      "outputs": [
        {
          "output_type": "execute_result",
          "data": {
            "text/plain": [
              "count    5.377880e+06\n",
              "mean     2.060835e+00\n",
              "std      2.326754e+00\n",
              "min      0.000000e+00\n",
              "25%      7.785930e-01\n",
              "50%      1.336245e+00\n",
              "75%      2.425571e+00\n",
              "max      7.182827e+01\n",
              "Name: distance_miles, dtype: float64"
            ]
          },
          "metadata": {},
          "execution_count": 28
        }
      ],
      "metadata": {
        "colab": {
          "base_uri": "https://localhost:8080/"
        },
        "id": "hhoRaFOWmasT",
        "outputId": "4fbaf289-55f5-420d-eba3-2e47f3f8aed8"
      }
    },
    {
      "cell_type": "markdown",
      "source": [
        "* Most rides are just short rides"
      ],
      "metadata": {
        "id": "dxUmj9aJmcNd"
      }
    },
    {
      "cell_type": "markdown",
      "source": [
        "* Let us plot distance miles, fare amount and passenger count"
      ],
      "metadata": {
        "id": "i96LWPJsmlpF"
      }
    },
    {
      "cell_type": "code",
      "execution_count": 29,
      "source": [
        "train.groupby('passenger_count')['distance_miles','fare_amount'].mean()"
      ],
      "outputs": [
        {
          "output_type": "stream",
          "name": "stderr",
          "text": [
            "/usr/local/lib/python3.7/dist-packages/ipykernel_launcher.py:1: FutureWarning: Indexing with multiple keys (implicitly converted to a tuple of keys) will be deprecated, use a list instead.\n",
            "  \"\"\"Entry point for launching an IPython kernel.\n"
          ]
        },
        {
          "output_type": "execute_result",
          "data": {
            "text/html": [
              "<div>\n",
              "<style scoped>\n",
              "    .dataframe tbody tr th:only-of-type {\n",
              "        vertical-align: middle;\n",
              "    }\n",
              "\n",
              "    .dataframe tbody tr th {\n",
              "        vertical-align: top;\n",
              "    }\n",
              "\n",
              "    .dataframe thead th {\n",
              "        text-align: right;\n",
              "    }\n",
              "</style>\n",
              "<table border=\"1\" class=\"dataframe\">\n",
              "  <thead>\n",
              "    <tr style=\"text-align: right;\">\n",
              "      <th></th>\n",
              "      <th>distance_miles</th>\n",
              "      <th>fare_amount</th>\n",
              "    </tr>\n",
              "    <tr>\n",
              "      <th>passenger_count</th>\n",
              "      <th></th>\n",
              "      <th></th>\n",
              "    </tr>\n",
              "  </thead>\n",
              "  <tbody>\n",
              "    <tr>\n",
              "      <th>0</th>\n",
              "      <td>1.761221</td>\n",
              "      <td>8.939972</td>\n",
              "    </tr>\n",
              "    <tr>\n",
              "      <th>1</th>\n",
              "      <td>2.031045</td>\n",
              "      <td>11.162573</td>\n",
              "    </tr>\n",
              "    <tr>\n",
              "      <th>2</th>\n",
              "      <td>2.174221</td>\n",
              "      <td>11.774501</td>\n",
              "    </tr>\n",
              "    <tr>\n",
              "      <th>3</th>\n",
              "      <td>2.101630</td>\n",
              "      <td>11.520936</td>\n",
              "    </tr>\n",
              "    <tr>\n",
              "      <th>4</th>\n",
              "      <td>2.135483</td>\n",
              "      <td>11.730346</td>\n",
              "    </tr>\n",
              "    <tr>\n",
              "      <th>5</th>\n",
              "      <td>2.067444</td>\n",
              "      <td>11.180221</td>\n",
              "    </tr>\n",
              "    <tr>\n",
              "      <th>6</th>\n",
              "      <td>2.110862</td>\n",
              "      <td>12.117871</td>\n",
              "    </tr>\n",
              "    <tr>\n",
              "      <th>7</th>\n",
              "      <td>1.008573</td>\n",
              "      <td>8.500000</td>\n",
              "    </tr>\n",
              "    <tr>\n",
              "      <th>9</th>\n",
              "      <td>6.989698</td>\n",
              "      <td>70.520000</td>\n",
              "    </tr>\n",
              "    <tr>\n",
              "      <th>129</th>\n",
              "      <td>0.866290</td>\n",
              "      <td>8.500000</td>\n",
              "    </tr>\n",
              "    <tr>\n",
              "      <th>208</th>\n",
              "      <td>0.000649</td>\n",
              "      <td>6.900000</td>\n",
              "    </tr>\n",
              "  </tbody>\n",
              "</table>\n",
              "</div>"
            ],
            "text/plain": [
              "                 distance_miles  fare_amount\n",
              "passenger_count                             \n",
              "0                      1.761221     8.939972\n",
              "1                      2.031045    11.162573\n",
              "2                      2.174221    11.774501\n",
              "3                      2.101630    11.520936\n",
              "4                      2.135483    11.730346\n",
              "5                      2.067444    11.180221\n",
              "6                      2.110862    12.117871\n",
              "7                      1.008573     8.500000\n",
              "9                      6.989698    70.520000\n",
              "129                    0.866290     8.500000\n",
              "208                    0.000649     6.900000"
            ]
          },
          "metadata": {},
          "execution_count": 29
        }
      ],
      "metadata": {
        "colab": {
          "base_uri": "https://localhost:8080/",
          "height": 480
        },
        "id": "uz4k3jR3mkk8",
        "outputId": "8a48b497-59c1-4458-f77a-5aa2fc05ca7f"
      }
    },
    {
      "cell_type": "markdown",
      "source": [
        "#### Scatter plot Distance vs Fare"
      ],
      "metadata": {
        "id": "DEgKkALlnSCx"
      }
    },
    {
      "cell_type": "code",
      "execution_count": 30,
      "source": [
        "idx = ((train['distance_miles'] < 100) & (train[\"fare_amount\"] < 100))\n",
        "plt.scatter(train[idx][\"distance_miles\"], train[idx][\"fare_amount\"], alpha=0.2)\n",
        "plt.xlabel(\"Miles\")\n",
        "plt.ylabel(\"Fare $USD\")\n",
        "plt.title(\"Distance and fare < $100\")"
      ],
      "outputs": [
        {
          "output_type": "execute_result",
          "data": {
            "text/plain": [
              "Text(0.5, 1.0, 'Distance and fare < $100')"
            ]
          },
          "metadata": {},
          "execution_count": 30
        },
        {
          "output_type": "display_data",
          "data": {
            "image/png": "[encoded data removed]",
            "text/plain": [
              "<Figure size 432x288 with 1 Axes>"
            ]
          },
          "metadata": {
            "needs_background": "light"
          }
        }
      ],
      "metadata": {
        "colab": {
          "base_uri": "https://localhost:8080/",
          "height": 312
        },
        "id": "BhT8qcvfnWbv",
        "outputId": "a1c4f12d-2fe5-4e62-e649-6f9d09f669e9"
      }
    },
    {
      "cell_type": "markdown",
      "source": [
        "**Few Obervations -**\n",
        "1. Trips with zero distance but with non-zero fare. May be due to cancelled trips.\n",
        "2. Few trips with >= 50 miles travel but low fare. May be due to discounted trips."
      ],
      "metadata": {
        "id": "yDreErbJoBHV"
      }
    },
    {
      "cell_type": "markdown",
      "source": [
        "### We can use add direction for calculation of fare amount\n",
        "\n"
      ],
      "metadata": {
        "id": "13LjdE4Fm_Kf"
      }
    },
    {
      "cell_type": "code",
      "execution_count": 31,
      "source": [
        "train[\"delta_lon\"] = train[\"pickup_longitude\"] - train[\"dropoff_longitude\"]\n",
        "test[\"delta_lon\"] = test[\"pickup_longitude\"] - test[\"dropoff_longitude\"]\n",
        "\n",
        "train[\"delta_lat\"] = train[\"pickup_latitude\"] - train[\"dropoff_latitude\"]\n",
        "test[\"delta_lat\"] = test[\"pickup_latitude\"] - test[\"dropoff_latitude\"]"
      ],
      "outputs": [],
      "metadata": {
        "id": "Yzy97yjnnAk2"
      }
    },
    {
      "cell_type": "code",
      "execution_count": 32,
      "source": [
        "def find_dir(lon, lat):\n",
        "  \"\"\"Using direction finding algorithm\"\"\"\n",
        "  result = np.zeros(len(lon))\n",
        "  l = np.sqrt(lon**2 + lat**2)\n",
        "  result[lon>0] = (180/np.pi)*np.arcsin(lat[lon>0]/l[lon>0])\n",
        "  idx = (lon<0) & (lat>0)\n",
        "  result[idx] = 180 - (180/np.pi)*np.arcsin(lat[idx]/l[idx])\n",
        "  idx = (lon<0) & (lat<0)\n",
        "  result[idx] = -180 - (180/np.pi)*np.arcsin(lat[idx]/l[idx])\n",
        "  return result"
      ],
      "outputs": [],
      "metadata": {
        "id": "2zmC51nPqKZ6"
      }
    },
    {
      "cell_type": "code",
      "execution_count": 33,
      "source": [
        "train['direction'] = find_dir(train.delta_lon, train.delta_lat)\n",
        "test['direction'] = find_dir(test.delta_lon, test.delta_lat)"
      ],
      "outputs": [],
      "metadata": {
        "id": "Onu79iMqq3hu"
      }
    },
    {
      "cell_type": "markdown",
      "source": [
        "#### Use distance between NYC coords and pickup as a feature"
      ],
      "metadata": {
        "id": "vEJoj6Bb8vIo"
      }
    },
    {
      "cell_type": "code",
      "execution_count": 34,
      "source": [
        "train['pickup_dist_nyc'] = distance(nyc[0], nyc[1], train[\"pickup_latitude\"], train[\"pickup_longitude\"])\n",
        "test['pickup_dist_nyc'] = distance(nyc[0], nyc[1], test[\"pickup_latitude\"], test[\"pickup_longitude\"])"
      ],
      "outputs": [],
      "metadata": {
        "id": "HK2o9JPUn0H0"
      }
    },
    {
      "cell_type": "code",
      "execution_count": 35,
      "source": [
        "# train.drop(['fare_per_mile'], axis='columns', inplace=True)\n",
        "print('Train Columns:')\n",
        "print(train.columns)\n",
        "print('Test Columns:')\n",
        "print(test.columns)"
      ],
      "outputs": [
        {
          "output_type": "stream",
          "name": "stdout",
          "text": [
            "Train Columns:\n",
            "Index(['key', 'fare_amount', 'pickup_datetime', 'pickup_longitude',\n",
            "       'pickup_latitude', 'dropoff_longitude', 'dropoff_latitude',\n",
            "       'passenger_count', 'distance_miles', 'year', 'weekday', 'hour',\n",
            "       'delta_lon', 'delta_lat', 'direction', 'pickup_dist_nyc'],\n",
            "      dtype='object')\n",
            "Test Columns:\n",
            "Index(['key', 'pickup_datetime', 'pickup_longitude', 'pickup_latitude',\n",
            "       'dropoff_longitude', 'dropoff_latitude', 'passenger_count',\n",
            "       'distance_miles', 'year', 'weekday', 'hour', 'delta_lon', 'delta_lat',\n",
            "       'direction', 'pickup_dist_nyc'],\n",
            "      dtype='object')\n"
          ]
        }
      ],
      "metadata": {
        "id": "-ADD9zJB3bXy",
        "colab": {
          "base_uri": "https://localhost:8080/"
        },
        "outputId": "9f0c29b6-073c-41da-8567-726ecd26ede5"
      }
    },
    {
      "cell_type": "markdown",
      "source": [
        "### PREPARING TRAIN AND VALIDATION SET FROM TRAINING DATA"
      ],
      "metadata": {
        "id": "r9dYNWRSL2eX"
      }
    },
    {
      "cell_type": "code",
      "execution_count": 36,
      "source": [
        "from sklearn.model_selection import train_test_split\n",
        "y = train[train.columns[1]]\n",
        "X = train[train.columns[3:]]\n",
        "X_test = test[test.columns[2:]]\n",
        "X_train, X_valid, y_train, y_valid = train_test_split(X, y, test_size=0.25)\n"
      ],
      "outputs": [],
      "metadata": {
        "id": "kFtTNdLtAw3n"
      }
    },
    {
      "cell_type": "markdown",
      "source": [
        "# **PREDICTION**"
      ],
      "metadata": {
        "id": "yKt_VxX48a6n"
      }
    },
    {
      "cell_type": "code",
      "execution_count": 37,
      "source": [
        "from sklearn.pipeline import Pipeline\n",
        "from sklearn.preprocessing import StandardScaler"
      ],
      "outputs": [],
      "metadata": {
        "id": "pd0ePqis7xSp"
      }
    },
    {
      "cell_type": "markdown",
      "source": [
        "### Model - Linear Regression"
      ],
      "metadata": {
        "id": "C6gzSX0i74kp"
      }
    },
    {
      "cell_type": "code",
      "execution_count": null,
      "source": [
        "from sklearn.linear_model import LinearRegression\n",
        "model_lin = Pipeline((\n",
        "        (\"standard_scaler\", StandardScaler()),\n",
        "        (\"lin_reg\", LinearRegression()),\n",
        "    ))\n",
        "\n",
        "model_lin.fit(X_train, y_train)\n",
        "\n",
        "# y_train_pred = model_lin.predict(X_train)\n",
        "# rmse = np.sqrt(mean_squared_error(y_train, y_train_pred))\n",
        "# print(\"Training Set - RMSE: %f\" % (rmse))\n",
        "\n",
        "y_valid_pred = model_lin.predict(X_valid)\n",
        "rmse = np.sqrt(mean_squared_error(y_valid, y_valid_pred))\n",
        "print(\"RMSE: %f\" % (rmse))\n",
        "df_submission = pd.DataFrame(test[test.columns[0]])\n",
        "df_submission['fare_amount'] = y_valid_pred\n",
        "df_submission = df_submission.set_index('key')\n",
        "df_submission.to_csv('submission_LinRegr.csv')"
      ],
      "outputs": [],
      "metadata": {
        "id": "V3HHrCstzYH9"
      }
    },
    {
      "cell_type": "markdown",
      "source": [
        "### Model - RANDOM FOREST REGRESSOR"
      ],
      "metadata": {}
    },
    {
      "cell_type": "code",
      "execution_count": null,
      "source": [
        "from sklearn.ensemble import RandomForestRegressor\n",
        "model_rf = Pipeline((\n",
        "        (\"standard_scaler\", StandardScaler()),\n",
        "        (\"lin_reg\", RandomForestRegressor()),\n",
        "    ))\n",
        "\n",
        "model_rf.fit(X_train, y_train)\n",
        "\n",
        "\n",
        "y_valid_pred = model_rf.predict(X_valid)\n",
        "rmse = np.sqrt(mean_squared_error(y_valid, y_valid_pred))\n",
        "print(\"RMSE: %f\" % (rmse))\n",
        "df_submission = pd.DataFrame(test[test.columns[0]])\n",
        "df_submission['fare_amount'] = y_valid_pred\n",
        "df_submission = df_submission.set_index('key')\n",
        "df_submission.to_csv('submission_rf.csv')"
      ],
      "outputs": [],
      "metadata": {}
    },
    {
      "cell_type": "markdown",
      "source": [
        "### Model - XGB Regression"
      ],
      "metadata": {
        "id": "nmDuTEDC7-n9"
      }
    },
    {
      "cell_type": "code",
      "execution_count": null,
      "source": [
        "from xgboost.sklearn import XGBRegressor\n",
        "model_xgb = Pipeline((\n",
        "        (\"standard_scaler\", StandardScaler()),\n",
        "        (\"xgb_reg\", XGBRegressor()),\n",
        "    ))\n",
        "\n",
        "model_xgb.fit(X_train, y_train)\n",
        "\n",
        "# y_train_pred = model_xgb.predict(X_train)\n",
        "# rmse = np.sqrt(mean_squared_error(y_train, y_train_pred))\n",
        "# print(\"Training Set - RMSE: %f\" % (rmse))\n",
        "\n",
        "y_valid_pred = model_xgb.predict(X_valid)\n",
        "rmse = np.sqrt(mean_squared_error(y_valid, y_valid_pred))\n",
        "print(\"RMSE: %f\" % (rmse))\n",
        "df_submission = pd.DataFrame(test[test.columns[0]])\n",
        "df_submission['fare_amount'] = y_valid_pred\n",
        "df_submission = df_submission.set_index('key')\n",
        "df_submission.to_csv('submission_XGBRegr.csv')"
      ],
      "outputs": [],
      "metadata": {
        "id": "rZBcjVxS5dpn"
      }
    },
    {
      "cell_type": "markdown",
      "source": [
        "# Model - XGB Regression with hyperparam tuning"
      ],
      "metadata": {
        "id": "vHHM_Mf86vZx"
      }
    },
    {
      "cell_type": "code",
      "execution_count": null,
      "source": [
        "from xgboost.sklearn import XGBRegressor\n",
        "model_xgbh = Pipeline((\n",
        "        (\"standard_scaler\", StandardScaler()),\n",
        "        (\"xgb\", XGBRegressor(max_depth=7,eta=1,silent=1,objective='reg:linear',eval_metric='rmse',learning_rate=0.1)),\n",
        "    ))\n",
        "\n",
        "model_xgbh.fit(X_train, y_train)\n",
        "\n",
        "\n",
        "y_valid_pred = model_xgbh.predict(X_valid)\n",
        "rmse = np.sqrt(mean_squared_error(y_valid, y_valid_pred))\n",
        "print(\"RMSE: %f\" % (rmse))\n",
        "df_submission = pd.DataFrame(test[test.columns[0]])\n",
        "df_submission['fare_amount'] = y_valid_pred\n",
        "df_submission = df_submission.set_index('key')\n",
        "df_submission.to_csv('submission_xgbh.csv')"
      ],
      "outputs": [],
      "metadata": {
        "id": "K4andTSo-4ig"
      }
    }
  ]
}